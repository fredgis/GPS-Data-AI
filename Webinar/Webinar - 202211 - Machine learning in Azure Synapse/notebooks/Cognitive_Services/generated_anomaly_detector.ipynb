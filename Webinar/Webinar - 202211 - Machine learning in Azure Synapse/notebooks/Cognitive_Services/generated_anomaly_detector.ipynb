{
  "cells": [
    {
      "cell_type": "code",
      "execution_count": null,
      "metadata": {
        "collapsed": false
      },
      "outputs": [],
      "source": [
        "from mmlspark.cognitive import *\n",
        "from notebookutils import mssparkutils\n",
        "\n",
        "\n",
        "# Load the data into a Spark DataFrame\n",
        "df = spark.sql(\"SELECT * FROM default.anomaly_detector_testing_data\")\n",
        "\n",
        "anomalyDetector = (SimpleDetectAnomalies()\n",
        "    .setLinkedService(\"AnomalyDetector\")\n",
        "    .setOutputCol(\"output\")\n",
        "    .setErrorCol(\"error\")\n",
        "    .setGranularity(\"monthly\")\n",
        "    .setTimestampCol(\"timestamp\")\n",
        "    .setValueCol(\"value\")\n",
        "    .setGroupbyCol(\"group\"))\n",
        "\n",
        "results = anomalyDetector.transform(df)\n",
        "\n",
        "# Show the results\n",
        "display(results.select(\"timestamp\", \"value\", \"group\", \"output.*\", \"error\").limit(10))"
      ]
    }
  ],
  "metadata": {
    "description": null,
    "kernelspec": {
      "display_name": "Python 3.9.7",
      "language": "python",
      "name": "python3"
    },
    "language_info": {
      "name": "python",
      "version": "3.9.7"
    },
    "save_output": true,
    "synapse_widget": {
      "state": {
        "45271ba8-9e68-43c8-9b43-01d44bdd4c07": {
          "persist_state": {
            "view": {
              "chartOptions": {
                "aggregationType": "sum",
                "categoryFieldKeys": [
                  "0"
                ],
                "chartType": "line",
                "isStacked": false,
                "seriesFieldKeys": [
                  "1"
                ]
              },
              "tableOptions": {},
              "type": "details"
            }
          },
          "sync_state": {
            "isSummary": false,
            "language": "scala",
            "table": {
              "rows": [
                {
                  "0": "1972-01-01T00:00:00Z",
                  "1": "826.0",
                  "2": "series1",
                  "3": "false",
                  "4": "false",
                  "5": "false",
                  "6": "0",
                  "7": "839.8037249928111",
                  "8": "13.941762242739223",
                  "9": "13.941762242739223"
                },
                {
                  "0": "1972-02-01T00:00:00Z",
                  "1": "799.0",
                  "2": "series1",
                  "3": "false",
                  "4": "false",
                  "5": "false",
                  "6": "0",
                  "7": "837.3507700954189",
                  "8": "38.73427779637304",
                  "9": "38.73427779637304"
                },
                {
                  "0": "1972-03-01T00:00:00Z",
                  "1": "890.0",
                  "2": "series1",
                  "3": "false",
                  "4": "false",
                  "5": "false",
                  "6": "0",
                  "7": "834.8978151980266",
                  "8": "55.653206649993145",
                  "9": "55.653206649993145"
                },
                {
                  "0": "1972-04-01T00:00:00Z",
                  "1": "900.0",
                  "2": "series1",
                  "3": "false",
                  "4": "false",
                  "5": "false",
                  "6": "0",
                  "7": "832.4448603006343",
                  "8": "68.23069109635932",
                  "9": "68.23069109635932"
                },
                {
                  "0": "1972-05-01T00:00:00Z",
                  "1": "766.0",
                  "2": "series1",
                  "3": "false",
                  "4": "false",
                  "5": "false",
                  "6": "0",
                  "7": "812.6636801151691",
                  "8": "47.13031691632078",
                  "9": "47.13031691632078"
                },
                {
                  "0": "1972-06-01T00:00:00Z",
                  "1": "805.0",
                  "2": "series1",
                  "3": "false",
                  "4": "false",
                  "5": "false",
                  "6": "0",
                  "7": "814.55985377689",
                  "8": "9.655452314658909",
                  "9": "9.655452314658909"
                },
                {
                  "0": "1972-07-01T00:00:00Z",
                  "1": "821.0",
                  "2": "series1",
                  "3": "false",
                  "4": "false",
                  "5": "false",
                  "6": "0",
                  "7": "831.4793189027447",
                  "8": "10.584112091772141",
                  "9": "10.584112091772141"
                },
                {
                  "0": "1972-08-01T00:00:00Z",
                  "1": "20000.0",
                  "2": "series1",
                  "3": "true",
                  "4": "true",
                  "5": "false",
                  "6": "0",
                  "7": "855.8914357169447",
                  "8": "8.558914357169442",
                  "9": "8.558914357169442"
                },
                {
                  "0": "1972-09-01T00:00:00Z",
                  "1": "883.0",
                  "2": "series1",
                  "3": "false",
                  "4": "false",
                  "5": "false",
                  "6": "0",
                  "7": "880.8749128917688",
                  "8": "8.808749128917725",
                  "9": "8.808749128917725"
                },
                {
                  "0": "1972-10-01T00:00:00Z",
                  "1": "898.0",
                  "2": "series1",
                  "3": "false",
                  "4": "false",
                  "5": "false",
                  "6": "0",
                  "7": "901.9458528917621",
                  "8": "9.019458528917653",
                  "9": "9.019458528917653"
                }
              ],
              "schema": [
                {
                  "key": "0",
                  "name": "timestamp",
                  "type": "string"
                },
                {
                  "key": "1",
                  "name": "value",
                  "type": "double"
                },
                {
                  "key": "2",
                  "name": "group",
                  "type": "string"
                },
                {
                  "key": "3",
                  "name": "isAnomaly",
                  "type": "boolean"
                },
                {
                  "key": "4",
                  "name": "isPositiveAnomaly",
                  "type": "boolean"
                },
                {
                  "key": "5",
                  "name": "isNegativeAnomaly",
                  "type": "boolean"
                },
                {
                  "key": "6",
                  "name": "period",
                  "type": "int"
                },
                {
                  "key": "7",
                  "name": "expectedValue",
                  "type": "double"
                },
                {
                  "key": "8",
                  "name": "upperMargin",
                  "type": "double"
                },
                {
                  "key": "9",
                  "name": "lowerMargin",
                  "type": "double"
                },
                {
                  "key": "10",
                  "name": "error",
                  "type": "StructType(StructField(response,StringType,true), StructField(status,StructType(StructField(protocolVersion,StructType(StructField(protocol,StringType,true), StructField(major,IntegerType,false), StructField(minor,IntegerType,false)),true), StructField(statusCode,IntegerType,false), StructField(reasonPhrase,StringType,true)),true))"
                }
              ],
              "truncated": false
            }
          },
          "type": "Synapse.DataFrame"
        }
      },
      "version": "0.1"
    },
    "vscode": {
      "interpreter": {
        "hash": "efae42f5bb22c941f90033c79b5834eea70e75e2a45a38b301087dc593077f92"
      }
    }
  },
  "nbformat": 4,
  "nbformat_minor": 2
}
