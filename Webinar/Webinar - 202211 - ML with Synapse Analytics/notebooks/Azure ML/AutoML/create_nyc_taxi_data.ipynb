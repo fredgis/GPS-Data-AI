{
  "cells": [
    {
      "cell_type": "markdown",
      "metadata": {
        "nteract": {
          "transient": {
            "deleting": false
          }
        }
      },
      "source": [
        "## Load data\n",
        "Get a sample data of nyc yellow taxi from Azure Open Datasets"
      ]
    },
    {
      "cell_type": "code",
      "execution_count": 1,
      "metadata": {},
      "outputs": [
        {
          "data": {
            "application/vnd.livy.statement-meta+json": {
              "execution_finish_time": "2022-11-14T01:20:20.5235152Z",
              "execution_start_time": "2022-11-14T01:19:38.3011476Z",
              "livy_statement_state": "available",
              "queued_time": "2022-11-14T01:16:35.3183334Z",
              "session_id": "24",
              "session_start_time": "2022-11-14T01:16:35.3509756Z",
              "spark_jobs": null,
              "spark_pool": "sparkezi1n72",
              "state": "finished",
              "statement_id": 1
            },
            "text/plain": [
              "StatementMeta(sparkezi1n72, 24, 1, Finished, Available)"
            ]
          },
          "metadata": {},
          "output_type": "display_data"
        },
        {
          "name": "stdout",
          "output_type": "stream",
          "text": [
            "[Info] read from /tmp/tmpngml9zrq/https%3A/%2Fazureopendatastorage.azurefd.net/nyctlc/yellow/puYear=2018/puMonth=5/part-00000-tid-8898858832658823408-a1de80bd-eed3-4d11-b9d4-fa74bfbd47bc-426339-118.c000.snappy.parquet\n",
            "[Info] read from /tmp/tmpngml9zrq/https%3A/%2Fazureopendatastorage.azurefd.net/nyctlc/yellow/puYear=2018/puMonth=5/part-00001-tid-8898858832658823408-a1de80bd-eed3-4d11-b9d4-fa74bfbd47bc-426336-117.c000.snappy.parquet\n",
            "[Info] read from /tmp/tmpngml9zrq/https%3A/%2Fazureopendatastorage.azurefd.net/nyctlc/yellow/puYear=2018/puMonth=5/part-00002-tid-8898858832658823408-a1de80bd-eed3-4d11-b9d4-fa74bfbd47bc-426334-119.c000.snappy.parquet\n",
            "[Info] read from /tmp/tmpngml9zrq/https%3A/%2Fazureopendatastorage.azurefd.net/nyctlc/yellow/puYear=2018/puMonth=5/part-00003-tid-8898858832658823408-a1de80bd-eed3-4d11-b9d4-fa74bfbd47bc-426340-115.c000.snappy.parquet\n",
            "[Info] read from /tmp/tmpngml9zrq/https%3A/%2Fazureopendatastorage.azurefd.net/nyctlc/yellow/puYear=2018/puMonth=5/part-00004-tid-8898858832658823408-a1de80bd-eed3-4d11-b9d4-fa74bfbd47bc-426331-116.c000.snappy.parquet\n",
            "[Info] read from /tmp/tmpngml9zrq/https%3A/%2Fazureopendatastorage.azurefd.net/nyctlc/yellow/puYear=2018/puMonth=5/part-00005-tid-8898858832658823408-a1de80bd-eed3-4d11-b9d4-fa74bfbd47bc-426324-117.c000.snappy.parquet\n",
            "[Info] read from /tmp/tmpngml9zrq/https%3A/%2Fazureopendatastorage.azurefd.net/nyctlc/yellow/puYear=2018/puMonth=5/part-00006-tid-8898858832658823408-a1de80bd-eed3-4d11-b9d4-fa74bfbd47bc-426326-116.c000.snappy.parquet\n",
            "[Info] read from /tmp/tmpngml9zrq/https%3A/%2Fazureopendatastorage.azurefd.net/nyctlc/yellow/puYear=2018/puMonth=5/part-00007-tid-8898858832658823408-a1de80bd-eed3-4d11-b9d4-fa74bfbd47bc-426332-118.c000.snappy.parquet\n",
            "[Info] read from /tmp/tmpngml9zrq/https%3A/%2Fazureopendatastorage.azurefd.net/nyctlc/yellow/puYear=2018/puMonth=5/part-00008-tid-8898858832658823408-a1de80bd-eed3-4d11-b9d4-fa74bfbd47bc-426341-118.c000.snappy.parquet\n",
            "[Info] read from /tmp/tmpngml9zrq/https%3A/%2Fazureopendatastorage.azurefd.net/nyctlc/yellow/puYear=2018/puMonth=5/part-00009-tid-8898858832658823408-a1de80bd-eed3-4d11-b9d4-fa74bfbd47bc-426325-116.c000.snappy.parquet\n",
            "[Info] read from /tmp/tmpngml9zrq/https%3A/%2Fazureopendatastorage.azurefd.net/nyctlc/yellow/puYear=2018/puMonth=5/part-00010-tid-8898858832658823408-a1de80bd-eed3-4d11-b9d4-fa74bfbd47bc-426335-117.c000.snappy.parquet\n",
            "[Info] read from /tmp/tmpngml9zrq/https%3A/%2Fazureopendatastorage.azurefd.net/nyctlc/yellow/puYear=2018/puMonth=5/part-00011-tid-8898858832658823408-a1de80bd-eed3-4d11-b9d4-fa74bfbd47bc-426338-117.c000.snappy.parquet\n",
            "[Info] read from /tmp/tmpngml9zrq/https%3A/%2Fazureopendatastorage.azurefd.net/nyctlc/yellow/puYear=2018/puMonth=5/part-00012-tid-8898858832658823408-a1de80bd-eed3-4d11-b9d4-fa74bfbd47bc-426337-117.c000.snappy.parquet\n",
            "[Info] read from /tmp/tmpngml9zrq/https%3A/%2Fazureopendatastorage.azurefd.net/nyctlc/yellow/puYear=2018/puMonth=5/part-00013-tid-8898858832658823408-a1de80bd-eed3-4d11-b9d4-fa74bfbd47bc-426327-117.c000.snappy.parquet\n",
            "[Info] read from /tmp/tmpngml9zrq/https%3A/%2Fazureopendatastorage.azurefd.net/nyctlc/yellow/puYear=2018/puMonth=5/part-00014-tid-8898858832658823408-a1de80bd-eed3-4d11-b9d4-fa74bfbd47bc-426330-118.c000.snappy.parquet\n",
            "[Info] read from /tmp/tmpngml9zrq/https%3A/%2Fazureopendatastorage.azurefd.net/nyctlc/yellow/puYear=2018/puMonth=5/part-00015-tid-8898858832658823408-a1de80bd-eed3-4d11-b9d4-fa74bfbd47bc-426342-117.c000.snappy.parquet\n",
            "[Info] read from /tmp/tmpngml9zrq/https%3A/%2Fazureopendatastorage.azurefd.net/nyctlc/yellow/puYear=2018/puMonth=5/part-00016-tid-8898858832658823408-a1de80bd-eed3-4d11-b9d4-fa74bfbd47bc-426328-116.c000.snappy.parquet\n",
            "[Info] read from /tmp/tmpngml9zrq/https%3A/%2Fazureopendatastorage.azurefd.net/nyctlc/yellow/puYear=2018/puMonth=5/part-00017-tid-8898858832658823408-a1de80bd-eed3-4d11-b9d4-fa74bfbd47bc-426323-118.c000.snappy.parquet\n",
            "[Info] read from /tmp/tmpngml9zrq/https%3A/%2Fazureopendatastorage.azurefd.net/nyctlc/yellow/puYear=2018/puMonth=5/part-00018-tid-8898858832658823408-a1de80bd-eed3-4d11-b9d4-fa74bfbd47bc-426329-118.c000.snappy.parquet\n",
            "[Info] read from /tmp/tmpngml9zrq/https%3A/%2Fazureopendatastorage.azurefd.net/nyctlc/yellow/puYear=2018/puMonth=5/part-00019-tid-8898858832658823408-a1de80bd-eed3-4d11-b9d4-fa74bfbd47bc-426333-116.c000.snappy.parquet\n",
            "<class 'pandas.core.frame.DataFrame'>\n",
            "Int64Index: 1909118 entries, 12 to 405777\n",
            "Data columns (total 21 columns):\n",
            " #   Column                Dtype         \n",
            "---  ------                -----         \n",
            " 0   vendorID              object        \n",
            " 1   tpepPickupDateTime    datetime64[ns]\n",
            " 2   tpepDropoffDateTime   datetime64[ns]\n",
            " 3   passengerCount        int32         \n",
            " 4   tripDistance          float64       \n",
            " 5   puLocationId          object        \n",
            " 6   doLocationId          object        \n",
            " 7   startLon              float64       \n",
            " 8   startLat              float64       \n",
            " 9   endLon                float64       \n",
            " 10  endLat                float64       \n",
            " 11  rateCodeId            int32         \n",
            " 12  storeAndFwdFlag       object        \n",
            " 13  paymentType           object        \n",
            " 14  fareAmount            float64       \n",
            " 15  extra                 float64       \n",
            " 16  mtaTax                float64       \n",
            " 17  improvementSurcharge  object        \n",
            " 18  tipAmount             float64       \n",
            " 19  tollsAmount           float64       \n",
            " 20  totalAmount           float64       \n",
            "dtypes: datetime64[ns](2), float64(11), int32(2), object(6)\n",
            "memory usage: 305.9+ MB\n"
          ]
        }
      ],
      "source": [
        "from azureml.opendatasets import NycTlcYellow\n",
        "from datetime import datetime\n",
        "from dateutil import parser\n",
        "\n",
        "start_date = parser.parse('2018-05-01')\n",
        "end_date = parser.parse('2018-05-07')\n",
        "nyc_tlc = NycTlcYellow(start_date=start_date, end_date=end_date)\n",
        "nyc_tlc_df = nyc_tlc.to_pandas_dataframe()\n",
        "nyc_tlc_df.info()"
      ]
    },
    {
      "cell_type": "code",
      "execution_count": 2,
      "metadata": {
        "collapsed": true,
        "jupyter": {
          "outputs_hidden": false,
          "source_hidden": false
        },
        "nteract": {
          "transient": {
            "deleting": false
          }
        }
      },
      "outputs": [
        {
          "data": {
            "application/vnd.livy.statement-meta+json": {
              "execution_finish_time": "2022-11-14T01:20:35.5633101Z",
              "execution_start_time": "2022-11-14T01:20:34.9641473Z",
              "livy_statement_state": "available",
              "queued_time": "2022-11-14T01:20:34.8332604Z",
              "session_id": "24",
              "session_start_time": null,
              "spark_jobs": null,
              "spark_pool": "sparkezi1n72",
              "state": "finished",
              "statement_id": 2
            },
            "text/plain": [
              "StatementMeta(sparkezi1n72, 24, 2, Finished, Available)"
            ]
          },
          "metadata": {},
          "output_type": "display_data"
        },
        {
          "data": {
            "text/html": [
              "<div>\n",
              "<style scoped>\n",
              "    .dataframe tbody tr th:only-of-type {\n",
              "        vertical-align: middle;\n",
              "    }\n",
              "\n",
              "    .dataframe tbody tr th {\n",
              "        vertical-align: top;\n",
              "    }\n",
              "\n",
              "    .dataframe thead th {\n",
              "        text-align: right;\n",
              "    }\n",
              "</style>\n",
              "<table border=\"1\" class=\"dataframe\">\n",
              "  <thead>\n",
              "    <tr style=\"text-align: right;\">\n",
              "      <th></th>\n",
              "      <th>vendorID</th>\n",
              "      <th>tpepPickupDateTime</th>\n",
              "      <th>tpepDropoffDateTime</th>\n",
              "      <th>passengerCount</th>\n",
              "      <th>tripDistance</th>\n",
              "      <th>puLocationId</th>\n",
              "      <th>doLocationId</th>\n",
              "      <th>startLon</th>\n",
              "      <th>startLat</th>\n",
              "      <th>endLon</th>\n",
              "      <th>...</th>\n",
              "      <th>rateCodeId</th>\n",
              "      <th>storeAndFwdFlag</th>\n",
              "      <th>paymentType</th>\n",
              "      <th>fareAmount</th>\n",
              "      <th>extra</th>\n",
              "      <th>mtaTax</th>\n",
              "      <th>improvementSurcharge</th>\n",
              "      <th>tipAmount</th>\n",
              "      <th>tollsAmount</th>\n",
              "      <th>totalAmount</th>\n",
              "    </tr>\n",
              "  </thead>\n",
              "  <tbody>\n",
              "    <tr>\n",
              "      <th>87213</th>\n",
              "      <td>2</td>\n",
              "      <td>2018-05-05 19:07:01</td>\n",
              "      <td>2018-05-05 19:28:44</td>\n",
              "      <td>1</td>\n",
              "      <td>3.95</td>\n",
              "      <td>164</td>\n",
              "      <td>112</td>\n",
              "      <td>NaN</td>\n",
              "      <td>NaN</td>\n",
              "      <td>NaN</td>\n",
              "      <td>...</td>\n",
              "      <td>1</td>\n",
              "      <td>N</td>\n",
              "      <td>2</td>\n",
              "      <td>17.0</td>\n",
              "      <td>0.0</td>\n",
              "      <td>0.5</td>\n",
              "      <td>0.3</td>\n",
              "      <td>0.00</td>\n",
              "      <td>5.76</td>\n",
              "      <td>23.56</td>\n",
              "    </tr>\n",
              "    <tr>\n",
              "      <th>145405</th>\n",
              "      <td>2</td>\n",
              "      <td>2018-05-05 22:46:06</td>\n",
              "      <td>2018-05-05 22:59:11</td>\n",
              "      <td>1</td>\n",
              "      <td>1.22</td>\n",
              "      <td>264</td>\n",
              "      <td>264</td>\n",
              "      <td>NaN</td>\n",
              "      <td>NaN</td>\n",
              "      <td>NaN</td>\n",
              "      <td>...</td>\n",
              "      <td>1</td>\n",
              "      <td>N</td>\n",
              "      <td>1</td>\n",
              "      <td>9.5</td>\n",
              "      <td>0.5</td>\n",
              "      <td>0.5</td>\n",
              "      <td>0.3</td>\n",
              "      <td>2.16</td>\n",
              "      <td>0.00</td>\n",
              "      <td>12.96</td>\n",
              "    </tr>\n",
              "    <tr>\n",
              "      <th>457648</th>\n",
              "      <td>1</td>\n",
              "      <td>2018-05-06 18:53:06</td>\n",
              "      <td>2018-05-06 19:06:31</td>\n",
              "      <td>1</td>\n",
              "      <td>2.20</td>\n",
              "      <td>246</td>\n",
              "      <td>162</td>\n",
              "      <td>NaN</td>\n",
              "      <td>NaN</td>\n",
              "      <td>NaN</td>\n",
              "      <td>...</td>\n",
              "      <td>1</td>\n",
              "      <td>N</td>\n",
              "      <td>2</td>\n",
              "      <td>11.0</td>\n",
              "      <td>0.0</td>\n",
              "      <td>0.5</td>\n",
              "      <td>0.3</td>\n",
              "      <td>0.00</td>\n",
              "      <td>0.00</td>\n",
              "      <td>11.80</td>\n",
              "    </tr>\n",
              "    <tr>\n",
              "      <th>369051</th>\n",
              "      <td>2</td>\n",
              "      <td>2018-05-02 09:25:13</td>\n",
              "      <td>2018-05-02 09:36:32</td>\n",
              "      <td>1</td>\n",
              "      <td>0.89</td>\n",
              "      <td>161</td>\n",
              "      <td>162</td>\n",
              "      <td>NaN</td>\n",
              "      <td>NaN</td>\n",
              "      <td>NaN</td>\n",
              "      <td>...</td>\n",
              "      <td>1</td>\n",
              "      <td>N</td>\n",
              "      <td>1</td>\n",
              "      <td>8.0</td>\n",
              "      <td>0.0</td>\n",
              "      <td>0.5</td>\n",
              "      <td>0.3</td>\n",
              "      <td>1.76</td>\n",
              "      <td>0.00</td>\n",
              "      <td>10.56</td>\n",
              "    </tr>\n",
              "    <tr>\n",
              "      <th>38871</th>\n",
              "      <td>2</td>\n",
              "      <td>2018-05-04 02:58:10</td>\n",
              "      <td>2018-05-04 03:01:10</td>\n",
              "      <td>3</td>\n",
              "      <td>0.45</td>\n",
              "      <td>79</td>\n",
              "      <td>4</td>\n",
              "      <td>NaN</td>\n",
              "      <td>NaN</td>\n",
              "      <td>NaN</td>\n",
              "      <td>...</td>\n",
              "      <td>1</td>\n",
              "      <td>N</td>\n",
              "      <td>1</td>\n",
              "      <td>4.0</td>\n",
              "      <td>0.5</td>\n",
              "      <td>0.5</td>\n",
              "      <td>0.3</td>\n",
              "      <td>1.32</td>\n",
              "      <td>0.00</td>\n",
              "      <td>6.62</td>\n",
              "    </tr>\n",
              "  </tbody>\n",
              "</table>\n",
              "<p>5 rows × 21 columns</p>\n",
              "</div>"
            ],
            "text/plain": [
              "       vendorID  tpepPickupDateTime tpepDropoffDateTime  passengerCount  \\\n",
              "87213         2 2018-05-05 19:07:01 2018-05-05 19:28:44               1   \n",
              "145405        2 2018-05-05 22:46:06 2018-05-05 22:59:11               1   \n",
              "457648        1 2018-05-06 18:53:06 2018-05-06 19:06:31               1   \n",
              "369051        2 2018-05-02 09:25:13 2018-05-02 09:36:32               1   \n",
              "38871         2 2018-05-04 02:58:10 2018-05-04 03:01:10               3   \n",
              "\n",
              "        tripDistance puLocationId doLocationId  startLon  startLat  endLon  \\\n",
              "87213           3.95          164          112       NaN       NaN     NaN   \n",
              "145405          1.22          264          264       NaN       NaN     NaN   \n",
              "457648          2.20          246          162       NaN       NaN     NaN   \n",
              "369051          0.89          161          162       NaN       NaN     NaN   \n",
              "38871           0.45           79            4       NaN       NaN     NaN   \n",
              "\n",
              "        ...  rateCodeId  storeAndFwdFlag paymentType fareAmount  extra  \\\n",
              "87213   ...           1                N           2       17.0    0.0   \n",
              "145405  ...           1                N           1        9.5    0.5   \n",
              "457648  ...           1                N           2       11.0    0.0   \n",
              "369051  ...           1                N           1        8.0    0.0   \n",
              "38871   ...           1                N           1        4.0    0.5   \n",
              "\n",
              "        mtaTax  improvementSurcharge tipAmount  tollsAmount  totalAmount  \n",
              "87213      0.5                   0.3      0.00         5.76        23.56  \n",
              "145405     0.5                   0.3      2.16         0.00        12.96  \n",
              "457648     0.5                   0.3      0.00         0.00        11.80  \n",
              "369051     0.5                   0.3      1.76         0.00        10.56  \n",
              "38871      0.5                   0.3      1.32         0.00         6.62  \n",
              "\n",
              "[5 rows x 21 columns]"
            ]
          },
          "metadata": {},
          "output_type": "display_data"
        }
      ],
      "source": [
        "from IPython.display import display\n",
        "\n",
        "sampled_df = nyc_tlc_df.sample(n=10000, random_state=123)\n",
        "display(sampled_df.head(5))"
      ]
    },
    {
      "cell_type": "markdown",
      "metadata": {
        "nteract": {
          "transient": {
            "deleting": false
          }
        }
      },
      "source": [
        "## Prepare and featurize data\n",
        "- There are extra dimensions that are not going to be useful in the model. We just take the dimensions that we need and put them into the featurised dataframe. \n",
        "- There are also a bunch of outliers in the data so we need to filter them out."
      ]
    },
    {
      "cell_type": "code",
      "execution_count": 3,
      "metadata": {
        "collapsed": true,
        "jupyter": {
          "outputs_hidden": false,
          "source_hidden": false
        },
        "nteract": {
          "transient": {
            "deleting": false
          }
        }
      },
      "outputs": [
        {
          "data": {
            "application/vnd.livy.statement-meta+json": {
              "execution_finish_time": "2022-11-14T01:20:42.0862763Z",
              "execution_start_time": "2022-11-14T01:20:41.5246886Z",
              "livy_statement_state": "available",
              "queued_time": "2022-11-14T01:20:41.4082525Z",
              "session_id": "24",
              "session_start_time": null,
              "spark_jobs": null,
              "spark_pool": "sparkezi1n72",
              "state": "finished",
              "statement_id": 3
            },
            "text/plain": [
              "StatementMeta(sparkezi1n72, 24, 3, Finished, Available)"
            ]
          },
          "metadata": {},
          "output_type": "display_data"
        },
        {
          "data": {
            "text/html": [
              "<div>\n",
              "<style scoped>\n",
              "    .dataframe tbody tr th:only-of-type {\n",
              "        vertical-align: middle;\n",
              "    }\n",
              "\n",
              "    .dataframe tbody tr th {\n",
              "        vertical-align: top;\n",
              "    }\n",
              "\n",
              "    .dataframe thead th {\n",
              "        text-align: right;\n",
              "    }\n",
              "</style>\n",
              "<table border=\"1\" class=\"dataframe\">\n",
              "  <thead>\n",
              "    <tr style=\"text-align: right;\">\n",
              "      <th></th>\n",
              "      <th>tipped</th>\n",
              "      <th>fareAmount</th>\n",
              "      <th>paymentType</th>\n",
              "      <th>passengerCount</th>\n",
              "      <th>tripDistance</th>\n",
              "      <th>tripTimeSecs</th>\n",
              "      <th>pickupTimeBin</th>\n",
              "    </tr>\n",
              "  </thead>\n",
              "  <tbody>\n",
              "    <tr>\n",
              "      <th>87213</th>\n",
              "      <td>0</td>\n",
              "      <td>17.0</td>\n",
              "      <td>2</td>\n",
              "      <td>1</td>\n",
              "      <td>3.95</td>\n",
              "      <td>1303</td>\n",
              "      <td>PMRush</td>\n",
              "    </tr>\n",
              "    <tr>\n",
              "      <th>145405</th>\n",
              "      <td>1</td>\n",
              "      <td>9.5</td>\n",
              "      <td>1</td>\n",
              "      <td>1</td>\n",
              "      <td>1.22</td>\n",
              "      <td>785</td>\n",
              "      <td>Night</td>\n",
              "    </tr>\n",
              "    <tr>\n",
              "      <th>457648</th>\n",
              "      <td>0</td>\n",
              "      <td>11.0</td>\n",
              "      <td>2</td>\n",
              "      <td>1</td>\n",
              "      <td>2.20</td>\n",
              "      <td>805</td>\n",
              "      <td>PMRush</td>\n",
              "    </tr>\n",
              "    <tr>\n",
              "      <th>369051</th>\n",
              "      <td>1</td>\n",
              "      <td>8.0</td>\n",
              "      <td>1</td>\n",
              "      <td>1</td>\n",
              "      <td>0.89</td>\n",
              "      <td>679</td>\n",
              "      <td>AMRush</td>\n",
              "    </tr>\n",
              "    <tr>\n",
              "      <th>38871</th>\n",
              "      <td>1</td>\n",
              "      <td>4.0</td>\n",
              "      <td>1</td>\n",
              "      <td>3</td>\n",
              "      <td>0.45</td>\n",
              "      <td>180</td>\n",
              "      <td>Night</td>\n",
              "    </tr>\n",
              "  </tbody>\n",
              "</table>\n",
              "</div>"
            ],
            "text/plain": [
              "        tipped  fareAmount  paymentType  passengerCount  tripDistance  \\\n",
              "87213        0        17.0            2               1          3.95   \n",
              "145405       1         9.5            1               1          1.22   \n",
              "457648       0        11.0            2               1          2.20   \n",
              "369051       1         8.0            1               1          0.89   \n",
              "38871        1         4.0            1               3          0.45   \n",
              "\n",
              "        tripTimeSecs pickupTimeBin  \n",
              "87213           1303        PMRush  \n",
              "145405           785         Night  \n",
              "457648           805        PMRush  \n",
              "369051           679        AMRush  \n",
              "38871            180         Night  "
            ]
          },
          "metadata": {},
          "output_type": "display_data"
        }
      ],
      "source": [
        "import numpy\n",
        "import pandas\n",
        "\n",
        "def get_pickup_time(df):\n",
        "    pickupHour = df['pickupHour'];\n",
        "    if ((pickupHour >= 7) & (pickupHour <= 10)):\n",
        "        return 'AMRush'\n",
        "    elif ((pickupHour >= 11) & (pickupHour <= 15)):\n",
        "        return 'Afternoon'\n",
        "    elif ((pickupHour >= 16) & (pickupHour <= 19)):\n",
        "        return 'PMRush'\n",
        "    else:\n",
        "        return 'Night'\n",
        "\n",
        "featurized_df = pandas.DataFrame()\n",
        "featurized_df['tipped'] = (sampled_df['tipAmount'] > 0).astype('int')\n",
        "featurized_df['fareAmount'] = sampled_df['fareAmount'].astype('float32')\n",
        "featurized_df['paymentType'] = sampled_df['paymentType'].astype('int')\n",
        "featurized_df['passengerCount'] = sampled_df['passengerCount'].astype('int')\n",
        "featurized_df['tripDistance'] = sampled_df['tripDistance'].astype('float32')\n",
        "featurized_df['pickupHour'] = sampled_df['tpepPickupDateTime'].dt.hour.astype('int')\n",
        "featurized_df['tripTimeSecs'] = ((sampled_df['tpepDropoffDateTime'] - sampled_df['tpepPickupDateTime']) / numpy.timedelta64(1, 's')).astype('int')\n",
        "\n",
        "featurized_df['pickupTimeBin'] = featurized_df.apply(get_pickup_time, axis=1)\n",
        "featurized_df = featurized_df.drop(columns='pickupHour')\n",
        "\n",
        "display(featurized_df.head(5))\n"
      ]
    },
    {
      "cell_type": "code",
      "execution_count": 4,
      "metadata": {
        "collapsed": true,
        "jupyter": {
          "outputs_hidden": false,
          "source_hidden": false
        },
        "nteract": {
          "transient": {
            "deleting": false
          }
        }
      },
      "outputs": [
        {
          "data": {
            "application/vnd.livy.statement-meta+json": {
              "execution_finish_time": "2022-11-14T01:20:47.3060519Z",
              "execution_start_time": "2022-11-14T01:20:47.084569Z",
              "livy_statement_state": "available",
              "queued_time": "2022-11-14T01:20:46.9427531Z",
              "session_id": "24",
              "session_start_time": null,
              "spark_jobs": null,
              "spark_pool": "sparkezi1n72",
              "state": "finished",
              "statement_id": 4
            },
            "text/plain": [
              "StatementMeta(sparkezi1n72, 24, 4, Finished, Available)"
            ]
          },
          "metadata": {},
          "output_type": "display_data"
        },
        {
          "name": "stdout",
          "output_type": "stream",
          "text": [
            "<class 'pandas.core.frame.DataFrame'>\n",
            "Int64Index: 9776 entries, 87213 to 333274\n",
            "Data columns (total 7 columns):\n",
            " #   Column          Non-Null Count  Dtype  \n",
            "---  ------          --------------  -----  \n",
            " 0   tipped          9776 non-null   int64  \n",
            " 1   fareAmount      9776 non-null   float32\n",
            " 2   paymentType     9776 non-null   int64  \n",
            " 3   passengerCount  9776 non-null   int64  \n",
            " 4   tripDistance    9776 non-null   float32\n",
            " 5   tripTimeSecs    9776 non-null   int64  \n",
            " 6   pickupTimeBin   9776 non-null   object \n",
            "dtypes: float32(2), int64(4), object(1)\n",
            "memory usage: 534.6+ KB\n"
          ]
        }
      ],
      "source": [
        "filtered_df = featurized_df[(featurized_df.tipped >= 0) & (featurized_df.tipped <= 1)\\\n",
        "    & (featurized_df.fareAmount >= 1) & (featurized_df.fareAmount <= 250)\\\n",
        "    & (featurized_df.paymentType >= 1) & (featurized_df.paymentType <= 2)\\\n",
        "    & (featurized_df.passengerCount > 0) & (featurized_df.passengerCount < 8)\\\n",
        "    & (featurized_df.tripDistance >= 0) & (featurized_df.tripDistance <= 100)\\\n",
        "    & (featurized_df.tripTimeSecs >= 30) & (featurized_df.tripTimeSecs <= 7200)]\n",
        "\n",
        "filtered_df.info()"
      ]
    },
    {
      "cell_type": "markdown",
      "metadata": {
        "nteract": {
          "transient": {
            "deleting": false
          }
        }
      },
      "source": [
        "## Split the data into train and test\n",
        "We will run the AutoML model on the training set, and use the testing set to make predictions on the SQL pool\n"
      ]
    },
    {
      "cell_type": "code",
      "execution_count": 7,
      "metadata": {
        "collapsed": true,
        "jupyter": {
          "outputs_hidden": false,
          "source_hidden": false
        },
        "nteract": {
          "transient": {
            "deleting": false
          }
        }
      },
      "outputs": [
        {
          "data": {
            "application/vnd.livy.statement-meta+json": {
              "execution_finish_time": "2022-11-14T01:24:41.953268Z",
              "execution_start_time": "2022-11-14T01:24:41.7852902Z",
              "livy_statement_state": "available",
              "queued_time": "2022-11-14T01:24:41.6502143Z",
              "session_id": "24",
              "session_start_time": null,
              "spark_jobs": null,
              "spark_pool": "sparkezi1n72",
              "state": "finished",
              "statement_id": 7
            },
            "text/plain": [
              "StatementMeta(sparkezi1n72, 24, 7, Finished, Available)"
            ]
          },
          "metadata": {},
          "output_type": "display_data"
        }
      ],
      "source": [
        "from sklearn.model_selection import train_test_split\n",
        "\n",
        "train_df, test_df = train_test_split(filtered_df, test_size=0.3, random_state=123)"
      ]
    },
    {
      "cell_type": "markdown",
      "metadata": {
        "nteract": {
          "transient": {
            "deleting": false
          }
        }
      },
      "source": [
        "## Save data the training data to spark table"
      ]
    },
    {
      "cell_type": "code",
      "execution_count": 8,
      "metadata": {
        "jupyter": {
          "outputs_hidden": false,
          "source_hidden": false
        },
        "nteract": {
          "transient": {
            "deleting": false
          }
        }
      },
      "outputs": [
        {
          "data": {
            "application/vnd.livy.statement-meta+json": {
              "execution_finish_time": "2022-11-14T01:25:51.0711147Z",
              "execution_start_time": "2022-11-14T01:25:15.1473661Z",
              "livy_statement_state": "available",
              "queued_time": "2022-11-14T01:25:15.0197789Z",
              "session_id": "24",
              "session_start_time": null,
              "spark_jobs": null,
              "spark_pool": "sparkezi1n72",
              "state": "finished",
              "statement_id": 8
            },
            "text/plain": [
              "StatementMeta(sparkezi1n72, 24, 8, Finished, Available)"
            ]
          },
          "metadata": {},
          "output_type": "display_data"
        }
      ],
      "source": [
        "spark_df = spark.createDataFrame(train_df)\n",
        "spark_df.write.mode(\"overwrite\").saveAsTable(\"train_nyc_taxi\")"
      ]
    },
    {
      "cell_type": "markdown",
      "metadata": {
        "nteract": {
          "transient": {
            "deleting": false
          }
        }
      },
      "source": [
        "## Save the test data to ADLS gen2"
      ]
    },
    {
      "cell_type": "code",
      "execution_count": 9,
      "metadata": {
        "collapsed": true,
        "jupyter": {
          "outputs_hidden": false,
          "source_hidden": false
        },
        "nteract": {
          "transient": {
            "deleting": false
          }
        }
      },
      "outputs": [
        {
          "data": {
            "application/vnd.livy.statement-meta+json": {
              "execution_finish_time": "2022-11-14T01:25:53.444762Z",
              "execution_start_time": "2022-11-14T01:25:51.2000494Z",
              "livy_statement_state": "available",
              "queued_time": "2022-11-14T01:25:47.8558417Z",
              "session_id": "24",
              "session_start_time": null,
              "spark_jobs": null,
              "spark_pool": "sparkezi1n72",
              "state": "finished",
              "statement_id": 9
            },
            "text/plain": [
              "StatementMeta(sparkezi1n72, 24, 9, Finished, Available)"
            ]
          },
          "metadata": {},
          "output_type": "display_data"
        }
      ],
      "source": [
        "spark_test_df = spark.createDataFrame(test_df)\n",
        "spark_test_df = spark_test_df.repartition(1) # This ensure we'll get a single file during write()\n",
        "spark_test_df.write.mode(\"overwrite\").csv(\"/NYCTaxi/testdata\")"
      ]
    }
  ],
  "metadata": {
    "description": null,
    "kernelspec": {
      "display_name": "Python 3.9.7",
      "language": "python",
      "name": "python3"
    },
    "language_info": {
      "name": "python",
      "version": "3.9.7"
    },
    "save_output": true,
    "synapse_widget": {
      "state": {},
      "version": "0.1"
    },
    "vscode": {
      "interpreter": {
        "hash": "efae42f5bb22c941f90033c79b5834eea70e75e2a45a38b301087dc593077f92"
      }
    }
  },
  "nbformat": 4,
  "nbformat_minor": 2
}
