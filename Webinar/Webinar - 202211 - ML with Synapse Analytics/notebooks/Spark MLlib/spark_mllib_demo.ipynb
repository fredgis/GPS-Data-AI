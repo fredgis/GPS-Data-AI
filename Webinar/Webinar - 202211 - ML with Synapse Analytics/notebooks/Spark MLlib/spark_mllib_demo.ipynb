{
  "nbformat": 4,
  "nbformat_minor": 2,
  "metadata": {
    "kernelspec": {
      "name": "synapse_pyspark",
      "display_name": "Synapse PySpark"
    },
    "language_info": {
      "name": "python"
    },
    "description": null,
    "save_output": true,
    "synapse_widget": {
      "version": "0.1",
      "state": {
        "24f414be-e9f5-4665-b362-36c82a4d54c1": {
          "type": "Synapse.DataFrame",
          "sync_state": {
            "table": {
              "rows": [
                {
                  "0": "19",
                  "1": "5",
                  "2": "DL",
                  "3": "11433",
                  "4": "13303",
                  "5": "-3",
                  "6": "1"
                },
                {
                  "0": "19",
                  "1": "5",
                  "2": "DL",
                  "3": "14869",
                  "4": "12478",
                  "5": "0",
                  "6": "-8"
                },
                {
                  "0": "19",
                  "1": "5",
                  "2": "DL",
                  "3": "14057",
                  "4": "14869",
                  "5": "-4",
                  "6": "-15"
                },
                {
                  "0": "19",
                  "1": "5",
                  "2": "DL",
                  "3": "15016",
                  "4": "11433",
                  "5": "28",
                  "6": "24"
                },
                {
                  "0": "19",
                  "1": "5",
                  "2": "DL",
                  "3": "11193",
                  "4": "12892",
                  "5": "-6",
                  "6": "-11"
                }
              ],
              "schema": [
                {
                  "key": "0",
                  "name": "DayofMonth",
                  "type": "int"
                },
                {
                  "key": "1",
                  "name": "DayOfWeek",
                  "type": "int"
                },
                {
                  "key": "2",
                  "name": "Carrier",
                  "type": "string"
                },
                {
                  "key": "3",
                  "name": "OriginAirportID",
                  "type": "int"
                },
                {
                  "key": "4",
                  "name": "DestAirportID",
                  "type": "int"
                },
                {
                  "key": "5",
                  "name": "DepDelay",
                  "type": "int"
                },
                {
                  "key": "6",
                  "name": "ArrDelay",
                  "type": "int"
                }
              ],
              "truncated": false
            },
            "isSummary": false,
            "language": "scala"
          },
          "persist_state": {
            "view": {
              "type": "details",
              "tableOptions": {},
              "chartOptions": {
                "chartType": "bar",
                "aggregationType": "sum",
                "categoryFieldKeys": [
                  "1"
                ],
                "seriesFieldKeys": [
                  "0"
                ],
                "isStacked": false
              }
            }
          }
        },
        "17829497-e801-4ae0-9456-8d35d5e7cac4": {
          "type": "Synapse.DataFrame",
          "sync_state": {
            "table": {
              "rows": [
                {
                  "0": "10165",
                  "1": "Adak Island",
                  "2": "AK",
                  "3": "Adak"
                },
                {
                  "0": "10299",
                  "1": "Anchorage",
                  "2": "AK",
                  "3": "Ted Stevens Anchorage International"
                },
                {
                  "0": "10304",
                  "1": "Aniak",
                  "2": "AK",
                  "3": "Aniak Airport"
                },
                {
                  "0": "10754",
                  "1": "Barrow",
                  "2": "AK",
                  "3": "Wiley Post/Will Rogers Memorial"
                },
                {
                  "0": "10551",
                  "1": "Bethel",
                  "2": "AK",
                  "3": "Bethel Airport"
                }
              ],
              "schema": [
                {
                  "key": "0",
                  "name": "airport_id",
                  "type": "string"
                },
                {
                  "key": "1",
                  "name": "city",
                  "type": "string"
                },
                {
                  "key": "2",
                  "name": "state",
                  "type": "string"
                },
                {
                  "key": "3",
                  "name": "name",
                  "type": "string"
                }
              ],
              "truncated": false
            },
            "isSummary": false,
            "language": "scala"
          },
          "persist_state": {
            "view": {
              "type": "details",
              "tableOptions": {},
              "chartOptions": {
                "chartType": "bar",
                "aggregationType": "count",
                "categoryFieldKeys": [
                  "0"
                ],
                "seriesFieldKeys": [
                  "0"
                ],
                "isStacked": false
              }
            }
          }
        },
        "95e5af37-7f9f-4dfa-9418-2debd9ae27e9": {
          "type": "Synapse.DataFrame",
          "sync_state": {
            "table": {
              "rows": [
                {
                  "0": "Adak Island",
                  "1": "Adak"
                },
                {
                  "0": "Anchorage",
                  "1": "Ted Stevens Anchorage International"
                },
                {
                  "0": "Aniak",
                  "1": "Aniak Airport"
                },
                {
                  "0": "Barrow",
                  "1": "Wiley Post/Will Rogers Memorial"
                },
                {
                  "0": "Bethel",
                  "1": "Bethel Airport"
                }
              ],
              "schema": [
                {
                  "key": "0",
                  "name": "city",
                  "type": "string"
                },
                {
                  "key": "1",
                  "name": "name",
                  "type": "string"
                }
              ],
              "truncated": false
            },
            "isSummary": false,
            "language": "scala"
          },
          "persist_state": {
            "view": {
              "type": "details",
              "tableOptions": {},
              "chartOptions": {
                "chartType": "bar",
                "aggregationType": "count",
                "categoryFieldKeys": [
                  "0"
                ],
                "seriesFieldKeys": [
                  "0"
                ],
                "isStacked": false
              }
            }
          }
        },
        "df26588c-2c51-4009-b3f7-2437aa09b3de": {
          "type": "Synapse.DataFrame",
          "sync_state": {
            "table": {
              "rows": [
                {
                  "0": "Anchorage",
                  "1": "7777"
                },
                {
                  "0": "Long Beach",
                  "1": "8202"
                },
                {
                  "0": "Providence",
                  "1": "9344"
                },
                {
                  "0": "Norfolk",
                  "1": "10044"
                },
                {
                  "0": "West Palm Beach/Palm Beach",
                  "1": "10132"
                }
              ],
              "schema": [
                {
                  "key": "0",
                  "name": "city",
                  "type": "string"
                },
                {
                  "key": "1",
                  "name": "count",
                  "type": "bigint"
                }
              ],
              "truncated": false
            },
            "isSummary": false,
            "language": "scala"
          },
          "persist_state": {
            "view": {
              "type": "details",
              "tableOptions": {},
              "chartOptions": {
                "chartType": "bar",
                "aggregationType": "sum",
                "categoryFieldKeys": [
                  "0"
                ],
                "seriesFieldKeys": [
                  "1"
                ],
                "isStacked": false
              }
            }
          }
        },
        "82178e40-dd8f-4501-896a-0201d60a5f43": {
          "type": "Synapse.DataFrame",
          "sync_state": {
            "table": {
              "rows": [
                {
                  "0": "19",
                  "1": "5",
                  "2": "DL",
                  "3": "12889",
                  "4": "13487",
                  "5": "7",
                  "6": "16",
                  "7": "0"
                },
                {
                  "0": "18",
                  "1": "4",
                  "2": "DL",
                  "3": "12892",
                  "4": "13487",
                  "5": "5",
                  "6": "-4",
                  "7": "0"
                },
                {
                  "0": "18",
                  "1": "4",
                  "2": "DL",
                  "3": "14635",
                  "4": "11193",
                  "5": "-7",
                  "6": "-12",
                  "7": "0"
                },
                {
                  "0": "18",
                  "1": "4",
                  "2": "DL",
                  "3": "10397",
                  "4": "11298",
                  "5": "-3",
                  "6": "44",
                  "7": "1"
                },
                {
                  "0": "18",
                  "1": "4",
                  "2": "DL",
                  "3": "10397",
                  "4": "12451",
                  "5": "1",
                  "6": "-7",
                  "7": "0"
                }
              ],
              "schema": [
                {
                  "key": "0",
                  "name": "DayofMonth",
                  "type": "int"
                },
                {
                  "key": "1",
                  "name": "DayOfWeek",
                  "type": "int"
                },
                {
                  "key": "2",
                  "name": "Carrier",
                  "type": "string"
                },
                {
                  "key": "3",
                  "name": "OriginAirportID",
                  "type": "int"
                },
                {
                  "key": "4",
                  "name": "DestAirportID",
                  "type": "int"
                },
                {
                  "key": "5",
                  "name": "DepDelay",
                  "type": "int"
                },
                {
                  "key": "6",
                  "name": "ArrDelay",
                  "type": "int"
                },
                {
                  "key": "7",
                  "name": "Late",
                  "type": "int"
                }
              ],
              "truncated": false
            },
            "isSummary": false,
            "language": "scala"
          },
          "persist_state": {
            "view": {
              "type": "details",
              "tableOptions": {},
              "chartOptions": {
                "chartType": "bar",
                "aggregationType": "sum",
                "categoryFieldKeys": [
                  "1"
                ],
                "seriesFieldKeys": [
                  "0"
                ],
                "isStacked": false
              }
            }
          }
        },
        "afbbe480-0717-4881-98de-8af315f56df4": {
          "type": "Synapse.DataFrame",
          "sync_state": {
            "table": {
              "rows": [
                {
                  "0": "count",
                  "1": "2696983",
                  "2": "2696983",
                  "3": "2696983",
                  "4": "2696983",
                  "5": "2696983",
                  "6": "2696983",
                  "7": "2696983",
                  "8": "2696983"
                },
                {
                  "0": "mean",
                  "1": "15.798996508320593",
                  "2": "3.900369412784582",
                  "4": "12742.459424846207",
                  "5": "12742.85937657004",
                  "6": "10.531134234068217",
                  "7": "6.6679285705545785",
                  "8": "0.14104983234970336"
                },
                {
                  "0": "stddev",
                  "1": "8.801267199135449",
                  "2": "1.9864582421701977",
                  "4": "1502.0359941370612",
                  "5": "1501.9939589817984",
                  "6": "36.06172819056575",
                  "7": "38.58386147358073",
                  "8": "0.34807301255078194"
                },
                {
                  "0": "min",
                  "1": "1",
                  "2": "1",
                  "3": "9E",
                  "4": "10140",
                  "5": "10140",
                  "6": "-63",
                  "7": "-94",
                  "8": "0"
                },
                {
                  "0": "max",
                  "1": "31",
                  "2": "7",
                  "3": "YV",
                  "4": "15376",
                  "5": "15376",
                  "6": "1863",
                  "7": "1845",
                  "8": "1"
                }
              ],
              "schema": [
                {
                  "key": "0",
                  "name": "summary",
                  "type": "string"
                },
                {
                  "key": "1",
                  "name": "DayofMonth",
                  "type": "string"
                },
                {
                  "key": "2",
                  "name": "DayOfWeek",
                  "type": "string"
                },
                {
                  "key": "3",
                  "name": "Carrier",
                  "type": "string"
                },
                {
                  "key": "4",
                  "name": "OriginAirportID",
                  "type": "string"
                },
                {
                  "key": "5",
                  "name": "DestAirportID",
                  "type": "string"
                },
                {
                  "key": "6",
                  "name": "DepDelay",
                  "type": "string"
                },
                {
                  "key": "7",
                  "name": "ArrDelay",
                  "type": "string"
                },
                {
                  "key": "8",
                  "name": "Late",
                  "type": "string"
                }
              ],
              "truncated": false
            },
            "isSummary": false,
            "language": "scala"
          },
          "persist_state": {
            "view": {
              "type": "details",
              "tableOptions": {},
              "chartOptions": {
                "chartType": "bar",
                "aggregationType": "count",
                "categoryFieldKeys": [
                  "0"
                ],
                "seriesFieldKeys": [
                  "0"
                ],
                "isStacked": false
              }
            }
          }
        },
        "3631dd43-4da1-4283-8db9-59c2b968506b": {
          "type": "Synapse.DataFrame",
          "sync_state": {
            "table": {
              "rows": [
                {
                  "0": "380409",
                  "1": "1"
                },
                {
                  "0": "2316574",
                  "1": "0"
                }
              ],
              "schema": [
                {
                  "key": "0",
                  "name": "Count",
                  "type": "bigint"
                },
                {
                  "key": "1",
                  "name": "Late",
                  "type": "int"
                }
              ],
              "truncated": false
            },
            "isSummary": false,
            "language": "scala"
          },
          "persist_state": {
            "view": {
              "type": "details",
              "tableOptions": {},
              "chartOptions": {
                "chartType": "bar",
                "aggregationType": "sum",
                "categoryFieldKeys": [
                  "1"
                ],
                "seriesFieldKeys": [
                  "0"
                ],
                "isStacked": false
              }
            }
          }
        },
        "0bffaf8c-e9e4-44f9-8d38-cfdd68d72068": {
          "type": "Synapse.DataFrame",
          "sync_state": {
            "table": {
              "rows": [
                {
                  "0": "count",
                  "1": "637324",
                  "2": "637324",
                  "3": "637324",
                  "4": "637324",
                  "5": "637324",
                  "6": "637324",
                  "7": "637324",
                  "8": "637324"
                },
                {
                  "0": "mean",
                  "1": "15.839252876088144",
                  "2": "3.8839899329069674",
                  "4": "12712.537491134808",
                  "5": "12740.44248294431",
                  "6": "28.886363921647387",
                  "7": "29.31997696618988",
                  "8": "0.5344973671162548"
                },
                {
                  "0": "stddev",
                  "1": "8.673352380349908",
                  "2": "1.9602324008429373",
                  "4": "1486.6392056546533",
                  "5": "1499.442124659873",
                  "6": "37.26080121116861",
                  "7": "39.38170868491596",
                  "8": "0.49880890334929684"
                },
                {
                  "0": "min",
                  "1": "1",
                  "2": "1",
                  "3": "9E",
                  "4": "10140",
                  "5": "10140",
                  "6": "-40",
                  "7": "-71",
                  "8": "0"
                },
                {
                  "0": "max",
                  "1": "31",
                  "2": "7",
                  "3": "YV",
                  "4": "15376",
                  "5": "15376",
                  "6": "149",
                  "7": "149",
                  "8": "1"
                }
              ],
              "schema": [
                {
                  "key": "0",
                  "name": "summary",
                  "type": "string"
                },
                {
                  "key": "1",
                  "name": "DayofMonth",
                  "type": "string"
                },
                {
                  "key": "2",
                  "name": "DayOfWeek",
                  "type": "string"
                },
                {
                  "key": "3",
                  "name": "Carrier",
                  "type": "string"
                },
                {
                  "key": "4",
                  "name": "OriginAirportID",
                  "type": "string"
                },
                {
                  "key": "5",
                  "name": "DestAirportID",
                  "type": "string"
                },
                {
                  "key": "6",
                  "name": "DepDelay",
                  "type": "string"
                },
                {
                  "key": "7",
                  "name": "ArrDelay",
                  "type": "string"
                },
                {
                  "key": "8",
                  "name": "Late",
                  "type": "string"
                }
              ],
              "truncated": false
            },
            "isSummary": false,
            "language": "scala"
          },
          "persist_state": {
            "view": {
              "type": "details",
              "tableOptions": {},
              "chartOptions": {
                "chartType": "bar",
                "aggregationType": "count",
                "categoryFieldKeys": [
                  "0"
                ],
                "seriesFieldKeys": [
                  "0"
                ],
                "isStacked": false
              }
            }
          }
        },
        "16dcf856-937b-44cb-bdcf-3a9ce29eaa87": {
          "type": "Synapse.DataFrame",
          "sync_state": {
            "table": {
              "rows": [
                {
                  "0": "17",
                  "1": "3",
                  "2": "AA",
                  "3": "12889",
                  "4": "12892",
                  "5": "12",
                  "6": "2",
                  "7": "0"
                },
                {
                  "0": "21",
                  "1": "6",
                  "2": "EV",
                  "3": "14524",
                  "4": "12266",
                  "5": "-7",
                  "6": "-3",
                  "7": "0"
                },
                {
                  "0": "6",
                  "1": "6",
                  "2": "DL",
                  "3": "11433",
                  "4": "14771",
                  "5": "2",
                  "6": "9",
                  "7": "0"
                },
                {
                  "0": "20",
                  "1": "4",
                  "2": "DL",
                  "3": "10397",
                  "4": "14843",
                  "5": "-2",
                  "6": "-18",
                  "7": "0"
                },
                {
                  "0": "1",
                  "1": "1",
                  "2": "AA",
                  "3": "13303",
                  "4": "15304",
                  "5": "36",
                  "6": "32",
                  "7": "1"
                }
              ],
              "schema": [
                {
                  "key": "0",
                  "name": "DayofMonth",
                  "type": "int"
                },
                {
                  "key": "1",
                  "name": "DayOfWeek",
                  "type": "int"
                },
                {
                  "key": "2",
                  "name": "Carrier",
                  "type": "string"
                },
                {
                  "key": "3",
                  "name": "OriginAirportID",
                  "type": "int"
                },
                {
                  "key": "4",
                  "name": "DestAirportID",
                  "type": "int"
                },
                {
                  "key": "5",
                  "name": "DepDelay",
                  "type": "int"
                },
                {
                  "key": "6",
                  "name": "ArrDelay",
                  "type": "int"
                },
                {
                  "key": "7",
                  "name": "Late",
                  "type": "int"
                }
              ],
              "truncated": false
            },
            "isSummary": false,
            "language": "scala"
          },
          "persist_state": {
            "view": {
              "type": "details",
              "tableOptions": {},
              "chartOptions": {
                "chartType": "bar",
                "aggregationType": "sum",
                "categoryFieldKeys": [
                  "1"
                ],
                "seriesFieldKeys": [
                  "0"
                ],
                "isStacked": false
              }
            }
          }
        },
        "63b0b4bf-8a0c-410c-945e-a53397aea62c": {
          "type": "Synapse.DataFrame",
          "sync_state": {
            "table": {
              "rows": [
                {
                  "0": {
                    "type": 1,
                    "values": [
                      0.17965686813350334,
                      -0.17965686813350334
                    ]
                  },
                  "1": {
                    "type": 1,
                    "values": [
                      0.5447937992044416,
                      0.4552062007955584
                    ]
                  },
                  "2": "0",
                  "3": "0"
                },
                {
                  "0": {
                    "type": 1,
                    "values": [
                      2.020932984546988,
                      -2.020932984546988
                    ]
                  },
                  "1": {
                    "type": 1,
                    "values": [
                      0.8829774472594708,
                      0.1170225527405292
                    ]
                  },
                  "2": "0",
                  "3": "0"
                },
                {
                  "0": {
                    "type": 1,
                    "values": [
                      1.7823794954693835,
                      -1.7823794954693835
                    ]
                  },
                  "1": {
                    "type": 1,
                    "values": [
                      0.855990436779618,
                      0.14400956322038205
                    ]
                  },
                  "2": "0",
                  "3": "0"
                },
                {
                  "0": {
                    "type": 1,
                    "values": [
                      -4.899046554116602,
                      4.899046554116602
                    ]
                  },
                  "1": {
                    "type": 1,
                    "values": [
                      0.007398539974098764,
                      0.9926014600259012
                    ]
                  },
                  "2": "1",
                  "3": "1"
                },
                {
                  "0": {
                    "type": 1,
                    "values": [
                      -5.957271998716145,
                      5.957271998716145
                    ]
                  },
                  "1": {
                    "type": 1,
                    "values": [
                      0.002580284492079711,
                      0.9974197155079203
                    ]
                  },
                  "2": "1",
                  "3": "1"
                }
              ],
              "schema": [
                {
                  "key": "0",
                  "name": "rawPrediction",
                  "type": "org.apache.spark.ml.linalg.VectorUDT@3bfc3ba7"
                },
                {
                  "key": "1",
                  "name": "probability",
                  "type": "org.apache.spark.ml.linalg.VectorUDT@3bfc3ba7"
                },
                {
                  "key": "2",
                  "name": "prediction",
                  "type": "int"
                },
                {
                  "key": "3",
                  "name": "trueLabel",
                  "type": "int"
                }
              ],
              "truncated": false
            },
            "isSummary": false,
            "language": "scala"
          },
          "persist_state": {
            "view": {
              "type": "details",
              "tableOptions": {},
              "chartOptions": {
                "chartType": "bar",
                "aggregationType": "sum",
                "categoryFieldKeys": [
                  "3"
                ],
                "seriesFieldKeys": [
                  "2"
                ],
                "isStacked": false
              }
            }
          }
        },
        "fd3edfdc-71cb-4c27-9cbe-c9b50b0276bf": {
          "type": "Synapse.DataFrame",
          "sync_state": {
            "table": {
              "rows": [
                {
                  "0": {
                    "type": 1,
                    "values": [
                      25,
                      2,
                      10,
                      11,
                      12,
                      0.24378109452736318
                    ]
                  },
                  "1": {
                    "type": 1,
                    "values": [
                      0.8819471990055738,
                      0.11805280099442617
                    ]
                  },
                  "2": "0",
                  "3": "1"
                },
                {
                  "0": {
                    "type": 1,
                    "values": [
                      25,
                      2,
                      10,
                      17,
                      16,
                      0.5920398009950248
                    ]
                  },
                  "1": {
                    "type": 1,
                    "values": [
                      0.0011018765262345047,
                      0.9988981234737655
                    ]
                  },
                  "2": "1",
                  "3": "1"
                },
                {
                  "0": {
                    "type": 1,
                    "values": [
                      25,
                      2,
                      10,
                      37,
                      22,
                      0.9950248756218906
                    ]
                  },
                  "1": {
                    "type": 1,
                    "values": [
                      4.459479420856498e-8,
                      0.9999999554052058
                    ]
                  },
                  "2": "1",
                  "3": "1"
                },
                {
                  "0": {
                    "type": 1,
                    "values": [
                      25,
                      2,
                      10,
                      37,
                      1,
                      0.6368159203980099
                    ]
                  },
                  "1": {
                    "type": 1,
                    "values": [
                      0.00033841852680115744,
                      0.9996615814731988
                    ]
                  },
                  "2": "1",
                  "3": "1"
                },
                {
                  "0": {
                    "type": 1,
                    "values": [
                      25,
                      2,
                      10,
                      3,
                      16,
                      0.23383084577114427
                    ]
                  },
                  "1": {
                    "type": 1,
                    "values": [
                      0.9054684042121699,
                      0.0945315957878301
                    ]
                  },
                  "2": "0",
                  "3": "0"
                }
              ],
              "schema": [
                {
                  "key": "0",
                  "name": "features",
                  "type": "org.apache.spark.ml.linalg.VectorUDT@3bfc3ba7"
                },
                {
                  "key": "1",
                  "name": "probability",
                  "type": "org.apache.spark.ml.linalg.VectorUDT@3bfc3ba7"
                },
                {
                  "key": "2",
                  "name": "prediction",
                  "type": "int"
                },
                {
                  "key": "3",
                  "name": "trueLabel",
                  "type": "int"
                }
              ],
              "truncated": false
            },
            "isSummary": false,
            "language": "scala"
          },
          "persist_state": {
            "view": {
              "type": "details",
              "tableOptions": {},
              "chartOptions": {
                "chartType": "bar",
                "aggregationType": "sum",
                "categoryFieldKeys": [
                  "3"
                ],
                "seriesFieldKeys": [
                  "2"
                ],
                "isStacked": false
              }
            }
          }
        },
        "fbc68fe3-9893-456f-85af-6aaa70fadc84": {
          "type": "Synapse.DataFrame",
          "sync_state": {
            "table": {
              "rows": [
                {
                  "0": "21",
                  "1": "2",
                  "2": "WN",
                  "3": "10721",
                  "4": "13342",
                  "5": "26",
                  "6": "9.0",
                  "7": "4.0",
                  "8": "0.0",
                  "9": "11.0",
                  "10": "42.0",
                  "11": {
                    "type": 1,
                    "values": [
                      26
                    ]
                  },
                  "12": {
                    "type": 1,
                    "values": [
                      0.3880597014925373
                    ]
                  },
                  "13": {
                    "type": 1,
                    "values": [
                      9,
                      4,
                      0,
                      11,
                      42,
                      0.3880597014925373
                    ]
                  },
                  "14": {
                    "type": 1,
                    "values": [
                      -1.0011847670712086,
                      1.0011847670712086
                    ]
                  },
                  "15": {
                    "type": 1,
                    "values": [
                      0.2687085458027492,
                      0.7312914541972508
                    ]
                  },
                  "16": "1.0"
                },
                {
                  "0": "13",
                  "1": "1",
                  "2": "AA",
                  "3": "15016",
                  "4": "12892",
                  "5": "51",
                  "6": "7.0",
                  "7": "2.0",
                  "8": "2.0",
                  "9": "28.0",
                  "10": "2.0",
                  "11": {
                    "type": 1,
                    "values": [
                      51
                    ]
                  },
                  "12": {
                    "type": 1,
                    "values": [
                      0.5124378109452736
                    ]
                  },
                  "13": {
                    "type": 1,
                    "values": [
                      7,
                      2,
                      2,
                      28,
                      2,
                      0.5124378109452736
                    ]
                  },
                  "14": {
                    "type": 1,
                    "values": [
                      -4.739745828481613,
                      4.739745828481613
                    ]
                  },
                  "15": {
                    "type": 1,
                    "values": [
                      0.008665126856300342,
                      0.9913348731436996
                    ]
                  },
                  "16": "1.0"
                },
                {
                  "0": "5",
                  "1": "5",
                  "2": "FL",
                  "3": "10397",
                  "4": "11433",
                  "5": "9",
                  "6": "28.0",
                  "7": "1.0",
                  "8": "9.0",
                  "9": "1.0",
                  "10": "15.0",
                  "11": {
                    "type": 1,
                    "values": [
                      9
                    ]
                  },
                  "12": {
                    "type": 1,
                    "values": [
                      0.3034825870646766
                    ]
                  },
                  "13": {
                    "type": 1,
                    "values": [
                      28,
                      1,
                      9,
                      1,
                      15,
                      0.3034825870646766
                    ]
                  },
                  "14": {
                    "type": 1,
                    "values": [
                      0.5062674514351135,
                      -0.5062674514351135
                    ]
                  },
                  "15": {
                    "type": 1,
                    "values": [
                      0.6239310711654757,
                      0.37606892883452425
                    ]
                  },
                  "16": "0.0"
                },
                {
                  "0": "22",
                  "1": "1",
                  "2": "US",
                  "3": "11278",
                  "4": "14100",
                  "5": "35",
                  "6": "1.0",
                  "7": "2.0",
                  "8": "4.0",
                  "9": "23.0",
                  "10": "18.0",
                  "11": {
                    "type": 1,
                    "values": [
                      35
                    ]
                  },
                  "12": {
                    "type": 1,
                    "values": [
                      0.43283582089552236
                    ]
                  },
                  "13": {
                    "type": 1,
                    "values": [
                      1,
                      2,
                      4,
                      23,
                      18,
                      0.43283582089552236
                    ]
                  },
                  "14": {
                    "type": 1,
                    "values": [
                      -2.776598653457029,
                      2.776598653457029
                    ]
                  },
                  "15": {
                    "type": 1,
                    "values": [
                      0.05860191864513431,
                      0.9413980813548657
                    ]
                  },
                  "16": "1.0"
                },
                {
                  "0": "23",
                  "1": "4",
                  "2": "WN",
                  "3": "12451",
                  "4": "10693",
                  "5": "9",
                  "6": "8.0",
                  "7": "0.0",
                  "8": "0.0",
                  "9": "51.0",
                  "10": "27.0",
                  "11": {
                    "type": 1,
                    "values": [
                      9
                    ]
                  },
                  "12": {
                    "type": 1,
                    "values": [
                      0.3034825870646766
                    ]
                  },
                  "13": {
                    "type": 1,
                    "values": [
                      8,
                      0,
                      0,
                      51,
                      27,
                      0.3034825870646766
                    ]
                  },
                  "14": {
                    "type": 1,
                    "values": [
                      1.003250030510749,
                      -1.003250030510749
                    ]
                  },
                  "15": {
                    "type": 1,
                    "values": [
                      0.7316970933587857,
                      0.26830290664121426
                    ]
                  },
                  "16": "0.0"
                },
                {
                  "0": "5",
                  "1": "7",
                  "2": "AA",
                  "3": "11298",
                  "4": "15016",
                  "5": "39",
                  "6": "28.0",
                  "7": "5.0",
                  "8": "2.0",
                  "9": "3.0",
                  "10": "29.0",
                  "11": {
                    "type": 1,
                    "values": [
                      39
                    ]
                  },
                  "12": {
                    "type": 1,
                    "values": [
                      0.4527363184079602
                    ]
                  },
                  "13": {
                    "type": 1,
                    "values": [
                      28,
                      5,
                      2,
                      3,
                      29,
                      0.4527363184079602
                    ]
                  },
                  "14": {
                    "type": 1,
                    "values": [
                      -2.5640929853651055,
                      2.5640929853651055
                    ]
                  },
                  "15": {
                    "type": 1,
                    "values": [
                      0.07148539246943421,
                      0.9285146075305658
                    ]
                  },
                  "16": "1.0"
                },
                {
                  "0": "4",
                  "1": "6",
                  "2": "UA",
                  "3": "13930",
                  "4": "14307",
                  "5": "71",
                  "6": "29.0",
                  "7": "6.0",
                  "8": "3.0",
                  "9": "0.0",
                  "10": "66.0",
                  "11": {
                    "type": 1,
                    "values": [
                      71
                    ]
                  },
                  "12": {
                    "type": 1,
                    "values": [
                      0.6119402985074627
                    ]
                  },
                  "13": {
                    "type": 1,
                    "values": [
                      29,
                      6,
                      3,
                      0,
                      66,
                      0.6119402985074627
                    ]
                  },
                  "14": {
                    "type": 1,
                    "values": [
                      -6.248189920700085,
                      6.248189920700085
                    ]
                  },
                  "15": {
                    "type": 1,
                    "values": [
                      0.0019302186263118464,
                      0.9980697813736882
                    ]
                  },
                  "16": "1.0"
                },
                {
                  "0": "10",
                  "1": "3",
                  "2": "9E",
                  "3": "14307",
                  "4": "11433",
                  "5": "68",
                  "6": "0.0",
                  "7": "3.0",
                  "8": "10.0",
                  "9": "67.0",
                  "10": "15.0",
                  "11": {
                    "type": 1,
                    "values": [
                      68
                    ]
                  },
                  "12": {
                    "type": 1,
                    "values": [
                      0.5970149253731343
                    ]
                  },
                  "13": {
                    "type": 1,
                    "values": [
                      0,
                      3,
                      10,
                      67,
                      15,
                      0.5970149253731343
                    ]
                  },
                  "14": {
                    "type": 1,
                    "values": [
                      -7.0205422778054505,
                      7.0205422778054505
                    ]
                  },
                  "15": {
                    "type": 1,
                    "values": [
                      0.0008925435768176138,
                      0.9991074564231824
                    ]
                  },
                  "16": "1.0"
                },
                {
                  "0": "29",
                  "1": "7",
                  "2": "UA",
                  "3": "14057",
                  "4": "14771",
                  "5": "130",
                  "6": "18.0",
                  "7": "5.0",
                  "8": "3.0",
                  "9": "33.0",
                  "10": "3.0",
                  "11": {
                    "type": 1,
                    "values": [
                      130
                    ]
                  },
                  "12": {
                    "type": 1,
                    "values": [
                      0.9054726368159204
                    ]
                  },
                  "13": {
                    "type": 1,
                    "values": [
                      18,
                      5,
                      3,
                      33,
                      3,
                      0.9054726368159204
                    ]
                  },
                  "14": {
                    "type": 1,
                    "values": [
                      -14.443492399396042,
                      14.443492399396042
                    ]
                  },
                  "15": {
                    "type": 1,
                    "values": [
                      5.336674562559903e-7,
                      0.9999994663325438
                    ]
                  },
                  "16": "1.0"
                },
                {
                  "0": "14",
                  "1": "7",
                  "2": "UA",
                  "3": "14771",
                  "4": "11292",
                  "5": "20",
                  "6": "19.0",
                  "7": "5.0",
                  "8": "3.0",
                  "9": "5.0",
                  "10": "4.0",
                  "11": {
                    "type": 1,
                    "values": [
                      20
                    ]
                  },
                  "12": {
                    "type": 1,
                    "values": [
                      0.3582089552238806
                    ]
                  },
                  "13": {
                    "type": 1,
                    "values": [
                      19,
                      5,
                      3,
                      5,
                      4,
                      0.3582089552238806
                    ]
                  },
                  "14": {
                    "type": 1,
                    "values": [
                      -0.5994400039895069,
                      0.5994400039895069
                    ]
                  },
                  "15": {
                    "type": 1,
                    "values": [
                      0.3544718224838437,
                      0.6455281775161563
                    ]
                  },
                  "16": "1.0"
                }
              ],
              "schema": [
                {
                  "key": "0",
                  "name": "DayofMonth",
                  "type": "int"
                },
                {
                  "key": "1",
                  "name": "DayOfWeek",
                  "type": "int"
                },
                {
                  "key": "2",
                  "name": "Carrier",
                  "type": "string"
                },
                {
                  "key": "3",
                  "name": "OriginAirportID",
                  "type": "int"
                },
                {
                  "key": "4",
                  "name": "DestAirportID",
                  "type": "int"
                },
                {
                  "key": "5",
                  "name": "DepDelay",
                  "type": "int"
                },
                {
                  "key": "6",
                  "name": "DayofMonthIdx",
                  "type": "double"
                },
                {
                  "key": "7",
                  "name": "DayOfWeekIdx",
                  "type": "double"
                },
                {
                  "key": "8",
                  "name": "CarrierIdx",
                  "type": "double"
                },
                {
                  "key": "9",
                  "name": "OriginAirportIdx",
                  "type": "double"
                },
                {
                  "key": "10",
                  "name": "DestAirportIdx",
                  "type": "double"
                },
                {
                  "key": "11",
                  "name": "numFeatures",
                  "type": "org.apache.spark.ml.linalg.VectorUDT@3bfc3ba7"
                },
                {
                  "key": "12",
                  "name": "normNums",
                  "type": "org.apache.spark.ml.linalg.VectorUDT@3bfc3ba7"
                },
                {
                  "key": "13",
                  "name": "features",
                  "type": "org.apache.spark.ml.linalg.VectorUDT@3bfc3ba7"
                },
                {
                  "key": "14",
                  "name": "rawPrediction",
                  "type": "org.apache.spark.ml.linalg.VectorUDT@3bfc3ba7"
                },
                {
                  "key": "15",
                  "name": "probability",
                  "type": "org.apache.spark.ml.linalg.VectorUDT@3bfc3ba7"
                },
                {
                  "key": "16",
                  "name": "prediction",
                  "type": "double"
                }
              ],
              "truncated": false
            },
            "isSummary": false,
            "language": "scala"
          },
          "persist_state": {
            "view": {
              "type": "details",
              "tableOptions": {},
              "chartOptions": {
                "chartType": "bar",
                "aggregationType": "sum",
                "categoryFieldKeys": [
                  "1"
                ],
                "seriesFieldKeys": [
                  "0"
                ],
                "isStacked": false
              }
            }
          }
        }
      }
    }
  },
  "cells": [
    {
      "cell_type": "markdown",
      "metadata": {},
      "source": [
        "# Train a machine learning model with Spark MLlib\n",
        "\n",
        "Spark MLlib enables you to train, validate, and use machine learning models on Apache Spark.\n",
        "\n",
        "In this notebook, you'll implement a machine learning solution that predicts whether or not a flight will arrive late based on a number of factors, such as the day and time of the flight, the origin and destination airports, the carrier operating the flight, and any departure delays.\n",
        "\n",
        "> **Note**: This noteook is designed to be run in an Azure Synapse Analytics Spark pool.\n",
        "\n",
        "\n",
        "## Attach this notebook to a Spark pool\n",
        "\n",
        "To run the code in this notebook, you'll need to use a Spark pool; so at the top of this notebook, in the **Attach to** list, select your Spark pool."
      ]
    },
    {
      "cell_type": "markdown",
      "metadata": {
        "nteract": {
          "transient": {
            "deleting": false
          }
        }
      },
      "source": [
        "## Load data into the default storage account linked to Synapse"
      ]
    },
    {
      "cell_type": "markdown",
      "metadata": {
        "nteract": {
          "transient": {
            "deleting": false
          }
        }
      },
      "source": [
        "## Explore Data\n",
        "\n",
        "Before training a model, a data scientists generally explores the data with which the model will be trained, and prepares it by removing errors and outliers, identifying predictive features, and potentially using *feature engineering* techniques to augment the data with new derived values that will result in a more predictive model.\n",
        "\n",
        "In this example, you'll explore some historical flight data with which we'll later train a model to predict whether or not a flight will arrive late. Along the way, we'll encounter somecommon techniques used to load and explore data in Spark.\n",
        ""
      ]
    },
    {
      "cell_type": "markdown",
      "metadata": {},
      "source": [
        "### Load Data Using an Explicit Schema\n",
        "\n",
        "Let's start by loading some historical flight data into a dataframe. If the structure of the data is known ahead of time, you can explicitly specify the schema for the dataframe.\n",
        "\n",
        "Review the code in the cell below, which defines a schema for flight data before loading it from a text file. Then click the **&#9655;** button to the left of the cell to run it.\n",
        "\n",
        "> **Note**: The first time you run a cell in a notebook, the Spark pool must be started; which can take a few minutes."
      ]
    },
    {
      "cell_type": "code",
      "execution_count": 7,
      "outputs": [
        {
          "output_type": "display_data",
          "data": {
            "application/vnd.livy.statement-meta+json": {
              "spark_pool": "sparkezi1n72",
              "session_id": "35",
              "statement_id": 7,
              "state": "finished",
              "livy_statement_state": "available",
              "queued_time": "2022-11-16T10:35:41.5521724Z",
              "session_start_time": null,
              "execution_start_time": "2022-11-16T10:35:41.7269565Z",
              "execution_finish_time": "2022-11-16T10:35:42.8874262Z",
              "spark_jobs": null
            },
            "text/plain": "StatementMeta(sparkezi1n72, 35, 7, Finished, Available)"
          },
          "metadata": {}
        },
        {
          "output_type": "display_data",
          "data": {
            "application/vnd.synapse.widget-view+json": {
              "widget_id": "24f414be-e9f5-4665-b362-36c82a4d54c1",
              "widget_type": "Synapse.DataFrame"
            },
            "text/plain": "SynapseWidget(Synapse.DataFrame, 24f414be-e9f5-4665-b362-36c82a4d54c1)"
          },
          "metadata": {}
        }
      ],
      "metadata": {
        "collapsed": false
      },
      "source": [
        "from pyspark.sql.types import *\n",
        "from pyspark.sql.functions import *\n",
        "import pandas as pd\n",
        "\n",
        "flightSchema = StructType([\n",
        "  StructField(\"DayofMonth\", IntegerType(), False),\n",
        "  StructField(\"DayOfWeek\", IntegerType(), False),\n",
        "  StructField(\"Carrier\", StringType(), False),\n",
        "  StructField(\"OriginAirportID\", IntegerType(), False),\n",
        "  StructField(\"DestAirportID\", IntegerType(), False),\n",
        "  StructField(\"DepDelay\", IntegerType(), False),\n",
        "  StructField(\"ArrDelay\", IntegerType(), False),\n",
        "])\n",
        "\n",
        "# Provided by Spark SQL to read a csv file into a Spark DataFrame\n",
        "flights=spark.read.csv('abfss://data@datalakeezi1n72.dfs.core.windows.net/raw-flight-data.csv',\n",
        "                        schema=flightSchema, header=True)\n",
        "display(flights.limit(5))"
      ]
    },
    {
      "cell_type": "markdown",
      "metadata": {},
      "source": [
        "### Infer a Data Schema\n",
        "If the structure of the data source is unknown, you can have Spark automatically infer the schema.\n",
        "\n",
        "In this case, you will load data about airports without knowing the schema.\n",
        "\n",
        "Run the following cell to load airport data from a text file, inferring the column names and data types automatically."
      ]
    },
    {
      "cell_type": "code",
      "execution_count": 8,
      "outputs": [
        {
          "output_type": "display_data",
          "data": {
            "application/vnd.livy.statement-meta+json": {
              "spark_pool": "sparkezi1n72",
              "session_id": "35",
              "statement_id": 8,
              "state": "finished",
              "livy_statement_state": "available",
              "queued_time": "2022-11-16T10:35:47.1103144Z",
              "session_start_time": null,
              "execution_start_time": "2022-11-16T10:35:47.276014Z",
              "execution_finish_time": "2022-11-16T10:35:50.1887971Z",
              "spark_jobs": null
            },
            "text/plain": "StatementMeta(sparkezi1n72, 35, 8, Finished, Available)"
          },
          "metadata": {}
        },
        {
          "output_type": "display_data",
          "data": {
            "application/vnd.synapse.widget-view+json": {
              "widget_id": "17829497-e801-4ae0-9456-8d35d5e7cac4",
              "widget_type": "Synapse.DataFrame"
            },
            "text/plain": "SynapseWidget(Synapse.DataFrame, 17829497-e801-4ae0-9456-8d35d5e7cac4)"
          },
          "metadata": {}
        }
      ],
      "metadata": {
        "collapsed": false
      },
      "source": [
        "airports = spark.read.csv('abfss://data@datalakeezi1n72.dfs.core.windows.net/airports.csv', header=True)\n",
        "display(airports.limit(5))"
      ]
    },
    {
      "cell_type": "code",
      "execution_count": 9,
      "outputs": [
        {
          "output_type": "display_data",
          "data": {
            "application/vnd.livy.statement-meta+json": {
              "spark_pool": "sparkezi1n72",
              "session_id": "35",
              "statement_id": 9,
              "state": "finished",
              "livy_statement_state": "available",
              "queued_time": "2022-11-16T10:36:04.6005784Z",
              "session_start_time": null,
              "execution_start_time": "2022-11-16T10:36:04.7709333Z",
              "execution_finish_time": "2022-11-16T10:36:04.9377515Z",
              "spark_jobs": null
            },
            "text/plain": "StatementMeta(sparkezi1n72, 35, 9, Finished, Available)"
          },
          "metadata": {}
        },
        {
          "output_type": "stream",
          "name": "stdout",
          "text": [
            "root\n |-- airport_id: string (nullable = true)\n |-- city: string (nullable = true)\n |-- state: string (nullable = true)\n |-- name: string (nullable = true)\n\n"
          ]
        }
      ],
      "metadata": {
        "jupyter": {
          "source_hidden": false,
          "outputs_hidden": false
        },
        "nteract": {
          "transient": {
            "deleting": false
          }
        }
      },
      "source": [
        "# Get df schema\r\n",
        "airports.printSchema()"
      ]
    },
    {
      "cell_type": "markdown",
      "metadata": {},
      "source": [
        "### Use Dataframe Methods\n",
        "Spark DataFrames provide functions that you can use to extract and manipulate data. For example, you can use the **select** function to return a new dataframe containing columns selected from an existing dataframe."
      ]
    },
    {
      "cell_type": "code",
      "execution_count": 11,
      "outputs": [
        {
          "output_type": "display_data",
          "data": {
            "application/vnd.livy.statement-meta+json": {
              "spark_pool": "sparkezi1n72",
              "session_id": "35",
              "statement_id": 11,
              "state": "finished",
              "livy_statement_state": "available",
              "queued_time": "2022-11-16T10:36:28.1141076Z",
              "session_start_time": null,
              "execution_start_time": "2022-11-16T10:36:28.2533146Z",
              "execution_finish_time": "2022-11-16T10:36:28.8093487Z",
              "spark_jobs": null
            },
            "text/plain": "StatementMeta(sparkezi1n72, 35, 11, Finished, Available)"
          },
          "metadata": {}
        },
        {
          "output_type": "display_data",
          "data": {
            "application/vnd.synapse.widget-view+json": {
              "widget_id": "95e5af37-7f9f-4dfa-9418-2debd9ae27e9",
              "widget_type": "Synapse.DataFrame"
            },
            "text/plain": "SynapseWidget(Synapse.DataFrame, 95e5af37-7f9f-4dfa-9418-2debd9ae27e9)"
          },
          "metadata": {}
        }
      ],
      "metadata": {
        "collapsed": false
      },
      "source": [
        "cities = airports.select(\"city\", \"name\")\n",
        "display(cities.limit(5))"
      ]
    },
    {
      "cell_type": "markdown",
      "metadata": {},
      "source": [
        "### Combine Operations\n",
        "You can combine functions in a single statement to perform multiple operations on a dataframe. In this case, you will use the **join** function to combine the **flights** and **airports** dataframes, and then use the **groupBy** and **count** functions to return the number of flights from each airport, and finally use the **orderBy** function to sort the results by the number of flights."
      ]
    },
    {
      "cell_type": "code",
      "execution_count": 12,
      "outputs": [
        {
          "output_type": "display_data",
          "data": {
            "application/vnd.livy.statement-meta+json": {
              "spark_pool": "sparkezi1n72",
              "session_id": "35",
              "statement_id": 12,
              "state": "finished",
              "livy_statement_state": "available",
              "queued_time": "2022-11-16T10:36:41.2648137Z",
              "session_start_time": null,
              "execution_start_time": "2022-11-16T10:36:41.3883952Z",
              "execution_finish_time": "2022-11-16T10:36:46.8459185Z",
              "spark_jobs": null
            },
            "text/plain": "StatementMeta(sparkezi1n72, 35, 12, Finished, Available)"
          },
          "metadata": {}
        },
        {
          "output_type": "display_data",
          "data": {
            "application/vnd.synapse.widget-view+json": {
              "widget_id": "df26588c-2c51-4009-b3f7-2437aa09b3de",
              "widget_type": "Synapse.DataFrame"
            },
            "text/plain": "SynapseWidget(Synapse.DataFrame, df26588c-2c51-4009-b3f7-2437aa09b3de)"
          },
          "metadata": {}
        }
      ],
      "metadata": {
        "collapsed": false
      },
      "source": [
        "flightsByOrigin = flights.join(airports, flights.OriginAirportID == airports.airport_id).groupBy(\"city\").count().orderBy(\"count\")\n",
        "display(flightsByOrigin.limit(5))"
      ]
    },
    {
      "cell_type": "markdown",
      "metadata": {},
      "source": [
        "### Count the Rows in a Dataframe\n",
        "Now that you're familiar with working with dataframes, a key task when building predictive solutions is to explore the data, determing statistics that will help you understand the data before building predictive models. For example, how many rows of flight data do you actually have?"
      ]
    },
    {
      "cell_type": "code",
      "execution_count": 13,
      "outputs": [
        {
          "output_type": "display_data",
          "data": {
            "application/vnd.livy.statement-meta+json": {
              "spark_pool": "sparkezi1n72",
              "session_id": "35",
              "statement_id": 13,
              "state": "finished",
              "livy_statement_state": "available",
              "queued_time": "2022-11-16T10:36:54.5976117Z",
              "session_start_time": null,
              "execution_start_time": "2022-11-16T10:36:54.7245247Z",
              "execution_finish_time": "2022-11-16T10:36:55.889158Z",
              "spark_jobs": null
            },
            "text/plain": "StatementMeta(sparkezi1n72, 35, 13, Finished, Available)"
          },
          "metadata": {}
        },
        {
          "output_type": "execute_result",
          "data": {
            "text/plain": "2719418"
          },
          "execution_count": 43,
          "metadata": {}
        }
      ],
      "metadata": {},
      "source": [
        "flights.count()"
      ]
    },
    {
      "cell_type": "markdown",
      "metadata": {},
      "source": [
        "### Determine the Presence of Duplicates\n",
        "The data you have to work with won't always be perfect - often you'll want to *clean* the data; for example to detect and remove duplicates that might affect your model. You can use the **dropDuplicates** function to create a new dataframe with the duplicates removed, enabling you to determine how many rows are duplicates of other rows."
      ]
    },
    {
      "cell_type": "code",
      "execution_count": 14,
      "outputs": [
        {
          "output_type": "display_data",
          "data": {
            "application/vnd.livy.statement-meta+json": {
              "spark_pool": "sparkezi1n72",
              "session_id": "35",
              "statement_id": 14,
              "state": "finished",
              "livy_statement_state": "available",
              "queued_time": "2022-11-16T10:37:01.4091691Z",
              "session_start_time": null,
              "execution_start_time": "2022-11-16T10:37:01.5538146Z",
              "execution_finish_time": "2022-11-16T10:37:07.2196081Z",
              "spark_jobs": null
            },
            "text/plain": "StatementMeta(sparkezi1n72, 35, 14, Finished, Available)"
          },
          "metadata": {}
        },
        {
          "output_type": "execute_result",
          "data": {
            "text/plain": "22435"
          },
          "execution_count": 46,
          "metadata": {}
        }
      ],
      "metadata": {},
      "source": [
        "flights.count() - flights.dropDuplicates().count()"
      ]
    },
    {
      "cell_type": "markdown",
      "metadata": {},
      "source": [
        "### Identify Missing Values\n",
        "As well as determining if duplicates exist in your data, you should detect missing values, and either remove rows containing missing data or replace the missing values with a suitable relacement. The **dropna** function creates a dataframe with any rows containing missing data removed - you can specify a subset of columns, and whether the row should be removed in *any* or *all* values are missing. You can then use this new dataframe to determine how many rows contain missing values."
      ]
    },
    {
      "cell_type": "code",
      "execution_count": 15,
      "outputs": [
        {
          "output_type": "display_data",
          "data": {
            "application/vnd.livy.statement-meta+json": {
              "spark_pool": "sparkezi1n72",
              "session_id": "35",
              "statement_id": 15,
              "state": "finished",
              "livy_statement_state": "available",
              "queued_time": "2022-11-16T10:37:08.2999902Z",
              "session_start_time": null,
              "execution_start_time": "2022-11-16T10:37:08.4281488Z",
              "execution_finish_time": "2022-11-16T10:37:12.5383436Z",
              "spark_jobs": null
            },
            "text/plain": "StatementMeta(sparkezi1n72, 35, 15, Finished, Available)"
          },
          "metadata": {}
        },
        {
          "output_type": "execute_result",
          "data": {
            "text/plain": "46233"
          },
          "execution_count": 49,
          "metadata": {}
        }
      ],
      "metadata": {},
      "source": [
        "flights.count() - flights.dropDuplicates().dropna(how=\"any\", subset=[\"ArrDelay\", \"DepDelay\"]).count()"
      ]
    },
    {
      "cell_type": "markdown",
      "metadata": {},
      "source": [
        "### Clean the Data\n",
        "Now that you've identified that there are duplicates and missing values, you can clean the data by removing the duplicates and replacing the missing values. The **fillna** function replaces missing values with a specified replacement value. In this case, you'll remove all duplicate rows and replace missing **ArrDelay** and **DepDelay** values with **0**."
      ]
    },
    {
      "cell_type": "code",
      "execution_count": 16,
      "outputs": [
        {
          "output_type": "display_data",
          "data": {
            "application/vnd.livy.statement-meta+json": {
              "spark_pool": "sparkezi1n72",
              "session_id": "35",
              "statement_id": 16,
              "state": "finished",
              "livy_statement_state": "available",
              "queued_time": "2022-11-16T10:37:16.0823779Z",
              "session_start_time": null,
              "execution_start_time": "2022-11-16T10:37:16.2045541Z",
              "execution_finish_time": "2022-11-16T10:37:20.2219682Z",
              "spark_jobs": null
            },
            "text/plain": "StatementMeta(sparkezi1n72, 35, 16, Finished, Available)"
          },
          "metadata": {}
        },
        {
          "output_type": "execute_result",
          "data": {
            "text/plain": "2696983"
          },
          "execution_count": 52,
          "metadata": {}
        }
      ],
      "metadata": {},
      "source": [
        "data=flights.dropDuplicates().fillna(value=0, subset=[\"ArrDelay\", \"DepDelay\"])\n",
        "data.count()"
      ]
    },
    {
      "cell_type": "markdown",
      "metadata": {},
      "source": [
        "### Explore the Data\n",
        "Now that you've cleaned the data, you can start to explore it and perform some basic analysis. Let's start by examining the lateness of a flight. The dataset includes the **ArrDelay** field, which tells you how many minutes behind schedule a flight arrived. However, if a flight is only a few minutes behind schedule, you might not consider it *late*. Let's make our definition of lateness such that flights that arrive within 25 minutes of their scheduled arrival time are considered on-time, but any flights that are more than 25 minutes behind schedule are classified as *late*. We'll add a column to indicate this classification:"
      ]
    },
    {
      "cell_type": "code",
      "execution_count": 17,
      "outputs": [
        {
          "output_type": "display_data",
          "data": {
            "application/vnd.livy.statement-meta+json": {
              "spark_pool": "sparkezi1n72",
              "session_id": "35",
              "statement_id": 17,
              "state": "finished",
              "livy_statement_state": "available",
              "queued_time": "2022-11-16T10:37:28.2563609Z",
              "session_start_time": null,
              "execution_start_time": "2022-11-16T10:37:28.389344Z",
              "execution_finish_time": "2022-11-16T10:37:32.518254Z",
              "spark_jobs": null
            },
            "text/plain": "StatementMeta(sparkezi1n72, 35, 17, Finished, Available)"
          },
          "metadata": {}
        },
        {
          "output_type": "display_data",
          "data": {
            "application/vnd.synapse.widget-view+json": {
              "widget_id": "82178e40-dd8f-4501-896a-0201d60a5f43",
              "widget_type": "Synapse.DataFrame"
            },
            "text/plain": "SynapseWidget(Synapse.DataFrame, 82178e40-dd8f-4501-896a-0201d60a5f43)"
          },
          "metadata": {}
        }
      ],
      "metadata": {
        "collapsed": false
      },
      "source": [
        "data = data.select(\"DayofMonth\", \"DayOfWeek\", \"Carrier\", \"OriginAirportID\",\"DestAirportID\",\n",
        "                   \"DepDelay\", \"ArrDelay\", ((col(\"ArrDelay\") > 25).cast(\"Int\").alias(\"Late\")))\n",
        "display(data.limit(5))"
      ]
    },
    {
      "cell_type": "markdown",
      "metadata": {},
      "source": [
        "### Explore Summary Statistics and Data Distribution\n",
        "Predictive modeling is based on statistics and probability, so we should take a look at the summary statistics for the columns in our data. The **describe** function returns a dataframe containing the **count**, **mean**, **standard deviation**, **minimum**, and **maximum** values for each numeric column."
      ]
    },
    {
      "cell_type": "code",
      "execution_count": 18,
      "outputs": [
        {
          "output_type": "display_data",
          "data": {
            "application/vnd.livy.statement-meta+json": {
              "spark_pool": "sparkezi1n72",
              "session_id": "35",
              "statement_id": 18,
              "state": "finished",
              "livy_statement_state": "available",
              "queued_time": "2022-11-16T10:37:37.4756286Z",
              "session_start_time": null,
              "execution_start_time": "2022-11-16T10:37:37.6013857Z",
              "execution_finish_time": "2022-11-16T10:37:48.5012031Z",
              "spark_jobs": null
            },
            "text/plain": "StatementMeta(sparkezi1n72, 35, 18, Finished, Available)"
          },
          "metadata": {}
        },
        {
          "output_type": "display_data",
          "data": {
            "application/vnd.synapse.widget-view+json": {
              "widget_id": "afbbe480-0717-4881-98de-8af315f56df4",
              "widget_type": "Synapse.DataFrame"
            },
            "text/plain": "SynapseWidget(Synapse.DataFrame, afbbe480-0717-4881-98de-8af315f56df4)"
          },
          "metadata": {}
        }
      ],
      "metadata": {
        "collapsed": false
      },
      "source": [
        "display(data.describe())"
      ]
    },
    {
      "cell_type": "markdown",
      "metadata": {},
      "source": [
        "The *DayofMonth* is a value between 1 and 31, and the mean is around halfway between these values; which seems about right. The same is true for the *DayofWeek* which is a value between 1 and 7. *Carrier* is a string, so there are no numeric statistics; and we can ignore the statistics for the airport IDs - they're just unique identifiers for the airports, not actually numeric values. The departure and arrival delays range between 63 or 94 minutes ahead of schedule, and over 1,800 minutes behind schedule. The means are much closer to zero than this, and the standard deviation is quite large; so there's quite a bit of variance in the delays. The *Late* indicator is a 1 or a 0, but the mean is very close to 0; which implies that there significantly fewer late flights than non-late flights.\n",
        "\n",
        "Let's verify that assumption by creating a table and using the **Spark SQL** API to run a SQL statement that counts the number of late and non-late flights:"
      ]
    },
    {
      "cell_type": "code",
      "execution_count": 19,
      "outputs": [
        {
          "output_type": "display_data",
          "data": {
            "application/vnd.livy.statement-meta+json": {
              "spark_pool": "sparkezi1n72",
              "session_id": "35",
              "statement_id": 19,
              "state": "finished",
              "livy_statement_state": "available",
              "queued_time": "2022-11-16T10:37:43.9001979Z",
              "session_start_time": null,
              "execution_start_time": "2022-11-16T10:37:48.6847076Z",
              "execution_finish_time": "2022-11-16T10:38:06.0170577Z",
              "spark_jobs": null
            },
            "text/plain": "StatementMeta(sparkezi1n72, 35, 19, Finished, Available)"
          },
          "metadata": {}
        },
        {
          "output_type": "display_data",
          "data": {
            "application/vnd.synapse.widget-view+json": {
              "widget_id": "3631dd43-4da1-4283-8db9-59c2b968506b",
              "widget_type": "Synapse.DataFrame"
            },
            "text/plain": "SynapseWidget(Synapse.DataFrame, 3631dd43-4da1-4283-8db9-59c2b968506b)"
          },
          "metadata": {}
        }
      ],
      "metadata": {
        "collapsed": false
      },
      "source": [
        "data.createOrReplaceTempView(\"flightData\")\n",
        "lateCounts = spark.sql(\"SELECT COUNT(*) AS Count, Late FROM flightData GROUP BY Late\")\n",
        "display(lateCounts)"
      ]
    },
    {
      "cell_type": "markdown",
      "metadata": {},
      "source": [
        "Yes, it looks like there are significantly more non-late flights than late ones. You can see this more clearly with a visualization, so in the output above, select the **Chart** view to see the comparative counts as a bar chart.."
      ]
    },
    {
      "cell_type": "markdown",
      "metadata": {},
      "source": [
        "Let's address the outliers and imbalanced classes in our data by removing rows with extreme delay values, and *undersampling* the more common on-time flights:"
      ]
    },
    {
      "cell_type": "code",
      "execution_count": 20,
      "outputs": [
        {
          "output_type": "display_data",
          "data": {
            "application/vnd.livy.statement-meta+json": {
              "spark_pool": "sparkezi1n72",
              "session_id": "35",
              "statement_id": 20,
              "state": "finished",
              "livy_statement_state": "available",
              "queued_time": "2022-11-16T10:38:20.3124488Z",
              "session_start_time": null,
              "execution_start_time": "2022-11-16T10:38:20.4794014Z",
              "execution_finish_time": "2022-11-16T10:38:43.9405706Z",
              "spark_jobs": null
            },
            "text/plain": "StatementMeta(sparkezi1n72, 35, 20, Finished, Available)"
          },
          "metadata": {}
        },
        {
          "output_type": "display_data",
          "data": {
            "application/vnd.synapse.widget-view+json": {
              "widget_id": "0bffaf8c-e9e4-44f9-8d38-cfdd68d72068",
              "widget_type": "Synapse.DataFrame"
            },
            "text/plain": "SynapseWidget(Synapse.DataFrame, 0bffaf8c-e9e4-44f9-8d38-cfdd68d72068)"
          },
          "metadata": {}
        }
      ],
      "metadata": {
        "collapsed": false
      },
      "source": [
        "from pyspark.sql.functions import rand\n",
        "\n",
        "# Remove outliers - let's make the cut-off 150 minutes.\n",
        "data = data.filter(\"DepDelay < 150 AND ArrDelay < 150\")\n",
        "\n",
        "# Separate the late and on-time flights\n",
        "pos = data.filter(\"Late = 1\")\n",
        "neg = data.filter(\"Late = 0\")\n",
        "\n",
        "# undersample the most prevalent class to get a roughly even distribution\n",
        "posCount = pos.count()\n",
        "negCount = neg.count()\n",
        "if posCount > negCount:\n",
        "  pos = pos.sample(True, negCount/(negCount + posCount))\n",
        "else:\n",
        "  neg = neg.sample(True, posCount/(negCount + posCount))\n",
        "  \n",
        "# shuffle into random order (so a sample of the first 1000 has a mix of classes)\n",
        "data = neg.union(pos).orderBy(rand())\n",
        "\n",
        "# Replace the temporary table so we can query and visualize the balanced dataset\n",
        "data.createOrReplaceTempView(\"flightData\")\n",
        "\n",
        "# Show the statistics\n",
        "display(data.describe())"
      ]
    },
    {
      "cell_type": "markdown",
      "metadata": {},
      "source": [
        "Now the maximums for the **DepDelay** and **ArrDelay** are clipped at under 150, and the mean value for the binary *Late* class is nearer 0.5; indicating a more or less even number of each class. We removed some data to accomplish this balancing act, but there are still a substantial number of rows for us to train a machine learning model with, and now the data is more balanced. Let's visualize the data again to confirm this:"
      ]
    },
    {
      "cell_type": "code",
      "execution_count": 21,
      "outputs": [
        {
          "output_type": "display_data",
          "data": {
            "application/vnd.livy.statement-meta+json": {
              "spark_pool": "sparkezi1n72",
              "session_id": "35",
              "statement_id": 21,
              "state": "finished",
              "livy_statement_state": "available",
              "queued_time": "2022-11-16T10:38:54.0756817Z",
              "session_start_time": null,
              "execution_start_time": "2022-11-16T10:38:54.2078716Z",
              "execution_finish_time": "2022-11-16T10:39:01.5147066Z",
              "spark_jobs": null
            },
            "text/plain": "StatementMeta(sparkezi1n72, 35, 21, Finished, Available)"
          },
          "metadata": {}
        },
        {
          "output_type": "execute_result",
          "data": {
            "application/vnd.synapse.sparksql-result+json": {
              "schema": {
                "type": "struct",
                "fields": [
                  {
                    "name": "Late",
                    "type": "integer",
                    "nullable": true,
                    "metadata": {}
                  },
                  {
                    "name": "Count",
                    "type": "long",
                    "nullable": false,
                    "metadata": {}
                  }
                ]
              },
              "data": [
                [
                  1,
                  "340648"
                ],
                [
                  0,
                  "296676"
                ]
              ]
            },
            "text/plain": "<Spark SQL result set with 2 rows and 2 fields>"
          },
          "execution_count": 21,
          "metadata": {}
        }
      ],
      "metadata": {
        "microsoft": {
          "language": "sparksql"
        },
        "collapsed": false
      },
      "source": [
        "%%sql\n",
        "SELECT Late, COUNT(*) AS Count FROM flightData GROUP BY Late"
      ]
    },
    {
      "cell_type": "markdown",
      "metadata": {},
      "source": [
        "Display the data as a chart to compare the distribution of the **Late** classes as you did previously. There should now be a more even number of each class."
      ]
    },
    {
      "cell_type": "markdown",
      "metadata": {
        "nteract": {
          "transient": {
            "deleting": false
          }
        }
      },
      "source": [
        "### Explore Relationships in the Data\n",
        "Predictive modeling is largely based on statistical relationships between fields in the data. To design a good model, you need to understand how the data points relate to one another.\n",
        "\n",
        "A common way to start exploring relationships is to create visualizations that compare two or more data values. For example, run the following query to compare arrival delay by carrier.\n",
        ""
      ]
    },
    {
      "cell_type": "code",
      "execution_count": 22,
      "outputs": [
        {
          "output_type": "display_data",
          "data": {
            "application/vnd.livy.statement-meta+json": {
              "spark_pool": "sparkezi1n72",
              "session_id": "35",
              "statement_id": 22,
              "state": "finished",
              "livy_statement_state": "available",
              "queued_time": "2022-11-16T10:39:09.1763785Z",
              "session_start_time": null,
              "execution_start_time": "2022-11-16T10:39:09.3328336Z",
              "execution_finish_time": "2022-11-16T10:39:14.8660891Z",
              "spark_jobs": null
            },
            "text/plain": "StatementMeta(sparkezi1n72, 35, 22, Finished, Available)"
          },
          "metadata": {}
        },
        {
          "output_type": "execute_result",
          "data": {
            "application/vnd.synapse.sparksql-result+json": {
              "schema": {
                "type": "struct",
                "fields": [
                  {
                    "name": "Carrier",
                    "type": "string",
                    "nullable": true,
                    "metadata": {}
                  },
                  {
                    "name": "ArrDelay",
                    "type": "integer",
                    "nullable": true,
                    "metadata": {}
                  }
                ]
              },
              "data": [
                [
                  "WN",
                  102
                ],
                [
                  "DL",
                  -13
                ],
                [
                  "AA",
                  -4
                ],
                [
                  "UA",
                  -16
                ],
                [
                  "AA",
                  37
                ],
                [
                  "WN",
                  -5
                ],
                [
                  "MQ",
                  73
                ],
                [
                  "B6",
                  -12
                ],
                [
                  "DL",
                  44
                ],
                [
                  "9E",
                  42
                ],
                [
                  "DL",
                  -4
                ],
                [
                  "WN",
                  41
                ],
                [
                  "DL",
                  27
                ],
                [
                  "UA",
                  19
                ],
                [
                  "AA",
                  17
                ],
                [
                  "B6",
                  42
                ],
                [
                  "AA",
                  85
                ],
                [
                  "OO",
                  -20
                ],
                [
                  "WN",
                  39
                ],
                [
                  "AA",
                  39
                ],
                [
                  "WN",
                  26
                ],
                [
                  "WN",
                  41
                ],
                [
                  "B6",
                  47
                ],
                [
                  "WN",
                  -1
                ],
                [
                  "AA",
                  -24
                ],
                [
                  "US",
                  41
                ],
                [
                  "UA",
                  -8
                ],
                [
                  "EV",
                  28
                ],
                [
                  "UA",
                  -1
                ],
                [
                  "B6",
                  62
                ],
                [
                  "OO",
                  55
                ],
                [
                  "US",
                  -1
                ],
                [
                  "AA",
                  35
                ],
                [
                  "9E",
                  0
                ],
                [
                  "DL",
                  -30
                ],
                [
                  "WN",
                  126
                ],
                [
                  "AA",
                  94
                ],
                [
                  "US",
                  -3
                ],
                [
                  "AA",
                  33
                ],
                [
                  "UA",
                  65
                ],
                [
                  "EV",
                  80
                ],
                [
                  "US",
                  65
                ],
                [
                  "9E",
                  -9
                ],
                [
                  "DL",
                  7
                ],
                [
                  "AA",
                  7
                ],
                [
                  "DL",
                  -6
                ],
                [
                  "WN",
                  -3
                ],
                [
                  "WN",
                  -2
                ],
                [
                  "US",
                  30
                ],
                [
                  "DL",
                  -2
                ],
                [
                  "WN",
                  76
                ],
                [
                  "OO",
                  71
                ],
                [
                  "EV",
                  30
                ],
                [
                  "DL",
                  -13
                ],
                [
                  "WN",
                  12
                ],
                [
                  "UA",
                  18
                ],
                [
                  "OO",
                  30
                ],
                [
                  "B6",
                  106
                ],
                [
                  "UA",
                  -22
                ],
                [
                  "UA",
                  29
                ],
                [
                  "OO",
                  -10
                ],
                [
                  "AA",
                  43
                ],
                [
                  "WN",
                  9
                ],
                [
                  "AA",
                  -14
                ],
                [
                  "DL",
                  16
                ],
                [
                  "UA",
                  27
                ],
                [
                  "UA",
                  -21
                ],
                [
                  "WN",
                  141
                ],
                [
                  "FL",
                  52
                ],
                [
                  "WN",
                  -13
                ],
                [
                  "WN",
                  -7
                ],
                [
                  "WN",
                  21
                ],
                [
                  "B6",
                  37
                ],
                [
                  "FL",
                  78
                ],
                [
                  "US",
                  -10
                ],
                [
                  "9E",
                  -30
                ],
                [
                  "UA",
                  118
                ],
                [
                  "DL",
                  -14
                ],
                [
                  "AA",
                  -13
                ],
                [
                  "WN",
                  2
                ],
                [
                  "AA",
                  115
                ],
                [
                  "EV",
                  -3
                ],
                [
                  "HA",
                  -4
                ],
                [
                  "WN",
                  50
                ],
                [
                  "WN",
                  40
                ],
                [
                  "UA",
                  128
                ],
                [
                  "AA",
                  -11
                ],
                [
                  "OO",
                  35
                ],
                [
                  "DL",
                  -15
                ],
                [
                  "EV",
                  7
                ],
                [
                  "DL",
                  75
                ],
                [
                  "AA",
                  74
                ],
                [
                  "WN",
                  -3
                ],
                [
                  "EV",
                  73
                ],
                [
                  "B6",
                  58
                ],
                [
                  "WN",
                  62
                ],
                [
                  "EV",
                  80
                ],
                [
                  "FL",
                  5
                ],
                [
                  "MQ",
                  -2
                ],
                [
                  "9E",
                  24
                ],
                [
                  "EV",
                  75
                ],
                [
                  "EV",
                  108
                ],
                [
                  "FL",
                  137
                ],
                [
                  "DL",
                  48
                ],
                [
                  "EV",
                  76
                ],
                [
                  "9E",
                  65
                ],
                [
                  "DL",
                  62
                ],
                [
                  "WN",
                  35
                ],
                [
                  "EV",
                  40
                ],
                [
                  "B6",
                  71
                ],
                [
                  "DL",
                  56
                ],
                [
                  "FL",
                  -1
                ],
                [
                  "AA",
                  -7
                ],
                [
                  "AA",
                  3
                ],
                [
                  "WN",
                  0
                ],
                [
                  "B6",
                  -6
                ],
                [
                  "F9",
                  -6
                ],
                [
                  "WN",
                  -6
                ],
                [
                  "UA",
                  66
                ],
                [
                  "AA",
                  -17
                ],
                [
                  "AA",
                  26
                ],
                [
                  "B6",
                  4
                ],
                [
                  "DL",
                  27
                ],
                [
                  "DL",
                  46
                ],
                [
                  "MQ",
                  -15
                ],
                [
                  "UA",
                  30
                ],
                [
                  "US",
                  34
                ],
                [
                  "DL",
                  -24
                ],
                [
                  "DL",
                  -18
                ],
                [
                  "9E",
                  36
                ],
                [
                  "WN",
                  44
                ],
                [
                  "WN",
                  -8
                ],
                [
                  "EV",
                  -3
                ],
                [
                  "UA",
                  86
                ],
                [
                  "DL",
                  -6
                ],
                [
                  "WN",
                  3
                ],
                [
                  "WN",
                  -15
                ],
                [
                  "OO",
                  -2
                ],
                [
                  "AA",
                  35
                ],
                [
                  "VX",
                  -10
                ],
                [
                  "EV",
                  -21
                ],
                [
                  "AA",
                  -12
                ],
                [
                  "FL",
                  83
                ],
                [
                  "FL",
                  40
                ],
                [
                  "FL",
                  -8
                ],
                [
                  "OO",
                  34
                ],
                [
                  "UA",
                  -21
                ],
                [
                  "9E",
                  74
                ],
                [
                  "UA",
                  -3
                ],
                [
                  "US",
                  34
                ],
                [
                  "WN",
                  26
                ],
                [
                  "MQ",
                  38
                ],
                [
                  "EV",
                  111
                ],
                [
                  "US",
                  50
                ],
                [
                  "OO",
                  41
                ],
                [
                  "US",
                  3
                ],
                [
                  "DL",
                  -15
                ],
                [
                  "AA",
                  -12
                ],
                [
                  "MQ",
                  73
                ],
                [
                  "UA",
                  -12
                ],
                [
                  "WN",
                  37
                ],
                [
                  "MQ",
                  -4
                ],
                [
                  "DL",
                  32
                ],
                [
                  "WN",
                  43
                ],
                [
                  "AA",
                  36
                ],
                [
                  "UA",
                  37
                ],
                [
                  "WN",
                  0
                ],
                [
                  "AA",
                  -15
                ],
                [
                  "F9",
                  -4
                ],
                [
                  "OO",
                  -5
                ],
                [
                  "AA",
                  15
                ],
                [
                  "US",
                  28
                ],
                [
                  "MQ",
                  0
                ],
                [
                  "YV",
                  73
                ],
                [
                  "MQ",
                  16
                ],
                [
                  "WN",
                  -11
                ],
                [
                  "UA",
                  71
                ],
                [
                  "OO",
                  90
                ],
                [
                  "EV",
                  -15
                ],
                [
                  "B6",
                  16
                ],
                [
                  "DL",
                  51
                ],
                [
                  "MQ",
                  58
                ],
                [
                  "AA",
                  -18
                ],
                [
                  "AA",
                  -19
                ],
                [
                  "UA",
                  52
                ],
                [
                  "WN",
                  28
                ],
                [
                  "OO",
                  24
                ],
                [
                  "WN",
                  -9
                ],
                [
                  "YV",
                  42
                ],
                [
                  "WN",
                  35
                ],
                [
                  "UA",
                  29
                ],
                [
                  "US",
                  64
                ],
                [
                  "DL",
                  -7
                ],
                [
                  "DL",
                  -21
                ],
                [
                  "B6",
                  -28
                ],
                [
                  "FL",
                  33
                ],
                [
                  "FL",
                  -14
                ],
                [
                  "UA",
                  0
                ],
                [
                  "OO",
                  74
                ],
                [
                  "UA",
                  -9
                ],
                [
                  "AA",
                  -9
                ],
                [
                  "DL",
                  145
                ],
                [
                  "B6",
                  55
                ],
                [
                  "WN",
                  51
                ],
                [
                  "FL",
                  99
                ],
                [
                  "EV",
                  75
                ],
                [
                  "HA",
                  34
                ],
                [
                  "B6",
                  66
                ],
                [
                  "OO",
                  0
                ],
                [
                  "WN",
                  10
                ],
                [
                  "WN",
                  47
                ],
                [
                  "WN",
                  61
                ],
                [
                  "OO",
                  55
                ],
                [
                  "B6",
                  51
                ],
                [
                  "FL",
                  51
                ],
                [
                  "AA",
                  97
                ],
                [
                  "AA",
                  -9
                ],
                [
                  "MQ",
                  -1
                ],
                [
                  "US",
                  30
                ],
                [
                  "US",
                  -11
                ],
                [
                  "US",
                  -14
                ],
                [
                  "UA",
                  90
                ],
                [
                  "B6",
                  113
                ],
                [
                  "DL",
                  111
                ],
                [
                  "OO",
                  35
                ],
                [
                  "WN",
                  84
                ],
                [
                  "DL",
                  35
                ],
                [
                  "B6",
                  -14
                ],
                [
                  "AA",
                  -20
                ],
                [
                  "US",
                  -2
                ],
                [
                  "AA",
                  28
                ],
                [
                  "WN",
                  40
                ],
                [
                  "US",
                  65
                ],
                [
                  "FL",
                  91
                ],
                [
                  "DL",
                  17
                ],
                [
                  "YV",
                  38
                ],
                [
                  "US",
                  33
                ],
                [
                  "9E",
                  19
                ],
                [
                  "OO",
                  52
                ],
                [
                  "WN",
                  26
                ],
                [
                  "EV",
                  79
                ],
                [
                  "AA",
                  -17
                ],
                [
                  "WN",
                  129
                ],
                [
                  "WN",
                  45
                ],
                [
                  "US",
                  117
                ],
                [
                  "WN",
                  -2
                ],
                [
                  "US",
                  -9
                ],
                [
                  "WN",
                  10
                ],
                [
                  "MQ",
                  0
                ],
                [
                  "AA",
                  11
                ],
                [
                  "WN",
                  45
                ],
                [
                  "YV",
                  -12
                ],
                [
                  "UA",
                  26
                ],
                [
                  "FL",
                  12
                ],
                [
                  "B6",
                  82
                ],
                [
                  "WN",
                  -5
                ],
                [
                  "WN",
                  15
                ],
                [
                  "US",
                  -7
                ],
                [
                  "FL",
                  -15
                ],
                [
                  "WN",
                  33
                ],
                [
                  "WN",
                  -3
                ],
                [
                  "WN",
                  115
                ],
                [
                  "DL",
                  39
                ],
                [
                  "DL",
                  85
                ],
                [
                  "US",
                  3
                ],
                [
                  "WN",
                  37
                ],
                [
                  "AA",
                  30
                ],
                [
                  "F9",
                  50
                ],
                [
                  "US",
                  4
                ],
                [
                  "9E",
                  67
                ],
                [
                  "WN",
                  -7
                ],
                [
                  "WN",
                  74
                ],
                [
                  "OO",
                  61
                ],
                [
                  "WN",
                  60
                ],
                [
                  "AA",
                  -23
                ],
                [
                  "EV",
                  -9
                ],
                [
                  "DL",
                  -11
                ],
                [
                  "FL",
                  -8
                ],
                [
                  "WN",
                  100
                ],
                [
                  "WN",
                  33
                ],
                [
                  "EV",
                  -15
                ],
                [
                  "WN",
                  67
                ],
                [
                  "B6",
                  -21
                ],
                [
                  "UA",
                  87
                ],
                [
                  "WN",
                  88
                ],
                [
                  "FL",
                  48
                ],
                [
                  "US",
                  81
                ],
                [
                  "VX",
                  -4
                ],
                [
                  "EV",
                  2
                ],
                [
                  "VX",
                  72
                ],
                [
                  "DL",
                  92
                ],
                [
                  "OO",
                  -3
                ],
                [
                  "WN",
                  8
                ],
                [
                  "MQ",
                  140
                ],
                [
                  "WN",
                  52
                ],
                [
                  "US",
                  72
                ],
                [
                  "WN",
                  -4
                ],
                [
                  "WN",
                  45
                ],
                [
                  "MQ",
                  121
                ],
                [
                  "DL",
                  -25
                ],
                [
                  "AA",
                  79
                ],
                [
                  "AS",
                  -15
                ],
                [
                  "B6",
                  137
                ],
                [
                  "DL",
                  -10
                ],
                [
                  "DL",
                  57
                ],
                [
                  "UA",
                  37
                ],
                [
                  "WN",
                  20
                ],
                [
                  "EV",
                  -21
                ],
                [
                  "EV",
                  106
                ],
                [
                  "EV",
                  40
                ],
                [
                  "OO",
                  -9
                ],
                [
                  "AA",
                  -12
                ],
                [
                  "DL",
                  -6
                ],
                [
                  "WN",
                  54
                ],
                [
                  "OO",
                  22
                ],
                [
                  "UA",
                  -14
                ],
                [
                  "WN",
                  36
                ],
                [
                  "WN",
                  8
                ],
                [
                  "DL",
                  32
                ],
                [
                  "UA",
                  39
                ],
                [
                  "WN",
                  11
                ],
                [
                  "WN",
                  10
                ],
                [
                  "B6",
                  61
                ],
                [
                  "WN",
                  66
                ],
                [
                  "F9",
                  31
                ],
                [
                  "YV",
                  36
                ],
                [
                  "WN",
                  53
                ],
                [
                  "EV",
                  26
                ],
                [
                  "FL",
                  30
                ],
                [
                  "AA",
                  54
                ],
                [
                  "MQ",
                  69
                ],
                [
                  "AS",
                  14
                ],
                [
                  "YV",
                  17
                ],
                [
                  "MQ",
                  29
                ],
                [
                  "DL",
                  65
                ],
                [
                  "WN",
                  84
                ],
                [
                  "WN",
                  26
                ],
                [
                  "VX",
                  58
                ],
                [
                  "WN",
                  29
                ],
                [
                  "EV",
                  52
                ],
                [
                  "9E",
                  -8
                ],
                [
                  "AS",
                  40
                ],
                [
                  "9E",
                  -23
                ],
                [
                  "DL",
                  26
                ],
                [
                  "AA",
                  32
                ],
                [
                  "UA",
                  26
                ],
                [
                  "AA",
                  32
                ],
                [
                  "FL",
                  45
                ],
                [
                  "EV",
                  101
                ],
                [
                  "UA",
                  25
                ],
                [
                  "AA",
                  30
                ],
                [
                  "OO",
                  -1
                ],
                [
                  "HA",
                  -4
                ],
                [
                  "DL",
                  56
                ],
                [
                  "9E",
                  -12
                ],
                [
                  "US",
                  6
                ],
                [
                  "AS",
                  32
                ],
                [
                  "UA",
                  69
                ],
                [
                  "AA",
                  0
                ],
                [
                  "EV",
                  118
                ],
                [
                  "OO",
                  -10
                ],
                [
                  "AA",
                  43
                ],
                [
                  "WN",
                  5
                ],
                [
                  "WN",
                  -2
                ],
                [
                  "EV",
                  -11
                ],
                [
                  "UA",
                  -10
                ],
                [
                  "B6",
                  86
                ],
                [
                  "AA",
                  43
                ],
                [
                  "DL",
                  -6
                ],
                [
                  "FL",
                  1
                ],
                [
                  "B6",
                  40
                ],
                [
                  "MQ",
                  60
                ],
                [
                  "DL",
                  57
                ],
                [
                  "US",
                  17
                ],
                [
                  "EV",
                  5
                ],
                [
                  "MQ",
                  -7
                ],
                [
                  "UA",
                  26
                ],
                [
                  "YV",
                  -5
                ],
                [
                  "WN",
                  -25
                ],
                [
                  "WN",
                  10
                ],
                [
                  "B6",
                  36
                ],
                [
                  "US",
                  -11
                ],
                [
                  "B6",
                  46
                ],
                [
                  "WN",
                  4
                ],
                [
                  "OO",
                  24
                ],
                [
                  "OO",
                  51
                ],
                [
                  "DL",
                  -3
                ],
                [
                  "B6",
                  41
                ],
                [
                  "WN",
                  51
                ],
                [
                  "DL",
                  -3
                ],
                [
                  "WN",
                  52
                ],
                [
                  "UA",
                  -5
                ],
                [
                  "UA",
                  3
                ],
                [
                  "DL",
                  44
                ],
                [
                  "DL",
                  5
                ],
                [
                  "AA",
                  28
                ],
                [
                  "US",
                  14
                ],
                [
                  "YV",
                  97
                ],
                [
                  "OO",
                  56
                ],
                [
                  "AS",
                  -4
                ],
                [
                  "OO",
                  -3
                ],
                [
                  "WN",
                  44
                ],
                [
                  "AA",
                  58
                ],
                [
                  "WN",
                  30
                ],
                [
                  "DL",
                  46
                ],
                [
                  "US",
                  72
                ],
                [
                  "AA",
                  31
                ],
                [
                  "MQ",
                  -15
                ],
                [
                  "YV",
                  29
                ],
                [
                  "F9",
                  127
                ],
                [
                  "OO",
                  0
                ],
                [
                  "VX",
                  60
                ],
                [
                  "WN",
                  21
                ],
                [
                  "DL",
                  -7
                ],
                [
                  "WN",
                  4
                ],
                [
                  "US",
                  -14
                ],
                [
                  "FL",
                  39
                ],
                [
                  "EV",
                  3
                ],
                [
                  "UA",
                  107
                ],
                [
                  "WN",
                  90
                ],
                [
                  "WN",
                  52
                ],
                [
                  "WN",
                  84
                ],
                [
                  "B6",
                  -6
                ],
                [
                  "UA",
                  -6
                ],
                [
                  "WN",
                  9
                ],
                [
                  "WN",
                  63
                ],
                [
                  "MQ",
                  55
                ],
                [
                  "AA",
                  2
                ],
                [
                  "F9",
                  6
                ],
                [
                  "DL",
                  65
                ],
                [
                  "AA",
                  137
                ],
                [
                  "DL",
                  -25
                ],
                [
                  "WN",
                  -5
                ],
                [
                  "EV",
                  70
                ],
                [
                  "WN",
                  70
                ],
                [
                  "MQ",
                  31
                ],
                [
                  "AA",
                  -16
                ],
                [
                  "HA",
                  -2
                ],
                [
                  "B6",
                  -3
                ],
                [
                  "WN",
                  76
                ],
                [
                  "AA",
                  51
                ],
                [
                  "B6",
                  103
                ],
                [
                  "AA",
                  -13
                ],
                [
                  "DL",
                  -14
                ],
                [
                  "WN",
                  33
                ],
                [
                  "DL",
                  -2
                ],
                [
                  "B6",
                  -10
                ],
                [
                  "WN",
                  36
                ],
                [
                  "EV",
                  56
                ],
                [
                  "EV",
                  79
                ],
                [
                  "US",
                  13
                ],
                [
                  "F9",
                  -9
                ],
                [
                  "WN",
                  28
                ],
                [
                  "YV",
                  81
                ],
                [
                  "AA",
                  -6
                ],
                [
                  "MQ",
                  29
                ],
                [
                  "9E",
                  27
                ],
                [
                  "WN",
                  33
                ],
                [
                  "WN",
                  -22
                ],
                [
                  "US",
                  30
                ],
                [
                  "WN",
                  34
                ],
                [
                  "DL",
                  -16
                ],
                [
                  "UA",
                  48
                ],
                [
                  "OO",
                  27
                ],
                [
                  "WN",
                  65
                ],
                [
                  "UA",
                  20
                ],
                [
                  "AS",
                  84
                ],
                [
                  "EV",
                  -14
                ],
                [
                  "B6",
                  118
                ],
                [
                  "UA",
                  62
                ],
                [
                  "DL",
                  -2
                ],
                [
                  "B6",
                  -16
                ],
                [
                  "OO",
                  66
                ],
                [
                  "WN",
                  71
                ],
                [
                  "EV",
                  56
                ],
                [
                  "MQ",
                  60
                ],
                [
                  "AA",
                  -12
                ],
                [
                  "B6",
                  -17
                ],
                [
                  "UA",
                  -24
                ],
                [
                  "DL",
                  6
                ],
                [
                  "UA",
                  43
                ],
                [
                  "DL",
                  83
                ],
                [
                  "EV",
                  -15
                ],
                [
                  "MQ",
                  76
                ],
                [
                  "WN",
                  72
                ],
                [
                  "WN",
                  0
                ],
                [
                  "WN",
                  87
                ],
                [
                  "AS",
                  3
                ],
                [
                  "WN",
                  15
                ],
                [
                  "B6",
                  26
                ],
                [
                  "9E",
                  -13
                ],
                [
                  "WN",
                  69
                ],
                [
                  "DL",
                  -4
                ],
                [
                  "DL",
                  142
                ],
                [
                  "WN",
                  2
                ],
                [
                  "UA",
                  1
                ],
                [
                  "AA",
                  7
                ],
                [
                  "EV",
                  104
                ],
                [
                  "AA",
                  26
                ],
                [
                  "US",
                  73
                ],
                [
                  "OO",
                  5
                ],
                [
                  "US",
                  -5
                ],
                [
                  "US",
                  -23
                ],
                [
                  "FL",
                  103
                ],
                [
                  "AS",
                  108
                ],
                [
                  "OO",
                  33
                ],
                [
                  "UA",
                  -12
                ],
                [
                  "YV",
                  36
                ],
                [
                  "UA",
                  38
                ],
                [
                  "B6",
                  1
                ],
                [
                  "UA",
                  50
                ],
                [
                  "EV",
                  35
                ],
                [
                  "AA",
                  31
                ],
                [
                  "EV",
                  42
                ],
                [
                  "DL",
                  46
                ],
                [
                  "AA",
                  -8
                ],
                [
                  "WN",
                  8
                ],
                [
                  "OO",
                  -12
                ],
                [
                  "WN",
                  50
                ],
                [
                  "WN",
                  26
                ],
                [
                  "UA",
                  122
                ],
                [
                  "OO",
                  52
                ],
                [
                  "OO",
                  45
                ],
                [
                  "AA",
                  97
                ],
                [
                  "B6",
                  -31
                ],
                [
                  "FL",
                  54
                ],
                [
                  "DL",
                  7
                ],
                [
                  "YV",
                  93
                ],
                [
                  "VX",
                  -19
                ],
                [
                  "WN",
                  52
                ],
                [
                  "OO",
                  -10
                ],
                [
                  "WN",
                  -2
                ],
                [
                  "EV",
                  19
                ],
                [
                  "DL",
                  -7
                ],
                [
                  "FL",
                  22
                ],
                [
                  "VX",
                  -26
                ],
                [
                  "DL",
                  -4
                ],
                [
                  "UA",
                  30
                ],
                [
                  "WN",
                  35
                ],
                [
                  "MQ",
                  34
                ],
                [
                  "AA",
                  13
                ],
                [
                  "OO",
                  -13
                ],
                [
                  "AA",
                  53
                ],
                [
                  "DL",
                  96
                ],
                [
                  "MQ",
                  49
                ],
                [
                  "WN",
                  -4
                ],
                [
                  "VX",
                  -5
                ],
                [
                  "AS",
                  1
                ],
                [
                  "EV",
                  33
                ],
                [
                  "DL",
                  77
                ],
                [
                  "OO",
                  -3
                ],
                [
                  "DL",
                  55
                ],
                [
                  "OO",
                  34
                ],
                [
                  "UA",
                  -9
                ],
                [
                  "MQ",
                  -39
                ],
                [
                  "WN",
                  6
                ],
                [
                  "WN",
                  21
                ],
                [
                  "WN",
                  -6
                ],
                [
                  "OO",
                  -16
                ],
                [
                  "UA",
                  -25
                ],
                [
                  "AA",
                  -11
                ],
                [
                  "EV",
                  96
                ],
                [
                  "US",
                  -9
                ],
                [
                  "WN",
                  44
                ],
                [
                  "UA",
                  -31
                ],
                [
                  "DL",
                  -6
                ],
                [
                  "WN",
                  29
                ],
                [
                  "WN",
                  101
                ],
                [
                  "AA",
                  31
                ],
                [
                  "AA",
                  35
                ],
                [
                  "AA",
                  3
                ],
                [
                  "DL",
                  30
                ],
                [
                  "WN",
                  9
                ],
                [
                  "9E",
                  -20
                ],
                [
                  "VX",
                  63
                ],
                [
                  "OO",
                  26
                ],
                [
                  "VX",
                  47
                ],
                [
                  "WN",
                  -2
                ],
                [
                  "9E",
                  127
                ],
                [
                  "MQ",
                  -9
                ],
                [
                  "DL",
                  31
                ],
                [
                  "WN",
                  3
                ],
                [
                  "MQ",
                  27
                ],
                [
                  "UA",
                  27
                ],
                [
                  "AA",
                  -13
                ],
                [
                  "WN",
                  37
                ],
                [
                  "WN",
                  6
                ],
                [
                  "UA",
                  -1
                ],
                [
                  "WN",
                  35
                ],
                [
                  "F9",
                  6
                ],
                [
                  "US",
                  -13
                ],
                [
                  "AS",
                  -16
                ],
                [
                  "WN",
                  -10
                ],
                [
                  "AA",
                  -23
                ],
                [
                  "UA",
                  28
                ],
                [
                  "AS",
                  -2
                ],
                [
                  "AA",
                  76
                ],
                [
                  "B6",
                  4
                ],
                [
                  "US",
                  35
                ],
                [
                  "OO",
                  37
                ],
                [
                  "9E",
                  82
                ],
                [
                  "DL",
                  9
                ],
                [
                  "WN",
                  33
                ],
                [
                  "US",
                  -20
                ],
                [
                  "EV",
                  30
                ],
                [
                  "US",
                  -8
                ],
                [
                  "UA",
                  52
                ],
                [
                  "US",
                  -3
                ],
                [
                  "AA",
                  60
                ],
                [
                  "F9",
                  -4
                ],
                [
                  "WN",
                  -6
                ],
                [
                  "US",
                  8
                ],
                [
                  "EV",
                  -14
                ],
                [
                  "DL",
                  -5
                ],
                [
                  "AA",
                  82
                ],
                [
                  "DL",
                  30
                ],
                [
                  "WN",
                  -9
                ],
                [
                  "DL",
                  100
                ],
                [
                  "DL",
                  46
                ],
                [
                  "WN",
                  -19
                ],
                [
                  "DL",
                  -11
                ],
                [
                  "OO",
                  65
                ],
                [
                  "DL",
                  -17
                ],
                [
                  "UA",
                  60
                ],
                [
                  "US",
                  -5
                ],
                [
                  "UA",
                  -2
                ],
                [
                  "WN",
                  74
                ],
                [
                  "WN",
                  -17
                ],
                [
                  "FL",
                  47
                ],
                [
                  "UA",
                  34
                ],
                [
                  "YV",
                  39
                ],
                [
                  "AA",
                  67
                ],
                [
                  "AS",
                  -9
                ],
                [
                  "AA",
                  -15
                ],
                [
                  "WN",
                  -14
                ],
                [
                  "WN",
                  20
                ],
                [
                  "EV",
                  30
                ],
                [
                  "DL",
                  -6
                ],
                [
                  "9E",
                  90
                ],
                [
                  "WN",
                  44
                ],
                [
                  "F9",
                  -12
                ],
                [
                  "MQ",
                  0
                ],
                [
                  "WN",
                  35
                ],
                [
                  "US",
                  13
                ],
                [
                  "AA",
                  147
                ],
                [
                  "AA",
                  63
                ],
                [
                  "WN",
                  5
                ],
                [
                  "UA",
                  -4
                ],
                [
                  "EV",
                  62
                ],
                [
                  "OO",
                  79
                ],
                [
                  "DL",
                  -1
                ],
                [
                  "EV",
                  63
                ],
                [
                  "WN",
                  62
                ],
                [
                  "EV",
                  97
                ],
                [
                  "EV",
                  55
                ],
                [
                  "WN",
                  -20
                ],
                [
                  "DL",
                  -3
                ],
                [
                  "DL",
                  118
                ],
                [
                  "UA",
                  -40
                ],
                [
                  "AA",
                  14
                ],
                [
                  "MQ",
                  27
                ],
                [
                  "AA",
                  -10
                ],
                [
                  "UA",
                  62
                ],
                [
                  "UA",
                  109
                ],
                [
                  "WN",
                  26
                ],
                [
                  "WN",
                  3
                ],
                [
                  "US",
                  -2
                ],
                [
                  "FL",
                  4
                ],
                [
                  "WN",
                  -15
                ],
                [
                  "DL",
                  84
                ],
                [
                  "WN",
                  0
                ],
                [
                  "WN",
                  41
                ],
                [
                  "WN",
                  22
                ],
                [
                  "WN",
                  12
                ],
                [
                  "UA",
                  38
                ],
                [
                  "AA",
                  5
                ],
                [
                  "AS",
                  33
                ],
                [
                  "AA",
                  35
                ],
                [
                  "WN",
                  82
                ],
                [
                  "WN",
                  40
                ],
                [
                  "DL",
                  123
                ],
                [
                  "DL",
                  -4
                ],
                [
                  "AS",
                  -8
                ],
                [
                  "WN",
                  -10
                ],
                [
                  "DL",
                  90
                ],
                [
                  "US",
                  -12
                ],
                [
                  "UA",
                  52
                ],
                [
                  "US",
                  19
                ],
                [
                  "WN",
                  32
                ],
                [
                  "B6",
                  35
                ],
                [
                  "WN",
                  54
                ],
                [
                  "US",
                  39
                ],
                [
                  "9E",
                  49
                ],
                [
                  "OO",
                  -6
                ],
                [
                  "WN",
                  36
                ],
                [
                  "WN",
                  75
                ],
                [
                  "UA",
                  -14
                ],
                [
                  "YV",
                  -13
                ],
                [
                  "OO",
                  -1
                ],
                [
                  "AA",
                  -21
                ],
                [
                  "DL",
                  -6
                ],
                [
                  "US",
                  56
                ],
                [
                  "AA",
                  -15
                ],
                [
                  "B6",
                  16
                ],
                [
                  "EV",
                  6
                ],
                [
                  "AA",
                  40
                ],
                [
                  "UA",
                  83
                ],
                [
                  "WN",
                  8
                ],
                [
                  "WN",
                  -2
                ],
                [
                  "EV",
                  -11
                ],
                [
                  "WN",
                  59
                ],
                [
                  "US",
                  -1
                ],
                [
                  "UA",
                  -15
                ],
                [
                  "DL",
                  -7
                ],
                [
                  "DL",
                  67
                ],
                [
                  "WN",
                  5
                ],
                [
                  "UA",
                  13
                ],
                [
                  "DL",
                  11
                ],
                [
                  "DL",
                  -7
                ],
                [
                  "EV",
                  -20
                ],
                [
                  "EV",
                  72
                ],
                [
                  "OO",
                  -7
                ],
                [
                  "WN",
                  51
                ],
                [
                  "UA",
                  31
                ],
                [
                  "AA",
                  43
                ],
                [
                  "UA",
                  -20
                ],
                [
                  "UA",
                  35
                ],
                [
                  "US",
                  -6
                ],
                [
                  "9E",
                  -15
                ],
                [
                  "B6",
                  6
                ],
                [
                  "UA",
                  30
                ],
                [
                  "9E",
                  121
                ],
                [
                  "B6",
                  27
                ],
                [
                  "EV",
                  32
                ],
                [
                  "DL",
                  74
                ],
                [
                  "US",
                  39
                ],
                [
                  "US",
                  -15
                ],
                [
                  "B6",
                  -15
                ],
                [
                  "WN",
                  29
                ],
                [
                  "AA",
                  2
                ],
                [
                  "DL",
                  -13
                ],
                [
                  "EV",
                  -15
                ],
                [
                  "FL",
                  56
                ],
                [
                  "WN",
                  -6
                ],
                [
                  "US",
                  -9
                ],
                [
                  "UA",
                  58
                ],
                [
                  "EV",
                  35
                ],
                [
                  "FL",
                  -26
                ],
                [
                  "MQ",
                  75
                ],
                [
                  "OO",
                  -4
                ],
                [
                  "UA",
                  50
                ],
                [
                  "US",
                  -12
                ],
                [
                  "YV",
                  -2
                ],
                [
                  "UA",
                  72
                ],
                [
                  "US",
                  108
                ],
                [
                  "DL",
                  -9
                ],
                [
                  "US",
                  -26
                ],
                [
                  "AA",
                  0
                ],
                [
                  "US",
                  70
                ],
                [
                  "B6",
                  40
                ],
                [
                  "AA",
                  49
                ],
                [
                  "VX",
                  27
                ],
                [
                  "EV",
                  41
                ],
                [
                  "WN",
                  0
                ],
                [
                  "AA",
                  77
                ],
                [
                  "UA",
                  -22
                ],
                [
                  "MQ",
                  75
                ],
                [
                  "UA",
                  122
                ],
                [
                  "B6",
                  -12
                ],
                [
                  "B6",
                  84
                ],
                [
                  "AA",
                  39
                ],
                [
                  "DL",
                  7
                ],
                [
                  "WN",
                  49
                ],
                [
                  "OO",
                  -26
                ],
                [
                  "9E",
                  -21
                ],
                [
                  "MQ",
                  82
                ],
                [
                  "AA",
                  74
                ],
                [
                  "WN",
                  33
                ],
                [
                  "AA",
                  10
                ],
                [
                  "FL",
                  36
                ],
                [
                  "OO",
                  -13
                ],
                [
                  "OO",
                  27
                ],
                [
                  "UA",
                  36
                ],
                [
                  "WN",
                  106
                ],
                [
                  "WN",
                  42
                ],
                [
                  "WN",
                  -4
                ],
                [
                  "WN",
                  75
                ],
                [
                  "AA",
                  28
                ],
                [
                  "US",
                  82
                ],
                [
                  "OO",
                  65
                ],
                [
                  "WN",
                  1
                ],
                [
                  "EV",
                  -9
                ],
                [
                  "OO",
                  5
                ],
                [
                  "AS",
                  -15
                ],
                [
                  "WN",
                  65
                ],
                [
                  "UA",
                  -24
                ],
                [
                  "US",
                  42
                ],
                [
                  "US",
                  0
                ],
                [
                  "US",
                  -10
                ],
                [
                  "AA",
                  44
                ],
                [
                  "DL",
                  29
                ],
                [
                  "DL",
                  49
                ],
                [
                  "WN",
                  4
                ],
                [
                  "AA",
                  14
                ],
                [
                  "UA",
                  1
                ],
                [
                  "AA",
                  -32
                ],
                [
                  "US",
                  -17
                ],
                [
                  "WN",
                  54
                ],
                [
                  "MQ",
                  -13
                ],
                [
                  "9E",
                  -21
                ],
                [
                  "AA",
                  -9
                ],
                [
                  "DL",
                  111
                ],
                [
                  "UA",
                  72
                ],
                [
                  "US",
                  -26
                ],
                [
                  "UA",
                  42
                ],
                [
                  "UA",
                  44
                ],
                [
                  "WN",
                  -6
                ],
                [
                  "9E",
                  101
                ],
                [
                  "DL",
                  33
                ],
                [
                  "MQ",
                  79
                ],
                [
                  "UA",
                  86
                ],
                [
                  "WN",
                  54
                ],
                [
                  "OO",
                  78
                ],
                [
                  "US",
                  55
                ],
                [
                  "WN",
                  -11
                ],
                [
                  "WN",
                  -5
                ],
                [
                  "UA",
                  29
                ],
                [
                  "FL",
                  17
                ],
                [
                  "UA",
                  26
                ],
                [
                  "WN",
                  34
                ],
                [
                  "B6",
                  0
                ],
                [
                  "OO",
                  54
                ],
                [
                  "WN",
                  -1
                ],
                [
                  "WN",
                  76
                ],
                [
                  "F9",
                  42
                ],
                [
                  "WN",
                  -5
                ],
                [
                  "FL",
                  29
                ],
                [
                  "AA",
                  23
                ],
                [
                  "WN",
                  36
                ],
                [
                  "US",
                  -6
                ],
                [
                  "UA",
                  53
                ],
                [
                  "WN",
                  31
                ],
                [
                  "WN",
                  5
                ],
                [
                  "AA",
                  24
                ],
                [
                  "EV",
                  48
                ],
                [
                  "WN",
                  -15
                ],
                [
                  "DL",
                  1
                ],
                [
                  "WN",
                  28
                ],
                [
                  "OO",
                  28
                ],
                [
                  "MQ",
                  -28
                ],
                [
                  "FL",
                  31
                ],
                [
                  "WN",
                  31
                ],
                [
                  "WN",
                  6
                ],
                [
                  "WN",
                  32
                ],
                [
                  "UA",
                  -33
                ],
                [
                  "FL",
                  40
                ],
                [
                  "DL",
                  27
                ],
                [
                  "WN",
                  -7
                ],
                [
                  "UA",
                  -45
                ],
                [
                  "B6",
                  19
                ],
                [
                  "UA",
                  18
                ],
                [
                  "DL",
                  -15
                ],
                [
                  "MQ",
                  96
                ],
                [
                  "WN",
                  23
                ],
                [
                  "AA",
                  65
                ],
                [
                  "WN",
                  18
                ],
                [
                  "DL",
                  50
                ],
                [
                  "EV",
                  2
                ],
                [
                  "US",
                  -20
                ],
                [
                  "B6",
                  -3
                ],
                [
                  "FL",
                  128
                ],
                [
                  "UA",
                  110
                ],
                [
                  "VX",
                  -5
                ],
                [
                  "WN",
                  -7
                ],
                [
                  "US",
                  52
                ],
                [
                  "UA",
                  -18
                ],
                [
                  "US",
                  -15
                ],
                [
                  "AS",
                  71
                ],
                [
                  "YV",
                  66
                ],
                [
                  "US",
                  29
                ],
                [
                  "YV",
                  6
                ],
                [
                  "VX",
                  -7
                ],
                [
                  "US",
                  35
                ],
                [
                  "WN",
                  -8
                ],
                [
                  "AA",
                  43
                ],
                [
                  "US",
                  31
                ],
                [
                  "F9",
                  56
                ],
                [
                  "WN",
                  -9
                ],
                [
                  "AA",
                  68
                ],
                [
                  "MQ",
                  0
                ],
                [
                  "EV",
                  1
                ],
                [
                  "UA",
                  90
                ],
                [
                  "FL",
                  -11
                ],
                [
                  "MQ",
                  8
                ],
                [
                  "AA",
                  33
                ],
                [
                  "B6",
                  114
                ],
                [
                  "US",
                  70
                ],
                [
                  "AA",
                  -15
                ],
                [
                  "AA",
                  61
                ],
                [
                  "AA",
                  63
                ],
                [
                  "WN",
                  -12
                ],
                [
                  "WN",
                  37
                ],
                [
                  "UA",
                  48
                ],
                [
                  "WN",
                  50
                ],
                [
                  "9E",
                  -20
                ],
                [
                  "MQ",
                  4
                ],
                [
                  "AS",
                  -1
                ],
                [
                  "9E",
                  47
                ],
                [
                  "UA",
                  68
                ],
                [
                  "AA",
                  65
                ],
                [
                  "US",
                  78
                ],
                [
                  "WN",
                  -12
                ],
                [
                  "UA",
                  101
                ],
                [
                  "UA",
                  -19
                ],
                [
                  "MQ",
                  64
                ],
                [
                  "DL",
                  -8
                ],
                [
                  "OO",
                  -8
                ],
                [
                  "DL",
                  94
                ],
                [
                  "UA",
                  50
                ],
                [
                  "WN",
                  108
                ],
                [
                  "FL",
                  0
                ],
                [
                  "AA",
                  2
                ],
                [
                  "DL",
                  31
                ],
                [
                  "FL",
                  -7
                ],
                [
                  "DL",
                  -25
                ],
                [
                  "WN",
                  39
                ],
                [
                  "UA",
                  2
                ],
                [
                  "B6",
                  26
                ],
                [
                  "MQ",
                  -8
                ],
                [
                  "FL",
                  -9
                ],
                [
                  "F9",
                  66
                ],
                [
                  "US",
                  85
                ],
                [
                  "VX",
                  -9
                ],
                [
                  "B6",
                  33
                ],
                [
                  "US",
                  -9
                ],
                [
                  "WN",
                  -5
                ],
                [
                  "OO",
                  -6
                ],
                [
                  "WN",
                  50
                ],
                [
                  "WN",
                  34
                ],
                [
                  "FL",
                  69
                ],
                [
                  "DL",
                  43
                ],
                [
                  "WN",
                  75
                ],
                [
                  "UA",
                  -26
                ],
                [
                  "EV",
                  43
                ],
                [
                  "OO",
                  34
                ],
                [
                  "B6",
                  26
                ],
                [
                  "EV",
                  102
                ],
                [
                  "YV",
                  87
                ],
                [
                  "EV",
                  20
                ],
                [
                  "AA",
                  106
                ],
                [
                  "US",
                  -10
                ],
                [
                  "WN",
                  83
                ],
                [
                  "AA",
                  44
                ],
                [
                  "WN",
                  9
                ],
                [
                  "MQ",
                  -9
                ],
                [
                  "US",
                  111
                ],
                [
                  "AA",
                  -23
                ],
                [
                  "UA",
                  -22
                ],
                [
                  "AA",
                  -9
                ],
                [
                  "DL",
                  -6
                ],
                [
                  "FL",
                  -5
                ],
                [
                  "FL",
                  87
                ],
                [
                  "FL",
                  -10
                ],
                [
                  "DL",
                  27
                ],
                [
                  "UA",
                  13
                ],
                [
                  "AA",
                  63
                ],
                [
                  "WN",
                  4
                ],
                [
                  "WN",
                  9
                ],
                [
                  "AA",
                  7
                ],
                [
                  "UA",
                  -4
                ],
                [
                  "FL",
                  26
                ],
                [
                  "AA",
                  10
                ],
                [
                  "MQ",
                  65
                ],
                [
                  "AA",
                  -12
                ],
                [
                  "DL",
                  33
                ],
                [
                  "WN",
                  9
                ],
                [
                  "FL",
                  -13
                ],
                [
                  "UA",
                  -21
                ],
                [
                  "WN",
                  -15
                ],
                [
                  "AA",
                  51
                ],
                [
                  "WN",
                  -14
                ],
                [
                  "YV",
                  103
                ],
                [
                  "DL",
                  71
                ],
                [
                  "AA",
                  21
                ],
                [
                  "UA",
                  1
                ],
                [
                  "DL",
                  -12
                ],
                [
                  "AA",
                  16
                ],
                [
                  "FL",
                  74
                ],
                [
                  "UA",
                  54
                ],
                [
                  "B6",
                  113
                ],
                [
                  "OO",
                  91
                ],
                [
                  "WN",
                  56
                ],
                [
                  "WN",
                  12
                ],
                [
                  "WN",
                  -3
                ],
                [
                  "WN",
                  36
                ],
                [
                  "9E",
                  -15
                ],
                [
                  "DL",
                  33
                ],
                [
                  "MQ",
                  49
                ],
                [
                  "AA",
                  -17
                ],
                [
                  "DL",
                  -11
                ]
              ]
            },
            "text/plain": "<Spark SQL result set with 1000 rows and 2 fields>"
          },
          "execution_count": 22,
          "metadata": {}
        }
      ],
      "metadata": {
        "jupyter": {
          "outputs_hidden": false,
          "source_hidden": false
        },
        "microsoft": {
          "language": "sparksql"
        },
        "nteract": {
          "transient": {
            "deleting": false
          }
        },
        "collapsed": false
      },
      "source": [
        "%%sql\n",
        "SELECT Carrier, ArrDelay FROM flightData"
      ]
    },
    {
      "cell_type": "markdown",
      "metadata": {
        "nteract": {
          "transient": {
            "deleting": false
          }
        }
      },
      "source": [
        "View the output as a chart, and then use the **View Options** button (which looks similar to **&#128463;<sub>*</sub>**) at the top-right of the output to configure the chart as follows:\n",
        "\n",
        "- **Chart type**: Box plot\n",
        "- **Key**: Carrier\n",
        "- **Values**: ArrDelay\n",
        "\n",
        "When you apply the view options, the box plots should should show that the median delay (the line in the middle of the box), and the distribution of delays varies by carrier; with some carriers having a higher median delay than others. The same is true for other features, such as the day of the week and the destination airport."
      ]
    },
    {
      "cell_type": "markdown",
      "metadata": {},
      "source": [
        "\n",
        "\n",
        "You may already suspect that there's likely to be a relationship between departure delay and arrival delay, so let's examine that next. Run the next cell to retrieve the departure and arrival delays for each flight."
      ]
    },
    {
      "cell_type": "code",
      "execution_count": 23,
      "outputs": [
        {
          "output_type": "display_data",
          "data": {
            "application/vnd.livy.statement-meta+json": {
              "spark_pool": "sparkezi1n72",
              "session_id": "35",
              "statement_id": 23,
              "state": "finished",
              "livy_statement_state": "available",
              "queued_time": "2022-11-16T10:40:16.3757823Z",
              "session_start_time": null,
              "execution_start_time": "2022-11-16T10:40:16.5605358Z",
              "execution_finish_time": "2022-11-16T10:40:22.0443171Z",
              "spark_jobs": null
            },
            "text/plain": "StatementMeta(sparkezi1n72, 35, 23, Finished, Available)"
          },
          "metadata": {}
        },
        {
          "output_type": "execute_result",
          "data": {
            "application/vnd.synapse.sparksql-result+json": {
              "schema": {
                "type": "struct",
                "fields": [
                  {
                    "name": "DepDelay",
                    "type": "integer",
                    "nullable": true,
                    "metadata": {}
                  },
                  {
                    "name": "ArrDelay",
                    "type": "integer",
                    "nullable": true,
                    "metadata": {}
                  }
                ]
              },
              "data": [
                [
                  99,
                  91
                ],
                [
                  -2,
                  -13
                ],
                [
                  19,
                  -4
                ],
                [
                  -5,
                  -9
                ],
                [
                  28,
                  37
                ],
                [
                  9,
                  -11
                ],
                [
                  40,
                  73
                ],
                [
                  -4,
                  -12
                ],
                [
                  30,
                  44
                ],
                [
                  14,
                  42
                ],
                [
                  -1,
                  -2
                ],
                [
                  56,
                  69
                ],
                [
                  -3,
                  27
                ],
                [
                  9,
                  9
                ],
                [
                  -4,
                  17
                ],
                [
                  31,
                  43
                ],
                [
                  147,
                  144
                ],
                [
                  -2,
                  -18
                ],
                [
                  47,
                  109
                ],
                [
                  9,
                  39
                ],
                [
                  28,
                  26
                ],
                [
                  48,
                  41
                ],
                [
                  92,
                  85
                ],
                [
                  9,
                  -1
                ],
                [
                  -8,
                  -9
                ],
                [
                  36,
                  57
                ],
                [
                  3,
                  -8
                ],
                [
                  -3,
                  28
                ],
                [
                  1,
                  -1
                ],
                [
                  50,
                  49
                ],
                [
                  55,
                  55
                ],
                [
                  -4,
                  -1
                ],
                [
                  39,
                  35
                ],
                [
                  0,
                  0
                ],
                [
                  -4,
                  -11
                ],
                [
                  138,
                  126
                ],
                [
                  119,
                  94
                ],
                [
                  0,
                  -4
                ],
                [
                  28,
                  33
                ],
                [
                  72,
                  65
                ],
                [
                  103,
                  80
                ],
                [
                  75,
                  52
                ],
                [
                  -10,
                  -1
                ],
                [
                  8,
                  7
                ],
                [
                  -1,
                  -8
                ],
                [
                  -1,
                  -26
                ],
                [
                  13,
                  6
                ],
                [
                  -3,
                  2
                ],
                [
                  17,
                  30
                ],
                [
                  -3,
                  7
                ],
                [
                  65,
                  76
                ],
                [
                  71,
                  71
                ],
                [
                  32,
                  44
                ],
                [
                  -4,
                  -13
                ],
                [
                  1,
                  -5
                ],
                [
                  -3,
                  -17
                ],
                [
                  32,
                  30
                ],
                [
                  117,
                  106
                ],
                [
                  -6,
                  -22
                ],
                [
                  83,
                  88
                ],
                [
                  -4,
                  -10
                ],
                [
                  5,
                  43
                ],
                [
                  17,
                  9
                ],
                [
                  35,
                  21
                ],
                [
                  -4,
                  -12
                ],
                [
                  -4,
                  27
                ],
                [
                  -8,
                  -9
                ],
                [
                  135,
                  141
                ],
                [
                  8,
                  32
                ],
                [
                  -2,
                  -1
                ],
                [
                  0,
                  -10
                ],
                [
                  30,
                  21
                ],
                [
                  48,
                  37
                ],
                [
                  50,
                  78
                ],
                [
                  -5,
                  -4
                ],
                [
                  0,
                  14
                ],
                [
                  144,
                  118
                ],
                [
                  -9,
                  10
                ],
                [
                  -6,
                  -15
                ],
                [
                  10,
                  2
                ],
                [
                  85,
                  115
                ],
                [
                  -7,
                  -3
                ],
                [
                  -3,
                  -4
                ],
                [
                  102,
                  106
                ],
                [
                  139,
                  148
                ],
                [
                  123,
                  128
                ],
                [
                  -4,
                  -11
                ],
                [
                  33,
                  35
                ],
                [
                  -4,
                  -15
                ],
                [
                  4,
                  -18
                ],
                [
                  99,
                  75
                ],
                [
                  69,
                  97
                ],
                [
                  -7,
                  -3
                ],
                [
                  -7,
                  46
                ],
                [
                  55,
                  52
                ],
                [
                  59,
                  38
                ],
                [
                  77,
                  80
                ],
                [
                  -7,
                  1
                ],
                [
                  -3,
                  -2
                ],
                [
                  6,
                  1
                ],
                [
                  7,
                  75
                ],
                [
                  107,
                  108
                ],
                [
                  41,
                  32
                ],
                [
                  41,
                  48
                ],
                [
                  90,
                  76
                ],
                [
                  89,
                  65
                ],
                [
                  54,
                  60
                ],
                [
                  21,
                  39
                ],
                [
                  118,
                  100
                ],
                [
                  76,
                  71
                ],
                [
                  69,
                  56
                ],
                [
                  -6,
                  -1
                ],
                [
                  -2,
                  -18
                ],
                [
                  -2,
                  3
                ],
                [
                  0,
                  0
                ],
                [
                  9,
                  4
                ],
                [
                  -10,
                  -6
                ],
                [
                  -3,
                  -9
                ],
                [
                  40,
                  33
                ],
                [
                  -1,
                  12
                ],
                [
                  14,
                  26
                ],
                [
                  8,
                  4
                ],
                [
                  6,
                  27
                ],
                [
                  55,
                  46
                ],
                [
                  -3,
                  -15
                ],
                [
                  52,
                  58
                ],
                [
                  -3,
                  34
                ],
                [
                  -7,
                  -24
                ],
                [
                  -5,
                  -18
                ],
                [
                  35,
                  36
                ],
                [
                  28,
                  29
                ],
                [
                  0,
                  -8
                ],
                [
                  1,
                  -3
                ],
                [
                  93,
                  86
                ],
                [
                  -1,
                  8
                ],
                [
                  -5,
                  -2
                ],
                [
                  -2,
                  -15
                ],
                [
                  10,
                  17
                ],
                [
                  41,
                  35
                ],
                [
                  -1,
                  -10
                ],
                [
                  13,
                  5
                ],
                [
                  -3,
                  -12
                ],
                [
                  79,
                  83
                ],
                [
                  31,
                  26
                ],
                [
                  -3,
                  -8
                ],
                [
                  46,
                  34
                ],
                [
                  -2,
                  -13
                ],
                [
                  137,
                  124
                ],
                [
                  0,
                  0
                ],
                [
                  -6,
                  34
                ],
                [
                  69,
                  73
                ],
                [
                  42,
                  38
                ],
                [
                  119,
                  111
                ],
                [
                  63,
                  50
                ],
                [
                  33,
                  41
                ],
                [
                  -11,
                  -5
                ],
                [
                  -2,
                  -15
                ],
                [
                  -3,
                  -12
                ],
                [
                  74,
                  73
                ],
                [
                  0,
                  -12
                ],
                [
                  29,
                  34
                ],
                [
                  -9,
                  20
                ],
                [
                  39,
                  32
                ],
                [
                  28,
                  120
                ],
                [
                  -3,
                  30
                ],
                [
                  83,
                  68
                ],
                [
                  1,
                  0
                ],
                [
                  1,
                  -15
                ],
                [
                  -5,
                  -4
                ],
                [
                  17,
                  -23
                ],
                [
                  -8,
                  -23
                ],
                [
                  59,
                  49
                ],
                [
                  -12,
                  0
                ],
                [
                  44,
                  73
                ],
                [
                  3,
                  -12
                ],
                [
                  3,
                  -11
                ],
                [
                  134,
                  140
                ],
                [
                  34,
                  37
                ],
                [
                  -5,
                  7
                ],
                [
                  6,
                  22
                ],
                [
                  40,
                  51
                ],
                [
                  127,
                  118
                ],
                [
                  -5,
                  -8
                ],
                [
                  -1,
                  -13
                ],
                [
                  16,
                  63
                ],
                [
                  6,
                  28
                ],
                [
                  25,
                  12
                ],
                [
                  -3,
                  -9
                ],
                [
                  43,
                  107
                ],
                [
                  30,
                  35
                ],
                [
                  34,
                  29
                ],
                [
                  32,
                  64
                ],
                [
                  -7,
                  -7
                ],
                [
                  -1,
                  -32
                ],
                [
                  -17,
                  -28
                ],
                [
                  114,
                  112
                ],
                [
                  0,
                  -14
                ],
                [
                  1,
                  21
                ],
                [
                  66,
                  74
                ],
                [
                  -4,
                  -9
                ],
                [
                  -3,
                  -5
                ],
                [
                  33,
                  31
                ],
                [
                  61,
                  64
                ],
                [
                  49,
                  51
                ],
                [
                  83,
                  102
                ],
                [
                  100,
                  77
                ],
                [
                  -1,
                  40
                ],
                [
                  61,
                  52
                ],
                [
                  0,
                  0
                ],
                [
                  2,
                  10
                ],
                [
                  55,
                  47
                ],
                [
                  38,
                  61
                ],
                [
                  64,
                  55
                ],
                [
                  41,
                  37
                ],
                [
                  62,
                  57
                ],
                [
                  29,
                  97
                ],
                [
                  3,
                  -9
                ],
                [
                  -2,
                  -1
                ],
                [
                  27,
                  30
                ],
                [
                  -3,
                  -11
                ],
                [
                  -2,
                  -14
                ],
                [
                  125,
                  90
                ],
                [
                  40,
                  40
                ],
                [
                  112,
                  111
                ],
                [
                  65,
                  64
                ],
                [
                  95,
                  84
                ],
                [
                  53,
                  47
                ],
                [
                  -4,
                  -12
                ],
                [
                  15,
                  18
                ],
                [
                  -4,
                  -2
                ],
                [
                  100,
                  87
                ],
                [
                  42,
                  35
                ],
                [
                  -11,
                  65
                ],
                [
                  81,
                  91
                ],
                [
                  -5,
                  17
                ],
                [
                  66,
                  62
                ],
                [
                  6,
                  33
                ],
                [
                  -1,
                  -13
                ],
                [
                  45,
                  52
                ],
                [
                  28,
                  26
                ],
                [
                  19,
                  43
                ],
                [
                  1,
                  -4
                ],
                [
                  100,
                  129
                ],
                [
                  44,
                  45
                ],
                [
                  10,
                  27
                ],
                [
                  19,
                  -2
                ],
                [
                  -3,
                  -28
                ],
                [
                  -6,
                  14
                ],
                [
                  -7,
                  -12
                ],
                [
                  10,
                  16
                ],
                [
                  46,
                  45
                ],
                [
                  -4,
                  -12
                ],
                [
                  13,
                  26
                ],
                [
                  -6,
                  -12
                ],
                [
                  64,
                  60
                ],
                [
                  -3,
                  -22
                ],
                [
                  88,
                  0
                ],
                [
                  -2,
                  -7
                ],
                [
                  -1,
                  -6
                ],
                [
                  34,
                  29
                ],
                [
                  3,
                  -3
                ],
                [
                  80,
                  115
                ],
                [
                  45,
                  65
                ],
                [
                  54,
                  85
                ],
                [
                  -3,
                  24
                ],
                [
                  100,
                  98
                ],
                [
                  32,
                  30
                ],
                [
                  21,
                  50
                ],
                [
                  -9,
                  -28
                ],
                [
                  61,
                  67
                ],
                [
                  4,
                  8
                ],
                [
                  89,
                  74
                ],
                [
                  46,
                  49
                ],
                [
                  57,
                  49
                ],
                [
                  -1,
                  -23
                ],
                [
                  -1,
                  -9
                ],
                [
                  -5,
                  -13
                ],
                [
                  2,
                  -8
                ],
                [
                  85,
                  93
                ],
                [
                  40,
                  33
                ],
                [
                  -7,
                  -15
                ],
                [
                  27,
                  51
                ],
                [
                  -9,
                  -21
                ],
                [
                  -1,
                  39
                ],
                [
                  114,
                  88
                ],
                [
                  59,
                  48
                ],
                [
                  23,
                  65
                ],
                [
                  -1,
                  -10
                ],
                [
                  5,
                  -6
                ],
                [
                  49,
                  72
                ],
                [
                  80,
                  92
                ],
                [
                  6,
                  -3
                ],
                [
                  -3,
                  8
                ],
                [
                  142,
                  140
                ],
                [
                  33,
                  30
                ],
                [
                  66,
                  62
                ],
                [
                  19,
                  15
                ],
                [
                  42,
                  45
                ],
                [
                  137,
                  121
                ],
                [
                  -6,
                  -25
                ],
                [
                  86,
                  79
                ],
                [
                  1,
                  -14
                ],
                [
                  73,
                  77
                ],
                [
                  10,
                  15
                ],
                [
                  72,
                  57
                ],
                [
                  143,
                  148
                ],
                [
                  -6,
                  8
                ],
                [
                  -9,
                  -57
                ],
                [
                  102,
                  106
                ],
                [
                  47,
                  40
                ],
                [
                  -4,
                  -9
                ],
                [
                  -6,
                  -1
                ],
                [
                  -8,
                  -6
                ],
                [
                  25,
                  26
                ],
                [
                  -8,
                  -14
                ],
                [
                  7,
                  -4
                ],
                [
                  27,
                  36
                ],
                [
                  1,
                  -11
                ],
                [
                  38,
                  32
                ],
                [
                  50,
                  39
                ],
                [
                  18,
                  11
                ],
                [
                  -1,
                  10
                ],
                [
                  71,
                  61
                ],
                [
                  35,
                  43
                ],
                [
                  24,
                  33
                ],
                [
                  30,
                  36
                ],
                [
                  37,
                  53
                ],
                [
                  71,
                  65
                ],
                [
                  56,
                  47
                ],
                [
                  43,
                  28
                ],
                [
                  69,
                  69
                ],
                [
                  -5,
                  -20
                ],
                [
                  27,
                  15
                ],
                [
                  109,
                  91
                ],
                [
                  57,
                  45
                ],
                [
                  64,
                  64
                ],
                [
                  30,
                  26
                ],
                [
                  60,
                  58
                ],
                [
                  50,
                  66
                ],
                [
                  19,
                  43
                ],
                [
                  -6,
                  -8
                ],
                [
                  22,
                  40
                ],
                [
                  -2,
                  -8
                ],
                [
                  35,
                  26
                ],
                [
                  33,
                  32
                ],
                [
                  39,
                  26
                ],
                [
                  29,
                  32
                ],
                [
                  56,
                  45
                ],
                [
                  82,
                  65
                ],
                [
                  -2,
                  -17
                ],
                [
                  27,
                  26
                ],
                [
                  -2,
                  -14
                ],
                [
                  -7,
                  -4
                ],
                [
                  67,
                  56
                ],
                [
                  -9,
                  -29
                ],
                [
                  -3,
                  6
                ],
                [
                  116,
                  108
                ],
                [
                  139,
                  144
                ],
                [
                  5,
                  0
                ],
                [
                  13,
                  68
                ],
                [
                  -1,
                  -16
                ],
                [
                  85,
                  89
                ],
                [
                  -3,
                  -15
                ],
                [
                  10,
                  17
                ],
                [
                  -8,
                  -20
                ],
                [
                  -3,
                  -16
                ],
                [
                  135,
                  121
                ],
                [
                  26,
                  43
                ],
                [
                  9,
                  -7
                ],
                [
                  10,
                  3
                ],
                [
                  -3,
                  40
                ],
                [
                  8,
                  60
                ],
                [
                  36,
                  43
                ],
                [
                  -7,
                  -19
                ],
                [
                  5,
                  3
                ],
                [
                  -3,
                  -1
                ],
                [
                  17,
                  26
                ],
                [
                  -3,
                  -4
                ],
                [
                  -4,
                  -9
                ],
                [
                  18,
                  10
                ],
                [
                  79,
                  71
                ],
                [
                  -1,
                  11
                ],
                [
                  37,
                  46
                ],
                [
                  0,
                  -20
                ],
                [
                  -2,
                  24
                ],
                [
                  50,
                  51
                ],
                [
                  -3,
                  -3
                ],
                [
                  36,
                  41
                ],
                [
                  48,
                  42
                ],
                [
                  -6,
                  -1
                ],
                [
                  36,
                  27
                ],
                [
                  -4,
                  4
                ],
                [
                  6,
                  3
                ],
                [
                  50,
                  44
                ],
                [
                  38,
                  17
                ],
                [
                  29,
                  30
                ],
                [
                  19,
                  14
                ],
                [
                  118,
                  97
                ],
                [
                  46,
                  56
                ],
                [
                  -4,
                  -4
                ],
                [
                  -2,
                  -3
                ],
                [
                  36,
                  30
                ],
                [
                  53,
                  58
                ],
                [
                  70,
                  63
                ],
                [
                  83,
                  88
                ],
                [
                  23,
                  72
                ],
                [
                  68,
                  57
                ],
                [
                  -2,
                  -15
                ],
                [
                  36,
                  29
                ],
                [
                  110,
                  127
                ],
                [
                  0,
                  0
                ],
                [
                  42,
                  60
                ],
                [
                  16,
                  16
                ],
                [
                  0,
                  -1
                ],
                [
                  6,
                  0
                ],
                [
                  -8,
                  -14
                ],
                [
                  25,
                  41
                ],
                [
                  -5,
                  -8
                ],
                [
                  65,
                  107
                ],
                [
                  24,
                  37
                ],
                [
                  20,
                  52
                ],
                [
                  71,
                  84
                ],
                [
                  0,
                  9
                ],
                [
                  -6,
                  -6
                ],
                [
                  -3,
                  3
                ],
                [
                  65,
                  57
                ],
                [
                  64,
                  55
                ],
                [
                  -11,
                  17
                ],
                [
                  -6,
                  -22
                ],
                [
                  54,
                  43
                ],
                [
                  39,
                  41
                ],
                [
                  -1,
                  -25
                ],
                [
                  -4,
                  -5
                ],
                [
                  69,
                  70
                ],
                [
                  77,
                  70
                ],
                [
                  34,
                  31
                ],
                [
                  36,
                  21
                ],
                [
                  -2,
                  -2
                ],
                [
                  4,
                  -3
                ],
                [
                  86,
                  76
                ],
                [
                  122,
                  101
                ],
                [
                  130,
                  103
                ],
                [
                  -5,
                  -9
                ],
                [
                  16,
                  -14
                ],
                [
                  35,
                  33
                ],
                [
                  -1,
                  -2
                ],
                [
                  -8,
                  -10
                ],
                [
                  71,
                  46
                ],
                [
                  46,
                  56
                ],
                [
                  74,
                  79
                ],
                [
                  -2,
                  -16
                ],
                [
                  8,
                  -2
                ],
                [
                  28,
                  28
                ],
                [
                  76,
                  81
                ],
                [
                  22,
                  1
                ],
                [
                  8,
                  29
                ],
                [
                  100,
                  86
                ],
                [
                  31,
                  42
                ],
                [
                  -1,
                  -22
                ],
                [
                  52,
                  56
                ],
                [
                  10,
                  29
                ],
                [
                  -9,
                  -22
                ],
                [
                  72,
                  57
                ],
                [
                  41,
                  27
                ],
                [
                  60,
                  65
                ],
                [
                  0,
                  20
                ],
                [
                  75,
                  84
                ],
                [
                  6,
                  -6
                ],
                [
                  116,
                  118
                ],
                [
                  57,
                  53
                ],
                [
                  5,
                  -2
                ],
                [
                  -2,
                  -4
                ],
                [
                  88,
                  66
                ],
                [
                  80,
                  92
                ],
                [
                  55,
                  66
                ],
                [
                  148,
                  129
                ],
                [
                  -1,
                  0
                ],
                [
                  -12,
                  -17
                ],
                [
                  15,
                  8
                ],
                [
                  -4,
                  6
                ],
                [
                  51,
                  65
                ],
                [
                  56,
                  44
                ],
                [
                  -6,
                  -15
                ],
                [
                  80,
                  76
                ],
                [
                  67,
                  45
                ],
                [
                  -8,
                  0
                ],
                [
                  14,
                  36
                ],
                [
                  -5,
                  3
                ],
                [
                  41,
                  16
                ],
                [
                  3,
                  26
                ],
                [
                  -4,
                  -5
                ],
                [
                  55,
                  69
                ],
                [
                  5,
                  -4
                ],
                [
                  -7,
                  60
                ],
                [
                  16,
                  2
                ],
                [
                  -1,
                  1
                ],
                [
                  1,
                  -10
                ],
                [
                  99,
                  104
                ],
                [
                  14,
                  26
                ],
                [
                  118,
                  123
                ],
                [
                  8,
                  5
                ],
                [
                  -3,
                  0
                ],
                [
                  -10,
                  -3
                ],
                [
                  31,
                  103
                ],
                [
                  98,
                  108
                ],
                [
                  57,
                  30
                ],
                [
                  12,
                  -12
                ],
                [
                  -5,
                  36
                ],
                [
                  45,
                  38
                ],
                [
                  -5,
                  1
                ],
                [
                  -6,
                  50
                ],
                [
                  22,
                  35
                ],
                [
                  -9,
                  31
                ],
                [
                  27,
                  26
                ],
                [
                  53,
                  58
                ],
                [
                  -5,
                  -13
                ],
                [
                  2,
                  12
                ],
                [
                  -5,
                  -12
                ],
                [
                  67,
                  47
                ],
                [
                  17,
                  26
                ],
                [
                  -5,
                  31
                ],
                [
                  50,
                  52
                ],
                [
                  32,
                  71
                ],
                [
                  93,
                  97
                ],
                [
                  -5,
                  -6
                ],
                [
                  52,
                  54
                ],
                [
                  -3,
                  7
                ],
                [
                  102,
                  93
                ],
                [
                  -6,
                  -12
                ],
                [
                  40,
                  52
                ],
                [
                  5,
                  -3
                ],
                [
                  -6,
                  -3
                ],
                [
                  -10,
                  -11
                ],
                [
                  -2,
                  -7
                ],
                [
                  17,
                  4
                ],
                [
                  6,
                  -26
                ],
                [
                  0,
                  0
                ],
                [
                  52,
                  30
                ],
                [
                  44,
                  35
                ],
                [
                  29,
                  26
                ],
                [
                  4,
                  6
                ],
                [
                  -4,
                  -5
                ],
                [
                  60,
                  53
                ],
                [
                  140,
                  125
                ],
                [
                  53,
                  49
                ],
                [
                  -5,
                  -8
                ],
                [
                  -2,
                  -5
                ],
                [
                  -1,
                  1
                ],
                [
                  47,
                  33
                ],
                [
                  98,
                  77
                ],
                [
                  -1,
                  -3
                ],
                [
                  -4,
                  55
                ],
                [
                  112,
                  139
                ],
                [
                  -3,
                  2
                ],
                [
                  -5,
                  -8
                ],
                [
                  -2,
                  -10
                ],
                [
                  -1,
                  -36
                ],
                [
                  -7,
                  -1
                ],
                [
                  -4,
                  -7
                ],
                [
                  -1,
                  -25
                ],
                [
                  11,
                  15
                ],
                [
                  104,
                  96
                ],
                [
                  -4,
                  -10
                ],
                [
                  31,
                  29
                ],
                [
                  -4,
                  -22
                ],
                [
                  15,
                  -3
                ],
                [
                  56,
                  67
                ],
                [
                  113,
                  101
                ],
                [
                  92,
                  77
                ],
                [
                  42,
                  35
                ],
                [
                  19,
                  14
                ],
                [
                  28,
                  30
                ],
                [
                  -8,
                  -12
                ],
                [
                  -2,
                  -20
                ],
                [
                  62,
                  63
                ],
                [
                  35,
                  26
                ],
                [
                  53,
                  47
                ],
                [
                  2,
                  -2
                ],
                [
                  136,
                  127
                ],
                [
                  3,
                  -8
                ],
                [
                  61,
                  44
                ],
                [
                  13,
                  3
                ],
                [
                  20,
                  27
                ],
                [
                  64,
                  94
                ],
                [
                  0,
                  -13
                ],
                [
                  41,
                  37
                ],
                [
                  14,
                  3
                ],
                [
                  -8,
                  -17
                ],
                [
                  -1,
                  31
                ],
                [
                  -4,
                  6
                ],
                [
                  -2,
                  -20
                ],
                [
                  15,
                  5
                ],
                [
                  -4,
                  15
                ],
                [
                  -6,
                  -23
                ],
                [
                  37,
                  28
                ],
                [
                  14,
                  0
                ],
                [
                  67,
                  76
                ],
                [
                  8,
                  4
                ],
                [
                  -3,
                  35
                ],
                [
                  35,
                  37
                ],
                [
                  89,
                  79
                ],
                [
                  4,
                  -13
                ],
                [
                  40,
                  37
                ],
                [
                  -2,
                  14
                ],
                [
                  16,
                  30
                ],
                [
                  -2,
                  -8
                ],
                [
                  59,
                  52
                ],
                [
                  -7,
                  -3
                ],
                [
                  69,
                  51
                ],
                [
                  -5,
                  -4
                ],
                [
                  0,
                  -6
                ],
                [
                  -5,
                  -15
                ],
                [
                  5,
                  1
                ],
                [
                  -10,
                  -23
                ],
                [
                  42,
                  40
                ],
                [
                  103,
                  127
                ],
                [
                  -2,
                  -9
                ],
                [
                  10,
                  32
                ],
                [
                  -1,
                  46
                ],
                [
                  7,
                  -1
                ],
                [
                  -3,
                  -25
                ],
                [
                  71,
                  65
                ],
                [
                  0,
                  8
                ],
                [
                  124,
                  130
                ],
                [
                  -2,
                  -5
                ],
                [
                  -1,
                  -2
                ],
                [
                  65,
                  74
                ],
                [
                  2,
                  -17
                ],
                [
                  21,
                  33
                ],
                [
                  110,
                  108
                ],
                [
                  41,
                  39
                ],
                [
                  20,
                  40
                ],
                [
                  0,
                  -9
                ],
                [
                  -3,
                  -15
                ],
                [
                  -2,
                  -14
                ],
                [
                  -2,
                  -3
                ],
                [
                  45,
                  42
                ],
                [
                  1,
                  -22
                ],
                [
                  22,
                  32
                ],
                [
                  42,
                  44
                ],
                [
                  -7,
                  -6
                ],
                [
                  55,
                  22
                ],
                [
                  37,
                  35
                ],
                [
                  4,
                  -6
                ],
                [
                  95,
                  147
                ],
                [
                  64,
                  63
                ],
                [
                  -1,
                  -10
                ],
                [
                  19,
                  -2
                ],
                [
                  20,
                  53
                ],
                [
                  38,
                  35
                ],
                [
                  -4,
                  -1
                ],
                [
                  41,
                  37
                ],
                [
                  -3,
                  42
                ],
                [
                  40,
                  38
                ],
                [
                  21,
                  31
                ],
                [
                  -4,
                  -20
                ],
                [
                  -1,
                  -3
                ],
                [
                  124,
                  118
                ],
                [
                  -5,
                  -40
                ],
                [
                  0,
                  -13
                ],
                [
                  40,
                  65
                ],
                [
                  -4,
                  -13
                ],
                [
                  107,
                  116
                ],
                [
                  81,
                  117
                ],
                [
                  18,
                  26
                ],
                [
                  14,
                  3
                ],
                [
                  -7,
                  -19
                ],
                [
                  -10,
                  -19
                ],
                [
                  10,
                  -9
                ],
                [
                  93,
                  84
                ],
                [
                  -4,
                  -21
                ],
                [
                  44,
                  41
                ],
                [
                  22,
                  22
                ],
                [
                  -5,
                  -14
                ],
                [
                  83,
                  109
                ],
                [
                  1,
                  9
                ],
                [
                  46,
                  33
                ],
                [
                  19,
                  35
                ],
                [
                  50,
                  70
                ],
                [
                  52,
                  40
                ],
                [
                  131,
                  123
                ],
                [
                  -6,
                  -16
                ],
                [
                  -10,
                  12
                ],
                [
                  -7,
                  -21
                ],
                [
                  100,
                  90
                ],
                [
                  -10,
                  2
                ],
                [
                  16,
                  52
                ],
                [
                  2,
                  -5
                ],
                [
                  34,
                  32
                ],
                [
                  35,
                  35
                ],
                [
                  67,
                  54
                ],
                [
                  24,
                  27
                ],
                [
                  77,
                  70
                ],
                [
                  -2,
                  -6
                ],
                [
                  60,
                  61
                ],
                [
                  80,
                  75
                ],
                [
                  1,
                  -1
                ],
                [
                  -2,
                  -13
                ],
                [
                  17,
                  4
                ],
                [
                  -5,
                  -21
                ],
                [
                  11,
                  -6
                ],
                [
                  62,
                  56
                ],
                [
                  13,
                  5
                ],
                [
                  0,
                  0
                ],
                [
                  -7,
                  -8
                ],
                [
                  53,
                  55
                ],
                [
                  24,
                  83
                ],
                [
                  -4,
                  -2
                ],
                [
                  -6,
                  -13
                ],
                [
                  -3,
                  -11
                ],
                [
                  54,
                  30
                ],
                [
                  -5,
                  -15
                ],
                [
                  -5,
                  -17
                ],
                [
                  -4,
                  -7
                ],
                [
                  75,
                  67
                ],
                [
                  9,
                  5
                ],
                [
                  -7,
                  13
                ],
                [
                  14,
                  11
                ],
                [
                  -1,
                  -7
                ],
                [
                  -3,
                  -15
                ],
                [
                  54,
                  72
                ],
                [
                  13,
                  3
                ],
                [
                  48,
                  36
                ],
                [
                  33,
                  31
                ],
                [
                  42,
                  43
                ],
                [
                  -5,
                  -20
                ],
                [
                  59,
                  53
                ],
                [
                  -9,
                  10
                ],
                [
                  -2,
                  -15
                ],
                [
                  -6,
                  6
                ],
                [
                  102,
                  73
                ],
                [
                  45,
                  32
                ],
                [
                  37,
                  27
                ],
                [
                  32,
                  30
                ],
                [
                  132,
                  128
                ],
                [
                  1,
                  39
                ],
                [
                  -6,
                  -15
                ],
                [
                  -2,
                  -1
                ],
                [
                  30,
                  29
                ],
                [
                  -6,
                  2
                ],
                [
                  -2,
                  -30
                ],
                [
                  -8,
                  -7
                ],
                [
                  47,
                  56
                ],
                [
                  -2,
                  -6
                ],
                [
                  -6,
                  -9
                ],
                [
                  5,
                  58
                ],
                [
                  -3,
                  35
                ],
                [
                  -4,
                  -26
                ],
                [
                  80,
                  75
                ],
                [
                  -5,
                  4
                ],
                [
                  38,
                  50
                ],
                [
                  -5,
                  -10
                ],
                [
                  -5,
                  -2
                ],
                [
                  78,
                  72
                ],
                [
                  122,
                  108
                ],
                [
                  8,
                  -9
                ],
                [
                  -10,
                  -26
                ],
                [
                  0,
                  0
                ],
                [
                  81,
                  70
                ],
                [
                  64,
                  49
                ],
                [
                  0,
                  41
                ],
                [
                  26,
                  27
                ],
                [
                  25,
                  41
                ],
                [
                  -3,
                  0
                ],
                [
                  16,
                  26
                ],
                [
                  -6,
                  -10
                ],
                [
                  56,
                  38
                ],
                [
                  127,
                  122
                ],
                [
                  -6,
                  -12
                ],
                [
                  -4,
                  84
                ],
                [
                  41,
                  39
                ],
                [
                  13,
                  11
                ],
                [
                  20,
                  49
                ],
                [
                  2,
                  0
                ],
                [
                  -1,
                  -21
                ],
                [
                  96,
                  82
                ],
                [
                  87,
                  74
                ],
                [
                  29,
                  33
                ],
                [
                  -9,
                  10
                ],
                [
                  22,
                  32
                ],
                [
                  -5,
                  -13
                ],
                [
                  58,
                  59
                ],
                [
                  -2,
                  36
                ],
                [
                  91,
                  106
                ],
                [
                  -3,
                  36
                ],
                [
                  4,
                  -4
                ],
                [
                  84,
                  75
                ],
                [
                  15,
                  28
                ],
                [
                  50,
                  55
                ],
                [
                  47,
                  65
                ],
                [
                  -3,
                  -5
                ],
                [
                  -7,
                  -9
                ],
                [
                  0,
                  -1
                ],
                [
                  -3,
                  -20
                ],
                [
                  1,
                  34
                ],
                [
                  -7,
                  -24
                ],
                [
                  63,
                  55
                ],
                [
                  -3,
                  -7
                ],
                [
                  -3,
                  -10
                ],
                [
                  119,
                  129
                ],
                [
                  34,
                  29
                ],
                [
                  61,
                  49
                ],
                [
                  -8,
                  -4
                ],
                [
                  10,
                  14
                ],
                [
                  10,
                  9
                ],
                [
                  -1,
                  -25
                ],
                [
                  -6,
                  -17
                ],
                [
                  63,
                  54
                ],
                [
                  1,
                  -12
                ],
                [
                  1,
                  -17
                ],
                [
                  -3,
                  -9
                ],
                [
                  73,
                  62
                ],
                [
                  32,
                  29
                ],
                [
                  -9,
                  -26
                ],
                [
                  60,
                  42
                ],
                [
                  53,
                  44
                ],
                [
                  -2,
                  -6
                ],
                [
                  110,
                  101
                ],
                [
                  41,
                  33
                ],
                [
                  71,
                  79
                ],
                [
                  45,
                  76
                ],
                [
                  16,
                  49
                ],
                [
                  111,
                  128
                ],
                [
                  65,
                  55
                ],
                [
                  0,
                  -11
                ],
                [
                  0,
                  -5
                ],
                [
                  38,
                  75
                ],
                [
                  36,
                  17
                ],
                [
                  6,
                  26
                ],
                [
                  39,
                  34
                ],
                [
                  -8,
                  -6
                ],
                [
                  70,
                  54
                ],
                [
                  -6,
                  -25
                ],
                [
                  84,
                  76
                ],
                [
                  40,
                  34
                ],
                [
                  -3,
                  -5
                ],
                [
                  60,
                  29
                ],
                [
                  27,
                  16
                ],
                [
                  101,
                  95
                ],
                [
                  0,
                  -2
                ],
                [
                  28,
                  45
                ],
                [
                  38,
                  31
                ],
                [
                  -5,
                  -19
                ],
                [
                  -2,
                  4
                ],
                [
                  68,
                  48
                ],
                [
                  -2,
                  -15
                ],
                [
                  -2,
                  1
                ],
                [
                  61,
                  57
                ],
                [
                  5,
                  28
                ],
                [
                  2,
                  -17
                ],
                [
                  33,
                  31
                ],
                [
                  42,
                  31
                ],
                [
                  10,
                  10
                ],
                [
                  41,
                  32
                ],
                [
                  -8,
                  -33
                ],
                [
                  -6,
                  40
                ],
                [
                  2,
                  27
                ],
                [
                  25,
                  5
                ],
                [
                  -6,
                  -45
                ],
                [
                  14,
                  19
                ],
                [
                  -1,
                  -10
                ],
                [
                  -2,
                  1
                ],
                [
                  25,
                  96
                ],
                [
                  1,
                  -2
                ],
                [
                  50,
                  65
                ],
                [
                  4,
                  11
                ],
                [
                  125,
                  121
                ],
                [
                  -4,
                  2
                ],
                [
                  -8,
                  5
                ],
                [
                  -3,
                  -8
                ],
                [
                  8,
                  26
                ],
                [
                  115,
                  110
                ],
                [
                  2,
                  -8
                ],
                [
                  1,
                  -7
                ],
                [
                  96,
                  76
                ],
                [
                  -3,
                  -18
                ],
                [
                  -7,
                  -15
                ],
                [
                  39,
                  113
                ],
                [
                  58,
                  42
                ],
                [
                  78,
                  60
                ],
                [
                  17,
                  6
                ],
                [
                  30,
                  23
                ],
                [
                  33,
                  26
                ],
                [
                  -1,
                  -14
                ],
                [
                  39,
                  43
                ],
                [
                  69,
                  88
                ],
                [
                  14,
                  56
                ],
                [
                  10,
                  -9
                ],
                [
                  50,
                  45
                ],
                [
                  -4,
                  0
                ],
                [
                  -4,
                  1
                ],
                [
                  113,
                  90
                ],
                [
                  -9,
                  -11
                ],
                [
                  16,
                  3
                ],
                [
                  54,
                  33
                ],
                [
                  131,
                  114
                ],
                [
                  37,
                  69
                ],
                [
                  20,
                  17
                ],
                [
                  65,
                  61
                ],
                [
                  41,
                  35
                ],
                [
                  -2,
                  -17
                ],
                [
                  113,
                  112
                ],
                [
                  43,
                  35
                ],
                [
                  43,
                  32
                ],
                [
                  -2,
                  -5
                ],
                [
                  0,
                  1
                ],
                [
                  -9,
                  -9
                ],
                [
                  130,
                  108
                ],
                [
                  85,
                  68
                ],
                [
                  104,
                  100
                ],
                [
                  81,
                  78
                ],
                [
                  -4,
                  -12
                ],
                [
                  14,
                  34
                ],
                [
                  -6,
                  -2
                ],
                [
                  24,
                  64
                ],
                [
                  -1,
                  -8
                ],
                [
                  -2,
                  -8
                ],
                [
                  23,
                  35
                ],
                [
                  34,
                  43
                ],
                [
                  42,
                  49
                ],
                [
                  17,
                  14
                ],
                [
                  -10,
                  -18
                ],
                [
                  36,
                  28
                ],
                [
                  2,
                  1
                ],
                [
                  -8,
                  -18
                ],
                [
                  47,
                  26
                ],
                [
                  -4,
                  -14
                ],
                [
                  13,
                  29
                ],
                [
                  -5,
                  -8
                ],
                [
                  -7,
                  -9
                ],
                [
                  24,
                  37
                ],
                [
                  56,
                  49
                ],
                [
                  -4,
                  -6
                ],
                [
                  39,
                  33
                ],
                [
                  -8,
                  -9
                ],
                [
                  5,
                  -5
                ],
                [
                  22,
                  -3
                ],
                [
                  47,
                  50
                ],
                [
                  -2,
                  34
                ],
                [
                  72,
                  69
                ],
                [
                  47,
                  43
                ],
                [
                  64,
                  75
                ],
                [
                  -9,
                  -26
                ],
                [
                  47,
                  43
                ],
                [
                  78,
                  64
                ],
                [
                  39,
                  26
                ],
                [
                  25,
                  48
                ],
                [
                  37,
                  33
                ],
                [
                  27,
                  20
                ],
                [
                  17,
                  28
                ],
                [
                  -8,
                  -16
                ],
                [
                  25,
                  38
                ],
                [
                  28,
                  44
                ],
                [
                  4,
                  12
                ],
                [
                  -5,
                  -9
                ],
                [
                  114,
                  111
                ],
                [
                  7,
                  3
                ],
                [
                  -4,
                  -4
                ],
                [
                  1,
                  -9
                ],
                [
                  -4,
                  14
                ],
                [
                  6,
                  -5
                ],
                [
                  1,
                  87
                ],
                [
                  -6,
                  -15
                ],
                [
                  53,
                  47
                ],
                [
                  9,
                  13
                ],
                [
                  75,
                  63
                ],
                [
                  -1,
                  -10
                ],
                [
                  -12,
                  2
                ],
                [
                  -4,
                  7
                ],
                [
                  -2,
                  1
                ],
                [
                  47,
                  44
                ],
                [
                  -2,
                  10
                ],
                [
                  9,
                  65
                ],
                [
                  -10,
                  -44
                ],
                [
                  23,
                  48
                ],
                [
                  0,
                  -17
                ],
                [
                  -11,
                  -13
                ],
                [
                  0,
                  -7
                ],
                [
                  -2,
                  5
                ],
                [
                  71,
                  51
                ],
                [
                  -2,
                  -14
                ],
                [
                  120,
                  103
                ],
                [
                  84,
                  71
                ],
                [
                  -1,
                  21
                ],
                [
                  17,
                  1
                ],
                [
                  13,
                  9
                ],
                [
                  -5,
                  -13
                ],
                [
                  97,
                  74
                ],
                [
                  -6,
                  36
                ],
                [
                  97,
                  113
                ],
                [
                  89,
                  91
                ],
                [
                  50,
                  54
                ],
                [
                  15,
                  12
                ],
                [
                  14,
                  -3
                ],
                [
                  30,
                  36
                ],
                [
                  -6,
                  -19
                ],
                [
                  38,
                  33
                ],
                [
                  46,
                  49
                ],
                [
                  -2,
                  -17
                ],
                [
                  0,
                  -9
                ]
              ]
            },
            "text/plain": "<Spark SQL result set with 1000 rows and 2 fields>"
          },
          "execution_count": 23,
          "metadata": {}
        }
      ],
      "metadata": {
        "jupyter": {
          "outputs_hidden": false,
          "source_hidden": false
        },
        "microsoft": {
          "language": "sparksql"
        },
        "nteract": {
          "transient": {
            "deleting": false
          }
        },
        "collapsed": false
      },
      "source": [
        "%%sql\n",
        "SELECT DepDelay, ArrDelay FROM flightData"
      ]
    },
    {
      "cell_type": "markdown",
      "metadata": {
        "nteract": {
          "transient": {
            "deleting": false
          }
        }
      },
      "source": [
        "View the utput as a chart, and set the view options as follows:\n",
        "\n",
        "- **Chart type**: Scatter chart\n",
        "- **Key**: DepDelay\n",
        "- **Values**: ArrDelay\n",
        "- **Series Group**: *blank*\n",
        "- **Aggregation**: Avg\n",
        "\n",
        "The scatter plot shows the average arrival deplay for each recorded departure delay. Note that the points form a diagonal line, which indicates a strong linear relationship between departure delay and arrival delay.\n",
        "\n",
        "This linear relationship shows a *correlation* between these two values, which we can measure statistically. The **corr** function calculates a correlation value between -1 and 1, indicating the strength of correlation between two fields. A strong positive correlation (near 1) indicates that high values for one column are often found with high values for the other, which a strong negative correlation (near -1) indicates that *low* values for one column are often found with *high* values for the other. A correlation near 0 indicates little apparent relationship between the fields.\n",
        "\n",
        "Run the following cell to see the correlation statistic for these two variables."
      ]
    },
    {
      "cell_type": "code",
      "execution_count": 24,
      "outputs": [
        {
          "output_type": "display_data",
          "data": {
            "application/vnd.livy.statement-meta+json": {
              "spark_pool": "sparkezi1n72",
              "session_id": "35",
              "statement_id": 24,
              "state": "finished",
              "livy_statement_state": "available",
              "queued_time": "2022-11-16T10:40:41.5353778Z",
              "session_start_time": null,
              "execution_start_time": "2022-11-16T10:40:41.6621828Z",
              "execution_finish_time": "2022-11-16T10:40:54.582732Z",
              "spark_jobs": null
            },
            "text/plain": "StatementMeta(sparkezi1n72, 35, 24, Finished, Available)"
          },
          "metadata": {}
        },
        {
          "output_type": "execute_result",
          "data": {
            "text/plain": "0.8970100122207615"
          },
          "execution_count": 67,
          "metadata": {}
        }
      ],
      "metadata": {},
      "source": [
        "data.corr(\"DepDelay\", \"ArrDelay\")"
      ]
    },
    {
      "cell_type": "markdown",
      "metadata": {},
      "source": [
        "The correlation is close to 1, indicating a reasonably strong positive correlation between departure delay and arrval delay. Flights that depart late, unsurprisingly, often arrive late!"
      ]
    },
    {
      "cell_type": "markdown",
      "metadata": {
        "nteract": {
          "transient": {
            "deleting": false
          }
        }
      },
      "source": [
        "## Train a machine learning model\n",
        "\n",
        "In a real scenario, a data scientist would explore the statistical distributions and relationships in the data in more depth, and perform *feature engineering* to prepare the dataset for training a machine learning model. In this exercise, we've provided a prepared version of the data for you. Use the following code to load it into a dataframe."
      ]
    },
    {
      "cell_type": "code",
      "execution_count": 29,
      "outputs": [
        {
          "output_type": "display_data",
          "data": {
            "application/vnd.livy.statement-meta+json": {
              "spark_pool": "sparkezi1n72",
              "session_id": "35",
              "statement_id": 29,
              "state": "finished",
              "livy_statement_state": "available",
              "queued_time": "2022-11-16T10:45:38.1061548Z",
              "session_start_time": null,
              "execution_start_time": "2022-11-16T10:45:38.2346886Z",
              "execution_finish_time": "2022-11-16T10:45:38.9570241Z",
              "spark_jobs": null
            },
            "text/plain": "StatementMeta(sparkezi1n72, 35, 29, Finished, Available)"
          },
          "metadata": {}
        },
        {
          "output_type": "display_data",
          "data": {
            "application/vnd.synapse.widget-view+json": {
              "widget_id": "16dcf856-937b-44cb-bdcf-3a9ce29eaa87",
              "widget_type": "Synapse.DataFrame"
            },
            "text/plain": "SynapseWidget(Synapse.DataFrame, 16dcf856-937b-44cb-bdcf-3a9ce29eaa87)"
          },
          "metadata": {}
        }
      ],
      "metadata": {
        "jupyter": {
          "outputs_hidden": false,
          "source_hidden": false
        },
        "nteract": {
          "transient": {
            "deleting": false
          }
        },
        "collapsed": false
      },
      "source": [
        "flightSchema = StructType([\n",
        "  StructField(\"DayofMonth\", IntegerType(), False),\n",
        "  StructField(\"DayOfWeek\", IntegerType(), False),\n",
        "  StructField(\"Carrier\", StringType(), False),\n",
        "  StructField(\"OriginAirportID\", IntegerType(), False),\n",
        "  StructField(\"DestAirportID\", IntegerType(), False),\n",
        "  StructField(\"DepDelay\", IntegerType(), False),\n",
        "  StructField(\"ArrDelay\", IntegerType(), False),\n",
        "  StructField(\"Late\", IntegerType(), False),\n",
        "])\n",
        "\n",
        "\n",
        "data = spark.read.csv('abfss://data@datalakeezi1n72.dfs.core.windows.net/flights.csv', schema=flightSchema, header=True)\n",
        "\n",
        "display(data.limit(5))"
      ]
    },
    {
      "cell_type": "markdown",
      "metadata": {
        "nteract": {
          "transient": {
            "deleting": false
          }
        }
      },
      "source": [
        "### Split the training data\n",
        "\n",
        "It is common practice when building supervised machine learning models to split the source data, using some of it to train the model and reserving some to test the trained model. In this exercise, you will use 70% of the data for training, and reserve 30% for testing."
      ]
    },
    {
      "cell_type": "code",
      "execution_count": 30,
      "outputs": [
        {
          "output_type": "display_data",
          "data": {
            "application/vnd.livy.statement-meta+json": {
              "spark_pool": "sparkezi1n72",
              "session_id": "35",
              "statement_id": 30,
              "state": "finished",
              "livy_statement_state": "available",
              "queued_time": "2022-11-16T10:45:44.8692944Z",
              "session_start_time": null,
              "execution_start_time": "2022-11-16T10:45:44.9962057Z",
              "execution_finish_time": "2022-11-16T10:45:46.9148302Z",
              "spark_jobs": null
            },
            "text/plain": "StatementMeta(sparkezi1n72, 35, 30, Finished, Available)"
          },
          "metadata": {}
        },
        {
          "output_type": "stream",
          "name": "stdout",
          "text": [
            "Training Rows: 446310  Testing Rows: 190773\n"
          ]
        }
      ],
      "metadata": {
        "jupyter": {
          "outputs_hidden": false,
          "source_hidden": false
        },
        "nteract": {
          "transient": {
            "deleting": false
          }
        }
      },
      "source": [
        "splits = data.randomSplit([0.7, 0.3])\n",
        "train = splits[0]\n",
        "test = splits[1]\n",
        "train_rows = train.count()\n",
        "test_rows = test.count()\n",
        "print (\"Training Rows:\", train_rows, \" Testing Rows:\", test_rows)"
      ]
    },
    {
      "cell_type": "markdown",
      "metadata": {
        "nteract": {
          "transient": {
            "deleting": false
          }
        }
      },
      "source": [
        "### Define a model training pipeline\n",
        "\n",
        "A machine learning model is created by fitiing the training data to an algorithm that uses the input *features* to calculate a probably value for a predicted *label*. There are lots of available algorithms for specific kinds of machine learning model. or example, *classification* algorithms like *logistic regression* use features as inputs to calculate a probably *class* (or categorization); while *regression* algorithms, like *linear regression*, can be used to predict a numeric value. In this case, we're trying to predict whether a flight is going to be late or not, so this is an example of a *classification* problem. Specifically, since it requires a prediction based on two possible classes (essentially, *true* or *false*), it's an example of *binary classification*.\n",
        "\n",
        "However, while you can train a model by fitting your raw data to an algorithm, a good model often requires multiple stages of feature preparation. For example, it is common when using some algorithms to distingish between continuous features (which have a calculable numeric value) and categorical features (which are numeric representations of discrete categories). It is also common to *normalize* continuous numeric features to use a common scale - for example, by scaling all numbers to a proportional decimal value between 0 and 1 (strictly speaking, it only really makes sense to do this when you have multiple numeric columns - normalizing them all to similar scales prevents a feature with particularly large values from dominating the training of the model - in this case, we only have one non-categorical numeric feature; but we've included this so you can see how it's done!).\n",
        "\n",
        "A pipeline consists of a series of *transformer* and *estimator* components that typically prepare a dataframe for\n",
        "modeling and then train a predictive model. In this case, you will create a pipeline with the following components:\n",
        "- A **StringIndexer** estimator for each categorical variable to generate numeric indexes for categorical features\n",
        "- A **VectorAssembler** that creates a vector of continuous numeric features\n",
        "- A **MinMaxScaler** that normalizes vector of numeric features\n",
        "- A **VectorAssembler** that creates a vector of categorical and continuous features\n",
        "- A **LogisticRegression** algorithm that trains a classification model.\n",
        ""
      ]
    },
    {
      "cell_type": "code",
      "execution_count": 31,
      "outputs": [
        {
          "output_type": "display_data",
          "data": {
            "application/vnd.livy.statement-meta+json": {
              "spark_pool": "sparkezi1n72",
              "session_id": "35",
              "statement_id": 31,
              "state": "finished",
              "livy_statement_state": "available",
              "queued_time": "2022-11-16T10:45:48.0263575Z",
              "session_start_time": null,
              "execution_start_time": "2022-11-16T10:45:48.1468515Z",
              "execution_finish_time": "2022-11-16T10:45:48.3144889Z",
              "spark_jobs": null
            },
            "text/plain": "StatementMeta(sparkezi1n72, 35, 31, Finished, Available)"
          },
          "metadata": {}
        },
        {
          "output_type": "stream",
          "name": "stdout",
          "text": [
            "Pipeline defined:\n[StringIndexer_9c06a88650e6, StringIndexer_7b1824bc5c20, StringIndexer_fcc4b97b6e9d, StringIndexer_972b52d80f1c, StringIndexer_4bb204382f19, VectorAssembler_7adf20b4b5d2, MinMaxScaler_a1a254c9cf75, VectorAssembler_2dcbb6a7d0b6, LogisticRegression_d5ce1692f4d7]\n"
          ]
        }
      ],
      "metadata": {
        "jupyter": {
          "outputs_hidden": false,
          "source_hidden": false
        },
        "nteract": {
          "transient": {
            "deleting": false
          }
        }
      },
      "source": [
        "from pyspark.sql.types import *\n",
        "from pyspark.sql.functions import *\n",
        "from pyspark.ml import Pipeline\n",
        "from pyspark.ml.classification import LogisticRegression\n",
        "from pyspark.ml.feature import VectorAssembler, StringIndexer, MinMaxScaler\n",
        "\n",
        "# convert monthdays to indexed categories\n",
        "monthdayIndexer = StringIndexer(inputCol=\"DayofMonth\", outputCol=\"DayofMonthIdx\")\n",
        "# convert weekdays to indexed categories\n",
        "weekdayIndexer = StringIndexer(inputCol=\"DayOfWeek\", outputCol=\"DayOfWeekIdx\")\n",
        "# convert carriers to indexed categories\n",
        "carrierIndexer = StringIndexer(inputCol=\"Carrier\", outputCol=\"CarrierIdx\")\n",
        "# convert origins to indexed categories\n",
        "originIndexer = StringIndexer(inputCol=\"OriginAirportID\", outputCol=\"OriginAirportIdx\")\n",
        "# convert destinations to indexed categories\n",
        "destIndexer = StringIndexer(inputCol=\"DestAirportID\", outputCol=\"DestAirportIdx\")\n",
        "# Create a vector of all numeric variables (in this case, departure delay)\n",
        "numVect = VectorAssembler(inputCols = [\"DepDelay\"], outputCol=\"numFeatures\")\n",
        "# Normalize numerica variables\n",
        "minMax = MinMaxScaler(inputCol = numVect.getOutputCol(), outputCol=\"normNums\")\n",
        "#Create a single vector containing all feaures\n",
        "featVect = VectorAssembler(inputCols=[\"DayofMonthIdx\", \"DayOfWeekIdx\", \"CarrierIdx\", \"OriginAirportIdx\", \"DestAirportIdx\", \"normNums\"], outputCol=\"features\")\n",
        "# Use a logistic regression algorithm to predict the \"Late\" label from the vector of features\n",
        "lr = LogisticRegression(labelCol=\"Late\", featuresCol=\"features\")\n",
        "# Define a pipeline with all these steps in the right order\n",
        "pipeline = Pipeline(stages=[monthdayIndexer, weekdayIndexer, carrierIndexer, originIndexer, destIndexer, numVect, minMax, featVect, lr])\n",
        "print (\"Pipeline defined:\")\n",
        "print (pipeline.getStages())\n",
        ""
      ]
    },
    {
      "cell_type": "markdown",
      "metadata": {
        "nteract": {
          "transient": {
            "deleting": false
          }
        }
      },
      "source": [
        "### Train the model\n",
        "\n",
        "The pipeline itself is an estimator, and so it has a **fit** method that you can call to run the pipeline on a specified dataframe. In this case, you will run the pipeline on the training data to train a model."
      ]
    },
    {
      "cell_type": "code",
      "execution_count": 32,
      "outputs": [
        {
          "output_type": "display_data",
          "data": {
            "application/vnd.livy.statement-meta+json": {
              "spark_pool": "sparkezi1n72",
              "session_id": "35",
              "statement_id": 32,
              "state": "finished",
              "livy_statement_state": "available",
              "queued_time": "2022-11-16T10:45:50.9479333Z",
              "session_start_time": null,
              "execution_start_time": "2022-11-16T10:45:51.0728587Z",
              "execution_finish_time": "2022-11-16T10:46:10.7241315Z",
              "spark_jobs": null
            },
            "text/plain": "StatementMeta(sparkezi1n72, 35, 32, Finished, Available)"
          },
          "metadata": {}
        },
        {
          "output_type": "stream",
          "name": "stdout",
          "text": [
            "Model trained!\n"
          ]
        }
      ],
      "metadata": {
        "jupyter": {
          "outputs_hidden": false,
          "source_hidden": false
        },
        "nteract": {
          "transient": {
            "deleting": false
          }
        }
      },
      "source": [
        "model = pipeline.fit(train)\n",
        "print (\"Model trained!\")"
      ]
    },
    {
      "cell_type": "markdown",
      "metadata": {
        "nteract": {
          "transient": {
            "deleting": false
          }
        }
      },
      "source": [
        "### Test the Model\n",
        "\n",
        "Now you're ready to use the **transform** method of the model to generate some predictions. You can use this approach to predict delay status for flights where the label is unknown; but in this case you are using the test data which includes a known true label value, so you can compare the predicted status to the actual status."
      ]
    },
    {
      "cell_type": "code",
      "execution_count": 40,
      "outputs": [
        {
          "output_type": "display_data",
          "data": {
            "application/vnd.livy.statement-meta+json": {
              "spark_pool": "sparkezi1n72",
              "session_id": "35",
              "statement_id": 40,
              "state": "finished",
              "livy_statement_state": "available",
              "queued_time": "2022-11-16T11:13:14.3543241Z",
              "session_start_time": null,
              "execution_start_time": "2022-11-16T11:13:14.520076Z",
              "execution_finish_time": "2022-11-16T11:13:16.6711306Z",
              "spark_jobs": null
            },
            "text/plain": "StatementMeta(sparkezi1n72, 35, 40, Finished, Available)"
          },
          "metadata": {}
        },
        {
          "output_type": "display_data",
          "data": {
            "application/vnd.synapse.widget-view+json": {
              "widget_id": "fd3edfdc-71cb-4c27-9cbe-c9b50b0276bf",
              "widget_type": "Synapse.DataFrame"
            },
            "text/plain": "SynapseWidget(Synapse.DataFrame, fd3edfdc-71cb-4c27-9cbe-c9b50b0276bf)"
          },
          "metadata": {}
        }
      ],
      "metadata": {
        "jupyter": {
          "outputs_hidden": false,
          "source_hidden": false
        },
        "nteract": {
          "transient": {
            "deleting": false
          }
        },
        "collapsed": false
      },
      "source": [
        "prediction = model.transform(test)\n",
        "predicted = prediction.select(\"features\", \"probability\", col(\"prediction\").cast(\"Int\"), col(\"Late\").alias(\"trueLabel\"))\n",
        "display(predicted.limit(5))"
      ]
    },
    {
      "cell_type": "markdown",
      "metadata": {
        "nteract": {
          "transient": {
            "deleting": false
          }
        }
      },
      "source": [
        "Looking at the result, the **prediction** column contains the predicted value for the label, and the **trueLabel** column contains the actual known value from the testing data.\n",
        "\n",
        "Note that the **features** and **probability** columns are vectors. You can expand them to see the individual values they contain. The **features** vector contains the input variables for the model's algorithm.\n",
        "\n",
        "The **probability** vector contains the probability that the algorithm calculated for each possible class: 0 and 1 (which correspond to *not-late* and *late*). It looks like there are a mix of correct and incorrect predictions, and the ones that are incorrect tend to have fairly close probabilities for each class.\n",
        ""
      ]
    },
    {
      "cell_type": "markdown",
      "metadata": {
        "nteract": {
          "transient": {
            "deleting": false
          }
        }
      },
      "source": [
        "### Compute confusion matrix metrics\n",
        "\n",
        "While we could explore the set of prediced and actual label values, and calculate accuracy by comparing how many predictions were correct compared to how many were wrong; which would be a tedious way to evaluate the mode. Additionally, a simple accuracy measure calculated this way may not be as useful an indication of model performance as you moight think. Consider that most flights, let's say 90%, arrive on-time. You could train a model that always predicts ***0***, and it would have an accuracy of 90% - it just wouln't be very helpful to predict which flights are likely to be a late!\n",
        "\n",
        "For these reasons, the predictive performamce of a binary classifier such as ours is usually measured using some standard metrics based on the *confusion matrix* formed by the number of cases in each of the following four categories:\n",
        "\n",
        "* *True Positives*: The predicted label and the actual label are both 1.\n",
        "* *False Positives*: The predicted label is 1, but the actual label is 0.\n",
        "* *False Negatives*: The predicted label is 0, but the actual label is 1.\n",
        "* *True Negatives*: The predicted label and the actual label are both 0.\n",
        "\n",
        "These metrics are generally tabulated for the test set and shown together as a *confusion matrix*, which takes the following form:\n",
        "\n",
        "<table style=\"border: 1px solid black;\">\n",
        "    <tr style=\"border: 1px solid black;\">\n",
        "        <td style=\"border: 1px solid black;color: black;\" bgcolor=\"lightgray\">TN</td><td style=\"border: 1px solid black;color: black;\" bgcolor=\"white\">FP</td>\n",
        "    </tr>\n",
        "    <tr style=\"border: 1px solid black;\">\n",
        "        <td style=\"border: 1px solid black;color: black;\" bgcolor=\"white\">FN</td><td style=\"border: 1px solid black;color: black;\" bgcolor=\"lightgray\">TP</td>\n",
        "    </tr>\n",
        "</table>\n",
        "\n",
        "From these metrics, some further evaluation measurements can be derived for each class:\n",
        "\n",
        "* *Precision*: Of the predictons the model made for this class, what proportion were correct?\n",
        "* *Recall*: Out of all of the instances of this class in the test dataset, how many did the model identify?\n",
        "* *F1-Score*: An average metric that takes both precision and recall for the given class into account.\n",
        "\n",
        "You can then average these metrics out across all possible classes to determine overall metrics."
      ]
    },
    {
      "cell_type": "code",
      "execution_count": 34,
      "outputs": [
        {
          "output_type": "display_data",
          "data": {
            "application/vnd.livy.statement-meta+json": {
              "spark_pool": "sparkezi1n72",
              "session_id": "35",
              "statement_id": 34,
              "state": "finished",
              "livy_statement_state": "available",
              "queued_time": "2022-11-16T10:46:22.2253889Z",
              "session_start_time": null,
              "execution_start_time": "2022-11-16T10:46:22.3476822Z",
              "execution_finish_time": "2022-11-16T10:46:35.3405288Z",
              "spark_jobs": null
            },
            "text/plain": "StatementMeta(sparkezi1n72, 35, 34, Finished, Available)"
          },
          "metadata": {}
        },
        {
          "output_type": "stream",
          "name": "stdout",
          "text": [
            "\nConfusion Matrix:\n[[81744.  7212.]\n [13127. 88690.]]\n\nMetrics for class 0:\nPrecision: 0.861633165034626\nRecall: 0.9189262107109133\nF1: 0.8893579289223019\n\nMetrics for class 1:\nPrecision: 0.9247982315280182\nRecall: 0.8710726106642309\nF1: 0.8971317880426262\n\nOverall metrics:\nOverall precision: 0.8953448410849985\nOverall recall: 0.8933863806723173\nOverall F1: 0.8935068966171751\n"
          ]
        }
      ],
      "metadata": {
        "jupyter": {
          "outputs_hidden": false,
          "source_hidden": false
        },
        "nteract": {
          "transient": {
            "deleting": false
          }
        }
      },
      "source": [
        "from pyspark.mllib.evaluation import MulticlassMetrics\n",
        "\n",
        "label_and_prediction = prediction.select([col('Late').cast(\"Double\").alias(\"label\"), col('prediction').cast(\"Double\")]) \\\n",
        "                            .rdd.map(lambda line: (line[1], line[0]))\n",
        "metrics = MulticlassMetrics(label_and_prediction)\n",
        "\n",
        "# Confusion Matrix\n",
        "cm = metrics.confusionMatrix().toArray()\n",
        "print(\"\\nConfusion Matrix:\")\n",
        "print(cm)\n",
        "print (\"\\nMetrics for class 0:\")\n",
        "print(\"Precision: %s\" % metrics.precision(0))\n",
        "print(\"Recall: %s\" % metrics.recall(0))\n",
        "print(\"F1: %s\" % metrics.fMeasure(0.0))\n",
        "print (\"\\nMetrics for class 1:\")\n",
        "print(\"Precision: %s\" % metrics.precision(1))\n",
        "print(\"Recall: %s\" % metrics.recall(1))\n",
        "print(\"F1: %s\" % metrics.fMeasure(1.0))\n",
        "print (\"\\nOverall metrics:\")\n",
        "print(\"Overall precision: %s\" % metrics.weightedPrecision)\n",
        "print(\"Overall recall: %s\" % metrics.weightedRecall)\n",
        "print(\"Overall F1: %s\" % metrics.weightedFMeasure())"
      ]
    },
    {
      "cell_type": "markdown",
      "metadata": {
        "nteract": {
          "transient": {
            "deleting": false
          }
        }
      },
      "source": [
        "The precision, recall, and F1 metrics are calculated as values between 0 and 1. The closer to 1 they are, the better the model is performing.\n",
        "\n",
        "Note also that the confusion matrix shows the intersections between counts of predicted and actual values. This means that a model that is predicting well will have a diagonal trend of higher values for the intersection of cases where the *actual* and *predicted* values are the same. This can often be easier to visualize as a heat map:"
      ]
    },
    {
      "cell_type": "code",
      "execution_count": 35,
      "outputs": [
        {
          "output_type": "display_data",
          "data": {
            "application/vnd.livy.statement-meta+json": {
              "spark_pool": "sparkezi1n72",
              "session_id": "35",
              "statement_id": 35,
              "state": "finished",
              "livy_statement_state": "available",
              "queued_time": "2022-11-16T10:46:24.9354079Z",
              "session_start_time": null,
              "execution_start_time": "2022-11-16T10:46:35.4672135Z",
              "execution_finish_time": "2022-11-16T10:46:36.0133693Z",
              "spark_jobs": null
            },
            "text/plain": "StatementMeta(sparkezi1n72, 35, 35, Finished, Available)"
          },
          "metadata": {}
        },
        {
          "output_type": "display_data",
          "data": {
            "text/plain": "<Figure size 432x288 with 2 Axes>",
            "image/png": "[encoded data removed]"
          },
          "metadata": {
            "needs_background": "light"
          }
        }
      ],
      "metadata": {
        "jupyter": {
          "outputs_hidden": false,
          "source_hidden": false
        },
        "nteract": {
          "transient": {
            "deleting": false
          }
        }
      },
      "source": [
        "import numpy as np\n",
        "import matplotlib.pyplot as plt\n",
        "\n",
        "classes = ['0 (on-time)', '1 (late)']\n",
        "plt.imshow(cm, interpolation=\"nearest\", cmap=plt.cm.Blues)\n",
        "plt.colorbar()\n",
        "tick_marks = np.arange(len(classes))\n",
        "plt.xticks(tick_marks, classes, rotation=45)\n",
        "plt.yticks(tick_marks, classes)\n",
        "plt.xlabel(\"Predicted Class\")\n",
        "plt.ylabel(\"Actual Class\")\n",
        "plt.show()"
      ]
    },
    {
      "cell_type": "markdown",
      "metadata": {
        "nteract": {
          "transient": {
            "deleting": false
          }
        }
      },
      "source": [
        "### View the raw prediction and probability\n",
        "\n",
        "The prediction is based on a raw prediction score that describes a labelled point in a logistic function. This raw prediction is then converted to a predicted label of 0 or 1 based on a probability vector that indicates the confidence for each possible label value (in this case, 0 and 1). The value with the highest confidence is selected as the prediction."
      ]
    },
    {
      "cell_type": "code",
      "execution_count": 37,
      "outputs": [
        {
          "output_type": "display_data",
          "data": {
            "application/vnd.livy.statement-meta+json": {
              "spark_pool": "sparkezi1n72",
              "session_id": "35",
              "statement_id": 37,
              "state": "finished",
              "livy_statement_state": "available",
              "queued_time": "2022-11-16T10:47:55.4883615Z",
              "session_start_time": null,
              "execution_start_time": "2022-11-16T10:47:55.6371463Z",
              "execution_finish_time": "2022-11-16T10:47:57.5248701Z",
              "spark_jobs": null
            },
            "text/plain": "StatementMeta(sparkezi1n72, 35, 37, Finished, Available)"
          },
          "metadata": {}
        },
        {
          "output_type": "display_data",
          "data": {
            "application/vnd.synapse.widget-view+json": {
              "widget_id": "63b0b4bf-8a0c-410c-945e-a53397aea62c",
              "widget_type": "Synapse.DataFrame"
            },
            "text/plain": "SynapseWidget(Synapse.DataFrame, 63b0b4bf-8a0c-410c-945e-a53397aea62c)"
          },
          "metadata": {}
        }
      ],
      "metadata": {
        "jupyter": {
          "outputs_hidden": false,
          "source_hidden": false
        },
        "nteract": {
          "transient": {
            "deleting": false
          }
        },
        "collapsed": false
      },
      "source": [
        "raw_predictions = prediction.select(\"rawPrediction\", \"probability\", col(\"prediction\").cast(\"int\"), col(\"Late\").alias(\"trueLabel\"))\n",
        "display(raw_predictions.limit(5))"
      ]
    },
    {
      "cell_type": "markdown",
      "metadata": {
        "nteract": {
          "transient": {
            "deleting": false
          }
        }
      },
      "source": [
        "Note that the results include rows where the probability for 0 (the first value in the **probability** vector) is only slightly higher than the probability for 1 (the second value in the **probability** vector). The default *discrimination threshold* (the boundary that decides whether a probability is predicted as a 1 or a 0) is set to 0.5; so the prediction with the highest probability is always used, no matter how close to the threshold.\n",
        "\n",
        "### Review the Area Under ROC\n",
        "\n",
        "Moving the probability threshold above which the model predicts ***1*** would alter the number of true positives and false positives in the confusion matrix. A threshold of zero would predict every case as 1 (positive), while a threshold of 1 would predict every case as 0 (negative). The rate of true-postive and false-postive predictions between these thresholds is a good way to measure the predictive accuracy of a model. An ideal model will show a plotted line that rises vertically up the *true-positive rate* axis and stays at the maximum value (1) across the *false-positive rate*. The *area under the curve* (AUC) can then be calculated as a value between 0 and 1, with a value of 1 indicating a perfect model. In the case of a binary classification model, you can compare this AUC value with 0.5; which would represent the expected prediction rate for a random guess, and which can be plotted as a diagonal line through the ROC curve.\n",
        "\n",
        "It's generally easier to understand the AUC metric visually by plotting the ROC curve:"
      ]
    },
    {
      "cell_type": "code",
      "execution_count": 38,
      "outputs": [
        {
          "output_type": "display_data",
          "data": {
            "application/vnd.livy.statement-meta+json": {
              "spark_pool": "sparkezi1n72",
              "session_id": "35",
              "statement_id": 38,
              "state": "finished",
              "livy_statement_state": "available",
              "queued_time": "2022-11-16T10:48:00.6263454Z",
              "session_start_time": null,
              "execution_start_time": "2022-11-16T10:48:00.7450981Z",
              "execution_finish_time": "2022-11-16T10:48:11.5201762Z",
              "spark_jobs": null
            },
            "text/plain": "StatementMeta(sparkezi1n72, 35, 38, Finished, Available)"
          },
          "metadata": {}
        },
        {
          "output_type": "display_data",
          "data": {
            "text/plain": "<Figure size 432x288 with 1 Axes>",
            "image/png": "[encoded data removed]"
          },
          "metadata": {
            "needs_background": "light"
          }
        },
        {
          "output_type": "stream",
          "name": "stdout",
          "text": [
            "AUC =  0.9482041138494933\n"
          ]
        }
      ],
      "metadata": {
        "jupyter": {
          "outputs_hidden": false,
          "source_hidden": false
        },
        "nteract": {
          "transient": {
            "deleting": false
          }
        }
      },
      "source": [
        "import matplotlib.pyplot as plt\n",
        "from pyspark.ml.evaluation import BinaryClassificationEvaluator\n",
        "\n",
        "# Plot the ROC curve\n",
        "modelSummary = model.stages[-1].summary\n",
        "plt.plot([0, 1], [0, 1], 'r--')\n",
        "plt.plot(modelSummary.roc.select('FPR').collect(),\n",
        "         modelSummary.roc.select('TPR').collect())\n",
        "plt.xlabel('False Positive Rate')\n",
        "plt.ylabel('True Positive Rate')\n",
        "plt.show()\n",
        "\n",
        "# Get the AUC\n",
        "evaluator = BinaryClassificationEvaluator(labelCol=\"Late\", rawPredictionCol=\"rawPrediction\", metricName=\"areaUnderROC\")\n",
        "auc = evaluator.evaluate(prediction)\n",
        "print (\"AUC = \", auc)"
      ]
    },
    {
      "cell_type": "markdown",
      "metadata": {
        "nteract": {
          "transient": {
            "deleting": false
          }
        }
      },
      "source": [
        "## Save and use a model for inferencing\n",
        "\n",
        "When you're happy with the performance of your model, you can save it. Then, when you need to use it for *inferencing* (predicting) labels for new data, you can load it and transform the new data with it."
      ]
    },
    {
      "cell_type": "code",
      "execution_count": 41,
      "outputs": [
        {
          "output_type": "display_data",
          "data": {
            "application/vnd.livy.statement-meta+json": {
              "spark_pool": "sparkezi1n72",
              "session_id": "35",
              "statement_id": 41,
              "state": "finished",
              "livy_statement_state": "available",
              "queued_time": "2022-11-16T11:13:51.9250075Z",
              "session_start_time": null,
              "execution_start_time": "2022-11-16T11:13:52.0715547Z",
              "execution_finish_time": "2022-11-16T11:14:13.6711934Z",
              "spark_jobs": null
            },
            "text/plain": "StatementMeta(sparkezi1n72, 35, 41, Finished, Available)"
          },
          "metadata": {}
        },
        {
          "output_type": "display_data",
          "data": {
            "application/vnd.synapse.widget-view+json": {
              "widget_id": "fbc68fe3-9893-456f-85af-6aaa70fadc84",
              "widget_type": "Synapse.DataFrame"
            },
            "text/plain": "SynapseWidget(Synapse.DataFrame, fbc68fe3-9893-456f-85af-6aaa70fadc84)"
          },
          "metadata": {}
        }
      ],
      "metadata": {
        "jupyter": {
          "outputs_hidden": false,
          "source_hidden": false
        },
        "nteract": {
          "transient": {
            "deleting": false
          }
        },
        "collapsed": false
      },
      "source": [
        "from pyspark.ml import PipelineModel\n",
        "\n",
        "# Save the model\n",
        "saved_model_path = '/models/flights.model'\n",
        "model.write().overwrite().save(saved_model_path)\n",
        "\n",
        "# Load new data for flights in-progress (for which we have no Late\" label)\n",
        "flightSchema = StructType([\n",
        "  StructField(\"DayofMonth\", IntegerType(), False),\n",
        "  StructField(\"DayOfWeek\", IntegerType(), False),\n",
        "  StructField(\"Carrier\", StringType(), False),\n",
        "  StructField(\"OriginAirportID\", IntegerType(), False),\n",
        "  StructField(\"DestAirportID\", IntegerType(), False),\n",
        "  StructField(\"DepDelay\", IntegerType(), False)\n",
        "])\n",
        "\n",
        "new_data = spark.read.csv('abfss://data@datalakeezi1n72.dfs.core.windows.net/new-flights.csv', schema=flightSchema, header=True)\n",
        "\n",
        "# Load the model\n",
        "loaded_model = PipelineModel.load(saved_model_path)\n",
        "\n",
        "# Predict labels for the new data\n",
        "inferences = loaded_model.transform(new_data)\n",
        "\n",
        "display(inferences)\n",
        ""
      ]
    },
    {
      "cell_type": "markdown",
      "metadata": {
        "nteract": {
          "transient": {
            "deleting": false
          }
        }
      },
      "source": [
        "In this notebook, you've explored how to use Spark MLlib to train and use a machine learning model.\n",
        "\n",
        "We've only scratched the surface of machine learning with MLlib. To learn more, see the [Spark MLlib documentation](https://spark.apache.org/docs/latest/ml-guide.html)."
      ]
    }
  ]
}