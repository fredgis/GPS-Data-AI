{
  "cells": [
    {
      "cell_type": "markdown",
      "source": [
        "# Predict NYC Taxi Tips \r\n",
        "The notebook ingests, prepares and then trains a model based on an Open Dataset that tracks NYC Yellow Taxi trips and various attributes around them. The goal is to for a given trip, predict whether there will be a tip or not. The model then will be converted to ONNX format and tracked by MLFlow.\r\n",
        "We will later use the ONNX model for inferencing in Azure Synapse SQL Pool using the new model scoring wizard.\r\n",
        "## Note:\r\n",
        "**Please note that this notebook was tested with Scikit-learn version 1.0.2 and Scikit-learn version 0.22.2.post1.**  \r\n",
        "If you need to downgrade your scikit-learn, uncomment the line in the below cell and run it. Once it completes running, restart the kernel.\r\n"
      ],
      "metadata": {
        "nteract": {
          "transient": {
            "deleting": false
          }
        }
      }
    },
    {
      "cell_type": "code",
      "source": [
        "#%pip install scikit-learn==0.22.2.post1\n",
        "%pip install onnx==1.11.0\n"
      ],
      "outputs": [],
      "execution_count": 1,
      "metadata": {
        "collapsed": true,
        "jupyter": {
          "source_hidden": false,
          "outputs_hidden": false
        },
        "nteract": {
          "transient": {
            "deleting": false
          }
        }
      }
    },
    {
      "cell_type": "markdown",
      "source": [
        "For your reference, here is a complete `pip list` of a working python environment running the `Python 3.8 - AzureML` kernel."
      ],
      "metadata": {
        "nteract": {
          "transient": {
            "deleting": false
          }
        }
      }
    },
    {
      "cell_type": "code",
      "source": [
        "%pip list"
      ],
      "outputs": [
        {
          "output_type": "stream",
          "name": "stdout",
          "text": "Package                                 Version\n--------------------------------------- -------------------\nabsl-py                                 0.15.0\nadal                                    1.2.7\nadlfs                                   2022.4.0\naiohttp                                 3.8.1\naiohttp-cors                            0.7.0\naiosignal                               1.2.0\nalembic                                 1.7.7\nansiwrap                                0.8.4\nantlr4-python3-runtime                  4.7.2\nanyio                                   3.5.0\napplicationinsights                     0.11.10\narch                                    4.14\nargcomplete                             2.0.0\nargon2-cffi                             21.3.0\nargon2-cffi-bindings                    21.2.0\narviz                                   0.11.2\nasgiref                                 3.5.1\nastroid                                 2.11.5\nasttokens                               2.0.5\nastunparse                              1.6.3\nasync-timeout                           4.0.2\nattrs                                   21.4.0\nauto-tqdm                               1.0.2\nautokeras                               1.0.16\nautopep8                                1.6.0\nazure-appconfiguration                  1.1.1\nazure-batch                             12.0.0\nazure-cli                               2.36.0\nazure-cli-core                          2.36.0\nazure-cli-telemetry                     1.0.6\nazure-common                            1.1.28\nazure-core                              1.23.1\nazure-cosmos                            3.2.0\nazure-data-tables                       12.2.0\nazure-datalake-store                    0.0.52\nazure-graphrbac                         0.61.1\nazure-identity                          1.7.0\nazure-keyvault                          1.1.0\nazure-keyvault-administration           4.0.0b3\nazure-keyvault-keys                     4.5.1\nazure-loganalytics                      0.1.1\nazure-mgmt-advisor                      9.0.0\nazure-mgmt-apimanagement                3.0.0\nazure-mgmt-appconfiguration             2.1.0b2\nazure-mgmt-applicationinsights          1.0.0\nazure-mgmt-authorization                2.0.0\nazure-mgmt-batch                        16.1.0\nazure-mgmt-batchai                      7.0.0b1\nazure-mgmt-billing                      6.0.0\nazure-mgmt-botservice                   0.3.0\nazure-mgmt-cdn                          12.0.0\nazure-mgmt-cognitiveservices            13.1.0\nazure-mgmt-compute                      26.1.0\nazure-mgmt-consumption                  2.0.0\nazure-mgmt-containerinstance            9.1.0\nazure-mgmt-containerregistry            9.1.0\nazure-mgmt-containerservice             19.0.0\nazure-mgmt-core                         1.3.0\nazure-mgmt-cosmosdb                     7.0.0b2\nazure-mgmt-databoxedge                  1.0.0\nazure-mgmt-datalake-analytics           0.2.1\nazure-mgmt-datalake-nspkg               3.0.1\nazure-mgmt-datalake-store               0.5.0\nazure-mgmt-datamigration                10.0.0\nazure-mgmt-deploymentmanager            0.2.0\nazure-mgmt-devtestlabs                  4.0.0\nazure-mgmt-dns                          8.0.0\nazure-mgmt-eventgrid                    9.0.0\nazure-mgmt-eventhub                     9.1.0\nazure-mgmt-extendedlocation             1.0.0b2\nazure-mgmt-hdinsight                    9.0.0\nazure-mgmt-imagebuilder                 1.0.0\nazure-mgmt-iotcentral                   9.0.0\nazure-mgmt-iothub                       2.2.0\nazure-mgmt-iothubprovisioningservices   1.1.0\nazure-mgmt-keyvault                     9.3.0\nazure-mgmt-kusto                        0.3.0\nazure-mgmt-loganalytics                 13.0.0b4\nazure-mgmt-managedservices              1.0.0\nazure-mgmt-managementgroups             1.0.0\nazure-mgmt-maps                         2.0.0\nazure-mgmt-marketplaceordering          1.1.0\nazure-mgmt-media                        9.0.0\nazure-mgmt-monitor                      3.0.0\nazure-mgmt-msi                          6.0.1\nazure-mgmt-netapp                       7.0.0\nazure-mgmt-network                      19.3.0\nazure-mgmt-nspkg                        3.0.2\nazure-mgmt-policyinsights               1.0.0\nazure-mgmt-privatedns                   1.0.0\nazure-mgmt-rdbms                        10.0.0\nazure-mgmt-recoveryservices             2.0.0\nazure-mgmt-recoveryservicesbackup       4.1.1\nazure-mgmt-redhatopenshift              1.0.0\nazure-mgmt-redis                        13.1.0\nazure-mgmt-relay                        0.1.0\nazure-mgmt-reservations                 0.6.0\nazure-mgmt-resource                     20.1.0\nazure-mgmt-search                       8.0.0\nazure-mgmt-security                     2.0.0b1\nazure-mgmt-servicebus                   7.1.0\nazure-mgmt-servicefabric                1.0.0\nazure-mgmt-servicefabricmanagedclusters 1.0.0\nazure-mgmt-servicelinker                1.0.0b2\nazure-mgmt-signalr                      1.0.0b2\nazure-mgmt-sql                          4.0.0b1\nazure-mgmt-sqlvirtualmachine            1.0.0b2\nazure-mgmt-storage                      19.1.0\nazure-mgmt-synapse                      2.1.0b2\nazure-mgmt-trafficmanager               1.0.0\nazure-mgmt-web                          6.1.0\nazure-multiapi-storage                  0.8.0\nazure-nspkg                             3.0.2\nazure-storage-blob                      12.11.0\nazure-storage-common                    1.4.2\nazure-storage-queue                     12.2.0\nazure-synapse-accesscontrol             0.5.0\nazure-synapse-artifacts                 0.12.0\nazure-synapse-managedprivateendpoints   0.3.0\nazure-synapse-spark                     0.2.0\nazureml-accel-models                    1.41.0\nazureml-automl-core                     1.41.0\nazureml-automl-dnn-nlp                  1.41.0\nazureml-automl-runtime                  1.41.0\nazureml-cli-common                      1.41.0\nazureml-contrib-automl-pipeline-steps   1.41.0\nazureml-contrib-dataset                 1.41.0\nazureml-contrib-fairness                1.41.0\nazureml-contrib-notebook                1.41.0\nazureml-contrib-pipeline-steps          1.41.0\nazureml-contrib-reinforcementlearning   1.41.0\nazureml-contrib-server                  1.41.0\nazureml-contrib-services                1.41.0\nazureml-core                            1.41.0\nazureml-datadrift                       1.41.0\nazureml-dataprep                        3.1.1\nazureml-dataprep-native                 38.0.0\nazureml-dataprep-rslex                  2.5.2\nazureml-dataset-runtime                 1.41.0\nazureml-defaults                        1.41.0\nazureml-explain-model                   1.41.0\nazureml-inference-server-http           0.4.13\nazureml-interpret                       1.41.0\nazureml-mlflow                          1.41.0\nazureml-opendatasets                    1.41.0\nazureml-pipeline                        1.41.0\nazureml-pipeline-core                   1.41.0\nazureml-pipeline-steps                  1.41.0\nazureml-responsibleai                   1.41.0\nazureml-samples                         0+unknown\nazureml-sdk                             1.41.0\nazureml-telemetry                       1.41.0\nazureml-tensorboard                     1.41.0\nazureml-train                           1.41.0\nazureml-train-automl                    1.41.0\nazureml-train-automl-client             1.41.0\nazureml-train-automl-runtime            1.41.0\nazureml-train-core                      1.41.0\nazureml-train-restclients-hyperdrive    1.41.0\nazureml-training-tabular                1.41.0\nazureml-widgets                         1.41.0\nBabel                                   2.10.1\nbackcall                                0.2.0\nbackports.tempfile                      1.0\nbackports.weakref                       1.0.post1\nbackports.zoneinfo                      0.2.1\nbcrypt                                  3.2.0\nbeautifulsoup4                          4.11.1\nbleach                                  5.0.0\nblessed                                 1.19.1\nblis                                    0.4.1\nbokeh                                   2.4.2\nBoruta                                  0.3\nboto                                    2.49.0\nboto3                                   1.20.19\nbotocore                                1.23.19\nBottleneck                              1.3.4\ncachetools                              5.0.0\ncatalogue                               1.0.0\ncertifi                                 2021.10.8\ncffi                                    1.15.0\ncftime                                  1.5.1.1\nchardet                                 3.0.4\ncharset-normalizer                      2.0.12\nclick                                   7.1.2\ncloudpickle                             1.6.0\ncolorama                                0.4.4\ncolorful                                0.5.4\ncolorlover                              0.3.0\nconfigparser                            3.7.4\ncontextlib2                             21.6.0\nconvertdate                             2.4.0\ncoremltools                             2.1.0\ncramjam                                 2.5.0\ncryptography                            36.0.2\ncufflinks                               0.17.3\ncycler                                  0.11.0\ncymem                                   2.0.6\nCython                                  0.29.28\ndask                                    2.30.0\ndask-sql                                2022.4.1\ndatabricks-cli                          0.16.6\ndataclasses                             0.6\ndatasets                                1.8.0\ndebugpy                                 1.6.0\ndecorator                               5.1.1\ndefusedxml                              0.7.1\nDeprecated                              1.2.13\ndice-ml                                 0.7.2\ndill                                    0.3.4\ndistlib                                 0.3.4\ndistributed                             2.30.1\ndistro                                  1.7.0\ndm-tree                                 0.1.7\ndocker                                  5.0.3\ndotnetcore2                             2.1.23\ndowhy                                   0.7.1\neconml                                  0.12.0\nen-core-web-sm                          2.1.0\nencrypted-inference                     0.9\nentrypoints                             0.4\nenvironments-utils                      1.0.4\nephem                                   4.1.2\nerroranalysis                           0.2.1\nexecuting                               0.8.3\nfabric                                  2.7.0\nfairlearn                               0.7.0\nfastai                                  1.0.61\nfastapi                                 0.76.0\nfastjsonschema                          2.15.3\nfastparquet                             0.8.1\nfastprogress                            1.0.2\nfbprophet                               0.7.1\nfilelock                                3.6.0\nfire                                    0.4.0\nflake8                                  4.0.1\nFlask                                   1.0.3\nFlask-Cors                              3.0.10\nflatbuffers                             2.0\nfrozenlist                              1.3.0\nfsspec                                  2022.3.0\nfuncy                                   1.17\nfusepy                                  3.0.1\nfuture                                  0.18.2\ngast                                    0.3.3\ngensim                                  3.8.3\ngevent                                  1.3.6\ngitdb                                   4.0.9\nGitPython                               3.1.27\ngoogle-api-core                         2.7.2\ngoogle-auth                             2.6.5\ngoogle-auth-oauthlib                    0.4.6\ngoogle-pasta                            0.2.0\ngoogleapis-common-protos                1.56.0\ngpustat                                 1.0.0b1\ngreenlet                                1.1.2\ngrpcio                                  1.44.0\ngunicorn                                20.1.0\ngym                                     0.21.0\nh11                                     0.13.0\nh5py                                    3.6.0\nHeapDict                                1.0.1\nhijri-converter                         2.2.3\nholidays                                0.13\nhorovod                                 0.19.1\nhtmlmin                                 0.1.12\nhuggingface-hub                         0.0.19\nhumanfriendly                           10.0\nhumanize                                4.1.0\nidna                                    3.3\nImageHash                               4.2.1\nimageio                                 2.19.1\nimbalanced-learn                        0.7.0\nimportlib-metadata                      4.11.3\nimportlib-resources                     5.7.1\ninference-schema                        1.3.0\ninterpret-community                     0.25.0\ninterpret-core                          0.2.7\ninvoke                                  1.7.0\nipykernel                               6.6.0\nipython                                 8.2.0\nipython-genutils                        0.2.0\nipywidgets                              7.7.0\nisodate                                 0.6.1\nisort                                   5.10.1\nitsdangerous                            1.1.0\njavaproperties                          0.5.2\njedi                                    0.18.1\njeepney                                 0.8.0\nJinja2                                  2.11.2\njmespath                                0.10.0\njoblib                                  0.14.1\nJPype1                                  1.3.0\njson-logging-py                         0.2\njson5                                   0.9.8\njsondiff                                1.3.1\njsonpickle                              2.1.0\njsonschema                              4.4.0\njupyter                                 1.0.0\njupyter-client                          7.2.2\njupyter-console                         6.4.3\njupyter-core                            4.10.0\njupyter-resource-usage                  0.6.1\njupyter-server                          1.17.0\njupyter-server-mathjax                  0.2.5\njupyter-server-proxy                    3.2.1\njupyterlab                              3.2.4\njupyterlab-nvdashboard                  0.6.0\njupyterlab-pygments                     0.2.2\njupyterlab-server                       2.13.0\njupyterlab-system-monitor               0.8.0\njupyterlab-topbar                       0.6.1\njupyterlab-widgets                      1.1.0\njupytext                                1.13.8\nKeras                                   2.3.1\nKeras-Applications                      1.0.8\nkeras-nightly                           2.5.0.dev2021032900\nKeras-Preprocessing                     1.1.2\nkeras-tuner                             1.1.2\nkeras2onnx                              1.6.0\nkiwisolver                              1.4.2\nkmodes                                  0.12.1\nknack                                   0.9.0\nkorean-lunar-calendar                   0.2.1\nkt-legacy                               1.0.4\nlazy-object-proxy                       1.7.1\nliac-arff                               2.5.0\nlightgbm                                3.2.1\nllvmlite                                0.36.0\nlocket                                  1.0.0\nLunarCalendar                           0.0.9\nlz4                                     4.0.0\nMako                                    1.2.0\nMarkdown                                3.3.7\nmarkdown-it-py                          2.1.0\nMarkupSafe                              2.0.1\nmatplotlib                              3.3.4\nmatplotlib-inline                       0.1.3\nmccabe                                  0.6.1\nmdit-py-plugins                         0.3.0\nmdurl                                   0.1.1\nmissingno                               0.5.1\nmistune                                 0.8.4\nmkl-service                             2.3.0\nml-wrappers                             0.1.0\nmlflow                                  1.25.1\nmlflow-skinny                           1.25.1\nmlxtend                                 0.19.0\nmpmath                                  1.2.1\nmsal                                    1.17.0\nmsal-extensions                         0.3.1\nmsgpack                                 1.0.3\nmsrest                                  0.6.21\nmsrestazure                             0.6.4\nmultidict                               6.0.2\nmultimethod                             1.8\nmultiprocess                            0.70.12.2\nmurmurhash                              1.0.7\nnbclassic                               0.3.7\nnbclient                                0.6.3\nnbconvert                               6.5.0\nnbdime                                  3.1.1\nnbformat                                5.2.0\nndg-httpsclient                         0.5.1\nnest-asyncio                            1.5.5\nnetCDF4                                 1.5.7\nnetworkx                                2.5\nnimbusml                                1.8.0\nnltk                                    3.7\nnotebook                                6.4.11\nnotebook-shim                           0.1.0\nnumba                                   0.53.1\nnumexpr                                 2.8.1\nnumpy                                   1.19.0\nnvidia-ml-py3                           7.352.0\noauthlib                                3.2.0\nolefile                                 0.46\nonnx                                    1.11.0\nonnxconverter-common                    1.6.0\nonnxmltools                             1.4.1\nonnxruntime                             1.8.1\nopencensus                              0.9.0\nopencensus-context                      0.1.2\nopencensus-ext-azure                    1.1.4\nopencv-python-headless                  4.5.5.64\nopt-einsum                              3.3.0\npackaging                               21.3\npandas                                  1.1.5\npandas-ml                               0.6.1\npandas-profiling                        3.2.0\npandocfilters                           1.5.0\npapermill                               1.2.1\nparamiko                                2.10.3\nparso                                   0.8.3\npartd                                   1.2.0\npathlib2                                2.3.7.post1\npathspec                                0.9.0\npatsy                                   0.5.2\npexpect                                 4.8.0\nphik                                    0.12.2\npickleshare                             0.7.5\nPillow                                  6.2.1\npip                                     20.1.1\npkginfo                                 1.8.2\nplac                                    1.1.3\nplatformdirs                            2.5.2\nplotly                                  5.7.0\npluggy                                  1.0.0\npmdarima                                1.7.1\nportalocker                             2.4.0\npreshed                                 3.0.6\nprometheus-client                       0.14.1\nprometheus-flask-exporter               0.20.1\nprompt-toolkit                          3.0.28\nproperty-cached                         1.6.4\nprotobuf                                3.20.0\npsutil                                  5.9.0\npsycopg2                                2.8.6\nptyprocess                              0.7.0\npure-eval                               0.2.2\npy-spy                                  0.3.11\npy4j                                    0.10.9.3\npyarrow                                 3.0.0\npyasn1                                  0.4.8\npyasn1-modules                          0.2.8\npycaret                                 2.3.10\npycocotools                             2.0.0\npycodestyle                             2.6.0\npycparser                               2.21\npydantic                                1.9.0\npydocstyle                              6.1.1\npydot                                   1.4.2\npyflakes                                2.2.0\nPyGithub                                1.55\nPygments                                2.11.2\nPyJWT                                   2.3.0\npyLDAvis                                3.3.1\npylint                                  2.13.8\nPyMeeus                                 0.5.10\nPyNaCl                                  1.5.0\npynndescent                             0.5.6\npynvml                                  11.4.1\npyod                                    1.0.0\npyodbc                                  4.0.32\npyOpenSSL                               22.0.0\npyparsing                               3.0.8\npyreadline3                             3.4.1\npyrsistent                              0.18.1\nPySocks                                 1.7.1\npyspark                                 3.2.1\npystan                                  2.19.1.1\npython-dateutil                         2.8.2\npython-jsonrpc-server                   0.4.0\npython-language-server                  0.35.0\npython-snappy                           0.6.1\npytorch-transformers                    1.0.0\npytz                                    2021.3\npytz-deprecation-shim                   0.1.0.post0\nPyWavelets                              1.3.0\nPyYAML                                  6.0\npyzmq                                   22.3.0\nqtconsole                               5.3.0\nQtPy                                    2.1.0\nQuantLib                                1.26\nquerystring-parser                      1.2.4\nrai-core-flask                          0.2.5\nraiutils                                0.0.1\nraiwidgets                              0.17.0\nray                                     1.12.0\nregex                                   2022.4.24\nrequests                                2.27.1\nrequests-oauthlib                       1.3.1\nresponsibleai                           0.17.0\nrope                                    1.0.0\nrsa                                     4.8\ns3transfer                              0.5.2\nsacremoses                              0.0.49\nscikit-image                            0.19.2\nscikit-learn                            0.22.2.post1\nscikit-plot                             0.3.7\nscipy                                   1.5.3\nscp                                     0.13.6\nscrapbook                               0.5.0\nseaborn                                 0.11.2\nSecretStorage                           3.3.2\nsemver                                  2.13.0\nSend2Trash                              1.8.0\nsentencepiece                           0.1.96\nseqeval                                 1.2.2\nsetuptools                              61.2.0\nsetuptools-git                          1.2\nshap                                    0.39.0\nsimpervisor                             0.4\nsix                                     1.16.0\nskl2onnx                                1.4.9\nsklearn-pandas                          1.7.0\nslicer                                  0.0.7\nsmart-open                              1.9.0\nsmmap                                   5.0.0\nsniffio                                 1.2.0\nsnowballstemmer                         2.2.0\nsortedcontainers                        2.4.0\nsoupsieve                               2.3.2.post1\nspacy                                   2.2.4\nsparse                                  0.13.0\nSQLAlchemy                              1.4.36\nsqlparse                                0.4.2\nsrsly                                   1.0.5\nsshtunnel                               0.1.5\nstack-data                              0.2.0\nstarlette                               0.18.0\nstatsmodels                             0.11.0\nsympy                                   1.10.1\ntabulate                                0.8.9\ntangled-up-in-unicode                   0.2.0\ntblib                                   1.7.0\ntenacity                                8.0.1\ntensorboard                             2.2.2\ntensorboard-data-server                 0.6.1\ntensorboard-plugin-wit                  1.8.1\ntensorboardX                            2.5\ntensorflow                              2.2.0\ntensorflow-estimator                    2.2.0\ntensorflow-gpu                          2.2.0\ntermcolor                               1.1.0\nterminado                               0.13.3\ntestpath                                0.6.0\ntextblob                                0.17.1\ntextwrap3                               0.9.2\nthinc                                   7.4.0\nthreadpoolctl                           2.2.0\ntifffile                                2022.5.4\ntinycss2                                1.1.1\ntokenizers                              0.10.3\ntoml                                    0.10.2\ntomli                                   2.0.1\ntoolz                                   0.11.2\ntorch                                   1.10.2\ntorch-tb-profiler                       0.4.0\ntorchvision                             0.9.1\ntornado                                 6.1\ntqdm                                    4.64.0\ntraitlets                               5.1.1\ntransformers                            4.5.1\ntyping-extensions                       4.2.0\ntzdata                                  2022.1\ntzlocal                                 4.2\nujson                                   5.2.0\numap-learn                              0.5.3\nurllib3                                 1.26.7\nuuid                                    1.30\nuvicorn                                 0.17.6\nvirtualenv                              20.14.1\nvisions                                 0.7.4\nwaitress                                2.1.1\nwasabi                                  0.9.1\nwcwidth                                 0.2.5\nwebencodings                            0.5.1\nwebsocket-client                        1.3.2\nwebsockets                              10.3\nWerkzeug                                1.0.1\nwheel                                   0.35.1\nwidgetsnbextension                      3.6.0\nwordcloud                               1.8.1\nwrapt                                   1.12.1\nxarray                                  2022.3.0\nxgboost                                 1.3.3\nxmltodict                               0.13.0\nxxhash                                  3.0.0\nyapf                                    0.32.0\nyarl                                    1.7.2\nyellowbrick                             1.4\nzict                                    2.1.0\nzipp                                    3.8.0\nzope.event                              4.5.0\nzope.interface                          5.4.0\nNote: you may need to restart the kernel to use updated packages.\n"
        }
      ],
      "execution_count": 2,
      "metadata": {
        "jupyter": {
          "source_hidden": false,
          "outputs_hidden": false
        },
        "nteract": {
          "transient": {
            "deleting": false
          }
        }
      }
    },
    {
      "cell_type": "markdown",
      "source": [
        "## Load data\r\n",
        "Get a sample data of nyc yellow taxi from Azure Open Datasets"
      ],
      "metadata": {
        "nteract": {
          "transient": {
            "deleting": false
          }
        }
      }
    },
    {
      "cell_type": "code",
      "source": [
        "from azureml.opendatasets import NycTlcYellow\r\n",
        "from datetime import datetime\r\n",
        "from dateutil import parser\r\n",
        "\r\n",
        "start_date = parser.parse('2018-05-01')\r\n",
        "end_date = parser.parse('2018-05-07')\r\n",
        "nyc_tlc = NycTlcYellow(start_date=start_date, end_date=end_date)\r\n",
        "nyc_tlc_df = nyc_tlc.to_pandas_dataframe()\r\n",
        "nyc_tlc_df.info()"
      ],
      "outputs": [
        {
          "output_type": "stream",
          "name": "stdout",
          "text": "[Info] read from /tmp/tmpew37je0i/https%3A/%2Fazureopendatastorage.azurefd.net/nyctlc/yellow/puYear=2018/puMonth=5/part-00000-tid-8898858832658823408-a1de80bd-eed3-4d11-b9d4-fa74bfbd47bc-426339-118.c000.snappy.parquet\n[Info] read from /tmp/tmpew37je0i/https%3A/%2Fazureopendatastorage.azurefd.net/nyctlc/yellow/puYear=2018/puMonth=5/part-00001-tid-8898858832658823408-a1de80bd-eed3-4d11-b9d4-fa74bfbd47bc-426336-117.c000.snappy.parquet\n[Info] read from /tmp/tmpew37je0i/https%3A/%2Fazureopendatastorage.azurefd.net/nyctlc/yellow/puYear=2018/puMonth=5/part-00002-tid-8898858832658823408-a1de80bd-eed3-4d11-b9d4-fa74bfbd47bc-426334-119.c000.snappy.parquet\n[Info] read from /tmp/tmpew37je0i/https%3A/%2Fazureopendatastorage.azurefd.net/nyctlc/yellow/puYear=2018/puMonth=5/part-00003-tid-8898858832658823408-a1de80bd-eed3-4d11-b9d4-fa74bfbd47bc-426340-115.c000.snappy.parquet\n[Info] read from /tmp/tmpew37je0i/https%3A/%2Fazureopendatastorage.azurefd.net/nyctlc/yellow/puYear=2018/puMonth=5/part-00004-tid-8898858832658823408-a1de80bd-eed3-4d11-b9d4-fa74bfbd47bc-426331-116.c000.snappy.parquet\n[Info] read from /tmp/tmpew37je0i/https%3A/%2Fazureopendatastorage.azurefd.net/nyctlc/yellow/puYear=2018/puMonth=5/part-00005-tid-8898858832658823408-a1de80bd-eed3-4d11-b9d4-fa74bfbd47bc-426324-117.c000.snappy.parquet\n[Info] read from /tmp/tmpew37je0i/https%3A/%2Fazureopendatastorage.azurefd.net/nyctlc/yellow/puYear=2018/puMonth=5/part-00006-tid-8898858832658823408-a1de80bd-eed3-4d11-b9d4-fa74bfbd47bc-426326-116.c000.snappy.parquet\n[Info] read from /tmp/tmpew37je0i/https%3A/%2Fazureopendatastorage.azurefd.net/nyctlc/yellow/puYear=2018/puMonth=5/part-00007-tid-8898858832658823408-a1de80bd-eed3-4d11-b9d4-fa74bfbd47bc-426332-118.c000.snappy.parquet\n[Info] read from /tmp/tmpew37je0i/https%3A/%2Fazureopendatastorage.azurefd.net/nyctlc/yellow/puYear=2018/puMonth=5/part-00008-tid-8898858832658823408-a1de80bd-eed3-4d11-b9d4-fa74bfbd47bc-426341-118.c000.snappy.parquet\n[Info] read from /tmp/tmpew37je0i/https%3A/%2Fazureopendatastorage.azurefd.net/nyctlc/yellow/puYear=2018/puMonth=5/part-00009-tid-8898858832658823408-a1de80bd-eed3-4d11-b9d4-fa74bfbd47bc-426325-116.c000.snappy.parquet\n[Info] read from /tmp/tmpew37je0i/https%3A/%2Fazureopendatastorage.azurefd.net/nyctlc/yellow/puYear=2018/puMonth=5/part-00010-tid-8898858832658823408-a1de80bd-eed3-4d11-b9d4-fa74bfbd47bc-426335-117.c000.snappy.parquet\n[Info] read from /tmp/tmpew37je0i/https%3A/%2Fazureopendatastorage.azurefd.net/nyctlc/yellow/puYear=2018/puMonth=5/part-00011-tid-8898858832658823408-a1de80bd-eed3-4d11-b9d4-fa74bfbd47bc-426338-117.c000.snappy.parquet\n[Info] read from /tmp/tmpew37je0i/https%3A/%2Fazureopendatastorage.azurefd.net/nyctlc/yellow/puYear=2018/puMonth=5/part-00012-tid-8898858832658823408-a1de80bd-eed3-4d11-b9d4-fa74bfbd47bc-426337-117.c000.snappy.parquet\n[Info] read from /tmp/tmpew37je0i/https%3A/%2Fazureopendatastorage.azurefd.net/nyctlc/yellow/puYear=2018/puMonth=5/part-00013-tid-8898858832658823408-a1de80bd-eed3-4d11-b9d4-fa74bfbd47bc-426327-117.c000.snappy.parquet\n[Info] read from /tmp/tmpew37je0i/https%3A/%2Fazureopendatastorage.azurefd.net/nyctlc/yellow/puYear=2018/puMonth=5/part-00014-tid-8898858832658823408-a1de80bd-eed3-4d11-b9d4-fa74bfbd47bc-426330-118.c000.snappy.parquet\n[Info] read from /tmp/tmpew37je0i/https%3A/%2Fazureopendatastorage.azurefd.net/nyctlc/yellow/puYear=2018/puMonth=5/part-00015-tid-8898858832658823408-a1de80bd-eed3-4d11-b9d4-fa74bfbd47bc-426342-117.c000.snappy.parquet\n[Info] read from /tmp/tmpew37je0i/https%3A/%2Fazureopendatastorage.azurefd.net/nyctlc/yellow/puYear=2018/puMonth=5/part-00016-tid-8898858832658823408-a1de80bd-eed3-4d11-b9d4-fa74bfbd47bc-426328-116.c000.snappy.parquet\n[Info] read from /tmp/tmpew37je0i/https%3A/%2Fazureopendatastorage.azurefd.net/nyctlc/yellow/puYear=2018/puMonth=5/part-00017-tid-8898858832658823408-a1de80bd-eed3-4d11-b9d4-fa74bfbd47bc-426323-118.c000.snappy.parquet\n[Info] read from /tmp/tmpew37je0i/https%3A/%2Fazureopendatastorage.azurefd.net/nyctlc/yellow/puYear=2018/puMonth=5/part-00018-tid-8898858832658823408-a1de80bd-eed3-4d11-b9d4-fa74bfbd47bc-426329-118.c000.snappy.parquet\n[Info] read from /tmp/tmpew37je0i/https%3A/%2Fazureopendatastorage.azurefd.net/nyctlc/yellow/puYear=2018/puMonth=5/part-00019-tid-8898858832658823408-a1de80bd-eed3-4d11-b9d4-fa74bfbd47bc-426333-116.c000.snappy.parquet\n<class 'pandas.core.frame.DataFrame'>\nInt64Index: 1909118 entries, 12 to 405777\nData columns (total 21 columns):\n #   Column                Dtype         \n---  ------                -----         \n 0   vendorID              object        \n 1   tpepPickupDateTime    datetime64[ns]\n 2   tpepDropoffDateTime   datetime64[ns]\n 3   passengerCount        int32         \n 4   tripDistance          float64       \n 5   puLocationId          object        \n 6   doLocationId          object        \n 7   startLon              float64       \n 8   startLat              float64       \n 9   endLon                float64       \n 10  endLat                float64       \n 11  rateCodeId            int32         \n 12  storeAndFwdFlag       object        \n 13  paymentType           object        \n 14  fareAmount            float64       \n 15  extra                 float64       \n 16  mtaTax                float64       \n 17  improvementSurcharge  object        \n 18  tipAmount             float64       \n 19  tollsAmount           float64       \n 20  totalAmount           float64       \ndtypes: datetime64[ns](2), float64(11), int32(2), object(6)\nmemory usage: 305.9+ MB\n"
        }
      ],
      "execution_count": 3,
      "metadata": {
        "gather": {
          "logged": 1599713958224
        }
      }
    },
    {
      "cell_type": "code",
      "source": [
        "from IPython.display import display\r\n",
        "\r\n",
        "sampled_df = nyc_tlc_df.sample(n=10000, random_state=123)\r\n",
        "display(sampled_df.head(5))"
      ],
      "outputs": [
        {
          "output_type": "display_data",
          "data": {
            "text/plain": "       vendorID  tpepPickupDateTime tpepDropoffDateTime  passengerCount  \\\n87213         2 2018-05-05 19:07:01 2018-05-05 19:28:44               1   \n145405        2 2018-05-05 22:46:06 2018-05-05 22:59:11               1   \n457648        1 2018-05-06 18:53:06 2018-05-06 19:06:31               1   \n369051        2 2018-05-02 09:25:13 2018-05-02 09:36:32               1   \n38871         2 2018-05-04 02:58:10 2018-05-04 03:01:10               3   \n\n        tripDistance puLocationId doLocationId  startLon  startLat  endLon  \\\n87213           3.95          164          112       NaN       NaN     NaN   \n145405          1.22          264          264       NaN       NaN     NaN   \n457648          2.20          246          162       NaN       NaN     NaN   \n369051          0.89          161          162       NaN       NaN     NaN   \n38871           0.45           79            4       NaN       NaN     NaN   \n\n        ...  rateCodeId  storeAndFwdFlag paymentType fareAmount  extra  \\\n87213   ...           1                N           2       17.0    0.0   \n145405  ...           1                N           1        9.5    0.5   \n457648  ...           1                N           2       11.0    0.0   \n369051  ...           1                N           1        8.0    0.0   \n38871   ...           1                N           1        4.0    0.5   \n\n        mtaTax  improvementSurcharge tipAmount  tollsAmount  totalAmount  \n87213      0.5                   0.3      0.00         5.76        23.56  \n145405     0.5                   0.3      2.16         0.00        12.96  \n457648     0.5                   0.3      0.00         0.00        11.80  \n369051     0.5                   0.3      1.76         0.00        10.56  \n38871      0.5                   0.3      1.32         0.00         6.62  \n\n[5 rows x 21 columns]",
            "text/html": "<div>\n<style scoped>\n    .dataframe tbody tr th:only-of-type {\n        vertical-align: middle;\n    }\n\n    .dataframe tbody tr th {\n        vertical-align: top;\n    }\n\n    .dataframe thead th {\n        text-align: right;\n    }\n</style>\n<table border=\"1\" class=\"dataframe\">\n  <thead>\n    <tr style=\"text-align: right;\">\n      <th></th>\n      <th>vendorID</th>\n      <th>tpepPickupDateTime</th>\n      <th>tpepDropoffDateTime</th>\n      <th>passengerCount</th>\n      <th>tripDistance</th>\n      <th>puLocationId</th>\n      <th>doLocationId</th>\n      <th>startLon</th>\n      <th>startLat</th>\n      <th>endLon</th>\n      <th>...</th>\n      <th>rateCodeId</th>\n      <th>storeAndFwdFlag</th>\n      <th>paymentType</th>\n      <th>fareAmount</th>\n      <th>extra</th>\n      <th>mtaTax</th>\n      <th>improvementSurcharge</th>\n      <th>tipAmount</th>\n      <th>tollsAmount</th>\n      <th>totalAmount</th>\n    </tr>\n  </thead>\n  <tbody>\n    <tr>\n      <th>87213</th>\n      <td>2</td>\n      <td>2018-05-05 19:07:01</td>\n      <td>2018-05-05 19:28:44</td>\n      <td>1</td>\n      <td>3.95</td>\n      <td>164</td>\n      <td>112</td>\n      <td>NaN</td>\n      <td>NaN</td>\n      <td>NaN</td>\n      <td>...</td>\n      <td>1</td>\n      <td>N</td>\n      <td>2</td>\n      <td>17.0</td>\n      <td>0.0</td>\n      <td>0.5</td>\n      <td>0.3</td>\n      <td>0.00</td>\n      <td>5.76</td>\n      <td>23.56</td>\n    </tr>\n    <tr>\n      <th>145405</th>\n      <td>2</td>\n      <td>2018-05-05 22:46:06</td>\n      <td>2018-05-05 22:59:11</td>\n      <td>1</td>\n      <td>1.22</td>\n      <td>264</td>\n      <td>264</td>\n      <td>NaN</td>\n      <td>NaN</td>\n      <td>NaN</td>\n      <td>...</td>\n      <td>1</td>\n      <td>N</td>\n      <td>1</td>\n      <td>9.5</td>\n      <td>0.5</td>\n      <td>0.5</td>\n      <td>0.3</td>\n      <td>2.16</td>\n      <td>0.00</td>\n      <td>12.96</td>\n    </tr>\n    <tr>\n      <th>457648</th>\n      <td>1</td>\n      <td>2018-05-06 18:53:06</td>\n      <td>2018-05-06 19:06:31</td>\n      <td>1</td>\n      <td>2.20</td>\n      <td>246</td>\n      <td>162</td>\n      <td>NaN</td>\n      <td>NaN</td>\n      <td>NaN</td>\n      <td>...</td>\n      <td>1</td>\n      <td>N</td>\n      <td>2</td>\n      <td>11.0</td>\n      <td>0.0</td>\n      <td>0.5</td>\n      <td>0.3</td>\n      <td>0.00</td>\n      <td>0.00</td>\n      <td>11.80</td>\n    </tr>\n    <tr>\n      <th>369051</th>\n      <td>2</td>\n      <td>2018-05-02 09:25:13</td>\n      <td>2018-05-02 09:36:32</td>\n      <td>1</td>\n      <td>0.89</td>\n      <td>161</td>\n      <td>162</td>\n      <td>NaN</td>\n      <td>NaN</td>\n      <td>NaN</td>\n      <td>...</td>\n      <td>1</td>\n      <td>N</td>\n      <td>1</td>\n      <td>8.0</td>\n      <td>0.0</td>\n      <td>0.5</td>\n      <td>0.3</td>\n      <td>1.76</td>\n      <td>0.00</td>\n      <td>10.56</td>\n    </tr>\n    <tr>\n      <th>38871</th>\n      <td>2</td>\n      <td>2018-05-04 02:58:10</td>\n      <td>2018-05-04 03:01:10</td>\n      <td>3</td>\n      <td>0.45</td>\n      <td>79</td>\n      <td>4</td>\n      <td>NaN</td>\n      <td>NaN</td>\n      <td>NaN</td>\n      <td>...</td>\n      <td>1</td>\n      <td>N</td>\n      <td>1</td>\n      <td>4.0</td>\n      <td>0.5</td>\n      <td>0.5</td>\n      <td>0.3</td>\n      <td>1.32</td>\n      <td>0.00</td>\n      <td>6.62</td>\n    </tr>\n  </tbody>\n</table>\n<p>5 rows × 21 columns</p>\n</div>"
          },
          "metadata": {}
        }
      ],
      "execution_count": 4,
      "metadata": {
        "collapsed": true,
        "jupyter": {
          "source_hidden": false,
          "outputs_hidden": false
        },
        "nteract": {
          "transient": {
            "deleting": false
          }
        },
        "gather": {
          "logged": 1599713959314
        }
      }
    },
    {
      "cell_type": "markdown",
      "source": [
        "## Prepare and featurize data\r\n",
        "- There are extra dimensions that are not going to be useful in the model. We just take the dimensions that we need and put them into the featurised dataframe. \r\n",
        "- There are also a bunch of outliers in the data so we need to filter them out."
      ],
      "metadata": {
        "nteract": {
          "transient": {
            "deleting": false
          }
        }
      }
    },
    {
      "cell_type": "code",
      "source": [
        "import numpy\r\n",
        "import pandas\r\n",
        "\r\n",
        "def get_pickup_time(df):\r\n",
        "    pickupHour = df['pickupHour'];\r\n",
        "    if ((pickupHour >= 7) & (pickupHour <= 10)):\r\n",
        "        return 'AMRush'\r\n",
        "    elif ((pickupHour >= 11) & (pickupHour <= 15)):\r\n",
        "        return 'Afternoon'\r\n",
        "    elif ((pickupHour >= 16) & (pickupHour <= 19)):\r\n",
        "        return 'PMRush'\r\n",
        "    else:\r\n",
        "        return 'Night'\r\n",
        "\r\n",
        "featurized_df = pandas.DataFrame()\r\n",
        "featurized_df['tipped'] = (sampled_df['tipAmount'] > 0).astype('int')\r\n",
        "featurized_df['fareAmount'] = sampled_df['fareAmount'].astype('float32')\r\n",
        "featurized_df['paymentType'] = sampled_df['paymentType'].astype('int')\r\n",
        "featurized_df['passengerCount'] = sampled_df['passengerCount'].astype('int')\r\n",
        "featurized_df['tripDistance'] = sampled_df['tripDistance'].astype('float32')\r\n",
        "featurized_df['pickupHour'] = sampled_df['tpepPickupDateTime'].dt.hour.astype('int')\r\n",
        "featurized_df['tripTimeSecs'] = ((sampled_df['tpepDropoffDateTime'] - sampled_df['tpepPickupDateTime']) / numpy.timedelta64(1, 's')).astype('int')\r\n",
        "\r\n",
        "featurized_df['pickupTimeBin'] = featurized_df.apply(get_pickup_time, axis=1)\r\n",
        "featurized_df = featurized_df.drop(columns='pickupHour')\r\n",
        "\r\n",
        "display(featurized_df.head(5))\r\n"
      ],
      "outputs": [
        {
          "output_type": "display_data",
          "data": {
            "text/plain": "        tipped  fareAmount  paymentType  passengerCount  tripDistance  \\\n87213        0        17.0            2               1          3.95   \n145405       1         9.5            1               1          1.22   \n457648       0        11.0            2               1          2.20   \n369051       1         8.0            1               1          0.89   \n38871        1         4.0            1               3          0.45   \n\n        tripTimeSecs pickupTimeBin  \n87213           1303        PMRush  \n145405           785         Night  \n457648           805        PMRush  \n369051           679        AMRush  \n38871            180         Night  ",
            "text/html": "<div>\n<style scoped>\n    .dataframe tbody tr th:only-of-type {\n        vertical-align: middle;\n    }\n\n    .dataframe tbody tr th {\n        vertical-align: top;\n    }\n\n    .dataframe thead th {\n        text-align: right;\n    }\n</style>\n<table border=\"1\" class=\"dataframe\">\n  <thead>\n    <tr style=\"text-align: right;\">\n      <th></th>\n      <th>tipped</th>\n      <th>fareAmount</th>\n      <th>paymentType</th>\n      <th>passengerCount</th>\n      <th>tripDistance</th>\n      <th>tripTimeSecs</th>\n      <th>pickupTimeBin</th>\n    </tr>\n  </thead>\n  <tbody>\n    <tr>\n      <th>87213</th>\n      <td>0</td>\n      <td>17.0</td>\n      <td>2</td>\n      <td>1</td>\n      <td>3.95</td>\n      <td>1303</td>\n      <td>PMRush</td>\n    </tr>\n    <tr>\n      <th>145405</th>\n      <td>1</td>\n      <td>9.5</td>\n      <td>1</td>\n      <td>1</td>\n      <td>1.22</td>\n      <td>785</td>\n      <td>Night</td>\n    </tr>\n    <tr>\n      <th>457648</th>\n      <td>0</td>\n      <td>11.0</td>\n      <td>2</td>\n      <td>1</td>\n      <td>2.20</td>\n      <td>805</td>\n      <td>PMRush</td>\n    </tr>\n    <tr>\n      <th>369051</th>\n      <td>1</td>\n      <td>8.0</td>\n      <td>1</td>\n      <td>1</td>\n      <td>0.89</td>\n      <td>679</td>\n      <td>AMRush</td>\n    </tr>\n    <tr>\n      <th>38871</th>\n      <td>1</td>\n      <td>4.0</td>\n      <td>1</td>\n      <td>3</td>\n      <td>0.45</td>\n      <td>180</td>\n      <td>Night</td>\n    </tr>\n  </tbody>\n</table>\n</div>"
          },
          "metadata": {}
        }
      ],
      "execution_count": 5,
      "metadata": {
        "collapsed": true,
        "jupyter": {
          "source_hidden": false,
          "outputs_hidden": false
        },
        "nteract": {
          "transient": {
            "deleting": false
          }
        },
        "gather": {
          "logged": 1599713966451
        }
      }
    },
    {
      "cell_type": "code",
      "source": [
        "filtered_df = featurized_df[(featurized_df.tipped >= 0) & (featurized_df.tipped <= 1)\\\r\n",
        "    & (featurized_df.fareAmount >= 1) & (featurized_df.fareAmount <= 250)\\\r\n",
        "    & (featurized_df.paymentType >= 1) & (featurized_df.paymentType <= 2)\\\r\n",
        "    & (featurized_df.passengerCount > 0) & (featurized_df.passengerCount < 8)\\\r\n",
        "    & (featurized_df.tripDistance >= 0) & (featurized_df.tripDistance <= 100)\\\r\n",
        "    & (featurized_df.tripTimeSecs >= 30) & (featurized_df.tripTimeSecs <= 7200)]\r\n",
        "\r\n",
        "filtered_df.info()"
      ],
      "outputs": [
        {
          "output_type": "stream",
          "name": "stdout",
          "text": "<class 'pandas.core.frame.DataFrame'>\nInt64Index: 9776 entries, 87213 to 333274\nData columns (total 7 columns):\n #   Column          Non-Null Count  Dtype  \n---  ------          --------------  -----  \n 0   tipped          9776 non-null   int64  \n 1   fareAmount      9776 non-null   float32\n 2   paymentType     9776 non-null   int64  \n 3   passengerCount  9776 non-null   int64  \n 4   tripDistance    9776 non-null   float32\n 5   tripTimeSecs    9776 non-null   int64  \n 6   pickupTimeBin   9776 non-null   object \ndtypes: float32(2), int64(4), object(1)\nmemory usage: 534.6+ KB\n"
        }
      ],
      "execution_count": 6,
      "metadata": {
        "collapsed": true,
        "jupyter": {
          "source_hidden": false,
          "outputs_hidden": false
        },
        "nteract": {
          "transient": {
            "deleting": false
          }
        },
        "gather": {
          "logged": 1599713971477
        }
      }
    },
    {
      "cell_type": "markdown",
      "source": [
        "## Split training and testing data sets\r\n",
        "- 70% of the data is used to train the model.\r\n",
        "- 30% of the data is used to test the model."
      ],
      "metadata": {
        "nteract": {
          "transient": {
            "deleting": false
          }
        }
      }
    },
    {
      "cell_type": "code",
      "source": [
        "from sklearn.model_selection import train_test_split\r\n",
        "\r\n",
        "train_df, test_df = train_test_split(filtered_df, test_size=0.3, random_state=123)\r\n",
        "\r\n",
        "x_train = pandas.DataFrame(train_df.drop(['tipped'], axis = 1))\r\n",
        "y_train = pandas.DataFrame(train_df.iloc[:,train_df.columns.tolist().index('tipped')])\r\n",
        "\r\n",
        "x_test = pandas.DataFrame(test_df.drop(['tipped'], axis = 1))\r\n",
        "y_test = pandas.DataFrame(test_df.iloc[:,test_df.columns.tolist().index('tipped')])"
      ],
      "outputs": [],
      "execution_count": 7,
      "metadata": {
        "collapsed": true,
        "jupyter": {
          "source_hidden": false,
          "outputs_hidden": false
        },
        "nteract": {
          "transient": {
            "deleting": false
          }
        },
        "gather": {
          "logged": 1599713980823
        }
      }
    },
    {
      "cell_type": "markdown",
      "source": [
        "## Export test data as CSV\r\n",
        "Export the test data as a CSV file. Later, we will load the CSV file into Synapse SQL pool to test the model."
      ],
      "metadata": {
        "nteract": {
          "transient": {
            "deleting": false
          }
        }
      }
    },
    {
      "cell_type": "code",
      "source": [
        "test_df.to_csv('test_data.csv', index=False)"
      ],
      "outputs": [],
      "execution_count": 8,
      "metadata": {
        "collapsed": true,
        "jupyter": {
          "source_hidden": false,
          "outputs_hidden": false
        },
        "nteract": {
          "transient": {
            "deleting": false
          }
        },
        "gather": {
          "logged": 1598830320180
        }
      }
    },
    {
      "cell_type": "markdown",
      "source": [
        "## Train model\r\n",
        "Train a bi-classifier to predict whether a taxi trip will be a tipped or not."
      ],
      "metadata": {
        "nteract": {
          "transient": {
            "deleting": false
          }
        }
      }
    },
    {
      "cell_type": "code",
      "source": [
        "from sklearn.compose import ColumnTransformer\r\n",
        "from sklearn.linear_model import LogisticRegression\r\n",
        "from sklearn.pipeline import Pipeline\r\n",
        "from sklearn.impute import SimpleImputer\r\n",
        "from sklearn.preprocessing import StandardScaler, OneHotEncoder\r\n",
        "\r\n",
        "float_features = ['fareAmount', 'tripDistance']\r\n",
        "float_transformer = Pipeline(steps=[\r\n",
        "    ('imputer', SimpleImputer(strategy='median')),\r\n",
        "    ('scaler', StandardScaler())])\r\n",
        "\r\n",
        "integer_features = ['paymentType', 'passengerCount', 'tripTimeSecs']\r\n",
        "integer_transformer = Pipeline(steps=[\r\n",
        "    ('imputer', SimpleImputer(strategy='median')),\r\n",
        "    ('scaler', StandardScaler())])\r\n",
        "\r\n",
        "categorical_features = ['pickupTimeBin']\r\n",
        "categorical_transformer = Pipeline(steps=[\r\n",
        "    ('onehot', OneHotEncoder(handle_unknown='ignore'))])\r\n",
        "\r\n",
        "preprocessor = ColumnTransformer(\r\n",
        "    transformers=[\r\n",
        "        ('float', float_transformer, float_features),\r\n",
        "        ('integer', integer_transformer, integer_features),\r\n",
        "        ('cat', categorical_transformer, categorical_features)\r\n",
        "    ])\r\n",
        "\r\n",
        "clf = Pipeline(steps=[('preprocessor', preprocessor),\r\n",
        "                      ('classifier', LogisticRegression(solver='lbfgs'))])\r\n",
        "\r\n",
        "# Train the model\r\n",
        "clf.fit(x_train, y_train)"
      ],
      "outputs": [
        {
          "output_type": "stream",
          "name": "stderr",
          "text": "/anaconda/envs/azureml_py38/lib/python3.8/site-packages/sklearn/utils/validation.py:760: DataConversionWarning: A column-vector y was passed when a 1d array was expected. Please change the shape of y to (n_samples, ), for example using ravel().\n  y = column_or_1d(y, warn=True)\n"
        },
        {
          "output_type": "execute_result",
          "execution_count": 9,
          "data": {
            "text/plain": "Pipeline(memory=None,\n         steps=[('preprocessor',\n                 ColumnTransformer(n_jobs=None, remainder='drop',\n                                   sparse_threshold=0.3,\n                                   transformer_weights=None,\n                                   transformers=[('float',\n                                                  Pipeline(memory=None,\n                                                           steps=[('imputer',\n                                                                   SimpleImputer(add_indicator=False,\n                                                                                 copy=True,\n                                                                                 fill_value=None,\n                                                                                 missing_values=nan,\n                                                                                 strategy='median',\n                                                                                 verbose=0)),\n                                                                  ('scaler',\n                                                                   StandardScaler(copy=True,\n                                                                                  with_me...\n                                                                                 handle_unknown='ignore',\n                                                                                 sparse=True))],\n                                                           verbose=False),\n                                                  ['pickupTimeBin'])],\n                                   verbose=False)),\n                ('classifier',\n                 LogisticRegression(C=1.0, class_weight=None, dual=False,\n                                    fit_intercept=True, intercept_scaling=1,\n                                    l1_ratio=None, max_iter=100,\n                                    multi_class='auto', n_jobs=None,\n                                    penalty='l2', random_state=None,\n                                    solver='lbfgs', tol=0.0001, verbose=0,\n                                    warm_start=False))],\n         verbose=False)"
          },
          "metadata": {}
        }
      ],
      "execution_count": 9,
      "metadata": {
        "collapsed": true,
        "jupyter": {
          "source_hidden": false,
          "outputs_hidden": false
        },
        "nteract": {
          "transient": {
            "deleting": false
          }
        },
        "gather": {
          "logged": 1599713996871
        }
      }
    },
    {
      "cell_type": "code",
      "source": [
        "# Evalute the model\r\n",
        "score = clf.score(x_test, y_test)\r\n",
        "print(score)"
      ],
      "outputs": [
        {
          "output_type": "stream",
          "name": "stdout",
          "text": "0.9672690078418003\n"
        }
      ],
      "execution_count": 10,
      "metadata": {
        "collapsed": true,
        "jupyter": {
          "source_hidden": false,
          "outputs_hidden": false
        },
        "nteract": {
          "transient": {
            "deleting": false
          }
        },
        "gather": {
          "logged": 1599714001990
        }
      }
    },
    {
      "cell_type": "markdown",
      "source": [
        "## Convert the model to ONNX format\r\n",
        "Currently, T-SQL scoring only supports ONNX model format (https://onnx.ai/)."
      ],
      "metadata": {
        "nteract": {
          "transient": {
            "deleting": false
          }
        }
      }
    },
    {
      "cell_type": "code",
      "source": [
        "from skl2onnx import convert_sklearn\r\n",
        "from skl2onnx.common.data_types import FloatTensorType, Int64TensorType, DoubleTensorType, StringTensorType\r\n",
        "\r\n",
        "def convert_dataframe_schema(df, drop=None):\r\n",
        "    inputs = []\r\n",
        "    for k, v in zip(df.columns, df.dtypes):\r\n",
        "        if drop is not None and k in drop:\r\n",
        "            continue\r\n",
        "        if v == 'int64':\r\n",
        "            t = Int64TensorType([1, 1])\r\n",
        "        elif v == 'float32':\r\n",
        "            t = FloatTensorType([1, 1])\r\n",
        "        elif v == 'float64':\r\n",
        "            t = DoubleTensorType([1, 1])\r\n",
        "        else:\r\n",
        "            t = StringTensorType([1, 1])\r\n",
        "        inputs.append((k, t))\r\n",
        "    return inputs\r\n",
        "\r\n",
        "model_inputs = convert_dataframe_schema(x_train)\r\n",
        "onnx_model = convert_sklearn(clf, \"nyc_taxi_tip_predict\", model_inputs)"
      ],
      "outputs": [
        {
          "output_type": "stream",
          "name": "stderr",
          "text": "The maximum opset needed by this model is only 11.\nThe maximum opset needed by this model is only 1.\n"
        }
      ],
      "execution_count": 11,
      "metadata": {
        "collapsed": true,
        "jupyter": {
          "source_hidden": false,
          "outputs_hidden": false
        },
        "nteract": {
          "transient": {
            "deleting": false
          }
        },
        "gather": {
          "logged": 1598830324781
        }
      }
    },
    {
      "cell_type": "markdown",
      "source": [
        "## Register the model with MLFlow"
      ],
      "metadata": {
        "nteract": {
          "transient": {
            "deleting": false
          }
        }
      }
    },
    {
      "cell_type": "code",
      "source": [
        "from azureml.core import Workspace\r\n",
        "\r\n",
        "ws = Workspace.from_config()\r\n",
        "print(ws.name, ws.resource_group, ws.location, ws.subscription_id, sep='\\n')"
      ],
      "outputs": [
        {
          "output_type": "stream",
          "name": "stdout",
          "text": "ws-synapse-hjilova\nrg-synapse-hjilova\neastus\n714c27c6-ab05-43ce-a400-b371deec2c69\n"
        }
      ],
      "execution_count": 12,
      "metadata": {
        "collapsed": true,
        "jupyter": {
          "source_hidden": false,
          "outputs_hidden": false
        },
        "nteract": {
          "transient": {
            "deleting": false
          }
        },
        "gather": {
          "logged": 1598830390704
        }
      }
    },
    {
      "cell_type": "code",
      "source": [
        "import mlflow\r\n",
        "import mlflow.onnx\r\n",
        "\r\n",
        "from mlflow.models.signature import infer_signature\r\n",
        "\r\n",
        "experiment_name = 'nyc_taxi_tip_predict_exp'\r\n",
        "artifact_path = 'nyc_taxi_tip_predict_artifact'\r\n",
        "\r\n",
        "mlflow.set_tracking_uri(ws.get_mlflow_tracking_uri())\r\n",
        "mlflow.set_experiment(experiment_name)\r\n",
        "\r\n",
        "with mlflow.start_run() as run:\r\n",
        "    # Infer signature\r\n",
        "    input_sample = x_train.head(1)\r\n",
        "    output_sample = pandas.DataFrame(columns=['output_label'], data=[1])\r\n",
        "    signature = infer_signature(input_sample, output_sample)\r\n",
        "\r\n",
        "    # Save the model to the outputs directory for capture\r\n",
        "    mlflow.onnx.log_model(onnx_model, artifact_path, signature=signature, input_example=input_sample)\r\n",
        "\r\n",
        "    # Register the model to AML model registry\r\n",
        "    mlflow.register_model('runs:/' + run.info.run_id + '/' + artifact_path, 'nyc_taxi_tip_predict')\r\n"
      ],
      "outputs": [
        {
          "output_type": "stream",
          "name": "stderr",
          "text": "/anaconda/envs/azureml_py38/lib/python3.8/site-packages/mlflow/models/signature.py:129: UserWarning: Hint: Inferred schema contains integer column(s). Integer columns in Python cannot represent missing values. If your input data contains missing values at inference time, it will be encoded as floats and will cause a schema enforcement error. The best way to avoid this problem is to infer the model schema based on a realistic data sample (training dataset) that includes missing values. Alternatively, you can declare integer columns as doubles (float64) whenever these columns may have missing values. See `Handling Integers With Missing Values <https://www.mlflow.org/docs/latest/models.html#handling-integers-with-missing-values>`_ for more details.\n  inputs = _infer_schema(model_input)\n/anaconda/envs/azureml_py38/lib/python3.8/site-packages/mlflow/models/signature.py:130: UserWarning: Hint: Inferred schema contains integer column(s). Integer columns in Python cannot represent missing values. If your input data contains missing values at inference time, it will be encoded as floats and will cause a schema enforcement error. The best way to avoid this problem is to infer the model schema based on a realistic data sample (training dataset) that includes missing values. Alternatively, you can declare integer columns as doubles (float64) whenever these columns may have missing values. See `Handling Integers With Missing Values <https://www.mlflow.org/docs/latest/models.html#handling-integers-with-missing-values>`_ for more details.\n  outputs = _infer_schema(model_output) if model_output is not None else None\n2022/05/27 14:58:56 WARNING mlflow.utils.environment: Encountered an unexpected error while inferring pip requirements (model URI: /tmp/tmpyhgotd71/model, flavor: onnx), fall back to return ['onnx==1.11.0', 'onnxruntime==1.8.1']. Set logging level to DEBUG to see the full traceback.\n/anaconda/envs/azureml_py38/lib/python3.8/site-packages/_distutils_hack/__init__.py:30: UserWarning: Setuptools is replacing distutils.\n  warnings.warn(\"Setuptools is replacing distutils.\")\nRegistered model 'nyc_taxi_tip_predict' already exists. Creating a new version of this model...\n2022/05/27 14:58:59 INFO mlflow.tracking._model_registry.client: Waiting up to 300 seconds for model version to finish creation.                     Model name: nyc_taxi_tip_predict, version 1\nCreated version '1' of model 'nyc_taxi_tip_predict'.\n"
        }
      ],
      "execution_count": 13,
      "metadata": {
        "collapsed": true,
        "jupyter": {
          "source_hidden": false,
          "outputs_hidden": false
        },
        "nteract": {
          "transient": {
            "deleting": false
          }
        },
        "gather": {
          "logged": 1598830404736
        }
      }
    }
  ],
  "metadata": {
    "kernelspec": {
      "name": "python38-azureml",
      "language": "python",
      "display_name": "Python 3.8 - AzureML"
    },
    "language_info": {
      "name": "python",
      "version": "3.8.5",
      "mimetype": "text/x-python",
      "codemirror_mode": {
        "name": "ipython",
        "version": 3
      },
      "pygments_lexer": "ipython3",
      "nbconvert_exporter": "python",
      "file_extension": ".py"
    },
    "kernel_info": {
      "name": "python38-azureml"
    },
    "nteract": {
      "version": "nteract-front-end@1.0.0"
    },
    "microsoft": {
      "host": {
        "AzureML": {
          "notebookHasBeenCompleted": true
        }
      }
    }
  },
  "nbformat": 4,
  "nbformat_minor": 0
}
