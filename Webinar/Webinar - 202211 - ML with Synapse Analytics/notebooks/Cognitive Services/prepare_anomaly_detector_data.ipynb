{
  "cells": [
    {
      "cell_type": "code",
      "execution_count": 2,
      "metadata": {},
      "outputs": [
        {
          "data": {
            "application/vnd.livy.statement-meta+json": {
              "execution_finish_time": "2022-11-13T22:17:55.3998349Z",
              "execution_start_time": "2022-11-13T22:17:52.5289047Z",
              "livy_statement_state": "available",
              "queued_time": "2022-11-13T22:16:58.3453574Z",
              "session_id": "14",
              "session_start_time": "2022-11-13T22:16:58.3851697Z",
              "spark_jobs": null,
              "spark_pool": "sparkezi1n72",
              "state": "finished",
              "statement_id": 1
            },
            "text/plain": [
              "StatementMeta(sparkezi1n72, 14, 1, Finished, Available)"
            ]
          },
          "metadata": {},
          "output_type": "display_data"
        }
      ],
      "source": [
        "from pyspark.sql.functions import lit\n",
        "\n",
        "df = spark.createDataFrame(\n",
        "    [\n",
        "        (\"1972-01-01T00:00:00Z\", 826.0),\n",
        "        (\"1972-02-01T00:00:00Z\", 799.0),\n",
        "        (\"1972-03-01T00:00:00Z\", 890.0),\n",
        "        (\"1972-04-01T00:00:00Z\", 900.0),\n",
        "        (\"1972-05-01T00:00:00Z\", 766.0),\n",
        "        (\"1972-06-01T00:00:00Z\", 805.0),\n",
        "        (\"1972-07-01T00:00:00Z\", 821.0),\n",
        "        (\"1972-08-01T00:00:00Z\", 20000.0),\n",
        "        (\"1972-09-01T00:00:00Z\", 883.0),\n",
        "        (\"1972-10-01T00:00:00Z\", 898.0),\n",
        "        (\"1972-11-01T00:00:00Z\", 957.0),\n",
        "        (\"1972-12-01T00:00:00Z\", 924.0),\n",
        "        (\"1973-01-01T00:00:00Z\", 881.0),\n",
        "        (\"1973-02-01T00:00:00Z\", 837.0),\n",
        "        (\"1973-03-01T00:00:00Z\", 9000.0),\n",
        "    ],\n",
        "    [\"timestamp\", \"value\"],\n",
        ").withColumn(\"group\", lit(\"series1\"))"
      ]
    },
    {
      "cell_type": "code",
      "execution_count": 4,
      "metadata": {
        "jupyter": {
          "outputs_hidden": false,
          "source_hidden": false
        },
        "nteract": {
          "transient": {
            "deleting": false
          }
        }
      },
      "outputs": [
        {
          "data": {
            "application/vnd.livy.statement-meta+json": {
              "execution_finish_time": "2022-11-13T22:25:14.9465027Z",
              "execution_start_time": "2022-11-13T22:24:47.4329125Z",
              "livy_statement_state": "available",
              "queued_time": "2022-11-13T22:24:47.2816242Z",
              "session_id": "14",
              "session_start_time": null,
              "spark_jobs": null,
              "spark_pool": "sparkezi1n72",
              "state": "finished",
              "statement_id": 3
            },
            "text/plain": [
              "StatementMeta(sparkezi1n72, 14, 3, Finished, Available)"
            ]
          },
          "metadata": {},
          "output_type": "display_data"
        }
      ],
      "source": [
        "df.write.mode(\"overwrite\").saveAsTable(\"anomaly_detector_testing_data\")"
      ]
    }
  ],
  "metadata": {
    "description": null,
    "kernelspec": {
      "display_name": "Python 3.9.7",
      "language": "python",
      "name": "python3"
    },
    "language_info": {
      "name": "python",
      "version": "3.9.7"
    },
    "save_output": true,
    "synapse_widget": {
      "state": {},
      "version": "0.1"
    },
    "vscode": {
      "interpreter": {
        "hash": "efae42f5bb22c941f90033c79b5834eea70e75e2a45a38b301087dc593077f92"
      }
    }
  },
  "nbformat": 4,
  "nbformat_minor": 2
}
