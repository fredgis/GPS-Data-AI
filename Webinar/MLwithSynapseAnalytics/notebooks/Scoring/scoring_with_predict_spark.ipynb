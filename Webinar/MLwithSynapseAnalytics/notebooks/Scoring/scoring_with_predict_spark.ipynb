{
  "cells": [
    {
      "cell_type": "markdown",
      "source": [
        "# Use PREDICT for MLFLOW packaged models - Registered on AML\r\n",
        "\r\n",
        "[Source](https://learn.microsoft.com/en-us/azure/synapse-analytics/machine-learning/tutorial-score-model-predict-spark-pool#use-predict-for-mlflow-packaged-models)\r\n"
      ],
      "metadata": {
        "nteract": {
          "transient": {
            "deleting": false
          }
        }
      }
    },
    {
      "cell_type": "markdown",
      "source": [
        "##\r\n",
        "## Import Librairies\r\n"
      ],
      "metadata": {
        "nteract": {
          "transient": {
            "deleting": false
          }
        }
      }
    },
    {
      "cell_type": "code",
      "source": [
        "#Import libraries\r\n",
        "from pyspark.sql.functions import col, pandas_udf,udf,lit\r\n",
        "from azureml.core import Workspace\r\n",
        "from azureml.core.authentication import ServicePrincipalAuthentication\r\n",
        "import azure.synapse.ml.predict as pcontext\r\n",
        "import azure.synapse.ml.predict.utils._logger as synapse_predict_logger"
      ],
      "outputs": [
        {
          "output_type": "display_data",
          "data": {
            "application/vnd.livy.statement-meta+json": {
              "spark_pool": "sparkezi1n72",
              "session_id": "82",
              "statement_id": 1,
              "state": "finished",
              "livy_statement_state": "available",
              "queued_time": "2022-11-16T23:17:57.5583379Z",
              "session_start_time": "2022-11-16T23:17:57.5900771Z",
              "execution_start_time": "2022-11-16T23:20:58.6119072Z",
              "execution_finish_time": "2022-11-16T23:22:10.4381637Z",
              "spark_jobs": null
            },
            "text/plain": "StatementMeta(sparkezi1n72, 82, 1, Finished, Available)"
          },
          "metadata": {}
        }
      ],
      "execution_count": 1,
      "metadata": {
        "microsoft": {}
      }
    },
    {
      "cell_type": "markdown",
      "source": [
        "## Set some parameters"
      ],
      "metadata": {
        "nteract": {
          "transient": {
            "deleting": false
          }
        }
      }
    },
    {
      "cell_type": "code",
      "source": [
        "#Set input data path\r\n",
        "DATA_FILE = \"abfss://<filesystemname>@<account name>.dfs.core.windows.net/<file path>\"\r\n",
        "\r\n",
        "#Set model URI\r\n",
        "#Set AML URI, if trained model is registered in AML\r\n",
        "\r\n",
        "AML_MODEL_URI = \"<aml model uri> #In URI \":x\" signifies model version in AML. You can   choose which model version you want to run. If \":x\" is not provided then by default   latest version will be picked.\r\n",
        "\r\n",
        "\r\n",
        "#Define model return type\r\n",
        "RETURN_TYPES = \"INT\" # for ex: int, float etc. PySpark data types are supported\r\n",
        "\r\n",
        "#Define model runtime. This supports only mlflow\r\n",
        "RUNTIME = \"mlflow\""
      ],
      "outputs": [
        {
          "output_type": "display_data",
          "data": {
            "application/vnd.livy.statement-meta+json": {
              "spark_pool": "sparkezi1n72",
              "session_id": "82",
              "statement_id": 25,
              "state": "finished",
              "livy_statement_state": "available",
              "queued_time": "2022-11-16T23:52:25.8312259Z",
              "session_start_time": null,
              "execution_start_time": "2022-11-16T23:52:26.0073314Z",
              "execution_finish_time": "2022-11-16T23:52:26.1951456Z",
              "spark_jobs": null
            },
            "text/plain": "StatementMeta(sparkezi1n72, 82, 25, Finished, Available)"
          },
          "metadata": {}
        }
      ],
      "execution_count": 25,
      "metadata": {
        "jupyter": {
          "source_hidden": false,
          "outputs_hidden": false
        },
        "nteract": {
          "transient": {
            "deleting": false
          }
        }
      }
    },
    {
      "cell_type": "markdown",
      "source": [
        "## Authenticate to AML through linked service"
      ],
      "metadata": {
        "nteract": {
          "transient": {
            "deleting": false
          }
        }
      }
    },
    {
      "cell_type": "code",
      "source": [
        "#AML workspace authentication using linked service\r\n",
        "from notebookutils.mssparkutils import azureML\r\n",
        "ws = azureML.getWorkspace(\"AzureMLService1\") #   \"<linked_service_name>\" is the linked service name, not AML workspace name. Also, linked   service supports MSI and service principal both"
      ],
      "outputs": [
        {
          "output_type": "display_data",
          "data": {
            "application/vnd.livy.statement-meta+json": {
              "spark_pool": "sparkezi1n72",
              "session_id": "82",
              "statement_id": 26,
              "state": "finished",
              "livy_statement_state": "available",
              "queued_time": "2022-11-16T23:52:27.4755061Z",
              "session_start_time": null,
              "execution_start_time": "2022-11-16T23:52:27.5911968Z",
              "execution_finish_time": "2022-11-16T23:52:28.7198138Z",
              "spark_jobs": null
            },
            "text/plain": "StatementMeta(sparkezi1n72, 82, 26, Finished, Available)"
          },
          "metadata": {}
        }
      ],
      "execution_count": 26,
      "metadata": {
        "jupyter": {
          "source_hidden": false,
          "outputs_hidden": false
        },
        "nteract": {
          "transient": {
            "deleting": false
          }
        }
      }
    },
    {
      "cell_type": "markdown",
      "source": [
        "## Enable PREDICT in spark session"
      ],
      "metadata": {
        "nteract": {
          "transient": {
            "deleting": false
          }
        }
      }
    },
    {
      "cell_type": "code",
      "source": [
        "#Enable SynapseML predict\r\n",
        "spark.conf.set(\"spark.synapse.ml.predict.enabled\",\"true\")"
      ],
      "outputs": [
        {
          "output_type": "display_data",
          "data": {
            "application/vnd.livy.statement-meta+json": {
              "spark_pool": "sparkezi1n72",
              "session_id": "82",
              "statement_id": 46,
              "state": "finished",
              "livy_statement_state": "available",
              "queued_time": "2022-11-17T00:10:11.4431445Z",
              "session_start_time": null,
              "execution_start_time": "2022-11-17T00:10:11.6044385Z",
              "execution_finish_time": "2022-11-17T00:10:11.7878044Z",
              "spark_jobs": null
            },
            "text/plain": "StatementMeta(sparkezi1n72, 82, 46, Finished, Available)"
          },
          "metadata": {}
        }
      ],
      "execution_count": 46,
      "metadata": {
        "jupyter": {
          "source_hidden": false,
          "outputs_hidden": false
        },
        "nteract": {
          "transient": {
            "deleting": false
          }
        }
      }
    },
    {
      "cell_type": "markdown",
      "source": [
        "## Bind model in spark session"
      ],
      "metadata": {
        "nteract": {
          "transient": {
            "deleting": false
          }
        }
      }
    },
    {
      "cell_type": "code",
      "source": [
        "#Bind model within Spark session\r\n",
        "model = pcontext.bind_model(\r\n",
        "    return_types=RETURN_TYPES, \r\n",
        "    runtime=RUNTIME, \r\n",
        "    model_alias=\"mlflow_credit_defaults\", #This alias will be used in PREDICT call to refer  this   model\r\n",
        "    model_uri=AML_MODEL_URI, #In case of AML, it will be AML_MODEL_URI\r\n",
        "    aml_workspace=ws #This is only for AML. In case of ADLS, this parameter can be removed\r\n",
        "    ).register()"
      ],
      "outputs": [
        {
          "output_type": "display_data",
          "data": {
            "application/vnd.livy.statement-meta+json": {
              "spark_pool": "sparkezi1n72",
              "session_id": "82",
              "statement_id": 28,
              "state": "finished",
              "livy_statement_state": "available",
              "queued_time": "2022-11-16T23:52:29.9902265Z",
              "session_start_time": null,
              "execution_start_time": "2022-11-16T23:52:30.1162441Z",
              "execution_finish_time": "2022-11-16T23:52:35.5903513Z",
              "spark_jobs": null
            },
            "text/plain": "StatementMeta(sparkezi1n72, 82, 28, Finished, Available)"
          },
          "metadata": {}
        }
      ],
      "execution_count": 28,
      "metadata": {
        "jupyter": {
          "source_hidden": false,
          "outputs_hidden": false
        },
        "nteract": {
          "transient": {
            "deleting": false
          }
        }
      }
    },
    {
      "cell_type": "markdown",
      "source": [
        "##"
      ],
      "metadata": {
        "nteract": {
          "transient": {
            "deleting": false
          }
        }
      }
    },
    {
      "cell_type": "markdown",
      "source": [
        "## Read data from ADLS"
      ],
      "metadata": {
        "nteract": {
          "transient": {
            "deleting": false
          }
        }
      }
    },
    {
      "cell_type": "code",
      "source": [
        "df = spark.read \\\r\n",
        "   .format(\"csv\") \\\r\n",
        "   .option(\"header\", \"true\") \\\r\n",
        "   .csv(DATA_FILE,\r\n",
        "    inferSchema=True)\r\n",
        "df.createOrReplaceTempView('test_data')"
      ],
      "outputs": [
        {
          "output_type": "display_data",
          "data": {
            "application/vnd.livy.statement-meta+json": {
              "spark_pool": "sparkezi1n72",
              "session_id": "82",
              "statement_id": 31,
              "state": "finished",
              "livy_statement_state": "available",
              "queued_time": "2022-11-16T23:57:17.1804443Z",
              "session_start_time": null,
              "execution_start_time": "2022-11-16T23:57:17.3373122Z",
              "execution_finish_time": "2022-11-16T23:57:18.5114065Z",
              "spark_jobs": null
            },
            "text/plain": "StatementMeta(sparkezi1n72, 82, 31, Finished, Available)"
          },
          "metadata": {}
        }
      ],
      "execution_count": 31,
      "metadata": {
        "jupyter": {
          "source_hidden": false,
          "outputs_hidden": false
        },
        "nteract": {
          "transient": {
            "deleting": false
          }
        }
      }
    },
    {
      "cell_type": "code",
      "source": [
        "df.show(5)"
      ],
      "outputs": [
        {
          "output_type": "display_data",
          "data": {
            "application/vnd.livy.statement-meta+json": {
              "spark_pool": "sparkezi1n72",
              "session_id": "82",
              "statement_id": 32,
              "state": "finished",
              "livy_statement_state": "available",
              "queued_time": "2022-11-16T23:57:22.8639073Z",
              "session_start_time": null,
              "execution_start_time": "2022-11-16T23:57:23.1411662Z",
              "execution_finish_time": "2022-11-16T23:57:24.2965976Z",
              "spark_jobs": null
            },
            "text/plain": "StatementMeta(sparkezi1n72, 82, 32, Finished, Available)"
          },
          "metadata": {}
        },
        {
          "output_type": "stream",
          "name": "stdout",
          "text": [
            "+---------+---+---------+--------+---+-----+-----+-----+-----+-----+-----+---------+---------+---------+---------+---------+---------+--------+--------+--------+--------+--------+--------+\n|LIMIT_BAL|SEX|EDUCATION|MARRIAGE|AGE|PAY_0|PAY_2|PAY_3|PAY_4|PAY_5|PAY_6|BILL_AMT1|BILL_AMT2|BILL_AMT3|BILL_AMT4|BILL_AMT5|BILL_AMT6|PAY_AMT1|PAY_AMT2|PAY_AMT3|PAY_AMT4|PAY_AMT5|PAY_AMT6|\n+---------+---+---------+--------+---+-----+-----+-----+-----+-----+-----+---------+---------+---------+---------+---------+---------+--------+--------+--------+--------+--------+--------+\n|   640000|  1|        1|       2| 36|    0|    0|    0|    0|    0|    0|   192325|    68891|    71564|    32968|    37541|    42064|    4000|    4000|    3000|    5000|    5000|    3000|\n|   100000|  1|        2|       2| 44|    0|    0|    0|   -1|   -1|    0|    20439|     6882|     2456|     1537|     1642|      110|    1068|    1007|    1741|    1646|     100|       0|\n|    70000|  2|        2|       2| 25|    1|    2|    0|    0|    0|    0|    73167|    70238|    70640|    71298|    70930|    72491|       0|    2600|    3000|    3000|    6000|       0|\n|    50000|  1|        1|       2| 23|    2|    3|    2|    0|    0|    0|     7557|     7293|     8017|     8687|     9048|     9306|       0|    1000|     810|     500|     408|     500|\n|    50000|  2|        1|       1| 30|    1|    2|    0|    0|    0|    0|    49061|    46783|    42977|    36737|    19865|    16499|    1406|    2000|    1317|     700|     599|     604|\n+---------+---+---------+--------+---+-----+-----+-----+-----+-----+-----+---------+---------+---------+---------+---------+---------+--------+--------+--------+--------+--------+--------+\nonly showing top 5 rows\n\n"
          ]
        }
      ],
      "execution_count": 32,
      "metadata": {
        "jupyter": {
          "source_hidden": false,
          "outputs_hidden": false
        },
        "nteract": {
          "transient": {
            "deleting": false
          }
        }
      }
    },
    {
      "cell_type": "markdown",
      "source": [
        "## Generate score using predict"
      ],
      "metadata": {
        "nteract": {
          "transient": {
            "deleting": false
          }
        }
      }
    },
    {
      "cell_type": "code",
      "source": [
        "#Call PREDICT using user defined function (UDF)\r\n",
        "df.withColumn(\"PREDICT\",model.udf(lit(\"output\"),*df.columns)).show()"
      ],
      "outputs": [
        {
          "output_type": "display_data",
          "data": {
            "application/vnd.livy.statement-meta+json": {
              "spark_pool": "sparkezi1n72",
              "session_id": "82",
              "statement_id": 36,
              "state": "finished",
              "livy_statement_state": "available",
              "queued_time": "2022-11-17T00:00:12.3198235Z",
              "session_start_time": null,
              "execution_start_time": "2022-11-17T00:00:12.5733162Z",
              "execution_finish_time": "2022-11-17T00:01:38.8942982Z",
              "spark_jobs": null
            },
            "text/plain": "StatementMeta(sparkezi1n72, 82, 36, Finished, Available)"
          },
          "metadata": {}
        },
        {
          "output_type": "stream",
          "name": "stdout",
          "text": [
            "+---------+---+---------+--------+---+-----+-----+-----+-----+-----+-----+---------+---------+---------+---------+---------+---------+--------+--------+--------+--------+--------+--------+-------+\n|LIMIT_BAL|SEX|EDUCATION|MARRIAGE|AGE|PAY_0|PAY_2|PAY_3|PAY_4|PAY_5|PAY_6|BILL_AMT1|BILL_AMT2|BILL_AMT3|BILL_AMT4|BILL_AMT5|BILL_AMT6|PAY_AMT1|PAY_AMT2|PAY_AMT3|PAY_AMT4|PAY_AMT5|PAY_AMT6|PREDICT|\n+---------+---+---------+--------+---+-----+-----+-----+-----+-----+-----+---------+---------+---------+---------+---------+---------+--------+--------+--------+--------+--------+--------+-------+\n|   640000|  1|        1|       2| 36|    0|    0|    0|    0|    0|    0|   192325|    68891|    71564|    32968|    37541|    42064|    4000|    4000|    3000|    5000|    5000|    3000|      0|\n|   100000|  1|        2|       2| 44|    0|    0|    0|   -1|   -1|    0|    20439|     6882|     2456|     1537|     1642|      110|    1068|    1007|    1741|    1646|     100|       0|      0|\n|    70000|  2|        2|       2| 25|    1|    2|    0|    0|    0|    0|    73167|    70238|    70640|    71298|    70930|    72491|       0|    2600|    3000|    3000|    6000|       0|      0|\n|    50000|  1|        1|       2| 23|    2|    3|    2|    0|    0|    0|     7557|     7293|     8017|     8687|     9048|     9306|       0|    1000|     810|     500|     408|     500|      1|\n|    50000|  2|        1|       1| 30|    1|    2|    0|    0|    0|    0|    49061|    46783|    42977|    36737|    19865|    16499|    1406|    2000|    1317|     700|     599|     604|      0|\n|   300000|  2|        2|       2| 35|    0|    0|    0|    0|    0|    0|   291619|   297268|   205629|   215827|   208464|   212508|   12019|    9006|   17000|   12000|    9557|   15000|      0|\n|   140000|  1|        3|       1| 59|    0|    0|    0|    0|    2|    0|   129684|   130838|   131910|   136810|   133090|   134415|    6193|    6200|   10000|       0|    5000|    5000|      0|\n|    50000|  2|        3|       1| 32|   -1|   -1|   -1|   -1|   -1|   -1|     1442|     1444|     1447|     1261|     1261|     1261|    1444|    1447|    1261|    1261|    1261|      91|      0|\n|    20000|  2|        2|       1| 24|    0|    0|    0|    0|   -1|    0|    17599|    18920|    19000|        0|       80|      540|    1920|    1000|       0|      40|    1000|     844|      0|\n|   170000|  1|        2|       1| 34|    1|    2|    2|    2|    2|    0|    91450|    90486|    86004|    64363|    55912|    54500|    3400|       0|    3957|       0|    2200|    1300|      1|\n|   200000|  1|        1|       1| 44|   -1|   -1|   -1|   -1|   -2|   -2|     3983|     4884|     3165|        0|        0|        0|    4884|    3165|       0|       0|       0|       0|      0|\n|   360000|  2|        2|       1| 39|    1|   -2|   -2|   -2|   -2|   -2|        0|        0|        0|        0|        0|        0|       0|       0|       0|       0|       0|       0|      0|\n|   100000|  2|        3|       1| 44|    2|    2|    0|    0|    0|    2|    12724|    12228|    13255|    13959|    14921|    14539|       0|    1529|    1233|    1195|       0|    1300|      1|\n|   300000|  1|        1|       1| 45|   -1|   -1|   -1|   -1|   -1|   -1|     5045|      688|     6431|     3645|     2041|     1800|     688|    6495|    3681|    2448|    1910|     360|      0|\n|   150000|  2|        3|       2| 25|   -2|   -2|   -2|   -2|   -2|   -2|        0|     1145|     2580|        0|        0|        0|    1145|    2580|       0|       0|       0|       0|      0|\n|    20000|  1|        2|       1| 58|   -1|   -1|    2|    2|   -1|   -1|    21116|    21470|      200|        0|    28740|     1295|   21654|       0|       0|   28740|    1565|       0|      0|\n|   610000|  1|        1|       2| 35|    0|    0|    0|    0|    0|    0|   269672|   274882|   276887|   260761|   266747|   271886|   10000|   11000|   10000|   11000|   10000|   10000|      0|\n|    90000|  2|        2|       2| 33|    2|    2|    0|    0|    2|    2|    61367|    59814|    61816|    65180|    63979|    63733|       0|    3000|    5010|       0|    5000|       0|      1|\n|   350000|  1|        1|       2| 35|   -1|   -1|    2|    2|    2|   -1|     3260|     4248|      785|      135|        0|     1006|    4273|       0|       0|    1006|    1006|       0|      0|\n|   400000|  2|        4|       1| 37|   -2|   -2|   -2|   -2|   -2|   -2|    14889|      929|     1191|    11930|    11286|     5766|     929|    1191|   11930|   11286|    5766|   16520|      0|\n+---------+---+---------+--------+---+-----+-----+-----+-----+-----+-----+---------+---------+---------+---------+---------+---------+--------+--------+--------+--------+--------+--------+-------+\nonly showing top 20 rows\n\n"
          ]
        }
      ],
      "execution_count": 36,
      "metadata": {
        "jupyter": {
          "source_hidden": false,
          "outputs_hidden": false
        },
        "nteract": {
          "transient": {
            "deleting": false
          }
        }
      }
    },
    {
      "cell_type": "code",
      "source": [],
      "outputs": [],
      "execution_count": null,
      "metadata": {
        "jupyter": {
          "source_hidden": false,
          "outputs_hidden": false
        },
        "nteract": {
          "transient": {
            "deleting": false
          }
        }
      }
    }
  ],
  "metadata": {
    "language_info": {
      "name": "python"
    },
    "kernelspec": {
      "name": "synapse_pyspark",
      "language": "Python",
      "display_name": "Synapse PySpark"
    },
    "kernel_info": {
      "name": "synapse_pyspark"
    },
    "save_output": true,
    "synapse_widget": {
      "version": "0.1",
      "state": {}
    }
  },
  "nbformat": 4,
  "nbformat_minor": 2
}