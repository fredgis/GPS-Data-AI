{
  "cells": [
    {
      "cell_type": "code",
      "execution_count": 1,
      "id": "faf13b61-4120-4979-b227-d17d31b02953",
      "metadata": {
        "collapsed": true,
        "execution": {
          "iopub.execute_input": "2022-06-15T08:31:39.413Z",
          "iopub.status.busy": "2022-06-15T08:31:39.402Z",
          "iopub.status.idle": "2022-06-15T08:31:39.445Z",
          "shell.execute_reply": "2022-06-15T08:31:39.570Z"
        },
        "jupyter": {
          "outputs_hidden": false,
          "source_hidden": false
        },
        "nteract": {
          "transient": {
            "deleting": false
          }
        },
        "trusted": true
      },
      "outputs": [],
      "source": [
        "import azure.cosmos.cosmos_client as cosmos_client\n",
        "import azure.cosmos.exceptions as exceptions\n",
        "import json\n",
        "import array"
      ]
    },
    {
      "cell_type": "code",
      "execution_count": 3,
      "id": "c828028e-d919-4a73-b615-f15a1c24d8db",
      "metadata": {
        "collapsed": true,
        "execution": {
          "iopub.execute_input": "2022-06-15T08:32:07.078Z",
          "iopub.status.busy": "2022-06-15T08:32:07.074Z",
          "iopub.status.idle": "2022-06-15T08:32:08.791Z",
          "shell.execute_reply": "2022-06-15T08:32:08.838Z"
        },
        "jupyter": {
          "outputs_hidden": false,
          "source_hidden": false
        },
        "nteract": {
          "transient": {
            "deleting": false
          }
        },
        "trusted": true
      },
      "outputs": [],
      "source": [
        "client = cosmos_client.CosmosClient('https://cosmos-openhack.documents.azure.com:443/', {'masterKey': 'ZVCHpcM1cXCx2uk0bfdv5rQ6hTQOQQduIozCM0GO8m1Qjn3MSLd07m1kTltTvfmAih0Lu3oyRLydzomF605Q3g=='} )"
      ]
    },
    {
      "cell_type": "code",
      "execution_count": 4,
      "id": "32f29389-22f8-42c0-aabc-2a741b42394b",
      "metadata": {
        "collapsed": true,
        "jupyter": {
          "outputs_hidden": false,
          "source_hidden": false
        },
        "nteract": {
          "transient": {
            "deleting": false
          }
        },
        "trusted": true
      },
      "outputs": [],
      "source": [
        "# get database\n",
        "database = client.get_database_client('database_team01')"
      ]
    },
    {
      "cell_type": "code",
      "execution_count": 6,
      "id": "7492dd59",
      "metadata": {},
      "outputs": [
        {
          "name": "stdout",
          "output_type": "stream",
          "text": [
            "SELECT * FROM product_metadata_2 c WHERE c.Type = \"Category\"\n",
            "Query returned 5 documents. Request charge: 2.94 RUs\n",
            "\n",
            "[\n",
            " {\n",
            "  \"Type\": \"Category\",\n",
            "  \"CategoryId\": \"0\",\n",
            "  \"Name\": \"Games, Baby & Beauty\",\n",
            "  \"id\": \"f75ee442-2f92-491c-975a-60df7ab62563\",\n",
            "  \"_rid\": \"3PseAKkKYkoBAAAAAAAAAA==\",\n",
            "  \"_self\": \"dbs/3PseAA==/colls/3PseAKkKYko=/docs/3PseAKkKYkoBAAAAAAAAAA==/\",\n",
            "  \"_etag\": \"\\\"7900ca76-0000-0c00-0000-62c341090000\\\"\",\n",
            "  \"_attachments\": \"attachments/\",\n",
            "  \"_ts\": 1656963337\n",
            " },\n",
            " {\n",
            "  \"Type\": \"Category\",\n",
            "  \"CategoryId\": \"1\",\n",
            "  \"Name\": \"Movies\",\n",
            "  \"id\": \"9805642b-017d-4d6d-96e1-6497dfec54d8\",\n",
            "  \"_rid\": \"3PseAKkKYkoCAAAAAAAAAA==\",\n",
            "  \"_self\": \"dbs/3PseAA==/colls/3PseAKkKYko=/docs/3PseAKkKYkoCAAAAAAAAAA==/\",\n",
            "  \"_etag\": \"\\\"7900cb76-0000-0c00-0000-62c341090000\\\"\",\n",
            "  \"_attachments\": \"attachments/\",\n",
            "  \"_ts\": 1656963337\n",
            " },\n",
            " {\n",
            "  \"Type\": \"Category\",\n",
            "  \"CategoryId\": \"2\",\n",
            "  \"Name\": \"Sports, Shoes & Health\",\n",
            "  \"id\": \"598c7c54-fea3-4f0e-8fcf-f70cfa7d2402\",\n",
            "  \"_rid\": \"3PseAKkKYkoDAAAAAAAAAA==\",\n",
            "  \"_self\": \"dbs/3PseAA==/colls/3PseAKkKYko=/docs/3PseAKkKYkoDAAAAAAAAAA==/\",\n",
            "  \"_etag\": \"\\\"7900cc76-0000-0c00-0000-62c341090000\\\"\",\n",
            "  \"_attachments\": \"attachments/\",\n",
            "  \"_ts\": 1656963337\n",
            " },\n",
            " {\n",
            "  \"Type\": \"Category\",\n",
            "  \"CategoryId\": \"3\",\n",
            "  \"Name\": \"Home & Clothing\",\n",
            "  \"id\": \"941f562c-4945-42eb-8eb8-04e044790258\",\n",
            "  \"_rid\": \"3PseAKkKYkoEAAAAAAAAAA==\",\n",
            "  \"_self\": \"dbs/3PseAA==/colls/3PseAKkKYko=/docs/3PseAKkKYkoEAAAAAAAAAA==/\",\n",
            "  \"_etag\": \"\\\"7900ce76-0000-0c00-0000-62c341090000\\\"\",\n",
            "  \"_attachments\": \"attachments/\",\n",
            "  \"_ts\": 1656963337\n",
            " },\n",
            " {\n",
            "  \"Type\": \"Category\",\n",
            "  \"CategoryId\": \"4\",\n",
            "  \"Name\": \"Clothing & Kids\",\n",
            "  \"id\": \"63bcdc5d-4b7c-4145-91e4-aa80dc13e01d\",\n",
            "  \"_rid\": \"3PseAKkKYkoFAAAAAAAAAA==\",\n",
            "  \"_self\": \"dbs/3PseAA==/colls/3PseAKkKYko=/docs/3PseAKkKYkoFAAAAAAAAAA==/\",\n",
            "  \"_etag\": \"\\\"7900cf76-0000-0c00-0000-62c341090000\\\"\",\n",
            "  \"_attachments\": \"attachments/\",\n",
            "  \"_ts\": 1656963337\n",
            " }\n",
            "]\n"
          ]
        }
      ],
      "source": [
        "# list all product categories\n",
        "# 2.32 RUs\n",
        "container = database.get_container_client('product_metadata_2')\n",
        "query = 'SELECT * FROM product_metadata_2 c WHERE c.Type = \"Category\"'\n",
        "print(query)\n",
        "items = list(container.query_items(\n",
        "    query = query,\n",
        "    enable_cross_partition_query= True\n",
        "))\n",
        "\n",
        "request_charge = container.client_connection.last_response_headers['x-ms-request-charge']\n",
        "print('Query returned {0} documents. Request charge: {1} RUs\\n'.format(len(items), request_charge))\n",
        "print(json.dumps(items, indent=True))    \n"
      ]
    },
    {
      "cell_type": "code",
      "execution_count": 7,
      "id": "058a8ed0",
      "metadata": {},
      "outputs": [
        {
          "name": "stdout",
          "output_type": "stream",
          "text": [
            "SELECT * FROM products_1 c WHERE c.CategoryName='Sports, Shoes & Health'\n",
            "Request charge: 2.89 RUs\n",
            "\n",
            "[\n",
            " {\n",
            "  \"Type\": \"Product\",\n",
            "  \"ProductId\": \"3\",\n",
            "  \"CategoryId\": \"2\",\n",
            "  \"CategoryName\": \"Sports, Shoes & Health\",\n",
            "  \"SKU\": \"omnis\",\n",
            "  \"Name\": \"Tasty Fresh Gloves\",\n",
            "  \"Description\": \"Aspernatur laudantium nemo.\",\n",
            "  \"Price\": 831.73,\n",
            "  \"id\": \"e0880483-1d32-4190-b315-ea31e1c915d4\",\n",
            "  \"_rid\": \"3PseAIajJfAEAAAAAAAAAA==\",\n",
            "  \"_self\": \"dbs/3PseAA==/colls/3PseAIajJfA=/docs/3PseAIajJfAEAAAAAAAAAA==/\",\n",
            "  \"_etag\": \"\\\"1100c9ff-0000-0c00-0000-62c33f340000\\\"\",\n",
            "  \"_attachments\": \"attachments/\",\n",
            "  \"_ts\": 1656962868\n",
            " },\n",
            " {\n",
            "  \"Type\": \"Product\",\n",
            "  \"ProductId\": \"4\",\n",
            "  \"CategoryId\": \"2\",\n",
            "  \"CategoryName\": \"Sports, Shoes & Health\",\n",
            "  \"SKU\": \"sequi\",\n",
            "  \"Name\": \"Gorgeous Rubber Bacon\",\n",
            "  \"Description\": \"Qui eius et eum aut nostrum nulla.\",\n",
            "  \"Price\": 767.8,\n",
            "  \"id\": \"e8d0593b-156c-454e-bbc4-73e72b608d28\",\n",
            "  \"_rid\": \"3PseAIajJfAFAAAAAAAAAA==\",\n",
            "  \"_self\": \"dbs/3PseAA==/colls/3PseAIajJfA=/docs/3PseAIajJfAFAAAAAAAAAA==/\",\n",
            "  \"_etag\": \"\\\"1100caff-0000-0c00-0000-62c33f340000\\\"\",\n",
            "  \"_attachments\": \"attachments/\",\n",
            "  \"_ts\": 1656962868\n",
            " },\n",
            " {\n",
            "  \"Type\": \"Product\",\n",
            "  \"ProductId\": \"7\",\n",
            "  \"CategoryId\": \"2\",\n",
            "  \"CategoryName\": \"Sports, Shoes & Health\",\n",
            "  \"SKU\": \"dignissimos\",\n",
            "  \"Name\": \"Small Granite Bacon\",\n",
            "  \"Description\": \"Fuga libero dolorum beatae totam.\",\n",
            "  \"Price\": 425.52,\n",
            "  \"id\": \"e8d940ff-de99-4a3b-8371-67e8e2ed1a54\",\n",
            "  \"_rid\": \"3PseAIajJfAIAAAAAAAAAA==\",\n",
            "  \"_self\": \"dbs/3PseAA==/colls/3PseAIajJfA=/docs/3PseAIajJfAIAAAAAAAAAA==/\",\n",
            "  \"_etag\": \"\\\"1100cdff-0000-0c00-0000-62c33f340000\\\"\",\n",
            "  \"_attachments\": \"attachments/\",\n",
            "  \"_ts\": 1656962868\n",
            " }\n",
            "]\n"
          ]
        }
      ],
      "source": [
        "# List all products from  category ‘Clothing, Home & Computers’\n",
        "\n",
        "container = database.get_container_client('products_1')\n",
        "query = \"SELECT * FROM products_1 c WHERE c.CategoryName='Sports, Shoes & Health'\"\n",
        "print(query)\n",
        "items = list(container.query_items(\n",
        "    query = query,\n",
        "    enable_cross_partition_query= True\n",
        "))\n",
        "\n",
        "request_charge1 = container.client_connection.last_response_headers['x-ms-request-charge']\n",
        "print('Request charge: {0} RUs\\n'.format(request_charge1))\n",
        "\n",
        "print(json.dumps(items, indent=True)) "
      ]
    },
    {
      "cell_type": "code",
      "execution_count": 8,
      "id": "1205b045",
      "metadata": {},
      "outputs": [
        {
          "name": "stdout",
          "output_type": "stream",
          "text": [
            "SELECT * FROM sales_orders_1 s WHERE s.CustomerId = '7'\n",
            "Request charge: 2.85 RUs\n",
            "\n",
            "[\n",
            " {\n",
            "  \"SalesOrderId\": \"6\",\n",
            "  \"CustomerId\": \"7\",\n",
            "  \"id\": \"d7c6a3bc-846a-493b-be14-926f7e9cc5ea\",\n",
            "  \"_rid\": \"3PseAPYoXgQHAAAAAAAAAA==\",\n",
            "  \"_self\": \"dbs/3PseAA==/colls/3PseAPYoXgQ=/docs/3PseAPYoXgQHAAAAAAAAAA==/\",\n",
            "  \"_etag\": \"\\\"6500a20a-0000-0c00-0000-62c302510000\\\"\",\n",
            "  \"_attachments\": \"attachments/\",\n",
            "  \"_ts\": 1656947281\n",
            " },\n",
            " {\n",
            "  \"SalesOrderId\": \"7\",\n",
            "  \"CustomerId\": \"7\",\n",
            "  \"id\": \"83a1aa58-e36e-40bc-b986-bbc540d10dd6\",\n",
            "  \"_rid\": \"3PseAPYoXgQIAAAAAAAAAA==\",\n",
            "  \"_self\": \"dbs/3PseAA==/colls/3PseAPYoXgQ=/docs/3PseAPYoXgQIAAAAAAAAAA==/\",\n",
            "  \"_etag\": \"\\\"6500a30a-0000-0c00-0000-62c302510000\\\"\",\n",
            "  \"_attachments\": \"attachments/\",\n",
            "  \"_ts\": 1656947281\n",
            " }\n",
            "]\n"
          ]
        }
      ],
      "source": [
        "# List all sales order for  customer #7\n",
        "\n",
        "container = database.get_container_client('sales_orders')\n",
        "query = \"SELECT * FROM sales_orders_1 s WHERE s.CustomerId = '7'\"\n",
        "print(query)\n",
        "items = list(container.query_items(\n",
        "    query = query,\n",
        "    enable_cross_partition_query= True\n",
        "))\n",
        "\n",
        "request_charge1 = container.client_connection.last_response_headers['x-ms-request-charge']\n",
        "print('Request charge: {0} RUs\\n'.format(request_charge1))\n",
        "\n",
        "print(json.dumps(items, indent=True))    "
      ]
    }
  ],
  "metadata": {
    "kernelspec": {
      "display_name": "Python 3.10.5 64-bit",
      "language": "python",
      "name": "python3"
    },
    "language_info": {
      "codemirror_mode": {
        "name": "ipython",
        "version": 3
      },
      "file_extension": ".py",
      "mimetype": "text/x-python",
      "name": "python",
      "nbconvert_exporter": "python",
      "pygments_lexer": "ipython3",
      "version": "3.10.5"
    },
    "nteract": {
      "version": "dataExplorer 1.0"
    },
    "vscode": {
      "interpreter": {
        "hash": "26de051ba29f2982a8de78e945f0abaf191376122a1563185a90213a26c5da77"
      }
    }
  },
  "nbformat": 4,
  "nbformat_minor": 5
}
