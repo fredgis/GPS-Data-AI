{
  "cells": [
    {
      "cell_type": "code",
      "execution_count": 1,
      "id": "faf13b61-4120-4979-b227-d17d31b02953",
      "metadata": {
        "collapsed": true,
        "execution": {
          "iopub.execute_input": "2022-06-15T08:31:39.413Z",
          "iopub.status.busy": "2022-06-15T08:31:39.402Z",
          "iopub.status.idle": "2022-06-15T08:31:39.445Z",
          "shell.execute_reply": "2022-06-15T08:31:39.570Z"
        },
        "jupyter": {
          "outputs_hidden": false,
          "source_hidden": false
        },
        "nteract": {
          "transient": {
            "deleting": false
          }
        },
        "trusted": true
      },
      "outputs": [],
      "source": [
        "import azure.cosmos.cosmos_client as cosmos_client\n",
        "import azure.cosmos.exceptions as exceptions\n",
        "import json\n",
        "import array"
      ]
    },
    {
      "cell_type": "code",
      "execution_count": 2,
      "id": "c828028e-d919-4a73-b615-f15a1c24d8db",
      "metadata": {
        "collapsed": true,
        "execution": {
          "iopub.execute_input": "2022-06-15T08:32:07.078Z",
          "iopub.status.busy": "2022-06-15T08:32:07.074Z",
          "iopub.status.idle": "2022-06-15T08:32:08.791Z",
          "shell.execute_reply": "2022-06-15T08:32:08.838Z"
        },
        "jupyter": {
          "outputs_hidden": false,
          "source_hidden": false
        },
        "nteract": {
          "transient": {
            "deleting": false
          }
        },
        "trusted": true
      },
      "outputs": [],
      "source": [
        "client = cosmos_client.CosmosClient('https://cosmos-openhack.documents.azure.com:443/', {'masterKey': 'ZVCHpcM1cXCx2uk0bfdv5rQ6hTQOQQduIozCM0GO8m1Qjn3MSLd07m1kTltTvfmAih0Lu3oyRLydzomF605Q3g=='} )"
      ]
    },
    {
      "cell_type": "code",
      "execution_count": null,
      "id": "34ca79ae-75e8-45e7-a367-1e65d30f205c",
      "metadata": {
        "collapsed": true,
        "jupyter": {
          "outputs_hidden": false,
          "source_hidden": false
        },
        "nteract": {
          "transient": {
            "deleting": false
          }
        },
        "trusted": true
      },
      "outputs": [],
      "source": [
        "# list all databases\n",
        "databases = client.list_databases()\n",
        "print(json.dumps(list(databases), indent=True))    \n",
        "\n",
        "# for database in databases:\n",
        "#     print(database['id'])"
      ]
    },
    {
      "cell_type": "code",
      "execution_count": 9,
      "id": "32f29389-22f8-42c0-aabc-2a741b42394b",
      "metadata": {
        "collapsed": true,
        "jupyter": {
          "outputs_hidden": false,
          "source_hidden": false
        },
        "nteract": {
          "transient": {
            "deleting": false
          }
        },
        "trusted": true
      },
      "outputs": [],
      "source": [
        "# get database\n",
        "database = client.get_database_client('database_team01')"
      ]
    },
    {
      "cell_type": "code",
      "execution_count": 12,
      "id": "7492dd59",
      "metadata": {},
      "outputs": [
        {
          "name": "stdout",
          "output_type": "stream",
          "text": [
            "SELECT * FROM categories c\n",
            "Request charge: 2.32 RUs\n",
            "\n",
            "[\n",
            " {\n",
            "  \"CategoryId\": \"2\",\n",
            "  \"CategoryName\": \"Outdoors\",\n",
            "  \"id\": \"75a4b299-1d45-475a-8b93-47fad9dfa3ec\",\n",
            "  \"_rid\": \"GZJ+AMdEId4BAAAAAAAAAA==\",\n",
            "  \"_self\": \"dbs/GZJ+AA==/colls/GZJ+AMdEId4=/docs/GZJ+AMdEId4BAAAAAAAAAA==/\",\n",
            "  \"_etag\": \"\\\"2900ee99-0000-0c00-0000-62c344930000\\\"\",\n",
            "  \"_attachments\": \"attachments/\",\n",
            "  \"_ts\": 1656964243\n",
            " },\n",
            " {\n",
            "  \"CategoryId\": \"1\",\n",
            "  \"CategoryName\": \"Outdoors\",\n",
            "  \"id\": \"bd8a808e-7ccd-47bb-a1c9-71322f1173c7\",\n",
            "  \"_rid\": \"GZJ+AMdEId4CAAAAAAAAAA==\",\n",
            "  \"_self\": \"dbs/GZJ+AA==/colls/GZJ+AMdEId4=/docs/GZJ+AMdEId4CAAAAAAAAAA==/\",\n",
            "  \"_etag\": \"\\\"2900ef99-0000-0c00-0000-62c344930000\\\"\",\n",
            "  \"_attachments\": \"attachments/\",\n",
            "  \"_ts\": 1656964243\n",
            " },\n",
            " {\n",
            "  \"CategoryId\": \"3\",\n",
            "  \"CategoryName\": \"Clothing, Home & Computers\",\n",
            "  \"id\": \"fbcdc463-c6ec-452b-8052-076d58cafa84\",\n",
            "  \"_rid\": \"GZJ+AMdEId4DAAAAAAAAAA==\",\n",
            "  \"_self\": \"dbs/GZJ+AA==/colls/GZJ+AMdEId4=/docs/GZJ+AMdEId4DAAAAAAAAAA==/\",\n",
            "  \"_etag\": \"\\\"2900f099-0000-0c00-0000-62c344930000\\\"\",\n",
            "  \"_attachments\": \"attachments/\",\n",
            "  \"_ts\": 1656964243\n",
            " },\n",
            " {\n",
            "  \"CategoryId\": \"4\",\n",
            "  \"CategoryName\": \"Electronics & Outdoors\",\n",
            "  \"id\": \"9518cd10-1972-4c9c-ae91-d2ec3178d44a\",\n",
            "  \"_rid\": \"GZJ+AMdEId4EAAAAAAAAAA==\",\n",
            "  \"_self\": \"dbs/GZJ+AA==/colls/GZJ+AMdEId4=/docs/GZJ+AMdEId4EAAAAAAAAAA==/\",\n",
            "  \"_etag\": \"\\\"2900f199-0000-0c00-0000-62c344930000\\\"\",\n",
            "  \"_attachments\": \"attachments/\",\n",
            "  \"_ts\": 1656964243\n",
            " },\n",
            " {\n",
            "  \"CategoryId\": \"0\",\n",
            "  \"CategoryName\": \"Baby & Toys\",\n",
            "  \"id\": \"cd4ae8a4-7d26-44e6-bf76-0f3b2619e349\",\n",
            "  \"_rid\": \"GZJ+AMdEId4FAAAAAAAAAA==\",\n",
            "  \"_self\": \"dbs/GZJ+AA==/colls/GZJ+AMdEId4=/docs/GZJ+AMdEId4FAAAAAAAAAA==/\",\n",
            "  \"_etag\": \"\\\"2900f299-0000-0c00-0000-62c344930000\\\"\",\n",
            "  \"_attachments\": \"attachments/\",\n",
            "  \"_ts\": 1656964243\n",
            " }\n",
            "]\n"
          ]
        }
      ],
      "source": [
        "# list all categories\n",
        "# 2.32 RUs\n",
        "container = database.get_container_client('categories')\n",
        "query = 'SELECT * FROM categories c'\n",
        "print(query)\n",
        "items = list(container.query_items(\n",
        "    query = query,\n",
        "    enable_cross_partition_query= True\n",
        "))\n",
        "\n",
        "request_charge = container.client_connection.last_response_headers['x-ms-request-charge']\n",
        "print('Request charge: {0} RUs\\n'.format(request_charge))\n",
        "\n",
        "print(json.dumps(items, indent=True))    "
      ]
    },
    {
      "cell_type": "code",
      "execution_count": 13,
      "id": "058a8ed0",
      "metadata": {},
      "outputs": [
        {
          "name": "stdout",
          "output_type": "stream",
          "text": [
            "SELECT VALUE c.CategoryId FROM categories c WHERE c.CategoryName = 'Clothing, Home & Computers'\n",
            "Request charge: 3.02 RUs\n",
            "\n",
            "[\n",
            " \"3\"\n",
            "]\n"
          ]
        }
      ],
      "source": [
        "# List all products from  category ‘Clothing, Home & Computers’\n",
        "\n",
        "\n",
        "# get id for category \"Sports, Shoes & Health\" \n",
        "container = database.get_container_client('categories')\n",
        "query = \"SELECT VALUE c.CategoryId FROM categories c WHERE c.CategoryName = 'Clothing, Home & Computers'\"\n",
        "print(query)\n",
        "items = list(container.query_items(\n",
        "    query = query,\n",
        "    enable_cross_partition_query= True\n",
        "))\n",
        "\n",
        "request_charge1 = container.client_connection.last_response_headers['x-ms-request-charge']\n",
        "print('Request charge: {0} RUs\\n'.format(request_charge1))\n",
        "\n",
        "print(json.dumps(items, indent=True))    "
      ]
    },
    {
      "cell_type": "code",
      "execution_count": 14,
      "id": "73367894",
      "metadata": {},
      "outputs": [
        {
          "name": "stdout",
          "output_type": "stream",
          "text": [
            "SELECT * FROM product_categories c WHERE c.CategoryId = '3'\n",
            "Request charge: 2.88 RUs\n",
            "\n",
            "[\n",
            " {\n",
            "  \"ProductId\": \"5\",\n",
            "  \"CategoryId\": \"3\",\n",
            "  \"id\": \"ec61653b-71b6-4e6c-af06-9c09cc9902aa\",\n",
            "  \"_rid\": \"GZJ+AP8xwlwBAAAAAAAAAA==\",\n",
            "  \"_self\": \"dbs/GZJ+AA==/colls/GZJ+AP8xwlw=/docs/GZJ+AP8xwlwBAAAAAAAAAA==/\",\n",
            "  \"_etag\": \"\\\"0300b0bf-0000-0c00-0000-62c344940000\\\"\",\n",
            "  \"_attachments\": \"attachments/\",\n",
            "  \"_ts\": 1656964244\n",
            " },\n",
            " {\n",
            "  \"ProductId\": \"0\",\n",
            "  \"CategoryId\": \"3\",\n",
            "  \"id\": \"87aabbbb-3591-4066-80ca-4404abda1fbe\",\n",
            "  \"_rid\": \"GZJ+AP8xwlwIAAAAAAAAAA==\",\n",
            "  \"_self\": \"dbs/GZJ+AA==/colls/GZJ+AP8xwlw=/docs/GZJ+AP8xwlwIAAAAAAAAAA==/\",\n",
            "  \"_etag\": \"\\\"0300b7bf-0000-0c00-0000-62c344940000\\\"\",\n",
            "  \"_attachments\": \"attachments/\",\n",
            "  \"_ts\": 1656964244\n",
            " },\n",
            " {\n",
            "  \"ProductId\": \"4\",\n",
            "  \"CategoryId\": \"3\",\n",
            "  \"id\": \"34065f04-03cd-4c61-b8cc-36c8fc1f81dc\",\n",
            "  \"_rid\": \"GZJ+AP8xwlwKAAAAAAAAAA==\",\n",
            "  \"_self\": \"dbs/GZJ+AA==/colls/GZJ+AP8xwlw=/docs/GZJ+AP8xwlwKAAAAAAAAAA==/\",\n",
            "  \"_etag\": \"\\\"0300b9bf-0000-0c00-0000-62c344940000\\\"\",\n",
            "  \"_attachments\": \"attachments/\",\n",
            "  \"_ts\": 1656964244\n",
            " }\n",
            "]\n"
          ]
        }
      ],
      "source": [
        "# list product ids from category 3\n",
        "container = database.get_container_client('product_categories')\n",
        "query = \"SELECT * FROM product_categories c WHERE c.CategoryId = '3'\"\n",
        "print(query)\n",
        "items = list(container.query_items(\n",
        "    query = query,\n",
        "    enable_cross_partition_query= True\n",
        "))\n",
        "\n",
        "request_charge1 = container.client_connection.last_response_headers['x-ms-request-charge']\n",
        "print('Request charge: {0} RUs\\n'.format(request_charge1))\n",
        "\n",
        "print(json.dumps(items, indent=True))    "
      ]
    },
    {
      "cell_type": "code",
      "execution_count": 21,
      "id": "3937f8c6",
      "metadata": {},
      "outputs": [
        {
          "name": "stdout",
          "output_type": "stream",
          "text": [
            "SELECT * FROM products c WHERE c.ProductId IN ('0', '4', '5')\n",
            "Request charge: 3.09 RUs\n",
            "\n",
            "[\n",
            " {\n",
            "  \"ProductId\": \"5\",\n",
            "  \"SKU\": \"ut\",\n",
            "  \"Name\": \"Rustic Steel Tuna\",\n",
            "  \"Description\": \"Fuga temporibus aut.\",\n",
            "  \"Price\": 65.4,\n",
            "  \"id\": \"14f7c8f3-33aa-4453-a4c8-e17565400859\",\n",
            "  \"_rid\": \"GZJ+AOH6CocBAAAAAAAAAA==\",\n",
            "  \"_self\": \"dbs/GZJ+AA==/colls/GZJ+AOH6Coc=/docs/GZJ+AOH6CocBAAAAAAAAAA==/\",\n",
            "  \"_etag\": \"\\\"2b00609b-0000-0c00-0000-62c344950000\\\"\",\n",
            "  \"_attachments\": \"attachments/\",\n",
            "  \"_ts\": 1656964245\n",
            " },\n",
            " {\n",
            "  \"ProductId\": \"0\",\n",
            "  \"SKU\": \"architecto\",\n",
            "  \"Name\": \"Ergonomic Metal Chair\",\n",
            "  \"Description\": \"Sit error ab et sint voluptas fuga iusto officiis.\",\n",
            "  \"Price\": 21.61,\n",
            "  \"id\": \"2c67bc2a-396c-4cb4-bfe4-5bd0cb2e9cb4\",\n",
            "  \"_rid\": \"GZJ+AOH6CocDAAAAAAAAAA==\",\n",
            "  \"_self\": \"dbs/GZJ+AA==/colls/GZJ+AOH6Coc=/docs/GZJ+AOH6CocDAAAAAAAAAA==/\",\n",
            "  \"_etag\": \"\\\"2b00629b-0000-0c00-0000-62c344950000\\\"\",\n",
            "  \"_attachments\": \"attachments/\",\n",
            "  \"_ts\": 1656964245\n",
            " },\n",
            " {\n",
            "  \"ProductId\": \"4\",\n",
            "  \"SKU\": \"consectetur\",\n",
            "  \"Name\": \"Ergonomic Steel Bacon\",\n",
            "  \"Description\": \"Necessitatibus officia eligendi.\",\n",
            "  \"Price\": 828.92,\n",
            "  \"id\": \"c753445f-768f-4463-b325-6a4bbb382706\",\n",
            "  \"_rid\": \"GZJ+AOH6CocIAAAAAAAAAA==\",\n",
            "  \"_self\": \"dbs/GZJ+AA==/colls/GZJ+AOH6Coc=/docs/GZJ+AOH6CocIAAAAAAAAAA==/\",\n",
            "  \"_etag\": \"\\\"2b00679b-0000-0c00-0000-62c344950000\\\"\",\n",
            "  \"_attachments\": \"attachments/\",\n",
            "  \"_ts\": 1656964245\n",
            " }\n",
            "]\n"
          ]
        }
      ],
      "source": [
        "# list products by ids\n",
        "container = database.get_container_client('products')\n",
        "query = \"SELECT * FROM products c WHERE c.ProductId IN ('0', '4', '5')\"\n",
        "print(query)\n",
        "items = list(container.query_items(\n",
        "    query = query,\n",
        "    enable_cross_partition_query= True\n",
        "))\n",
        "\n",
        "request_charge1 = container.client_connection.last_response_headers['x-ms-request-charge']\n",
        "print('Request charge: {0} RUs\\n'.format(request_charge1))\n",
        "\n",
        "print(json.dumps(items, indent=True))    "
      ]
    },
    {
      "cell_type": "code",
      "execution_count": 16,
      "id": "130bfa10",
      "metadata": {},
      "outputs": [
        {
          "name": "stdout",
          "output_type": "stream",
          "text": [
            "SELECT VALUE c.SalesOrderId FROM sales_orders c WHERE c.CustomerId = '7'\n",
            "Request charge: 3.05 RUs\n",
            "\n",
            "[\n",
            " \"6\",\n",
            " \"7\"\n",
            "]\n"
          ]
        }
      ],
      "source": [
        "# List all sales order for  customer #7\n",
        "\n",
        "\n",
        "# get sales order ids for customer #7\n",
        "container = database.get_container_client('sales_orders')\n",
        "query = \"SELECT VALUE c.SalesOrderId FROM sales_orders c WHERE c.CustomerId = '7'\"\n",
        "print(query)\n",
        "items = list(container.query_items(\n",
        "    query = query,\n",
        "    enable_cross_partition_query= True\n",
        "))\n",
        "\n",
        "request_charge1 = container.client_connection.last_response_headers['x-ms-request-charge']\n",
        "print('Request charge: {0} RUs\\n'.format(request_charge1))\n",
        "\n",
        "print(json.dumps(items, indent=True))    "
      ]
    },
    {
      "cell_type": "code",
      "execution_count": 17,
      "id": "734fc920",
      "metadata": {},
      "outputs": [
        {
          "name": "stdout",
          "output_type": "stream",
          "text": [
            "SELECT * FROM sales_orders_details c WHERE c.SalesOrderId IN ('7','6')\n",
            "Request charge: 2.95 RUs\n",
            "\n",
            "[\n",
            " {\n",
            "  \"SalesOrderId\": \"6\",\n",
            "  \"CustomerId\": \"7\",\n",
            "  \"id\": \"9143feb0-ce57-46b2-a88a-02291dce73f4\",\n",
            "  \"_rid\": \"GZJ+ALSEeLMEAAAAAAAAAA==\",\n",
            "  \"_self\": \"dbs/GZJ+AA==/colls/GZJ+ALSEeLM=/docs/GZJ+ALSEeLMEAAAAAAAAAA==/\",\n",
            "  \"_etag\": \"\\\"0100fcea-0000-0c00-0000-62c344950000\\\"\",\n",
            "  \"_attachments\": \"attachments/\",\n",
            "  \"_ts\": 1656964245\n",
            " },\n",
            " {\n",
            "  \"SalesOrderId\": \"7\",\n",
            "  \"CustomerId\": \"7\",\n",
            "  \"id\": \"216f91c7-c051-4759-9376-a80995d17313\",\n",
            "  \"_rid\": \"GZJ+ALSEeLMIAAAAAAAAAA==\",\n",
            "  \"_self\": \"dbs/GZJ+AA==/colls/GZJ+ALSEeLM=/docs/GZJ+ALSEeLMIAAAAAAAAAA==/\",\n",
            "  \"_etag\": \"\\\"010000eb-0000-0c00-0000-62c344950000\\\"\",\n",
            "  \"_attachments\": \"attachments/\",\n",
            "  \"_ts\": 1656964245\n",
            " }\n",
            "]\n"
          ]
        }
      ],
      "source": [
        "\n",
        "# list sales for customer #7\n",
        "container = database.get_container_client('sales_orders')\n",
        "query = \"SELECT * FROM sales_orders_details c WHERE c.SalesOrderId IN ('7','6')\"\n",
        "print(query)\n",
        "items = list(container.query_items(\n",
        "    query = query,\n",
        "    enable_cross_partition_query= True\n",
        "))\n",
        "\n",
        "request_charge1 = container.client_connection.last_response_headers['x-ms-request-charge']\n",
        "print('Request charge: {0} RUs\\n'.format(request_charge1))\n",
        "\n",
        "print(json.dumps(items, indent=True))    "
      ]
    },
    {
      "cell_type": "code",
      "execution_count": 20,
      "id": "a59a20a3",
      "metadata": {},
      "outputs": [
        {
          "name": "stdout",
          "output_type": "stream",
          "text": [
            "SELECT VALUE c.CategoryId FROM categories c WHERE c.CategoryName='Clothing, Home & Computers'\n",
            "Request charge: 3.02 RUs\n",
            "\n",
            "SELECT * FROM c WHERE c.CategoryId='3'\n",
            "Query returned 0 documents. Request charge: 2.8 RUs\n",
            "\n",
            "Total RUs consumed = 5.82\n"
          ]
        }
      ],
      "source": [
        "# List products for a category (by name)\n",
        "\n",
        "# list products from category \"Sports, Shoes & Health\" \n",
        "productCategoriesContainer = database.get_container_client('categories')\n",
        "query = \"SELECT VALUE c.CategoryId FROM categories c WHERE c.CategoryName='Clothing, Home & Computers'\"\n",
        "print(query)\n",
        "items = list(productCategoriesContainer.query_items(\n",
        "    query = query,\n",
        "    enable_cross_partition_query= True\n",
        "))\n",
        "\n",
        "request_charge1 = productCategoriesContainer.client_connection.last_response_headers['x-ms-request-charge']\n",
        "print('Request charge: {0} RUs\\n'.format(request_charge1))\n",
        "\n",
        "productCategoryId = items[0]\n",
        "\n",
        "# list products for category 'Sports, Shoes & Health'\n",
        "productsContainer = database.get_container_client('products')\n",
        "query = \"SELECT * FROM c WHERE c.CategoryId='{0}'\".format(productCategoryId)\n",
        "print(query)\n",
        "items = list(productsContainer.query_items(\n",
        "    query = query,\n",
        "    enable_cross_partition_query= True\n",
        "))\n",
        "request_charge2 = productsContainer.client_connection.last_response_headers['x-ms-request-charge']\n",
        "print('Query returned {0} documents. Request charge: {1} RUs\\n'.format(len(items), request_charge2))\n",
        "\n",
        "# display total RUs\n",
        "request_charge = float(request_charge1) + float(request_charge2)\n",
        "print(\"Total RUs consumed = {0}\".format(request_charge))"
      ]
    }
  ],
  "metadata": {
    "kernelspec": {
      "display_name": "Python 3.10.5 64-bit",
      "language": "python",
      "name": "python3"
    },
    "language_info": {
      "codemirror_mode": {
        "name": "ipython",
        "version": 3
      },
      "file_extension": ".py",
      "mimetype": "text/x-python",
      "name": "python",
      "nbconvert_exporter": "python",
      "pygments_lexer": "ipython3",
      "version": "3.10.5"
    },
    "nteract": {
      "version": "dataExplorer 1.0"
    },
    "vscode": {
      "interpreter": {
        "hash": "26de051ba29f2982a8de78e945f0abaf191376122a1563185a90213a26c5da77"
      }
    }
  },
  "nbformat": 4,
  "nbformat_minor": 5
}
