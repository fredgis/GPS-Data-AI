{
  "cells": [
    {
      "cell_type": "markdown",
      "metadata": {
        "nteract": {
          "transient": {
            "deleting": false
          }
        }
      },
      "source": [
        "# **Azure Synapse and Azure Open AI interaction**\n",
        "\n",
        "[https://techcommunity.microsoft.com/t5/azure-synapse-analytics-blog/using-openai-gpt-in-synapse-analytics/ba-p/3751815](https://techcommunity.microsoft.com/t5/azure-synapse-analytics-blog/using-openai-gpt-in-synapse-analytics/ba-p/3751815)\n",
        "\n",
        "[https://github.com/Azure/azure-openai-workshop](https://github.com/Azure/azure-openai-workshop)"
      ]
    },
    {
      "cell_type": "markdown",
      "metadata": {
        "nteract": {
          "transient": {
            "deleting": false
          }
        }
      },
      "source": [
        "In order to use the Azure OpenAI in Synapse Spark, we’ll be using three components. The setup of these components is out of scope for this article.\n",
        "\n",
        "A Synapse Analytics workspace with a Spark Pool\n",
        "An Azure OpenAI cognitive service with text-davinci-003 model deployed\n",
        "Azure Key vault to store the OpenAI API key"
      ]
    },
    {
      "cell_type": "code",
      "execution_count": 1,
      "metadata": {
        "jupyter": {
          "outputs_hidden": false,
          "source_hidden": false
        },
        "nteract": {
          "transient": {
            "deleting": false
          }
        }
      },
      "outputs": [
        {
          "data": {
            "application/vnd.livy.statement-meta+json": {
              "execution_finish_time": "2023-03-21T12:34:29.6254893Z",
              "execution_start_time": "2023-03-21T12:34:29.6252621Z",
              "livy_statement_state": "available",
              "parent_msg_id": "84005993-3233-4ab3-b8a1-5101f7d331ae",
              "queued_time": "2023-03-21T12:33:28.0284885Z",
              "session_id": "12",
              "session_start_time": "2023-03-21T12:33:28.1314915Z",
              "spark_jobs": null,
              "spark_pool": null,
              "state": "finished",
              "statement_id": -1
            },
            "text/plain": [
              "StatementMeta(, 12, -1, Finished, Available)"
            ]
          },
          "metadata": {},
          "output_type": "display_data"
        }
      ],
      "source": [
        "%%configure -f\n",
        "{\n",
        "  \"name\": \"synapseml\",\n",
        "  \"conf\": {\n",
        "      \"spark.jars.packages\": \"com.microsoft.azure:synapseml_2.12:0.10.2\",\n",
        "      \"spark.jars.repositories\": \"https://mmlspark.azureedge.net/maven\",\n",
        "      \"spark.jars.excludes\": \"org.scala-lang:scala-reflect,org.apache.spark:spark-tags_2.12,org.scalactic:scalactic_2.12,org.scalatest:scalatest_2.12,com.fasterxml.jackson.core:jackson-databind\",\n",
        "      \"spark.yarn.user.classpath.first\": \"true\"\n",
        "  }\n",
        "}"
      ]
    },
    {
      "cell_type": "markdown",
      "metadata": {
        "nteract": {
          "transient": {
            "deleting": false
          }
        }
      },
      "source": [
        "**Prompt function**"
      ]
    },
    {
      "cell_type": "code",
      "execution_count": 2,
      "metadata": {
        "jupyter": {
          "outputs_hidden": false,
          "source_hidden": false
        },
        "nteract": {
          "transient": {
            "deleting": false
          }
        }
      },
      "outputs": [
        {
          "data": {
            "application/vnd.livy.statement-meta+json": {
              "execution_finish_time": "2023-03-21T12:35:08.9333078Z",
              "execution_start_time": "2023-03-21T12:35:08.766557Z",
              "livy_statement_state": "available",
              "parent_msg_id": "ec19b6ba-18ec-4dc8-8306-267232a626f2",
              "queued_time": "2023-03-21T12:33:28.0291492Z",
              "session_id": "12",
              "session_start_time": null,
              "spark_jobs": null,
              "spark_pool": "OpenAI",
              "state": "finished",
              "statement_id": 1
            },
            "text/plain": [
              "StatementMeta(OpenAI, 12, 1, Finished, Available)"
            ]
          },
          "metadata": {},
          "output_type": "display_data"
        },
        {
          "name": "stdout",
          "output_type": "stream",
          "text": [
            "Create UDF 'restaurant_prompt_udf()) -> str'\n"
          ]
        }
      ],
      "source": [
        "print(\"Create UDF 'restaurant_prompt_udf()) -> str'\")"
      ]
    },
    {
      "cell_type": "markdown",
      "metadata": {
        "nteract": {
          "transient": {
            "deleting": false
          }
        }
      },
      "source": [
        "**prompt 1**\n",
        "```\n",
        "<|im_start|>system\n",
        "Generate a json containing a restaurant positive, negative or neutral review. Use the following json structure: \n",
        "{ \n",
        "        \"restaurant\\\": \"\",\n",
        "        \"review\": \"\"     \n",
        "}\n",
        "<|im_end|>"
      ]
    },
    {
      "cell_type": "code",
      "execution_count": 20,
      "metadata": {
        "jupyter": {
          "outputs_hidden": false,
          "source_hidden": false
        },
        "nteract": {
          "transient": {
            "deleting": false
          }
        }
      },
      "outputs": [
        {
          "data": {
            "application/vnd.livy.statement-meta+json": {
              "execution_finish_time": "2023-03-21T12:38:00.1625223Z",
              "execution_start_time": "2023-03-21T12:37:59.9347122Z",
              "livy_statement_state": "available",
              "parent_msg_id": "f5835015-ed2e-4e2b-946f-0d6c19639511",
              "queued_time": "2023-03-21T12:37:59.797831Z",
              "session_id": "12",
              "session_start_time": null,
              "spark_jobs": null,
              "spark_pool": "OpenAI",
              "state": "finished",
              "statement_id": 19
            },
            "text/plain": [
              "StatementMeta(OpenAI, 12, 19, Finished, Available)"
            ]
          },
          "metadata": {},
          "output_type": "display_data"
        }
      ],
      "source": [
        "from pyspark.sql.functions import udf\n",
        "from pyspark.sql.types import StringType\n",
        "\n",
        "@udf(returnType=StringType())\n",
        "def restaurant_prompt_udf():\n",
        "    return \"Generate a json containing a restaurant positive, negative or neutral review. Use the following json structure:: \\\n",
        "\\Generate real world restaurant reviews negative, positive or neutral \\\n",
        "\\{ \\\n",
        "        \\\"restaurant\\\": \\\"\\\", \\\n",
        "        \\\"review\\\": \\\"\\\" \\\n",
        "\\}\"\n"
      ]
    },
    {
      "cell_type": "code",
      "execution_count": 21,
      "metadata": {
        "jupyter": {
          "outputs_hidden": false,
          "source_hidden": false
        },
        "nteract": {
          "transient": {
            "deleting": false
          }
        }
      },
      "outputs": [
        {
          "data": {
            "application/vnd.livy.statement-meta+json": {
              "execution_finish_time": "2023-03-21T12:38:02.1690359Z",
              "execution_start_time": "2023-03-21T12:38:01.9729224Z",
              "livy_statement_state": "available",
              "parent_msg_id": "fa60efe9-415c-43f4-9872-e4ca17964c69",
              "queued_time": "2023-03-21T12:38:01.7298849Z",
              "session_id": "12",
              "session_start_time": null,
              "spark_jobs": null,
              "spark_pool": "OpenAI",
              "state": "finished",
              "statement_id": 20
            },
            "text/plain": [
              "StatementMeta(OpenAI, 12, 20, Finished, Available)"
            ]
          },
          "metadata": {},
          "output_type": "display_data"
        },
        {
          "name": "stdout",
          "output_type": "stream",
          "text": [
            "UDF created\n"
          ]
        }
      ],
      "source": [
        "print(\"UDF created\")"
      ]
    },
    {
      "cell_type": "markdown",
      "metadata": {
        "nteract": {
          "transient": {
            "deleting": false
          }
        }
      },
      "source": [
        "**Get the Azure Keyvault OpenAI Key**\n",
        "\n",
        "[https://oai.azure.com/](https://oai.azure.com/)"
      ]
    },
    {
      "cell_type": "code",
      "execution_count": 24,
      "metadata": {
        "jupyter": {
          "outputs_hidden": false,
          "source_hidden": false
        },
        "nteract": {
          "transient": {
            "deleting": false
          }
        }
      },
      "outputs": [
        {
          "data": {
            "application/vnd.livy.statement-meta+json": {
              "execution_finish_time": "2023-03-21T12:38:22.0542747Z",
              "execution_start_time": "2023-03-21T12:38:21.8370699Z",
              "livy_statement_state": "available",
              "parent_msg_id": "afd8c15c-8883-431d-8f1a-66bda5247573",
              "queued_time": "2023-03-21T12:38:21.6823648Z",
              "session_id": "12",
              "session_start_time": null,
              "spark_jobs": null,
              "spark_pool": "OpenAI",
              "state": "finished",
              "statement_id": 23
            },
            "text/plain": [
              "StatementMeta(OpenAI, 12, 23, Finished, Available)"
            ]
          },
          "metadata": {},
          "output_type": "display_data"
        }
      ],
      "source": [
        "from synapse.ml.core.platform import find_secret\n",
        "\n",
        "# Fill in the following lines with your service information\n",
        "service_name = \"\" # Name of your OpenAI service\n",
        "deployment_name = \"\" # Name of your deployment in OpenAI\n",
        "key = find_secret(\"\", \"\")  # replace this with your secret and keyvault\n",
        "\n",
        "NrOfReviews = 5 # Set number of Restaurantreviews"
      ]
    },
    {
      "cell_type": "markdown",
      "metadata": {
        "nteract": {
          "transient": {
            "deleting": false
          }
        }
      },
      "source": [
        "**Generate Datas**"
      ]
    },
    {
      "cell_type": "code",
      "execution_count": 25,
      "metadata": {
        "collapsed": false,
        "jupyter": {
          "outputs_hidden": false,
          "source_hidden": false
        },
        "nteract": {
          "transient": {
            "deleting": false
          }
        }
      },
      "outputs": [
        {
          "data": {
            "application/vnd.livy.statement-meta+json": {
              "execution_finish_time": "2023-03-21T12:38:25.1345152Z",
              "execution_start_time": "2023-03-21T12:38:23.9596487Z",
              "livy_statement_state": "available",
              "parent_msg_id": "3be39e6e-2cad-4ea9-9cea-e12119ebfe86",
              "queued_time": "2023-03-21T12:38:23.829786Z",
              "session_id": "12",
              "session_start_time": null,
              "spark_jobs": null,
              "spark_pool": "OpenAI",
              "state": "finished",
              "statement_id": 24
            },
            "text/plain": [
              "StatementMeta(OpenAI, 12, 24, Finished, Available)"
            ]
          },
          "metadata": {},
          "output_type": "display_data"
        },
        {
          "data": {
            "application/vnd.synapse.widget-view+json": {
              "widget_id": "6a2200b2-b4f3-49d0-b102-31cda1423642",
              "widget_type": "Synapse.DataFrame"
            },
            "text/plain": [
              "SynapseWidget(Synapse.DataFrame, 6a2200b2-b4f3-49d0-b102-31cda1423642)"
            ]
          },
          "metadata": {},
          "output_type": "display_data"
        }
      ],
      "source": [
        "from pyspark.sql.types import StructType, StructField, StringType, IntegerType\n",
        "from pyspark.sql.functions import col \n",
        "\n",
        "dfreviewid = df1 = spark.range(1,NrOfReviews + 1) \\\n",
        "    .withColumnRenamed(\"id\", \"reviewid\") \\\n",
        "    .withColumn(\"prompt\", restaurant_prompt_udf())\n",
        "\n",
        "display(dfreviewid)"
      ]
    },
    {
      "cell_type": "markdown",
      "metadata": {
        "nteract": {
          "transient": {
            "deleting": false
          }
        }
      },
      "source": [
        "**Create the OpenAI Spark client**"
      ]
    },
    {
      "cell_type": "code",
      "execution_count": 26,
      "metadata": {
        "jupyter": {
          "outputs_hidden": false,
          "source_hidden": false
        },
        "nteract": {
          "transient": {
            "deleting": false
          }
        }
      },
      "outputs": [
        {
          "data": {
            "application/vnd.livy.statement-meta+json": {
              "execution_finish_time": "2023-03-21T12:38:29.5136965Z",
              "execution_start_time": "2023-03-21T12:38:29.3494145Z",
              "livy_statement_state": "available",
              "parent_msg_id": "d7054871-8b6d-418e-b246-5e5b691de85d",
              "queued_time": "2023-03-21T12:38:29.1840101Z",
              "session_id": "12",
              "session_start_time": null,
              "spark_jobs": null,
              "spark_pool": "OpenAI",
              "state": "finished",
              "statement_id": 25
            },
            "text/plain": [
              "StatementMeta(OpenAI, 12, 25, Finished, Available)"
            ]
          },
          "metadata": {},
          "output_type": "display_data"
        }
      ],
      "source": [
        "from synapse.ml.cognitive import OpenAICompletion\n",
        "\n",
        "OpenAICompletion = (\n",
        "    OpenAICompletion()\n",
        "    .setSubscriptionKey(key)\n",
        "    .setDeploymentName(deployment_name)\n",
        "    .setUrl(\"https://{}.openai.azure.com/\".format(service_name))\n",
        "    .setMaxTokens(2048)\n",
        "    .setPromptCol(\"prompt\")\n",
        "    .setErrorCol(\"error\")\n",
        "    .setOutputCol(\"response\")\n",
        ")"
      ]
    },
    {
      "cell_type": "markdown",
      "metadata": {
        "nteract": {
          "transient": {
            "deleting": false
          }
        }
      },
      "source": [
        "This section can be modify with the batch prompt approach, with an array of string"
      ]
    },
    {
      "cell_type": "code",
      "execution_count": 27,
      "metadata": {
        "collapsed": false,
        "jupyter": {
          "outputs_hidden": false,
          "source_hidden": false
        },
        "nteract": {
          "transient": {
            "deleting": false
          }
        }
      },
      "outputs": [
        {
          "data": {
            "application/vnd.livy.statement-meta+json": {
              "execution_finish_time": "2023-03-21T12:38:40.745628Z",
              "execution_start_time": "2023-03-21T12:38:33.8475283Z",
              "livy_statement_state": "available",
              "parent_msg_id": "976ff078-907c-4821-abc7-46f4e365a00b",
              "queued_time": "2023-03-21T12:38:33.7028705Z",
              "session_id": "12",
              "session_start_time": null,
              "spark_jobs": null,
              "spark_pool": "OpenAI",
              "state": "finished",
              "statement_id": 26
            },
            "text/plain": [
              "StatementMeta(OpenAI, 12, 26, Finished, Available)"
            ]
          },
          "metadata": {},
          "output_type": "display_data"
        },
        {
          "data": {
            "application/vnd.synapse.widget-view+json": {
              "widget_id": "6de79ae1-df83-4281-a3f7-ba2b4661de0f",
              "widget_type": "Synapse.DataFrame"
            },
            "text/plain": [
              "SynapseWidget(Synapse.DataFrame, 6de79ae1-df83-4281-a3f7-ba2b4661de0f)"
            ]
          },
          "metadata": {},
          "output_type": "display_data"
        }
      ],
      "source": [
        "from pyspark.sql.functions import col\n",
        "\n",
        "dfreview = OpenAICompletion.transform(dfreviewid) \\\n",
        "    .select(col('reviewID'), col('response.choices.text').getItem(0).alias('reviewobject'))\\\n",
        "    .cache()\n",
        "\n",
        "display(dfreview)"
      ]
    },
    {
      "cell_type": "code",
      "execution_count": 28,
      "metadata": {
        "collapsed": false,
        "jupyter": {
          "outputs_hidden": false,
          "source_hidden": false
        },
        "nteract": {
          "transient": {
            "deleting": false
          }
        }
      },
      "outputs": [
        {
          "data": {
            "application/vnd.livy.statement-meta+json": {
              "execution_finish_time": "2023-03-21T12:38:49.2843342Z",
              "execution_start_time": "2023-03-21T12:38:48.6976472Z",
              "livy_statement_state": "available",
              "parent_msg_id": "18a120cd-39f8-4565-b9a7-854c99616058",
              "queued_time": "2023-03-21T12:38:48.5599327Z",
              "session_id": "12",
              "session_start_time": null,
              "spark_jobs": null,
              "spark_pool": "OpenAI",
              "state": "finished",
              "statement_id": 27
            },
            "text/plain": [
              "StatementMeta(OpenAI, 12, 27, Finished, Available)"
            ]
          },
          "metadata": {},
          "output_type": "display_data"
        },
        {
          "data": {
            "application/vnd.synapse.widget-view+json": {
              "widget_id": "abb4aa28-6329-4eeb-942d-b26eef63b866",
              "widget_type": "Synapse.DataFrame"
            },
            "text/plain": [
              "SynapseWidget(Synapse.DataFrame, abb4aa28-6329-4eeb-942d-b26eef63b866)"
            ]
          },
          "metadata": {},
          "output_type": "display_data"
        }
      ],
      "source": [
        "from pyspark.sql.types import StructType, StructField, StringType\n",
        "from pyspark.sql.functions import col, from_json\n",
        "\n",
        "schema = StructType([ \\\n",
        "        StructField(\"restaurant\", StringType(), False), \\\n",
        "        StructField(\"review\", StringType(), False) \\\n",
        "        ])\n",
        "\n",
        "\n",
        "df = dfreview.withColumn(\"json\",from_json(col(\"reviewobject\"), schema))\\\n",
        "    .select(col(\"reviewID\"), col(\"json.*\"))\n",
        "\n",
        "display(df)"
      ]
    },
    {
      "cell_type": "markdown",
      "metadata": {
        "nteract": {
          "transient": {
            "deleting": false
          }
        }
      },
      "source": [
        "**prompt 2**\n",
        "```\n",
        "Classify the sentiment of following restaurant review. \n",
        "                 Classifications: [Positive, Negative , Neutral] \n",
        "\n",
        " Review:\"\"\"\"\"\" The food was excellent and cooked to perfection. The staff were very friendly and happy to answer questions about the menu. The atmosphere was lively and the prices were very reasonable. Highly recommended!\"\"\"\"\"\"\n",
        " \n",
        "Classification:"
      ]
    },
    {
      "cell_type": "code",
      "execution_count": 29,
      "metadata": {
        "collapsed": false,
        "jupyter": {
          "outputs_hidden": false,
          "source_hidden": false
        },
        "nteract": {
          "transient": {
            "deleting": false
          }
        }
      },
      "outputs": [
        {
          "data": {
            "application/vnd.livy.statement-meta+json": {
              "execution_finish_time": "2023-03-21T12:38:56.5670397Z",
              "execution_start_time": "2023-03-21T12:38:56.3778026Z",
              "livy_statement_state": "available",
              "parent_msg_id": "57c9e7bd-c147-4b57-a269-de04125905dc",
              "queued_time": "2023-03-21T12:38:56.2142813Z",
              "session_id": "12",
              "session_start_time": null,
              "spark_jobs": null,
              "spark_pool": "OpenAI",
              "state": "finished",
              "statement_id": 28
            },
            "text/plain": [
              "StatementMeta(OpenAI, 12, 28, Finished, Available)"
            ]
          },
          "metadata": {},
          "output_type": "display_data"
        }
      ],
      "source": [
        "from pyspark.sql.types import *\n",
        "from pyspark.sql.functions import *\n",
        "\n",
        "dfprompt = df.withColumn(\"prompt\",\\\n",
        "                concat(lit(\"Classify the sentiment of following restaurant review. \\n \\\n",
        "                Classifications: [Positive, Negative , Neutral] \\n Review:\\\"\\\"\\\" \")\\\n",
        "                , col(\"review\")\\\n",
        "                ,lit(\"\\\"\\\"\\\"\\nClassification:\")))\\\n",
        "            \n",
        "\n",
        "#display(dfprompt)"
      ]
    },
    {
      "cell_type": "code",
      "execution_count": 30,
      "metadata": {
        "collapsed": false,
        "jupyter": {
          "outputs_hidden": false,
          "source_hidden": false
        },
        "nteract": {
          "transient": {
            "deleting": false
          }
        }
      },
      "outputs": [
        {
          "data": {
            "application/vnd.livy.statement-meta+json": {
              "execution_finish_time": "2023-03-21T12:39:00.085758Z",
              "execution_start_time": "2023-03-21T12:38:59.5057355Z",
              "livy_statement_state": "available",
              "parent_msg_id": "def9208e-e4fe-4376-8883-9f1f12338a21",
              "queued_time": "2023-03-21T12:38:59.3657992Z",
              "session_id": "12",
              "session_start_time": null,
              "spark_jobs": null,
              "spark_pool": "OpenAI",
              "state": "finished",
              "statement_id": 29
            },
            "text/plain": [
              "StatementMeta(OpenAI, 12, 29, Finished, Available)"
            ]
          },
          "metadata": {},
          "output_type": "display_data"
        },
        {
          "data": {
            "application/vnd.synapse.widget-view+json": {
              "widget_id": "cc24cca3-1881-40aa-9979-d695da1697be",
              "widget_type": "Synapse.DataFrame"
            },
            "text/plain": [
              "SynapseWidget(Synapse.DataFrame, cc24cca3-1881-40aa-9979-d695da1697be)"
            ]
          },
          "metadata": {},
          "output_type": "display_data"
        }
      ],
      "source": [
        "display(dfprompt.select(\"prompt\").limit(1))"
      ]
    },
    {
      "cell_type": "code",
      "execution_count": 31,
      "metadata": {
        "jupyter": {
          "outputs_hidden": false,
          "source_hidden": false
        },
        "nteract": {
          "transient": {
            "deleting": false
          }
        }
      },
      "outputs": [
        {
          "data": {
            "application/vnd.livy.statement-meta+json": {
              "execution_finish_time": "2023-03-21T12:39:04.5864955Z",
              "execution_start_time": "2023-03-21T12:39:04.4248666Z",
              "livy_statement_state": "available",
              "parent_msg_id": "23734f11-276b-42f0-826c-60a5fd1cd952",
              "queued_time": "2023-03-21T12:39:04.2778238Z",
              "session_id": "12",
              "session_start_time": null,
              "spark_jobs": null,
              "spark_pool": "OpenAI",
              "state": "finished",
              "statement_id": 30
            },
            "text/plain": [
              "StatementMeta(OpenAI, 12, 30, Finished, Available)"
            ]
          },
          "metadata": {},
          "output_type": "display_data"
        }
      ],
      "source": [
        "from synapse.ml.cognitive import OpenAICompletion\n",
        "\n",
        "completion = (\n",
        "    OpenAICompletion()\n",
        "    .setSubscriptionKey(key)\n",
        "    .setDeploymentName(deployment_name)\n",
        "    .setUrl(\"https://{}.openai.azure.com/\".format(service_name))\n",
        "    .setMaxTokens(2048)\n",
        "    .setPromptCol(\"prompt\")\n",
        "    .setErrorCol(\"error\")\n",
        "    .setOutputCol(\"response\")\n",
        ")\n"
      ]
    },
    {
      "cell_type": "code",
      "execution_count": 32,
      "metadata": {
        "collapsed": false,
        "jupyter": {
          "outputs_hidden": false,
          "source_hidden": false
        },
        "nteract": {
          "transient": {
            "deleting": false
          }
        }
      },
      "outputs": [
        {
          "data": {
            "application/vnd.livy.statement-meta+json": {
              "execution_finish_time": "2023-03-21T12:39:10.2879619Z",
              "execution_start_time": "2023-03-21T12:39:08.3794571Z",
              "livy_statement_state": "available",
              "parent_msg_id": "aada8147-eb09-4c0a-8f94-0a708be04647",
              "queued_time": "2023-03-21T12:39:08.2210169Z",
              "session_id": "12",
              "session_start_time": null,
              "spark_jobs": null,
              "spark_pool": "OpenAI",
              "state": "finished",
              "statement_id": 31
            },
            "text/plain": [
              "StatementMeta(OpenAI, 12, 31, Finished, Available)"
            ]
          },
          "metadata": {},
          "output_type": "display_data"
        },
        {
          "data": {
            "application/vnd.synapse.widget-view+json": {
              "widget_id": "328e3082-caad-4b17-868c-fae317fe851f",
              "widget_type": "Synapse.DataFrame"
            },
            "text/plain": [
              "SynapseWidget(Synapse.DataFrame, 328e3082-caad-4b17-868c-fae317fe851f)"
            ]
          },
          "metadata": {},
          "output_type": "display_data"
        }
      ],
      "source": [
        "from pyspark.sql.functions import col\n",
        "\n",
        "completed_df = completion.transform(dfprompt).cache()\n",
        "\n",
        "display(completed_df)"
      ]
    },
    {
      "cell_type": "code",
      "execution_count": 33,
      "metadata": {
        "collapsed": false,
        "jupyter": {
          "outputs_hidden": false,
          "source_hidden": false
        },
        "nteract": {
          "transient": {
            "deleting": false
          }
        }
      },
      "outputs": [
        {
          "data": {
            "application/vnd.livy.statement-meta+json": {
              "execution_finish_time": "2023-03-21T12:39:16.9837388Z",
              "execution_start_time": "2023-03-21T12:39:16.4016821Z",
              "livy_statement_state": "available",
              "parent_msg_id": "7372e5ee-e481-4691-bcd3-e85dc1909d73",
              "queued_time": "2023-03-21T12:39:16.2398102Z",
              "session_id": "12",
              "session_start_time": null,
              "spark_jobs": null,
              "spark_pool": "OpenAI",
              "state": "finished",
              "statement_id": 32
            },
            "text/plain": [
              "StatementMeta(OpenAI, 12, 32, Finished, Available)"
            ]
          },
          "metadata": {},
          "output_type": "display_data"
        },
        {
          "data": {
            "application/vnd.synapse.widget-view+json": {
              "widget_id": "242493e0-6482-4a8c-8145-2310f3cd1f79",
              "widget_type": "Synapse.DataFrame"
            },
            "text/plain": [
              "SynapseWidget(Synapse.DataFrame, 242493e0-6482-4a8c-8145-2310f3cd1f79)"
            ]
          },
          "metadata": {},
          "output_type": "display_data"
        }
      ],
      "source": [
        "from pyspark.sql.functions import col\n",
        "\n",
        "display(\n",
        "    completed_df.select( \n",
        "        col('response.choices.text').getItem(0).alias('openai_sentiment'),\n",
        "        col('Restaurant'), \n",
        "        col('reviewid'),\n",
        "        col('Review')\n",
        "    )\n",
        "    \n",
        ")"
      ]
    },
    {
      "cell_type": "code",
      "execution_count": 34,
      "metadata": {
        "collapsed": false,
        "jupyter": {
          "outputs_hidden": false,
          "source_hidden": false
        },
        "nteract": {
          "transient": {
            "deleting": false
          }
        }
      },
      "outputs": [
        {
          "data": {
            "application/vnd.livy.statement-meta+json": {
              "execution_finish_time": "2023-03-21T12:39:25.9486628Z",
              "execution_start_time": "2023-03-21T12:39:20.559207Z",
              "livy_statement_state": "available",
              "parent_msg_id": "e0ca3cb7-5025-4b57-995e-96e4f83dc456",
              "queued_time": "2023-03-21T12:39:20.408208Z",
              "session_id": "12",
              "session_start_time": null,
              "spark_jobs": null,
              "spark_pool": "OpenAI",
              "state": "finished",
              "statement_id": 33
            },
            "text/plain": [
              "StatementMeta(OpenAI, 12, 33, Finished, Available)"
            ]
          },
          "metadata": {},
          "output_type": "display_data"
        },
        {
          "data": {
            "application/vnd.synapse.widget-view+json": {
              "widget_id": "8753c332-08db-4088-9510-1684c2b9c6c4",
              "widget_type": "Synapse.DataFrame"
            },
            "text/plain": [
              "SynapseWidget(Synapse.DataFrame, 8753c332-08db-4088-9510-1684c2b9c6c4)"
            ]
          },
          "metadata": {},
          "output_type": "display_data"
        }
      ],
      "source": [
        "# Import pyspark.pandas\n",
        "import pandas\n",
        "\n",
        "plotdf = completed_df.select( \n",
        "        col('response.choices.text').getItem(0).alias('openai_sentiment'),\n",
        "        col('Restaurant'), \n",
        "        col('reviewid'),\n",
        "        col('Review')\n",
        "    )\n",
        "    \n",
        "display(plotdf)\n",
        "plotpandasdf = plotdf.toPandas()\n",
        "\n",
        "# plotpandasdf.plot(kind=\"bar\", x=\"openai_sentiment\", y=\"Restaurant\")"
      ]
    }
  ],
  "metadata": {
    "kernel_info": {
      "name": "synapse_pyspark"
    },
    "kernelspec": {
      "display_name": "Synapse PySpark",
      "language": "Python",
      "name": "synapse_pyspark"
    },
    "language_info": {
      "name": "python"
    },
    "save_output": true,
    "synapse_widget": {
      "state": {
        "242493e0-6482-4a8c-8145-2310f3cd1f79": {
          "persist_state": {
            "view": {
              "chartOptions": {
                "aggregationType": "count",
                "categoryFieldKeys": [
                  "0"
                ],
                "chartType": "bar",
                "isStacked": false,
                "seriesFieldKeys": [
                  "2"
                ]
              },
              "tableOptions": {},
              "type": "details"
            }
          },
          "sync_state": {
            "isSummary": false,
            "language": "scala",
            "table": {
              "rows": [
                {
                  "0": " Negative",
                  "1": "The Tin Hut",
                  "2": "1",
                  "3": "We had been to The Tin Hut several times, but this time was far from enjoyable. The food was cold, the staff were very unfriendly and the atmosphere was downright depressing. Would not recommend."
                },
                {
                  "0": " Positive",
                  "1": "Ungasan LoKal",
                  "2": "2",
                  "3": "The dishes here were excellent and much to my liking. Service was a little slow but overall the quality of food made up for it. Great place to grab a bite to eat!"
                },
                {
                  "0": " Positive",
                  "1": "Cevicheria Basilio",
                  "2": "3",
                  "3": "Great fresh seafood in a very cozy atmosphere. The food was really delicious and the service was very attentive and friendly!"
                },
                {
                  "0": " Neutral",
                  "1": "Harvest & Rowe",
                  "2": "4",
                  "3": "The food at Harvest & Rowe was great - the atmosphere was relaxed and inviting. Most of the food was unique and incredibly delicious. However, some of the portions were quite small and the price was a bit steep."
                },
                {
                  "0": " Positive",
                  "1": "McDonald's",
                  "2": "5",
                  "3": "The service was great and the food was really fresh and delicious. I would definitely come back here again!"
                }
              ],
              "schema": [
                {
                  "key": "0",
                  "name": "openai_sentiment",
                  "type": "string"
                },
                {
                  "key": "1",
                  "name": "Restaurant",
                  "type": "string"
                },
                {
                  "key": "2",
                  "name": "reviewid",
                  "type": "bigint"
                },
                {
                  "key": "3",
                  "name": "Review",
                  "type": "string"
                }
              ],
              "truncated": false
            }
          },
          "type": "Synapse.DataFrame"
        },
        "328e3082-caad-4b17-868c-fae317fe851f": {
          "persist_state": {
            "view": {
              "chartOptions": {
                "aggregationType": "sum",
                "categoryFieldKeys": [
                  "1"
                ],
                "chartType": "bar",
                "isStacked": false,
                "seriesFieldKeys": [
                  "0"
                ]
              },
              "tableOptions": {},
              "type": "details"
            }
          },
          "sync_state": {
            "isSummary": false,
            "language": "scala",
            "table": {
              "rows": [
                {
                  "0": "1",
                  "1": "The Tin Hut",
                  "2": "We had been to The Tin Hut several times, but this time was far from enjoyable. The food was cold, the staff were very unfriendly and the atmosphere was downright depressing. Would not recommend.",
                  "3": "Classify the sentiment of following restaurant review. \n                 Classifications: [Positive, Negative , Neutral] \n Review:\"\"\" We had been to The Tin Hut several times, but this time was far from enjoyable. The food was cold, the staff were very unfriendly and the atmosphere was downright depressing. Would not recommend.\"\"\"\nClassification:",
                  "5": {
                    "choices": [
                      {
                        "finish_reason": "stop",
                        "index": 0,
                        "text": " Negative"
                      }
                    ],
                    "created": "1679402348",
                    "id": "cmpl-6wVYatKVnJtuSTltnm5OVX5SaguxV",
                    "model": "text-davinci-003",
                    "object": "text_completion"
                  }
                },
                {
                  "0": "2",
                  "1": "Ungasan LoKal",
                  "2": "The dishes here were excellent and much to my liking. Service was a little slow but overall the quality of food made up for it. Great place to grab a bite to eat!",
                  "3": "Classify the sentiment of following restaurant review. \n                 Classifications: [Positive, Negative , Neutral] \n Review:\"\"\" The dishes here were excellent and much to my liking. Service was a little slow but overall the quality of food made up for it. Great place to grab a bite to eat!\"\"\"\nClassification:",
                  "5": {
                    "choices": [
                      {
                        "finish_reason": "stop",
                        "index": 0,
                        "text": " Positive"
                      }
                    ],
                    "created": "1679402349",
                    "id": "cmpl-6wVYb2Fkb5ArHTMW8sjvrTzcYqYaq",
                    "model": "text-davinci-003",
                    "object": "text_completion"
                  }
                },
                {
                  "0": "3",
                  "1": "Cevicheria Basilio",
                  "2": "Great fresh seafood in a very cozy atmosphere. The food was really delicious and the service was very attentive and friendly!",
                  "3": "Classify the sentiment of following restaurant review. \n                 Classifications: [Positive, Negative , Neutral] \n Review:\"\"\" Great fresh seafood in a very cozy atmosphere. The food was really delicious and the service was very attentive and friendly!\"\"\"\nClassification:",
                  "5": {
                    "choices": [
                      {
                        "finish_reason": "stop",
                        "index": 0,
                        "text": " Positive"
                      }
                    ],
                    "created": "1679402349",
                    "id": "cmpl-6wVYbW0hv0VMezBckeMI4a10wupTH",
                    "model": "text-davinci-003",
                    "object": "text_completion"
                  }
                },
                {
                  "0": "4",
                  "1": "Harvest & Rowe",
                  "2": "The food at Harvest & Rowe was great - the atmosphere was relaxed and inviting. Most of the food was unique and incredibly delicious. However, some of the portions were quite small and the price was a bit steep.",
                  "3": "Classify the sentiment of following restaurant review. \n                 Classifications: [Positive, Negative , Neutral] \n Review:\"\"\" The food at Harvest & Rowe was great - the atmosphere was relaxed and inviting. Most of the food was unique and incredibly delicious. However, some of the portions were quite small and the price was a bit steep.\"\"\"\nClassification:",
                  "5": {
                    "choices": [
                      {
                        "finish_reason": "stop",
                        "index": 0,
                        "text": " Neutral"
                      }
                    ],
                    "created": "1679402349",
                    "id": "cmpl-6wVYbY5UUA48FiqFZCzoYiVjAUVyz",
                    "model": "text-davinci-003",
                    "object": "text_completion"
                  }
                },
                {
                  "0": "5",
                  "1": "McDonald's",
                  "2": "The service was great and the food was really fresh and delicious. I would definitely come back here again!",
                  "3": "Classify the sentiment of following restaurant review. \n                 Classifications: [Positive, Negative , Neutral] \n Review:\"\"\" The service was great and the food was really fresh and delicious. I would definitely come back here again!\"\"\"\nClassification:",
                  "5": {
                    "choices": [
                      {
                        "finish_reason": "stop",
                        "index": 0,
                        "text": " Positive"
                      }
                    ],
                    "created": "1679402349",
                    "id": "cmpl-6wVYbyGckMJlJHhFuh9f6fQzhtWOI",
                    "model": "text-davinci-003",
                    "object": "text_completion"
                  }
                }
              ],
              "schema": [
                {
                  "key": "0",
                  "name": "reviewID",
                  "type": "bigint"
                },
                {
                  "key": "1",
                  "name": "restaurant",
                  "type": "string"
                },
                {
                  "key": "2",
                  "name": "review",
                  "type": "string"
                },
                {
                  "key": "3",
                  "name": "prompt",
                  "type": "string"
                },
                {
                  "key": "4",
                  "name": "error",
                  "type": "StructType(StructField(response,StringType,true),StructField(status,StructType(StructField(protocolVersion,StructType(StructField(protocol,StringType,true),StructField(major,IntegerType,false),StructField(minor,IntegerType,false)),true),StructField(statusCode,IntegerType,false),StructField(reasonPhrase,StringType,true)),true))"
                },
                {
                  "key": "5",
                  "name": "response",
                  "type": "StructType(StructField(id,StringType,true),StructField(object,StringType,true),StructField(created,StringType,true),StructField(model,StringType,true),StructField(choices,ArrayType(StructType(StructField(text,StringType,true),StructField(index,LongType,true),StructField(logprobs,StructType(StructField(tokens,ArrayType(StringType,true),true),StructField(token_logprobs,ArrayType(DoubleType,true),true),StructField(top_logprobs,ArrayType(MapType(StringType,DoubleType,true),true),true),StructField(text_offset,ArrayType(LongType,true),true)),true),StructField(finish_reason,StringType,true)),true),true))"
                }
              ],
              "truncated": false
            }
          },
          "type": "Synapse.DataFrame"
        },
        "6a2200b2-b4f3-49d0-b102-31cda1423642": {
          "persist_state": {
            "view": {
              "chartOptions": {
                "aggregationType": "sum",
                "categoryFieldKeys": [
                  "1"
                ],
                "chartType": "bar",
                "isStacked": false,
                "seriesFieldKeys": [
                  "0"
                ]
              },
              "tableOptions": {},
              "type": "details"
            }
          },
          "sync_state": {
            "isSummary": false,
            "language": "scala",
            "table": {
              "rows": [
                {
                  "0": "1",
                  "1": "Generate a json containing a restaurant positive, negative or neutral review. Use the following json structure:: \\Generate real world restaurant reviews negative, positive or neutral \\{         \"restaurant\": \"\",         \"review\": \"\" \\}"
                },
                {
                  "0": "2",
                  "1": "Generate a json containing a restaurant positive, negative or neutral review. Use the following json structure:: \\Generate real world restaurant reviews negative, positive or neutral \\{         \"restaurant\": \"\",         \"review\": \"\" \\}"
                },
                {
                  "0": "3",
                  "1": "Generate a json containing a restaurant positive, negative or neutral review. Use the following json structure:: \\Generate real world restaurant reviews negative, positive or neutral \\{         \"restaurant\": \"\",         \"review\": \"\" \\}"
                },
                {
                  "0": "4",
                  "1": "Generate a json containing a restaurant positive, negative or neutral review. Use the following json structure:: \\Generate real world restaurant reviews negative, positive or neutral \\{         \"restaurant\": \"\",         \"review\": \"\" \\}"
                },
                {
                  "0": "5",
                  "1": "Generate a json containing a restaurant positive, negative or neutral review. Use the following json structure:: \\Generate real world restaurant reviews negative, positive or neutral \\{         \"restaurant\": \"\",         \"review\": \"\" \\}"
                }
              ],
              "schema": [
                {
                  "key": "0",
                  "name": "reviewid",
                  "type": "bigint"
                },
                {
                  "key": "1",
                  "name": "prompt",
                  "type": "string"
                }
              ],
              "truncated": false
            }
          },
          "type": "Synapse.DataFrame"
        },
        "6de79ae1-df83-4281-a3f7-ba2b4661de0f": {
          "persist_state": {
            "view": {
              "chartOptions": {
                "aggregationType": "sum",
                "categoryFieldKeys": [
                  "1"
                ],
                "chartType": "bar",
                "isStacked": false,
                "seriesFieldKeys": [
                  "0"
                ]
              },
              "tableOptions": {},
              "type": "details"
            }
          },
          "sync_state": {
            "isSummary": false,
            "language": "scala",
            "table": {
              "rows": [
                {
                  "0": "1",
                  "1": "\n\n{\n\"restaurant\": \"The Tin Hut\",\n\"review\": \"We had been to The Tin Hut several times, but this time was far from enjoyable. The food was cold, the staff were very unfriendly and the atmosphere was downright depressing. Would not recommend.\"\n}"
                },
                {
                  "0": "2",
                  "1": "\n\n{\n  \"restaurant\": \"Ungasan LoKal\", \n  \"review\": \"The dishes here were excellent and much to my liking. Service was a little slow but overall the quality of food made up for it. Great place to grab a bite to eat!\"\n}"
                },
                {
                  "0": "3",
                  "1": "\n\n{\n    \"restaurant\": \"Cevicheria Basilio\",\n    \"review\": \"Great fresh seafood in a very cozy atmosphere. The food was really delicious and the service was very attentive and friendly!\"\n}"
                },
                {
                  "0": "4",
                  "1": "\n\n{\n    \"restaurant\": \"Harvest & Rowe\",\n    \"review\": \"The food at Harvest & Rowe was great - the atmosphere was relaxed and inviting. Most of the food was unique and incredibly delicious. However, some of the portions were quite small and the price was a bit steep.\"\n}"
                },
                {
                  "0": "5",
                  "1": "\n\n{\n    \"restaurant\": \"McDonald's\",\n    \"review\": \"The service was great and the food was really fresh and delicious. I would definitely come back here again!\"\n}"
                }
              ],
              "schema": [
                {
                  "key": "0",
                  "name": "reviewID",
                  "type": "bigint"
                },
                {
                  "key": "1",
                  "name": "reviewobject",
                  "type": "string"
                }
              ],
              "truncated": false
            }
          },
          "type": "Synapse.DataFrame"
        },
        "8753c332-08db-4088-9510-1684c2b9c6c4": {
          "persist_state": {
            "view": {
              "chartOptions": {
                "aggregationType": "sum",
                "categoryFieldKeys": [
                  "0"
                ],
                "chartType": "bar",
                "isStacked": false,
                "seriesFieldKeys": [
                  "2"
                ]
              },
              "tableOptions": {},
              "type": "details"
            }
          },
          "sync_state": {
            "isSummary": false,
            "language": "scala",
            "table": {
              "rows": [
                {
                  "0": " Negative",
                  "1": "The Tin Hut",
                  "2": "1",
                  "3": "We had been to The Tin Hut several times, but this time was far from enjoyable. The food was cold, the staff were very unfriendly and the atmosphere was downright depressing. Would not recommend."
                },
                {
                  "0": " Positive",
                  "1": "Ungasan LoKal",
                  "2": "2",
                  "3": "The dishes here were excellent and much to my liking. Service was a little slow but overall the quality of food made up for it. Great place to grab a bite to eat!"
                },
                {
                  "0": " Positive",
                  "1": "Cevicheria Basilio",
                  "2": "3",
                  "3": "Great fresh seafood in a very cozy atmosphere. The food was really delicious and the service was very attentive and friendly!"
                },
                {
                  "0": " Neutral",
                  "1": "Harvest & Rowe",
                  "2": "4",
                  "3": "The food at Harvest & Rowe was great - the atmosphere was relaxed and inviting. Most of the food was unique and incredibly delicious. However, some of the portions were quite small and the price was a bit steep."
                },
                {
                  "0": " Positive",
                  "1": "McDonald's",
                  "2": "5",
                  "3": "The service was great and the food was really fresh and delicious. I would definitely come back here again!"
                }
              ],
              "schema": [
                {
                  "key": "0",
                  "name": "openai_sentiment",
                  "type": "string"
                },
                {
                  "key": "1",
                  "name": "Restaurant",
                  "type": "string"
                },
                {
                  "key": "2",
                  "name": "reviewid",
                  "type": "bigint"
                },
                {
                  "key": "3",
                  "name": "Review",
                  "type": "string"
                }
              ],
              "truncated": false
            }
          },
          "type": "Synapse.DataFrame"
        },
        "abb4aa28-6329-4eeb-942d-b26eef63b866": {
          "persist_state": {
            "view": {
              "chartOptions": {
                "aggregationType": "sum",
                "categoryFieldKeys": [
                  "1"
                ],
                "chartType": "bar",
                "isStacked": false,
                "seriesFieldKeys": [
                  "0"
                ]
              },
              "tableOptions": {},
              "type": "details"
            }
          },
          "sync_state": {
            "isSummary": false,
            "language": "scala",
            "table": {
              "rows": [
                {
                  "0": "1",
                  "1": "The Tin Hut",
                  "2": "We had been to The Tin Hut several times, but this time was far from enjoyable. The food was cold, the staff were very unfriendly and the atmosphere was downright depressing. Would not recommend."
                },
                {
                  "0": "2",
                  "1": "Ungasan LoKal",
                  "2": "The dishes here were excellent and much to my liking. Service was a little slow but overall the quality of food made up for it. Great place to grab a bite to eat!"
                },
                {
                  "0": "3",
                  "1": "Cevicheria Basilio",
                  "2": "Great fresh seafood in a very cozy atmosphere. The food was really delicious and the service was very attentive and friendly!"
                },
                {
                  "0": "4",
                  "1": "Harvest & Rowe",
                  "2": "The food at Harvest & Rowe was great - the atmosphere was relaxed and inviting. Most of the food was unique and incredibly delicious. However, some of the portions were quite small and the price was a bit steep."
                },
                {
                  "0": "5",
                  "1": "McDonald's",
                  "2": "The service was great and the food was really fresh and delicious. I would definitely come back here again!"
                }
              ],
              "schema": [
                {
                  "key": "0",
                  "name": "reviewID",
                  "type": "bigint"
                },
                {
                  "key": "1",
                  "name": "restaurant",
                  "type": "string"
                },
                {
                  "key": "2",
                  "name": "review",
                  "type": "string"
                }
              ],
              "truncated": false
            }
          },
          "type": "Synapse.DataFrame"
        },
        "cc24cca3-1881-40aa-9979-d695da1697be": {
          "persist_state": {
            "view": {
              "chartOptions": {
                "aggregationType": "count",
                "categoryFieldKeys": [
                  "0"
                ],
                "chartType": "bar",
                "isStacked": false,
                "seriesFieldKeys": [
                  "0"
                ]
              },
              "tableOptions": {},
              "type": "details"
            }
          },
          "sync_state": {
            "isSummary": false,
            "language": "scala",
            "table": {
              "rows": [
                {
                  "0": "Classify the sentiment of following restaurant review. \n                 Classifications: [Positive, Negative , Neutral] \n Review:\"\"\" We had been to The Tin Hut several times, but this time was far from enjoyable. The food was cold, the staff were very unfriendly and the atmosphere was downright depressing. Would not recommend.\"\"\"\nClassification:"
                }
              ],
              "schema": [
                {
                  "key": "0",
                  "name": "prompt",
                  "type": "string"
                }
              ],
              "truncated": false
            }
          },
          "type": "Synapse.DataFrame"
        }
      },
      "version": "0.1"
    }
  },
  "nbformat": 4,
  "nbformat_minor": 2
}
