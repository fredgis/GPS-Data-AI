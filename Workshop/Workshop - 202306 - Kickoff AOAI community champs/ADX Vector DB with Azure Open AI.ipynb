{
    "metadata": {
        "kernelspec": {
            "name": "SQL",
            "display_name": "SQL",
            "language": "sql"
        },
        "language_info": {
            "name": "sql",
            "version": ""
        },
        "orig_nbformat": 4,
        "widgets": {},
        "kernel_info": {
            "name": "synapse_pyspark"
        },
        "save_output": true,
        "spark_compute": {
            "compute_id": "/trident/default",
            "session_options": {
                "enableDebugMode": false,
                "conf": {}
            }
        },
        "notebook_environment": {},
        "synapse_widget": {
            "version": "0.1",
            "state": {}
        },
        "trident": {
            "lakehouse": {
                "known_lakehouses": [
                    {
                        "id": "92aacb52-edda-4317-b36e-46667dd9aa29"
                    }
                ]
            }
        }
    },
    "nbformat_minor": 2,
    "nbformat": 4,
    "cells": [
        {
            "cell_type": "code",
            "source": [
                "#Install the required packages.\n",
                "%pip install azure.kusto.data azure.kusto.ingest pandas openai"
            ],
            "metadata": {
                "azdata_cell_guid": "0791f97e-561d-4c0e-bdaa-b9f8561014f9",
                "language": "sql"
            },
            "outputs": [
                {
                    "output_type": "display_data",
                    "data": {
                        "application/vnd.livy.statement-meta+json": {
                            "spark_pool": null,
                            "session_id": "ac4b6a4a-3d7b-41b2-8951-1792cdb23b73",
                            "statement_id": 8,
                            "state": "finished",
                            "livy_statement_state": "available",
                            "queued_time": "2023-06-14T10:04:25.1752562Z",
                            "session_start_time": null,
                            "execution_start_time": "2023-06-14T10:04:53.132198Z",
                            "execution_finish_time": "2023-06-14T10:04:54.9548216Z",
                            "spark_jobs": {
                                "numbers": {
                                    "SUCCEEDED": 0,
                                    "UNKNOWN": 0,
                                    "FAILED": 0,
                                    "RUNNING": 0
                                },
                                "jobs": [],
                                "limit": 20,
                                "rule": "ALL_DESC"
                            },
                            "parent_msg_id": "5628460e-d56f-4084-a2e5-ddfb43de65d9"
                        },
                        "text/plain": "StatementMeta(, ac4b6a4a-3d7b-41b2-8951-1792cdb23b73, 8, Finished, Available)"
                    },
                    "metadata": {}
                },
                {
                    "output_type": "execute_result",
                    "execution_count": 1,
                    "data": {},
                    "metadata": {}
                },
                {
                    "output_type": "stream",
                    "name": "stdout",
                    "text": "Collecting azure.kusto.data\n  Downloading azure_kusto_data-4.2.0-py2.py3-none-any.whl (54 kB)\n\u001b[2K     \u001b[90m━━━━━━━━━━━━━━━━━━━━━━━━━━━━━━━━━━━━━━━━\u001b[0m \u001b[32m54.1/54.1 kB\u001b[0m \u001b[31m1.5 MB/s\u001b[0m eta \u001b[36m0:00:00\u001b[0m\n\u001b[?25hCollecting azure.kusto.ingest\n  Downloading azure_kusto_ingest-4.2.0-py2.py3-none-any.whl (25 kB)\nRequirement already satisfied: pandas in /home/trusted-service-user/cluster-env/trident_env/lib/python3.10/site-packages (1.5.3)\nCollecting openai\n  Downloading openai-0.27.8-py3-none-any.whl (73 kB)\n\u001b[2K     \u001b[90m━━━━━━━━━━━━━━━━━━━━━━━━━━━━━━━━━━━━━━━━\u001b[0m \u001b[32m73.6/73.6 kB\u001b[0m \u001b[31m7.1 MB/s\u001b[0m eta \u001b[36m0:00:00\u001b[0m\n\u001b[?25hRequirement already satisfied: azure-identity<2,>=1.5.0 in /home/trusted-service-user/cluster-env/trident_env/lib/python3.10/site-packages (from azure.kusto.data) (1.12.0)\nRequirement already satisfied: python-dateutil>=2.8.0 in /home/trusted-service-user/cluster-env/trident_env/lib/python3.10/site-packages (from azure.kusto.data) (2.8.2)\nCollecting ijson~=3.1\n  Downloading ijson-3.2.1-cp310-cp310-manylinux_2_17_x86_64.manylinux2014_x86_64.whl (113 kB)\n\u001b[2K     \u001b[90m━━━━━━━━━━━━━━━━━━━━━━━━━━━━━━━━━━━━━━\u001b[0m \u001b[32m113.1/113.1 kB\u001b[0m \u001b[31m12.3 MB/s\u001b[0m eta \u001b[36m0:00:00\u001b[0m\n\u001b[?25hRequirement already satisfied: azure-core<2,>=1.11.0 in /home/trusted-service-user/cluster-env/trident_env/lib/python3.10/site-packages (from azure.kusto.data) (1.26.4)\nRequirement already satisfied: requests>=2.13.0 in /home/trusted-service-user/cluster-env/trident_env/lib/python3.10/site-packages (from azure.kusto.data) (2.28.2)\nRequirement already satisfied: msal<2,>=1.9.0 in /home/trusted-service-user/cluster-env/trident_env/lib/python3.10/site-packages (from azure.kusto.data) (1.21.0)\nRequirement already satisfied: azure-storage-blob<13,>=12 in /home/trusted-service-user/cluster-env/trident_env/lib/python3.10/site-packages (from azure.kusto.ingest) (12.15.0)\nRequirement already satisfied: tenacity>=8.0.0 in /home/trusted-service-user/cluster-env/trident_env/lib/python3.10/site-packages (from azure.kusto.ingest) (8.2.2)\nCollecting azure-storage-queue<13,>=12\n  Downloading azure_storage_queue-12.6.0-py3-none-any.whl (170 kB)\n\u001b[2K     \u001b[90m━━━━━━━━━━━━━━━━━━━━━━━━━━━━━━━━━━━━━━\u001b[0m \u001b[32m170.9/170.9 kB\u001b[0m \u001b[31m19.4 MB/s\u001b[0m eta \u001b[36m0:00:00\u001b[0m\n\u001b[?25hRequirement already satisfied: pytz>=2020.1 in /home/trusted-service-user/cluster-env/trident_env/lib/python3.10/site-packages (from pandas) (2022.7.1)\nRequirement already satisfied: numpy>=1.21.0 in /home/trusted-service-user/cluster-env/trident_env/lib/python3.10/site-packages (from pandas) (1.23.5)\nRequirement already satisfied: aiohttp in /home/trusted-service-user/cluster-env/trident_env/lib/python3.10/site-packages (from openai) (3.8.4)\nRequirement already satisfied: tqdm in /home/trusted-service-user/cluster-env/trident_env/lib/python3.10/site-packages (from openai) (4.65.0)\nRequirement already satisfied: six>=1.11.0 in /home/trusted-service-user/cluster-env/trident_env/lib/python3.10/site-packages (from azure-core<2,>=1.11.0->azure.kusto.data) (1.16.0)\nRequirement already satisfied: typing-extensions>=4.3.0 in /home/trusted-service-user/cluster-env/trident_env/lib/python3.10/site-packages (from azure-core<2,>=1.11.0->azure.kusto.data) (4.5.0)\nRequirement already satisfied: cryptography>=2.5 in /home/trusted-service-user/cluster-env/trident_env/lib/python3.10/site-packages (from azure-identity<2,>=1.5.0->azure.kusto.data) (40.0.1)\nRequirement already satisfied: msal-extensions<2.0.0,>=0.3.0 in /home/trusted-service-user/cluster-env/trident_env/lib/python3.10/site-packages (from azure-identity<2,>=1.5.0->azure.kusto.data) (1.0.0)\nRequirement already satisfied: isodate>=0.6.1 in /home/trusted-service-user/cluster-env/trident_env/lib/python3.10/site-packages (from azure-storage-blob<13,>=12->azure.kusto.ingest) (0.6.1)\nRequirement already satisfied: PyJWT[crypto]<3,>=1.0.0 in /home/trusted-service-user/cluster-env/trident_env/lib/python3.10/site-packages (from msal<2,>=1.9.0->azure.kusto.data) (2.6.0)\nRequirement already satisfied: charset-normalizer<4,>=2 in /home/trusted-service-user/cluster-env/trident_env/lib/python3.10/site-packages (from requests>=2.13.0->azure.kusto.data) (2.1.1)\nRequirement already satisfied: certifi>=2017.4.17 in /home/trusted-service-user/cluster-env/trident_env/lib/python3.10/site-packages (from requests>=2.13.0->azure.kusto.data) (2022.12.7)\nRequirement already satisfied: idna<4,>=2.5 in /home/trusted-service-user/cluster-env/trident_env/lib/python3.10/site-packages (from requests>=2.13.0->azure.kusto.data) (3.4)\nRequirement already satisfied: urllib3<1.27,>=1.21.1 in /home/trusted-service-user/cluster-env/trident_env/lib/python3.10/site-packages (from requests>=2.13.0->azure.kusto.data) (1.26.14)\nRequirement already satisfied: yarl<2.0,>=1.0 in /home/trusted-service-user/cluster-env/trident_env/lib/python3.10/site-packages (from aiohttp->openai) (1.8.2)\nRequirement already satisfied: multidict<7.0,>=4.5 in /home/trusted-service-user/cluster-env/trident_env/lib/python3.10/site-packages (from aiohttp->openai) (6.0.4)\nRequirement already satisfied: async-timeout<5.0,>=4.0.0a3 in /home/trusted-service-user/cluster-env/trident_env/lib/python3.10/site-packages (from aiohttp->openai) (4.0.2)\nRequirement already satisfied: frozenlist>=1.1.1 in /home/trusted-service-user/cluster-env/trident_env/lib/python3.10/site-packages (from aiohttp->openai) (1.3.3)\nRequirement already satisfied: attrs>=17.3.0 in /home/trusted-service-user/cluster-env/trident_env/lib/python3.10/site-packages (from aiohttp->openai) (22.2.0)\nRequirement already satisfied: aiosignal>=1.1.2 in /home/trusted-service-user/cluster-env/trident_env/lib/python3.10/site-packages (from aiohttp->openai) (1.3.1)\nRequirement already satisfied: cffi>=1.12 in /home/trusted-service-user/cluster-env/trident_env/lib/python3.10/site-packages (from cryptography>=2.5->azure-identity<2,>=1.5.0->azure.kusto.data) (1.15.1)\nRequirement already satisfied: portalocker<3,>=1.0 in /home/trusted-service-user/cluster-env/trident_env/lib/python3.10/site-packages (from msal-extensions<2.0.0,>=0.3.0->azure-identity<2,>=1.5.0->azure.kusto.data) (2.7.0)\nRequirement already satisfied: pycparser in /home/trusted-service-user/cluster-env/trident_env/lib/python3.10/site-packages (from cffi>=1.12->cryptography>=2.5->azure-identity<2,>=1.5.0->azure.kusto.data) (2.21)\nInstalling collected packages: ijson, openai, azure-storage-queue, azure.kusto.data, azure.kusto.ingest\nSuccessfully installed azure-storage-queue-12.6.0 azure.kusto.data-4.2.0 azure.kusto.ingest-4.2.0 ijson-3.2.1 openai-0.27.8\n\n\u001b[1m[\u001b[0m\u001b[34;49mnotice\u001b[0m\u001b[1;39;49m]\u001b[0m\u001b[39;49m A new release of pip is available: \u001b[0m\u001b[31;49m23.0\u001b[0m\u001b[39;49m -> \u001b[0m\u001b[32;49m23.1.2\u001b[0m\n\u001b[1m[\u001b[0m\u001b[34;49mnotice\u001b[0m\u001b[1;39;49m]\u001b[0m\u001b[39;49m To update, run: \u001b[0m\u001b[32;49m/nfs4/pyenv-2ad5745c-f5d7-4998-94d8-45411e8fd4c5/bin/python -m pip install --upgrade pip\u001b[0m\nNote: you may need to restart the kernel to use updated packages.\n"
                },
                {
                    "output_type": "execute_result",
                    "execution_count": 1,
                    "data": {},
                    "metadata": {}
                },
                {
                    "output_type": "stream",
                    "name": "stdout",
                    "text": "Warning: PySpark kernel has been restarted to use updated packages.\n\n"
                }
            ],
            "execution_count": 1
        },
        {
            "cell_type": "markdown",
            "source": [
                "You need to execute the below function code in your ADX resource's Query editor. This creates a function [series_cosine_similarity_fl](https://learn.microsoft.com/en-us/azure/data-explorer/kusto/functions-library/series-cosine-similarity-fl) to perform vector similarity searches.\n",
                "\n",
                "```.create-or-alter function with (folder = \"Packages\\\\Series\", docstring = \"Calculate the Cosine similarity of 2 numerical arrays\")\n",
                "series_cosine_similarity_fl(vec1:dynamic, vec2:dynamic, vec1_size:real=double(null), vec2_size:real=double(null))\n",
                "{\n",
                "    let dp = series_dot_product(vec1, vec2);\n",
                "    let v1l = iff(isnull(vec1_size), sqrt(series_dot_product(vec1, vec1)), vec1_size);\n",
                "    let v2l = iff(isnull(vec2_size), sqrt(series_dot_product(vec2, vec2)), vec2_size);\n",
                "    dp/(v1l*v2l)\n",
                "}```"
            ],
            "metadata": {
                "azdata_cell_guid": "e5705882-53ca-4309-b7bc-14863fe43184"
            }
        },
        {
            "cell_type": "code",
            "source": [
                "from azure.kusto.data import KustoConnectionStringBuilder,KustoClient\n",
                "from azure.kusto.ingest import QueuedIngestClient, IngestionProperties\n",
                "from azure.kusto.data.data_format import DataFormat\n",
                "from azure.kusto.data.helpers import dataframe_from_result_table\n",
                "import openai\n",
                "import pandas as pd"
            ],
            "metadata": {
                "azdata_cell_guid": "5f6120f4-c1ee-4eb8-bf3d-f0fdc016e9c3",
                "language": "sql"
            },
            "outputs": [
                {
                    "output_type": "display_data",
                    "data": {
                        "application/vnd.livy.statement-meta+json": {
                            "spark_pool": null,
                            "session_id": "ac4b6a4a-3d7b-41b2-8951-1792cdb23b73",
                            "statement_id": 10,
                            "state": "finished",
                            "livy_statement_state": "available",
                            "queued_time": "2023-06-14T10:05:05.8713645Z",
                            "session_start_time": null,
                            "execution_start_time": "2023-06-14T10:05:09.9195925Z",
                            "execution_finish_time": "2023-06-14T10:05:10.9226515Z",
                            "spark_jobs": {
                                "numbers": {
                                    "SUCCEEDED": 0,
                                    "UNKNOWN": 0,
                                    "FAILED": 0,
                                    "RUNNING": 0
                                },
                                "jobs": [],
                                "limit": 20,
                                "rule": "ALL_DESC"
                            },
                            "parent_msg_id": "dcb60afc-b77f-4d73-8b60-0c8e6a23cecf"
                        },
                        "text/plain": "StatementMeta(, ac4b6a4a-3d7b-41b2-8951-1792cdb23b73, 10, Finished, Available)"
                    },
                    "metadata": {}
                }
            ],
            "execution_count": 2
        },
        {
            "cell_type": "markdown",
            "source": [
                "_Keys for services_"
            ],
            "metadata": {
                "nteract": {
                    "transient": {
                        "deleting": false
                    }
                },
                "azdata_cell_guid": "00a276d2-7510-46ea-99c1-4e7f6027857d"
            }
        },
        {
            "cell_type": "code",
            "source": [
                "aad_app_id = \"\"\r\n",
                "aad_app_key = \"\"\r\n",
                "tenant_id =\"\"\r\n",
                "openai.api_key = \"\""
            ],
            "metadata": {
                "jupyter": {
                    "source_hidden": true,
                    "outputs_hidden": false
                },
                "nteract": {
                    "transient": {
                        "deleting": false
                    }
                },
                "azdata_cell_guid": "d2b3ef95-e73c-402a-91a1-c94f1cdf7e38",
                "language": "sql"
            },
            "outputs": [
                {
                    "output_type": "display_data",
                    "data": {
                        "application/vnd.livy.statement-meta+json": {
                            "spark_pool": null,
                            "session_id": "ac4b6a4a-3d7b-41b2-8951-1792cdb23b73",
                            "statement_id": 11,
                            "state": "finished",
                            "livy_statement_state": "available",
                            "queued_time": "2023-06-14T10:05:12.8374505Z",
                            "session_start_time": null,
                            "execution_start_time": "2023-06-14T10:05:13.1244523Z",
                            "execution_finish_time": "2023-06-14T10:05:13.6310352Z",
                            "spark_jobs": {
                                "numbers": {
                                    "SUCCEEDED": 0,
                                    "UNKNOWN": 0,
                                    "FAILED": 0,
                                    "RUNNING": 0
                                },
                                "jobs": [],
                                "limit": 20,
                                "rule": "ALL_DESC"
                            },
                            "parent_msg_id": "ec8d70e3-6807-4b10-bbd1-ed450fb1de95"
                        },
                        "text/plain": "StatementMeta(, ac4b6a4a-3d7b-41b2-8951-1792cdb23b73, 11, Finished, Available)"
                    },
                    "metadata": {}
                }
            ],
            "execution_count": 3
        },
        {
            "cell_type": "code",
            "source": [
                "KUSTO_DATABASE = \"Vector\"\n",
                "TABLE_NAME = \"VectorTable\" #We will be creating first then querying the same table\n",
                "cluster = \"https://<yourcluster>.francecentral.kusto.windows.net\"\n",
                "ingest_cluster = \"https://<yourcluster>.francecentral.kusto.windows.net\"\n",
                "\n",
                "\n",
                "connection_string = KustoConnectionStringBuilder.with_aad_application_key_authentication(\n",
                "    cluster, aad_app_id, aad_app_key,tenant_id)\n",
                "KUSTO_CLIENT = KustoClient(connection_string)\n",
                "\n",
                "#Cliengt for Ingestion - when we need ingest embedding in database\n",
                "kcsb = KustoConnectionStringBuilder.with_aad_application_key_authentication(ingest_cluster, aad_app_id, aad_app_key, tenant_id)\n",
                "ingestionclient = QueuedIngestClient(kcsb)"
            ],
            "metadata": {
                "jupyter": {
                    "source_hidden": false
                },
                "azdata_cell_guid": "c2674836-0fe7-4589-9a75-9e0558e2b466",
                "language": "sql"
            },
            "outputs": [
                {
                    "output_type": "display_data",
                    "data": {
                        "application/vnd.livy.statement-meta+json": {
                            "spark_pool": null,
                            "session_id": "ac4b6a4a-3d7b-41b2-8951-1792cdb23b73",
                            "statement_id": 12,
                            "state": "finished",
                            "livy_statement_state": "available",
                            "queued_time": "2023-06-14T10:05:20.7157618Z",
                            "session_start_time": null,
                            "execution_start_time": "2023-06-14T10:05:20.9868785Z",
                            "execution_finish_time": "2023-06-14T10:05:21.3660907Z",
                            "spark_jobs": {
                                "numbers": {
                                    "SUCCEEDED": 0,
                                    "UNKNOWN": 0,
                                    "FAILED": 0,
                                    "RUNNING": 0
                                },
                                "jobs": [],
                                "limit": 20,
                                "rule": "ALL_DESC"
                            },
                            "parent_msg_id": "f0138c71-335b-4d14-bb45-7f93226efa56"
                        },
                        "text/plain": "StatementMeta(, ac4b6a4a-3d7b-41b2-8951-1792cdb23b73, 12, Finished, Available)"
                    },
                    "metadata": {}
                }
            ],
            "execution_count": 4
        },
        {
            "cell_type": "code",
            "source": [
                "openai.api_type = \"azure\"\n",
                "openai.api_base = \"https://<your aoai api>.openai.azure.com/\"\n",
                "openai.api_version = \"2022-12-01\"\n",
                "\n",
                "def embed(query):\n",
                "    # Creates embedding vector from user query\n",
                "    embedded_query = openai.Embedding.create(\n",
                "            input=query,\n",
                "            deployment_id=\"text-embedding-ada-002\", #replace with your deployment id\n",
                "            chunk_size=1\n",
                "    )[\"data\"][0][\"embedding\"]\n",
                "    return embedded_query"
            ],
            "metadata": {
                "jupyter": {
                    "source_hidden": false
                },
                "azdata_cell_guid": "e5679a9b-926e-4d18-a74b-579be6bec56b",
                "language": "sql"
            },
            "outputs": [
                {
                    "output_type": "display_data",
                    "data": {
                        "application/vnd.livy.statement-meta+json": {
                            "spark_pool": null,
                            "session_id": "ac4b6a4a-3d7b-41b2-8951-1792cdb23b73",
                            "statement_id": 13,
                            "state": "finished",
                            "livy_statement_state": "available",
                            "queued_time": "2023-06-14T10:05:29.6626258Z",
                            "session_start_time": null,
                            "execution_start_time": "2023-06-14T10:05:30.0096867Z",
                            "execution_finish_time": "2023-06-14T10:05:30.4032693Z",
                            "spark_jobs": {
                                "numbers": {
                                    "SUCCEEDED": 0,
                                    "UNKNOWN": 0,
                                    "FAILED": 0,
                                    "RUNNING": 0
                                },
                                "jobs": [],
                                "limit": 20,
                                "rule": "ALL_DESC"
                            },
                            "parent_msg_id": "fa2b126c-3ded-411e-a51d-0038e2160e24"
                        },
                        "text/plain": "StatementMeta(, ac4b6a4a-3d7b-41b2-8951-1792cdb23b73, 13, Finished, Available)"
                    },
                    "metadata": {}
                }
            ],
            "execution_count": 5
        },
        {
            "cell_type": "code",
            "source": [
                "def createTableAdx(table_name):\n",
                "  try:\n",
                "    CREATE_TABLE_COMMAND = f\".create table {table_name} (Content: string, Embeddings: dynamic)\"\n",
                "    RESPONSE = KUSTO_CLIENT.execute_mgmt(KUSTO_DATABASE, CREATE_TABLE_COMMAND)\n",
                "    print(f\"{RESPONSE}\")\n",
                "    return True\n",
                "  except:\n",
                "    return False\n",
                "\n",
                "def EmbedList(content):\n",
                "    resultList = []\n",
                "    for page in content:\n",
                "      Content = page\n",
                "      Embeddings = embed(page)\n",
                "      myList = [Content, Embeddings]\n",
                "      resultList.append(myList)\n",
                "    df = pd.DataFrame(resultList, columns=['Content', 'Embeddings'])\n",
                "    return df"
            ],
            "metadata": {
                "azdata_cell_guid": "41b195fc-7e9a-4d85-ac75-787aa8f0871e",
                "language": "sql"
            },
            "outputs": [
                {
                    "output_type": "display_data",
                    "data": {
                        "application/vnd.livy.statement-meta+json": {
                            "spark_pool": null,
                            "session_id": "ac4b6a4a-3d7b-41b2-8951-1792cdb23b73",
                            "statement_id": 14,
                            "state": "finished",
                            "livy_statement_state": "available",
                            "queued_time": "2023-06-14T10:05:40.0238171Z",
                            "session_start_time": null,
                            "execution_start_time": "2023-06-14T10:05:40.3585439Z",
                            "execution_finish_time": "2023-06-14T10:05:40.7433359Z",
                            "spark_jobs": {
                                "numbers": {
                                    "SUCCEEDED": 0,
                                    "UNKNOWN": 0,
                                    "FAILED": 0,
                                    "RUNNING": 0
                                },
                                "jobs": [],
                                "limit": 20,
                                "rule": "ALL_DESC"
                            },
                            "parent_msg_id": "83985b14-99c4-4bd8-8181-7f75d540093d"
                        },
                        "text/plain": "StatementMeta(, ac4b6a4a-3d7b-41b2-8951-1792cdb23b73, 14, Finished, Available)"
                    },
                    "metadata": {}
                }
            ],
            "execution_count": 6
        },
        {
            "cell_type": "code",
            "source": [
                "doc_content = [\"\"\"Nelson Mandela, born on July 18, 1918, in Mvezo, South Africa, was a prominent anti-apartheid activist and the first black President of South Africa. Mandela dedicated his life to fighting against racial segregation and inequality. He spent 27 years in prison for his activism and emerged as a symbol of resistance and reconciliation. Mandela played a crucial role in dismantling apartheid and fostering a peaceful transition to democracy in South Africa. His leadership and commitment to forgiveness and unity earned him worldwide respect, and he was awarded the Nobel Peace Prize in 1993. Nelson Mandela passed away on December 5, 2013, leaving a legacy as a global icon of justice and equality.\"\"\"]\n",
                "#doc_content = [\"\"\"Mahatma Gandhi, born on October 2, 1869, in Porbandar, India, was a prominent leader and a key figure in India's struggle for independence from British rule. His philosophy of nonviolence, Satyagraha, became a powerful weapon in the fight against injustice and oppression. Gandhi's teachings emphasized the importance of truth, self-discipline, and compassion towards all beings. He led several nonviolent movements, including the famous Salt March, and inspired millions of people with his principles of peace and harmony. Gandhi was tragically assassinated on January 30, 1948, but his legacy as the \"Father of the Nation\" continues to inspire generations around the world.\"\"\"]\n",
                "#doc_content = [\"\"\"Abraham Lincoln, born on February 12, 1809, in Kentucky, United States, was the 16th President of the United States. He is best known for his leadership during the American Civil War and his efforts to abolish slavery. Lincoln's Emancipation Proclamation in 1863 declared slaves in Confederate territories free and paved the way for the eventual end of slavery. He delivered the historic Gettysburg Address in 1863, emphasizing the importance of preserving the Union and honoring those who fought for freedom. Lincoln was assassinated on April 14, 1865, by John Wilkes Booth, leaving a lasting impact on American history as one of its most revered presidents.\"\"\"]"
            ],
            "metadata": {
                "azdata_cell_guid": "600158e1-47cb-487a-b6b8-130f9ce29d7a",
                "language": "sql"
            },
            "outputs": [
                {
                    "output_type": "display_data",
                    "data": {
                        "application/vnd.livy.statement-meta+json": {
                            "spark_pool": null,
                            "session_id": "ac4b6a4a-3d7b-41b2-8951-1792cdb23b73",
                            "statement_id": 15,
                            "state": "finished",
                            "livy_statement_state": "available",
                            "queued_time": "2023-06-14T10:05:48.961403Z",
                            "session_start_time": null,
                            "execution_start_time": "2023-06-14T10:05:49.2581061Z",
                            "execution_finish_time": "2023-06-14T10:05:49.6333707Z",
                            "spark_jobs": {
                                "numbers": {
                                    "SUCCEEDED": 0,
                                    "UNKNOWN": 0,
                                    "FAILED": 0,
                                    "RUNNING": 0
                                },
                                "jobs": [],
                                "limit": 20,
                                "rule": "ALL_DESC"
                            },
                            "parent_msg_id": "5a0ea9ae-d179-4c9d-91cd-ad5b6954230b"
                        },
                        "text/plain": "StatementMeta(, ac4b6a4a-3d7b-41b2-8951-1792cdb23b73, 15, Finished, Available)"
                    },
                    "metadata": {}
                }
            ],
            "execution_count": 7
        },
        {
            "cell_type": "code",
            "source": [
                "pd_df = EmbedList(doc_content)\n",
                "print(pd_df)\n",
                "\n",
                "ingestion_props = IngestionProperties(\n",
                "    database=KUSTO_DATABASE,\n",
                "    table=TABLE_NAME,\n",
                "    data_format=DataFormat.CSV,\n",
                ")\n",
                "if createTableAdx(table_name=TABLE_NAME):\n",
                "    print(f\"{TABLE_NAME} Created.\")\n",
                "    #Once table is created write the content\n",
                "    ingestionclient.ingest_from_dataframe(pd_df, ingestion_properties=ingestion_props)\n",
                "else:\n",
                "    print(f\"Failed to create table {TABLE_NAME}.\")"
            ],
            "metadata": {
                "azdata_cell_guid": "e314bfaa-4c75-4f3c-848a-49904a5a22fa",
                "language": "sql"
            },
            "outputs": [
                {
                    "output_type": "display_data",
                    "data": {
                        "application/vnd.livy.statement-meta+json": {
                            "spark_pool": null,
                            "session_id": "ac4b6a4a-3d7b-41b2-8951-1792cdb23b73",
                            "statement_id": 16,
                            "state": "finished",
                            "livy_statement_state": "available",
                            "queued_time": "2023-06-14T10:06:13.2345213Z",
                            "session_start_time": null,
                            "execution_start_time": "2023-06-14T10:06:13.5045402Z",
                            "execution_finish_time": "2023-06-14T10:06:18.903613Z",
                            "spark_jobs": {
                                "numbers": {
                                    "SUCCEEDED": 0,
                                    "UNKNOWN": 0,
                                    "FAILED": 0,
                                    "RUNNING": 0
                                },
                                "jobs": [],
                                "limit": 20,
                                "rule": "ALL_DESC"
                            },
                            "parent_msg_id": "713222be-b934-494a-9750-e7b37caa080a"
                        },
                        "text/plain": "StatementMeta(, ac4b6a4a-3d7b-41b2-8951-1792cdb23b73, 16, Finished, Available)"
                    },
                    "metadata": {}
                },
                {
                    "output_type": "stream",
                    "name": "stdout",
                    "text": "                                             Content  \\\n0  Nelson Mandela, born on July 18, 1918, in Mvez...   \n\n                                          Embeddings  \n0  [-0.023506982252001762, -0.05131963640451431, ...  \n<azure.kusto.data.response.KustoResponseDataSetV1 object at 0x7fbeb2bd1090>\nVectorTable Created.\n"
                }
            ],
            "execution_count": 8
        },
        {
            "cell_type": "code",
            "source": [
                "searchedEmbedding=\"When was Abraham Lincon born\"\n",
                "\n",
                "KUSTO_QUERY = f\"{TABLE_NAME} | extend similarity = series_cosine_similarity_fl(dynamic(\\\"\"+str(searchedEmbedding)+\"\\\"),Embeddings,1,1) | top 3 by similarity desc \"\n",
                "print(KUSTO_QUERY)\n",
                "RESPONSE = KUSTO_CLIENT.execute(KUSTO_DATABASE, KUSTO_QUERY)\n",
                "df = dataframe_from_result_table(RESPONSE.primary_results[0])\n",
                "content = \"\\n\".join(df['Content'])\n",
                "print(\"\\n\" + content)"
            ],
            "metadata": {
                "azdata_cell_guid": "bb2a8376-0014-4ca8-b6b6-225ceb3bd567",
                "language": "sql"
            },
            "outputs": [
                {
                    "output_type": "display_data",
                    "data": {
                        "application/vnd.livy.statement-meta+json": {
                            "spark_pool": null,
                            "session_id": "ac4b6a4a-3d7b-41b2-8951-1792cdb23b73",
                            "statement_id": 17,
                            "state": "finished",
                            "livy_statement_state": "available",
                            "queued_time": "2023-06-14T10:07:22.6360823Z",
                            "session_start_time": null,
                            "execution_start_time": "2023-06-14T10:07:22.9135544Z",
                            "execution_finish_time": "2023-06-14T10:07:23.9254392Z",
                            "spark_jobs": {
                                "numbers": {
                                    "SUCCEEDED": 0,
                                    "UNKNOWN": 0,
                                    "FAILED": 0,
                                    "RUNNING": 0
                                },
                                "jobs": [],
                                "limit": 20,
                                "rule": "ALL_DESC"
                            },
                            "parent_msg_id": "8308c21e-8abb-4ba2-9e85-496ad16fc625"
                        },
                        "text/plain": "StatementMeta(, ac4b6a4a-3d7b-41b2-8951-1792cdb23b73, 17, Finished, Available)"
                    },
                    "metadata": {}
                },
                {
                    "output_type": "stream",
                    "name": "stdout",
                    "text": "VectorTable | extend similarity = series_cosine_similarity_fl(dynamic(\"When was Abraham Lincon born\"),Embeddings,1,1) | top 3 by similarity desc \n\nAbraham Lincoln, born on February 12, 1809, in Kentucky, United States, was the 16th President of the United States. He is best known for his leadership during the American Civil War and his efforts to abolish slavery. Lincoln's Emancipation Proclamation in 1863 declared slaves in Confederate territories free and paved the way for the eventual end of slavery. He delivered the historic Gettysburg Address in 1863, emphasizing the importance of preserving the Union and honoring those who fought for freedom. Lincoln was assassinated on April 14, 1865, by John Wilkes Booth, leaving a lasting impact on American history as one of its most revered presidents.\nAbraham Lincoln, born on February 12, 1809, in Kentucky, United States, was the 16th President of the United States. He is best known for his leadership during the American Civil War and his efforts to abolish slavery. Lincoln's Emancipation Proclamation in 1863 declared slaves in Confederate territories free and paved the way for the eventual end of slavery. He delivered the historic Gettysburg Address in 1863, emphasizing the importance of preserving the Union and honoring those who fought for freedom. Lincoln was assassinated on April 14, 1865, by John Wilkes Booth, leaving a lasting impact on American history as one of its most revered presidents.\nNelson Mandela, born on July 18, 1918, in Mvezo, South Africa, was a prominent anti-apartheid activist and the first black President of South Africa. Mandela dedicated his life to fighting against racial segregation and inequality. He spent 27 years in prison for his activism and emerged as a symbol of resistance and reconciliation. Mandela played a crucial role in dismantling apartheid and fostering a peaceful transition to democracy in South Africa. His leadership and commitment to forgiveness and unity earned him worldwide respect, and he was awarded the Nobel Peace Prize in 1993. Nelson Mandela passed away on December 5, 2013, leaving a legacy as a global icon of justice and equality.\n"
                }
            ],
            "execution_count": 9
        },
        {
            "cell_type": "code",
            "source": [
                "prompt_template = f\"\"\"Use the following pieces of context to answer the question at the end. If you don't know the answer, just say that you don't know, don't try to make up an answer.\n",
                "\n",
                "    {content}\n",
                "\n",
                "    Question: {searchedEmbedding}\n",
                "    Answer:\"\"\"\n",
                "\n",
                "completion = openai.Completion.create(deployment_id=\"text-davinci-003\",\n",
                "                                     prompt=prompt_template, stop=\".\", temperature=0)\n",
                "\n",
                "print(completion)\n"
            ],
            "metadata": {
                "azdata_cell_guid": "d52a6192-eee4-4744-a1d4-eab3639a9552",
                "language": "sql"
            },
            "outputs": [
                {
                    "output_type": "display_data",
                    "data": {
                        "application/vnd.livy.statement-meta+json": {
                            "spark_pool": null,
                            "session_id": "ac4b6a4a-3d7b-41b2-8951-1792cdb23b73",
                            "statement_id": 18,
                            "state": "finished",
                            "livy_statement_state": "available",
                            "queued_time": "2023-06-14T10:07:46.2178511Z",
                            "session_start_time": null,
                            "execution_start_time": "2023-06-14T10:07:46.4994602Z",
                            "execution_finish_time": "2023-06-14T10:07:48.1985391Z",
                            "spark_jobs": {
                                "numbers": {
                                    "SUCCEEDED": 0,
                                    "UNKNOWN": 0,
                                    "FAILED": 0,
                                    "RUNNING": 0
                                },
                                "jobs": [],
                                "limit": 20,
                                "rule": "ALL_DESC"
                            },
                            "parent_msg_id": "da87c14c-15d7-4078-9b42-e69a60cf627a"
                        },
                        "text/plain": "StatementMeta(, ac4b6a4a-3d7b-41b2-8951-1792cdb23b73, 18, Finished, Available)"
                    },
                    "metadata": {}
                },
                {
                    "output_type": "stream",
                    "name": "stdout",
                    "text": "{\n  \"id\": \"cmpl-7RHhiNiWNIx7neQoH5K8sCq4atibY\",\n  \"object\": \"text_completion\",\n  \"created\": 1686737266,\n  \"model\": \"text-davinci-003\",\n  \"choices\": [\n    {\n      \"text\": \" Abraham Lincoln was born on February 12, 1809\",\n      \"index\": 0,\n      \"finish_reason\": \"stop\",\n      \"logprobs\": null\n    }\n  ],\n  \"usage\": {\n    \"completion_tokens\": 10,\n    \"prompt_tokens\": 447,\n    \"total_tokens\": 457\n  }\n}\n"
                }
            ],
            "execution_count": 10
        }
    ]
}